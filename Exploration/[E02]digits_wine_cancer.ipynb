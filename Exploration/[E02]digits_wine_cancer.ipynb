{
 "cells": [
  {
   "cell_type": "markdown",
   "id": "8e305760",
   "metadata": {},
   "source": [
    "# 2-11. 프로젝트"
   ]
  },
  {
   "cell_type": "markdown",
   "id": "51675138",
   "metadata": {},
   "source": [
    "## 2-11. 프로젝트 (1) load_digits : 손글씨를 분류해 봅시다"
   ]
  },
  {
   "cell_type": "markdown",
   "id": "be9fea00",
   "metadata": {},
   "source": [
    "### 데이터 준비\n",
    "- digits 데이터는 총 1,797개의 샘플로 구성되어 있음\n",
    "- 각 데이터는 64개의 특징 값을 가지고 있음\n",
    "    - 8x8 이미지로 각 픽셀은 0에서 16사이의 값을 가지고 있음\n",
    "    - 각각의 픽셀값은 동일한 범위에 놓여지도록 정규화가 적용되어 있음\n",
    "- 클래스는 0부터 9까지 총 10가지"
   ]
  },
  {
   "cell_type": "code",
   "execution_count": 1,
   "id": "2cd61882",
   "metadata": {},
   "outputs": [
    {
     "name": "stdout",
     "output_type": "stream",
     "text": [
      "[ 0.  0.  5. 13.  9.  1.  0.  0.  0.  0. 13. 15. 10. 15.  5.  0.  0.  3.\n",
      " 15.  2.  0. 11.  8.  0.  0.  4. 12.  0.  0.  8.  8.  0.  0.  5.  8.  0.\n",
      "  0.  9.  8.  0.  0.  4. 11.  0.  1. 12.  7.  0.  0.  2. 14.  5. 10. 12.\n",
      "  0.  0.  0.  0.  6. 13. 10.  0.  0.  0.]\n",
      "(64,)\n",
      "[0 1 2 3 4 5 6 7 8 9]\n",
      ".. _digits_dataset:\n",
      "\n",
      "Optical recognition of handwritten digits dataset\n",
      "--------------------------------------------------\n",
      "\n",
      "**Data Set Characteristics:**\n",
      "\n",
      "    :Number of Instances: 1797\n",
      "    :Number of Attributes: 64\n",
      "    :Attribute Information: 8x8 image of integer pixels in the range 0..16.\n",
      "    :Missing Attribute Values: None\n",
      "    :Creator: E. Alpaydin (alpaydin '@' boun.edu.tr)\n",
      "    :Date: July; 1998\n",
      "\n",
      "This is a copy of the test set of the UCI ML hand-written digits datasets\n",
      "https://archive.ics.uci.edu/ml/datasets/Optical+Recognition+of+Handwritten+Digits\n",
      "\n",
      "The data set contains images of hand-written digits: 10 classes where\n",
      "each class refers to a digit.\n",
      "\n",
      "Preprocessing programs made available by NIST were used to extract\n",
      "normalized bitmaps of handwritten digits from a preprinted form. From a\n",
      "total of 43 people, 30 contributed to the training set and different 13\n",
      "to the test set. 32x32 bitmaps are divided into nonoverlapping blocks of\n",
      "4x4 and the number of on pixels are counted in each block. This generates\n",
      "an input matrix of 8x8 where each element is an integer in the range\n",
      "0..16. This reduces dimensionality and gives invariance to small\n",
      "distortions.\n",
      "\n",
      "For info on NIST preprocessing routines, see M. D. Garris, J. L. Blue, G.\n",
      "T. Candela, D. L. Dimmick, J. Geist, P. J. Grother, S. A. Janet, and C.\n",
      "L. Wilson, NIST Form-Based Handprint Recognition System, NISTIR 5469,\n",
      "1994.\n",
      "\n",
      ".. topic:: References\n",
      "\n",
      "  - C. Kaynak (1995) Methods of Combining Multiple Classifiers and Their\n",
      "    Applications to Handwritten Digit Recognition, MSc Thesis, Institute of\n",
      "    Graduate Studies in Science and Engineering, Bogazici University.\n",
      "  - E. Alpaydin, C. Kaynak (1998) Cascading Classifiers, Kybernetika.\n",
      "  - Ken Tang and Ponnuthurai N. Suganthan and Xi Yao and A. Kai Qin.\n",
      "    Linear dimensionalityreduction using relevance weighted LDA. School of\n",
      "    Electrical and Electronic Engineering Nanyang Technological University.\n",
      "    2005.\n",
      "  - Claudio Gentile. A New Approximate Maximal Margin Classification\n",
      "    Algorithm. NIPS. 2000.\n",
      "\n"
     ]
    }
   ],
   "source": [
    "from sklearn.datasets import load_digits\n",
    "\n",
    "\n",
    "data_digits = load_digits()\n",
    "\n",
    "feat = data_digits.data\n",
    "label = data_digits.target\n",
    "# print(data_digits.feature_names)\n",
    "print(feat[0])\n",
    "print(feat[0].shape)\n",
    "print(data_digits.target_names)\n",
    "print(data_digits.DESCR)\n"
   ]
  },
  {
   "cell_type": "markdown",
   "id": "7e1db69d",
   "metadata": {},
   "source": [
    "- 데이터를 훈련과 테스트용으로 나누었고, train_test_split 함수에서 정의된 기본 비율 0.75:0.25를 그대로 사용하였음\n",
    "- 여러가지 모델이 사용되지만, 사용방법은 같기 때문에 자료를 입력받아 결과를 출력하는 함수 선언\n",
    "  - 필요에 따라 데이터 스케일링을 적용"
   ]
  },
  {
   "cell_type": "code",
   "execution_count": 2,
   "id": "b6c313cf",
   "metadata": {},
   "outputs": [],
   "source": [
    "from sklearn.tree import DecisionTreeClassifier\n",
    "from sklearn.ensemble import RandomForestClassifier\n",
    "from sklearn.svm import SVC\n",
    "from sklearn.linear_model import SGDClassifier, LogisticRegression\n",
    "\n",
    "from sklearn.metrics import confusion_matrix, classification_report\n",
    "from sklearn.model_selection import train_test_split\n",
    "from sklearn.preprocessing import StandardScaler\n",
    "\n",
    "\n",
    "# 코드 재생산성을 위해 시드 지정\n",
    "seed = 1234\n",
    "models = {\n",
    "    \"DecisionTreeClassifier\": DecisionTreeClassifier,\n",
    "    \"RandomForestClassifier\": RandomForestClassifier,\n",
    "    \"SVM\": SVC,\n",
    "    \"SGDClassifier\": SGDClassifier,\n",
    "    \"LogisticRegression\": LogisticRegression,\n",
    "}\n",
    "\n",
    "\n",
    "def get_model_result(name, model_init, feat, label, scale=False):\n",
    "    x_train, x_test, y_train, y_test = train_test_split(feat, label, random_state=seed)\n",
    "    scaler = StandardScaler()\n",
    "    if scale:\n",
    "        x_train = scaler.fit_transform(x_train)\n",
    "        x_test = scaler.transform(x_test)\n",
    "    model = model_init(random_state=seed)\n",
    "    model.fit(x_train, y_train)\n",
    "    y_pred = model.predict(x_test)\n",
    "    print()\n",
    "    print(f\"==== Classification Report of {name} ====\")\n",
    "    print(classification_report(y_pred, y_test))\n",
    "    print(f\"==== Confusion Matrix of {name} ====\")\n",
    "    print(confusion_matrix(y_pred, y_test))\n"
   ]
  },
  {
   "cell_type": "markdown",
   "id": "d45cab4d",
   "metadata": {},
   "source": [
    "### Decision Tree"
   ]
  },
  {
   "cell_type": "code",
   "execution_count": 3,
   "id": "97926ea0",
   "metadata": {},
   "outputs": [
    {
     "name": "stdout",
     "output_type": "stream",
     "text": [
      "\n",
      "==== Classification Report of Decision Tree ====\n",
      "              precision    recall  f1-score   support\n",
      "\n",
      "           0       0.97      0.97      0.97        37\n",
      "           1       0.89      0.81      0.85        52\n",
      "           2       0.78      0.86      0.82        44\n",
      "           3       0.82      0.77      0.79        47\n",
      "           4       0.87      0.92      0.89        49\n",
      "           5       0.86      0.91      0.88        46\n",
      "           6       0.96      0.86      0.91        50\n",
      "           7       0.97      0.81      0.89        48\n",
      "           8       0.72      0.82      0.77        38\n",
      "           9       0.77      0.87      0.82        39\n",
      "\n",
      "    accuracy                           0.86       450\n",
      "   macro avg       0.86      0.86      0.86       450\n",
      "weighted avg       0.86      0.86      0.86       450\n",
      "\n",
      "==== Confusion Matrix of Decision Tree ====\n",
      "[[36  0  0  0  0  0  0  0  0  1]\n",
      " [ 0 42  3  0  2  0  1  0  3  1]\n",
      " [ 0  1 38  2  1  0  0  0  1  1]\n",
      " [ 0  0  7 36  0  0  0  1  3  0]\n",
      " [ 0  0  0  0 45  1  0  0  2  1]\n",
      " [ 0  0  0  1  1 42  0  0  1  1]\n",
      " [ 0  0  1  0  2  4 43  0  0  0]\n",
      " [ 0  2  0  1  1  0  0 39  1  4]\n",
      " [ 1  2  0  1  0  1  1  0 31  1]\n",
      " [ 0  0  0  3  0  1  0  0  1 34]]\n"
     ]
    }
   ],
   "source": [
    "get_model_result(\"Decision Tree\", DecisionTreeClassifier, feat, label)"
   ]
  },
  {
   "cell_type": "markdown",
   "id": "a4421c33",
   "metadata": {},
   "source": [
    "#### Decision Tree의 결과 분석\n",
    "\n",
    "- accuracy는 86%\n",
    "- 0, 1, 4, 6, 7은 평균보다 높은 precision\n",
    "  - 해당 클래스로 예측한 것 중 정답인 비율을 나타내는 precision이 높다\n",
    "    - 해당 숫자로 예측했다면 정답일 확률이 높다는 의미\n",
    "  - confusion matrix에서 0으로 예측한 경우를 살펴보면, 총 37개 예측이 있었고 36개 정답\n",
    "- 0, 4, 5, 9는 평균보다 높은 recall\n",
    "  - 실제 클래스에 해당하는 데이터에 대해 예측이 성공한 비율을 나타내는 recall\n",
    "  - confusion matrix에서 4가 정답인 경우를 살펴보면, 총 49개의 정답 중 45개의 예측이 성공 \n",
    "- 각 클래스별 precision과 recall의 편차가 크고, 최솟값의 경우 0.72로 낮아 분류 성능이 낮음"
   ]
  },
  {
   "cell_type": "markdown",
   "id": "b04ea58b",
   "metadata": {},
   "source": [
    "### RandomForest"
   ]
  },
  {
   "cell_type": "code",
   "execution_count": 4,
   "id": "b56178ca",
   "metadata": {},
   "outputs": [
    {
     "name": "stdout",
     "output_type": "stream",
     "text": [
      "\n",
      "==== Classification Report of Random Forest ====\n",
      "              precision    recall  f1-score   support\n",
      "\n",
      "           0       1.00      0.95      0.97        39\n",
      "           1       1.00      0.90      0.95        52\n",
      "           2       1.00      1.00      1.00        49\n",
      "           3       0.95      1.00      0.98        42\n",
      "           4       0.94      0.98      0.96        50\n",
      "           5       0.96      1.00      0.98        47\n",
      "           6       0.96      0.98      0.97        44\n",
      "           7       1.00      0.89      0.94        45\n",
      "           8       0.93      0.95      0.94        42\n",
      "           9       0.91      1.00      0.95        40\n",
      "\n",
      "    accuracy                           0.96       450\n",
      "   macro avg       0.97      0.97      0.96       450\n",
      "weighted avg       0.97      0.96      0.96       450\n",
      "\n",
      "==== Confusion Matrix of Random Forest ====\n",
      "[[37  0  0  1  1  0  0  0  0  0]\n",
      " [ 0 47  0  1  0  0  1  0  3  0]\n",
      " [ 0  0 49  0  0  0  0  0  0  0]\n",
      " [ 0  0  0 42  0  0  0  0  0  0]\n",
      " [ 0  0  0  0 49  1  0  0  0  0]\n",
      " [ 0  0  0  0  0 47  0  0  0  0]\n",
      " [ 0  0  0  0  0  1 43  0  0  0]\n",
      " [ 0  0  0  0  2  0  0 40  0  3]\n",
      " [ 0  0  0  0  0  0  1  0 40  1]\n",
      " [ 0  0  0  0  0  0  0  0  0 40]]\n"
     ]
    }
   ],
   "source": [
    "get_model_result(\"Random Forest\", RandomForestClassifier, feat, label)"
   ]
  },
  {
   "cell_type": "markdown",
   "id": "19408830",
   "metadata": {},
   "source": [
    "#### Random Forest의 결과 분석\n",
    "\n",
    "- accuracy는 96%\n",
    "- precision은 최소 0.91이상, recall은 0.89이상으로 높은 수치를 보여 분류 성능이 우수하다고 판단"
   ]
  },
  {
   "cell_type": "markdown",
   "id": "81770042",
   "metadata": {},
   "source": [
    "### SVM"
   ]
  },
  {
   "cell_type": "code",
   "execution_count": 5,
   "id": "d2e9bbdd",
   "metadata": {},
   "outputs": [
    {
     "name": "stdout",
     "output_type": "stream",
     "text": [
      "\n",
      "==== Classification Report of SVM ====\n",
      "              precision    recall  f1-score   support\n",
      "\n",
      "           0       1.00      1.00      1.00        37\n",
      "           1       1.00      0.98      0.99        48\n",
      "           2       1.00      1.00      1.00        49\n",
      "           3       1.00      1.00      1.00        44\n",
      "           4       0.98      1.00      0.99        51\n",
      "           5       0.98      1.00      0.99        48\n",
      "           6       1.00      0.98      0.99        46\n",
      "           7       1.00      0.98      0.99        41\n",
      "           8       0.98      0.95      0.97        44\n",
      "           9       0.95      1.00      0.98        42\n",
      "\n",
      "    accuracy                           0.99       450\n",
      "   macro avg       0.99      0.99      0.99       450\n",
      "weighted avg       0.99      0.99      0.99       450\n",
      "\n",
      "==== Confusion Matrix of SVM ====\n",
      "[[37  0  0  0  0  0  0  0  0  0]\n",
      " [ 0 47  0  0  0  0  0  0  1  0]\n",
      " [ 0  0 49  0  0  0  0  0  0  0]\n",
      " [ 0  0  0 44  0  0  0  0  0  0]\n",
      " [ 0  0  0  0 51  0  0  0  0  0]\n",
      " [ 0  0  0  0  0 48  0  0  0  0]\n",
      " [ 0  0  0  0  0  1 45  0  0  0]\n",
      " [ 0  0  0  0  0  0  0 40  0  1]\n",
      " [ 0  0  0  0  1  0  0  0 42  1]\n",
      " [ 0  0  0  0  0  0  0  0  0 42]]\n"
     ]
    }
   ],
   "source": [
    "get_model_result(\"SVM\", SVC, feat, label)"
   ]
  },
  {
   "cell_type": "markdown",
   "id": "fdfac868",
   "metadata": {},
   "source": [
    "#### SVM의 결과 분석\n",
    "\n",
    "- accuracy는 99%\n",
    "- precision은 최소 0.95이상, recall은 0.95이상으로 높은 수치를 보여 분류 성능이 우수하다고 판단"
   ]
  },
  {
   "cell_type": "markdown",
   "id": "8e0a65fe",
   "metadata": {},
   "source": [
    "### SGD Classifier"
   ]
  },
  {
   "cell_type": "code",
   "execution_count": 6,
   "id": "6cba60ce",
   "metadata": {},
   "outputs": [
    {
     "name": "stdout",
     "output_type": "stream",
     "text": [
      "\n",
      "==== Classification Report of SGD ====\n",
      "              precision    recall  f1-score   support\n",
      "\n",
      "           0       1.00      1.00      1.00        37\n",
      "           1       0.98      0.92      0.95        50\n",
      "           2       0.98      0.98      0.98        49\n",
      "           3       0.98      0.96      0.97        45\n",
      "           4       0.94      1.00      0.97        49\n",
      "           5       0.96      0.98      0.97        48\n",
      "           6       0.96      0.98      0.97        44\n",
      "           7       1.00      0.93      0.96        43\n",
      "           8       0.79      0.89      0.84        38\n",
      "           9       0.93      0.87      0.90        47\n",
      "\n",
      "    accuracy                           0.95       450\n",
      "   macro avg       0.95      0.95      0.95       450\n",
      "weighted avg       0.95      0.95      0.95       450\n",
      "\n",
      "==== Confusion Matrix of SGD ====\n",
      "[[37  0  0  0  0  0  0  0  0  0]\n",
      " [ 0 46  0  0  1  0  1  0  2  0]\n",
      " [ 0  0 48  0  0  0  0  0  1  0]\n",
      " [ 0  0  1 43  0  0  0  0  1  0]\n",
      " [ 0  0  0  0 49  0  0  0  0  0]\n",
      " [ 0  0  0  1  0 47  0  0  0  0]\n",
      " [ 0  0  0  0  0  1 43  0  0  0]\n",
      " [ 0  0  0  0  1  1  0 40  0  1]\n",
      " [ 0  0  0  0  1  0  1  0 34  2]\n",
      " [ 0  1  0  0  0  0  0  0  5 41]]\n"
     ]
    }
   ],
   "source": [
    "get_model_result(\"SGD\", SGDClassifier, feat, label)"
   ]
  },
  {
   "cell_type": "markdown",
   "id": "f7a46022",
   "metadata": {},
   "source": [
    "#### SGD Classifier의 결과 분석\n",
    "\n",
    "- accuracy는 95%\n",
    "- precision의 경우 평균은 0.95로 높지만, 최솟값의 경우 0.79로 낮음\n",
    "- recall의 경우 평균이 0.95로 높고, 최솟값의 경우 0.87로 높은 수치\n",
    "- 특정 클래스에 대한 성능 문제가 발생할 수 있어 다른 모델과 비교하여 분류가 안정적이지 못함"
   ]
  },
  {
   "cell_type": "markdown",
   "id": "01871f8e",
   "metadata": {},
   "source": [
    "### Logistic Regression"
   ]
  },
  {
   "cell_type": "code",
   "execution_count": 7,
   "id": "d83a0741",
   "metadata": {},
   "outputs": [
    {
     "name": "stdout",
     "output_type": "stream",
     "text": [
      "\n",
      "==== Classification Report of Logistic Regression ====\n",
      "              precision    recall  f1-score   support\n",
      "\n",
      "           0       0.97      0.97      0.97        37\n",
      "           1       1.00      0.94      0.97        50\n",
      "           2       0.98      0.92      0.95        52\n",
      "           3       0.95      0.98      0.97        43\n",
      "           4       0.92      0.98      0.95        49\n",
      "           5       0.94      1.00      0.97        46\n",
      "           6       0.98      0.98      0.98        45\n",
      "           7       1.00      0.98      0.99        41\n",
      "           8       0.93      0.91      0.92        44\n",
      "           9       0.98      1.00      0.99        43\n",
      "\n",
      "    accuracy                           0.96       450\n",
      "   macro avg       0.97      0.97      0.97       450\n",
      "weighted avg       0.97      0.96      0.96       450\n",
      "\n",
      "==== Confusion Matrix of Logistic Regression ====\n",
      "[[36  0  0  0  1  0  0  0  0  0]\n",
      " [ 0 47  1  0  1  0  0  0  1  0]\n",
      " [ 1  0 48  1  0  0  0  0  2  0]\n",
      " [ 0  0  0 42  0  1  0  0  0  0]\n",
      " [ 0  0  0  0 48  1  0  0  0  0]\n",
      " [ 0  0  0  0  0 46  0  0  0  0]\n",
      " [ 0  0  0  0  0  1 44  0  0  0]\n",
      " [ 0  0  0  0  1  0  0 40  0  0]\n",
      " [ 0  0  0  1  1  0  1  0 40  1]\n",
      " [ 0  0  0  0  0  0  0  0  0 43]]\n"
     ]
    },
    {
     "name": "stderr",
     "output_type": "stream",
     "text": [
      "C:\\Users\\jhoon\\miniconda3\\envs\\aiffel\\lib\\site-packages\\sklearn\\linear_model\\_logistic.py:814: ConvergenceWarning: lbfgs failed to converge (status=1):\n",
      "STOP: TOTAL NO. of ITERATIONS REACHED LIMIT.\n",
      "\n",
      "Increase the number of iterations (max_iter) or scale the data as shown in:\n",
      "    https://scikit-learn.org/stable/modules/preprocessing.html\n",
      "Please also refer to the documentation for alternative solver options:\n",
      "    https://scikit-learn.org/stable/modules/linear_model.html#logistic-regression\n",
      "  n_iter_i = _check_optimize_result(\n"
     ]
    }
   ],
   "source": [
    "get_model_result(\"Logistic Regression\", LogisticRegression, feat, label)"
   ]
  },
  {
   "cell_type": "markdown",
   "id": "37b2e400",
   "metadata": {},
   "source": [
    "#### Logistic Regression의 결과 분석\n",
    "\n",
    "- accuracy는 96%\n",
    "- precision은 최소 0.92이상, recall은 0.91이상으로 높은 수치를 보여 분류 성능이 우수하다고 판단\n",
    "- 모델에 사용되는 파라미터들을 지정하지 않고 기본값으로 사용하는 경우, 지정되어 있는 최대 iteration에 도달하여 수렴하지 못했다는 경고 발생\n",
    "  - 이러한 경우 iteration 제한을 높이거나 데이터 스케일링을 적용할 수 있지만, 현재 분류 작업에서 우수한 성능을 보여 적용하지 않음"
   ]
  },
  {
   "cell_type": "markdown",
   "id": "d24e9807",
   "metadata": {},
   "source": [
    "### 결론\n",
    "\n",
    "- 86%의 정확도를 보인 Decision Tree를 제외한 나머지 RandomForest, SVM, SGD Classifier, Logistic Regression은 95% 이상의 좋은 분류 성능을 보임"
   ]
  },
  {
   "cell_type": "markdown",
   "id": "7259c255",
   "metadata": {},
   "source": [
    "## 2-12. 프로젝트 (2) load_wine : 와인을 분류해 봅시다"
   ]
  },
  {
   "cell_type": "markdown",
   "id": "a656f0e3",
   "metadata": {},
   "source": [
    "### 데이터 준비\n",
    "- wine 데이터는 총 178개의 샘플로 구성\n",
    "- 각 데이터는 13개의 특징 값을 가지고 있음\n",
    "- 클래스는 3가지\n",
    "- 각 특징별로 평균값의 차이가 크고 값의 범위가 크게 달라 정규화 적용"
   ]
  },
  {
   "cell_type": "code",
   "execution_count": 8,
   "id": "e5f3ad1a",
   "metadata": {},
   "outputs": [
    {
     "name": "stdout",
     "output_type": "stream",
     "text": [
      "['alcohol', 'malic_acid', 'ash', 'alcalinity_of_ash', 'magnesium', 'total_phenols', 'flavanoids', 'nonflavanoid_phenols', 'proanthocyanins', 'color_intensity', 'hue', 'od280/od315_of_diluted_wines', 'proline']\n",
      "[1.423e+01 1.710e+00 2.430e+00 1.560e+01 1.270e+02 2.800e+00 3.060e+00\n",
      " 2.800e-01 2.290e+00 5.640e+00 1.040e+00 3.920e+00 1.065e+03]\n",
      "(13,)\n",
      "['class_0' 'class_1' 'class_2']\n",
      ".. _wine_dataset:\n",
      "\n",
      "Wine recognition dataset\n",
      "------------------------\n",
      "\n",
      "**Data Set Characteristics:**\n",
      "\n",
      "    :Number of Instances: 178 (50 in each of three classes)\n",
      "    :Number of Attributes: 13 numeric, predictive attributes and the class\n",
      "    :Attribute Information:\n",
      " \t\t- Alcohol\n",
      " \t\t- Malic acid\n",
      " \t\t- Ash\n",
      "\t\t- Alcalinity of ash  \n",
      " \t\t- Magnesium\n",
      "\t\t- Total phenols\n",
      " \t\t- Flavanoids\n",
      " \t\t- Nonflavanoid phenols\n",
      " \t\t- Proanthocyanins\n",
      "\t\t- Color intensity\n",
      " \t\t- Hue\n",
      " \t\t- OD280/OD315 of diluted wines\n",
      " \t\t- Proline\n",
      "\n",
      "    - class:\n",
      "            - class_0\n",
      "            - class_1\n",
      "            - class_2\n",
      "\t\t\n",
      "    :Summary Statistics:\n",
      "    \n",
      "    ============================= ==== ===== ======= =====\n",
      "                                   Min   Max   Mean     SD\n",
      "    ============================= ==== ===== ======= =====\n",
      "    Alcohol:                      11.0  14.8    13.0   0.8\n",
      "    Malic Acid:                   0.74  5.80    2.34  1.12\n",
      "    Ash:                          1.36  3.23    2.36  0.27\n",
      "    Alcalinity of Ash:            10.6  30.0    19.5   3.3\n",
      "    Magnesium:                    70.0 162.0    99.7  14.3\n",
      "    Total Phenols:                0.98  3.88    2.29  0.63\n",
      "    Flavanoids:                   0.34  5.08    2.03  1.00\n",
      "    Nonflavanoid Phenols:         0.13  0.66    0.36  0.12\n",
      "    Proanthocyanins:              0.41  3.58    1.59  0.57\n",
      "    Colour Intensity:              1.3  13.0     5.1   2.3\n",
      "    Hue:                          0.48  1.71    0.96  0.23\n",
      "    OD280/OD315 of diluted wines: 1.27  4.00    2.61  0.71\n",
      "    Proline:                       278  1680     746   315\n",
      "    ============================= ==== ===== ======= =====\n",
      "\n",
      "    :Missing Attribute Values: None\n",
      "    :Class Distribution: class_0 (59), class_1 (71), class_2 (48)\n",
      "    :Creator: R.A. Fisher\n",
      "    :Donor: Michael Marshall (MARSHALL%PLU@io.arc.nasa.gov)\n",
      "    :Date: July, 1988\n",
      "\n",
      "This is a copy of UCI ML Wine recognition datasets.\n",
      "https://archive.ics.uci.edu/ml/machine-learning-databases/wine/wine.data\n",
      "\n",
      "The data is the results of a chemical analysis of wines grown in the same\n",
      "region in Italy by three different cultivators. There are thirteen different\n",
      "measurements taken for different constituents found in the three types of\n",
      "wine.\n",
      "\n",
      "Original Owners: \n",
      "\n",
      "Forina, M. et al, PARVUS - \n",
      "An Extendible Package for Data Exploration, Classification and Correlation. \n",
      "Institute of Pharmaceutical and Food Analysis and Technologies,\n",
      "Via Brigata Salerno, 16147 Genoa, Italy.\n",
      "\n",
      "Citation:\n",
      "\n",
      "Lichman, M. (2013). UCI Machine Learning Repository\n",
      "[https://archive.ics.uci.edu/ml]. Irvine, CA: University of California,\n",
      "School of Information and Computer Science. \n",
      "\n",
      ".. topic:: References\n",
      "\n",
      "  (1) S. Aeberhard, D. Coomans and O. de Vel, \n",
      "  Comparison of Classifiers in High Dimensional Settings, \n",
      "  Tech. Rep. no. 92-02, (1992), Dept. of Computer Science and Dept. of  \n",
      "  Mathematics and Statistics, James Cook University of North Queensland. \n",
      "  (Also submitted to Technometrics). \n",
      "\n",
      "  The data was used with many others for comparing various \n",
      "  classifiers. The classes are separable, though only RDA \n",
      "  has achieved 100% correct classification. \n",
      "  (RDA : 100%, QDA 99.4%, LDA 98.9%, 1NN 96.1% (z-transformed data)) \n",
      "  (All results using the leave-one-out technique) \n",
      "\n",
      "  (2) S. Aeberhard, D. Coomans and O. de Vel, \n",
      "  \"THE CLASSIFICATION PERFORMANCE OF RDA\" \n",
      "  Tech. Rep. no. 92-01, (1992), Dept. of Computer Science and Dept. of \n",
      "  Mathematics and Statistics, James Cook University of North Queensland. \n",
      "  (Also submitted to Journal of Chemometrics).\n",
      "\n"
     ]
    }
   ],
   "source": [
    "from sklearn.datasets import load_wine\n",
    "\n",
    "\n",
    "data_wine = load_wine()\n",
    "feat = data_wine.data\n",
    "label = data_wine.target\n",
    "print(data_wine.feature_names)\n",
    "print(feat[0])\n",
    "print(feat[0].shape)\n",
    "print(data_wine.target_names)\n",
    "print(data_wine.DESCR)\n"
   ]
  },
  {
   "cell_type": "markdown",
   "id": "ce23cecb",
   "metadata": {},
   "source": [
    "### Decision Tree"
   ]
  },
  {
   "cell_type": "code",
   "execution_count": 9,
   "id": "0fcb588b",
   "metadata": {},
   "outputs": [
    {
     "name": "stdout",
     "output_type": "stream",
     "text": [
      "\n",
      "==== Classification Report of Decision Tree ====\n",
      "              precision    recall  f1-score   support\n",
      "\n",
      "           0       0.79      1.00      0.88        11\n",
      "           1       0.84      0.84      0.84        19\n",
      "           2       1.00      0.80      0.89        15\n",
      "\n",
      "    accuracy                           0.87        45\n",
      "   macro avg       0.88      0.88      0.87        45\n",
      "weighted avg       0.88      0.87      0.87        45\n",
      "\n",
      "==== Confusion Matrix of Decision Tree ====\n",
      "[[11  0  0]\n",
      " [ 3 16  0]\n",
      " [ 0  3 12]]\n"
     ]
    }
   ],
   "source": [
    "get_model_result(\"Decision Tree\", DecisionTreeClassifier, feat, label, scale=True)"
   ]
  },
  {
   "cell_type": "markdown",
   "id": "b1d4df71",
   "metadata": {},
   "source": [
    "#### Decision Tree의 결과 분석\n",
    "\n",
    "- accuracy는 87%\n",
    "- 특정 클래스에 대해 precision 또는 recall이 1.00인 경우가 있지만, precision의 경우 최소 0.79, recall의 경우 최소 0.80으로 높지 않음\n",
    "- accuracy와 precision, recall이 0.9 이하로 분류 성능이 뛰어나다고 할 수 없음"
   ]
  },
  {
   "cell_type": "markdown",
   "id": "ed57717d",
   "metadata": {},
   "source": [
    "### RandomForest"
   ]
  },
  {
   "cell_type": "code",
   "execution_count": 10,
   "id": "b085e8b0",
   "metadata": {},
   "outputs": [
    {
     "name": "stdout",
     "output_type": "stream",
     "text": [
      "\n",
      "==== Classification Report of Random Forest ====\n",
      "              precision    recall  f1-score   support\n",
      "\n",
      "           0       1.00      1.00      1.00        14\n",
      "           1       0.89      1.00      0.94        17\n",
      "           2       1.00      0.86      0.92        14\n",
      "\n",
      "    accuracy                           0.96        45\n",
      "   macro avg       0.96      0.95      0.96        45\n",
      "weighted avg       0.96      0.96      0.96        45\n",
      "\n",
      "==== Confusion Matrix of Random Forest ====\n",
      "[[14  0  0]\n",
      " [ 0 17  0]\n",
      " [ 0  2 12]]\n"
     ]
    }
   ],
   "source": [
    "get_model_result(\"Random Forest\", RandomForestClassifier, feat, label, scale=True)"
   ]
  },
  {
   "cell_type": "markdown",
   "id": "ca5875cd",
   "metadata": {},
   "source": [
    "#### Random Forest의 결과 분석\n",
    "\n",
    "- accuracy는 96%\n",
    "- precision은 최소 0.89이상, recall은 0.95이상으로 높은 수치를 보여 분류 성능이 우수하다고 판단\n",
    "  - 첫번째 클래스의 경우 precision과 recall이 모두 1.00 도달"
   ]
  },
  {
   "cell_type": "markdown",
   "id": "512ed3a7",
   "metadata": {},
   "source": [
    "### SVM"
   ]
  },
  {
   "cell_type": "code",
   "execution_count": 11,
   "id": "a56d3bbd",
   "metadata": {},
   "outputs": [
    {
     "name": "stdout",
     "output_type": "stream",
     "text": [
      "\n",
      "==== Classification Report of SVM ====\n",
      "              precision    recall  f1-score   support\n",
      "\n",
      "           0       1.00      1.00      1.00        14\n",
      "           1       0.95      1.00      0.97        18\n",
      "           2       1.00      0.92      0.96        13\n",
      "\n",
      "    accuracy                           0.98        45\n",
      "   macro avg       0.98      0.97      0.98        45\n",
      "weighted avg       0.98      0.98      0.98        45\n",
      "\n",
      "==== Confusion Matrix of SVM ====\n",
      "[[14  0  0]\n",
      " [ 0 18  0]\n",
      " [ 0  1 12]]\n"
     ]
    }
   ],
   "source": [
    "get_model_result(\"SVM\", SVC, feat, label, scale=True)\n"
   ]
  },
  {
   "cell_type": "markdown",
   "id": "57c38986",
   "metadata": {},
   "source": [
    "#### SVM의 결과 분석\n",
    "\n",
    "- accuracy는 98%\n",
    "- precision은 최소 0.95이상, recall은 0.92이상으로 높은 수치를 보여 분류 성능이 우수하다고 판단"
   ]
  },
  {
   "cell_type": "markdown",
   "id": "364a3d5e",
   "metadata": {},
   "source": [
    "### SGD Classifier"
   ]
  },
  {
   "cell_type": "code",
   "execution_count": 12,
   "id": "40ba8f9a",
   "metadata": {},
   "outputs": [
    {
     "name": "stdout",
     "output_type": "stream",
     "text": [
      "\n",
      "==== Classification Report of SGD ====\n",
      "              precision    recall  f1-score   support\n",
      "\n",
      "           0       1.00      1.00      1.00        14\n",
      "           1       0.95      1.00      0.97        18\n",
      "           2       1.00      0.92      0.96        13\n",
      "\n",
      "    accuracy                           0.98        45\n",
      "   macro avg       0.98      0.97      0.98        45\n",
      "weighted avg       0.98      0.98      0.98        45\n",
      "\n",
      "==== Confusion Matrix of SGD ====\n",
      "[[14  0  0]\n",
      " [ 0 18  0]\n",
      " [ 0  1 12]]\n"
     ]
    }
   ],
   "source": [
    "get_model_result(\"SGD\", SGDClassifier, feat, label, scale=True)\n"
   ]
  },
  {
   "cell_type": "markdown",
   "id": "101bed46",
   "metadata": {},
   "source": [
    "#### SGD Classifier의 결과 분석\n",
    "\n",
    "- accuracy는 98%\n",
    "- precision은 최소 0.95이상, recall은 0.92이상으로 높은 수치를 보여 분류 성능이 우수하다고 판단"
   ]
  },
  {
   "cell_type": "markdown",
   "id": "876f4b36",
   "metadata": {},
   "source": [
    "### Logistic Regression"
   ]
  },
  {
   "cell_type": "code",
   "execution_count": 13,
   "id": "bb24976d",
   "metadata": {},
   "outputs": [
    {
     "name": "stdout",
     "output_type": "stream",
     "text": [
      "\n",
      "==== Classification Report of Logistic Regression ====\n",
      "              precision    recall  f1-score   support\n",
      "\n",
      "           0       1.00      1.00      1.00        14\n",
      "           1       0.95      1.00      0.97        18\n",
      "           2       1.00      0.92      0.96        13\n",
      "\n",
      "    accuracy                           0.98        45\n",
      "   macro avg       0.98      0.97      0.98        45\n",
      "weighted avg       0.98      0.98      0.98        45\n",
      "\n",
      "==== Confusion Matrix of Logistic Regression ====\n",
      "[[14  0  0]\n",
      " [ 0 18  0]\n",
      " [ 0  1 12]]\n"
     ]
    }
   ],
   "source": [
    "get_model_result(\"Logistic Regression\", LogisticRegression, feat, label, scale=True)\n"
   ]
  },
  {
   "cell_type": "markdown",
   "id": "68962fdd",
   "metadata": {},
   "source": [
    "#### Logistic Regression의 결과 분석\n",
    "\n",
    "- accuracy는 98%\n",
    "- precision은 최소 0.95이상, recall은 0.92이상으로 높은 수치를 보여 분류 성능이 우수하다고 판단"
   ]
  },
  {
   "cell_type": "markdown",
   "id": "c6b703c4",
   "metadata": {},
   "source": [
    "### 결론\n",
    "\n",
    "- 88%의 정확도를 달성한 Decision Tree를 제외한 나머지 4개의 클래스에서는 96% 이상의 정확도 달성"
   ]
  },
  {
   "cell_type": "markdown",
   "id": "caf53402",
   "metadata": {},
   "source": [
    "## 2-13. 프로젝트 (3) load_breast_cancer : 유방암 여부를 진단해 봅시다\n"
   ]
  },
  {
   "cell_type": "markdown",
   "id": "c6edfdcc",
   "metadata": {},
   "source": [
    "### 데이터 준비\n",
    "\n",
    "- breast cancer 데이터는 총 569개의 샘플로 구성\n",
    "- 각 데이터는 30개의 특징 값을 가지고 있음\n",
    "- 클래스는 악성(malignant)과 양성(benign), 총 2가지\n",
    "- 각 특징별로 평균값의 차이가 크고 값의 범위가 달라 정규화 적용"
   ]
  },
  {
   "cell_type": "code",
   "execution_count": 14,
   "id": "3d824eaa",
   "metadata": {},
   "outputs": [
    {
     "name": "stdout",
     "output_type": "stream",
     "text": [
      "['mean radius' 'mean texture' 'mean perimeter' 'mean area'\n",
      " 'mean smoothness' 'mean compactness' 'mean concavity'\n",
      " 'mean concave points' 'mean symmetry' 'mean fractal dimension'\n",
      " 'radius error' 'texture error' 'perimeter error' 'area error'\n",
      " 'smoothness error' 'compactness error' 'concavity error'\n",
      " 'concave points error' 'symmetry error' 'fractal dimension error'\n",
      " 'worst radius' 'worst texture' 'worst perimeter' 'worst area'\n",
      " 'worst smoothness' 'worst compactness' 'worst concavity'\n",
      " 'worst concave points' 'worst symmetry' 'worst fractal dimension']\n",
      "[1.799e+01 1.038e+01 1.228e+02 1.001e+03 1.184e-01 2.776e-01 3.001e-01\n",
      " 1.471e-01 2.419e-01 7.871e-02 1.095e+00 9.053e-01 8.589e+00 1.534e+02\n",
      " 6.399e-03 4.904e-02 5.373e-02 1.587e-02 3.003e-02 6.193e-03 2.538e+01\n",
      " 1.733e+01 1.846e+02 2.019e+03 1.622e-01 6.656e-01 7.119e-01 2.654e-01\n",
      " 4.601e-01 1.189e-01]\n",
      "(30,)\n",
      "['malignant' 'benign']\n",
      ".. _breast_cancer_dataset:\n",
      "\n",
      "Breast cancer wisconsin (diagnostic) dataset\n",
      "--------------------------------------------\n",
      "\n",
      "**Data Set Characteristics:**\n",
      "\n",
      "    :Number of Instances: 569\n",
      "\n",
      "    :Number of Attributes: 30 numeric, predictive attributes and the class\n",
      "\n",
      "    :Attribute Information:\n",
      "        - radius (mean of distances from center to points on the perimeter)\n",
      "        - texture (standard deviation of gray-scale values)\n",
      "        - perimeter\n",
      "        - area\n",
      "        - smoothness (local variation in radius lengths)\n",
      "        - compactness (perimeter^2 / area - 1.0)\n",
      "        - concavity (severity of concave portions of the contour)\n",
      "        - concave points (number of concave portions of the contour)\n",
      "        - symmetry\n",
      "        - fractal dimension (\"coastline approximation\" - 1)\n",
      "\n",
      "        The mean, standard error, and \"worst\" or largest (mean of the three\n",
      "        worst/largest values) of these features were computed for each image,\n",
      "        resulting in 30 features.  For instance, field 0 is Mean Radius, field\n",
      "        10 is Radius SE, field 20 is Worst Radius.\n",
      "\n",
      "        - class:\n",
      "                - WDBC-Malignant\n",
      "                - WDBC-Benign\n",
      "\n",
      "    :Summary Statistics:\n",
      "\n",
      "    ===================================== ====== ======\n",
      "                                           Min    Max\n",
      "    ===================================== ====== ======\n",
      "    radius (mean):                        6.981  28.11\n",
      "    texture (mean):                       9.71   39.28\n",
      "    perimeter (mean):                     43.79  188.5\n",
      "    area (mean):                          143.5  2501.0\n",
      "    smoothness (mean):                    0.053  0.163\n",
      "    compactness (mean):                   0.019  0.345\n",
      "    concavity (mean):                     0.0    0.427\n",
      "    concave points (mean):                0.0    0.201\n",
      "    symmetry (mean):                      0.106  0.304\n",
      "    fractal dimension (mean):             0.05   0.097\n",
      "    radius (standard error):              0.112  2.873\n",
      "    texture (standard error):             0.36   4.885\n",
      "    perimeter (standard error):           0.757  21.98\n",
      "    area (standard error):                6.802  542.2\n",
      "    smoothness (standard error):          0.002  0.031\n",
      "    compactness (standard error):         0.002  0.135\n",
      "    concavity (standard error):           0.0    0.396\n",
      "    concave points (standard error):      0.0    0.053\n",
      "    symmetry (standard error):            0.008  0.079\n",
      "    fractal dimension (standard error):   0.001  0.03\n",
      "    radius (worst):                       7.93   36.04\n",
      "    texture (worst):                      12.02  49.54\n",
      "    perimeter (worst):                    50.41  251.2\n",
      "    area (worst):                         185.2  4254.0\n",
      "    smoothness (worst):                   0.071  0.223\n",
      "    compactness (worst):                  0.027  1.058\n",
      "    concavity (worst):                    0.0    1.252\n",
      "    concave points (worst):               0.0    0.291\n",
      "    symmetry (worst):                     0.156  0.664\n",
      "    fractal dimension (worst):            0.055  0.208\n",
      "    ===================================== ====== ======\n",
      "\n",
      "    :Missing Attribute Values: None\n",
      "\n",
      "    :Class Distribution: 212 - Malignant, 357 - Benign\n",
      "\n",
      "    :Creator:  Dr. William H. Wolberg, W. Nick Street, Olvi L. Mangasarian\n",
      "\n",
      "    :Donor: Nick Street\n",
      "\n",
      "    :Date: November, 1995\n",
      "\n",
      "This is a copy of UCI ML Breast Cancer Wisconsin (Diagnostic) datasets.\n",
      "https://goo.gl/U2Uwz2\n",
      "\n",
      "Features are computed from a digitized image of a fine needle\n",
      "aspirate (FNA) of a breast mass.  They describe\n",
      "characteristics of the cell nuclei present in the image.\n",
      "\n",
      "Separating plane described above was obtained using\n",
      "Multisurface Method-Tree (MSM-T) [K. P. Bennett, \"Decision Tree\n",
      "Construction Via Linear Programming.\" Proceedings of the 4th\n",
      "Midwest Artificial Intelligence and Cognitive Science Society,\n",
      "pp. 97-101, 1992], a classification method which uses linear\n",
      "programming to construct a decision tree.  Relevant features\n",
      "were selected using an exhaustive search in the space of 1-4\n",
      "features and 1-3 separating planes.\n",
      "\n",
      "The actual linear program used to obtain the separating plane\n",
      "in the 3-dimensional space is that described in:\n",
      "[K. P. Bennett and O. L. Mangasarian: \"Robust Linear\n",
      "Programming Discrimination of Two Linearly Inseparable Sets\",\n",
      "Optimization Methods and Software 1, 1992, 23-34].\n",
      "\n",
      "This database is also available through the UW CS ftp server:\n",
      "\n",
      "ftp ftp.cs.wisc.edu\n",
      "cd math-prog/cpo-dataset/machine-learn/WDBC/\n",
      "\n",
      ".. topic:: References\n",
      "\n",
      "   - W.N. Street, W.H. Wolberg and O.L. Mangasarian. Nuclear feature extraction \n",
      "     for breast tumor diagnosis. IS&T/SPIE 1993 International Symposium on \n",
      "     Electronic Imaging: Science and Technology, volume 1905, pages 861-870,\n",
      "     San Jose, CA, 1993.\n",
      "   - O.L. Mangasarian, W.N. Street and W.H. Wolberg. Breast cancer diagnosis and \n",
      "     prognosis via linear programming. Operations Research, 43(4), pages 570-577, \n",
      "     July-August 1995.\n",
      "   - W.H. Wolberg, W.N. Street, and O.L. Mangasarian. Machine learning techniques\n",
      "     to diagnose breast cancer from fine-needle aspirates. Cancer Letters 77 (1994) \n",
      "     163-171.\n"
     ]
    }
   ],
   "source": [
    "from sklearn.datasets import load_breast_cancer\n",
    "\n",
    "data_cancer = load_breast_cancer()\n",
    "feat = data_cancer.data\n",
    "label = data_cancer.target\n",
    "print(data_cancer.feature_names)\n",
    "print(feat[0])\n",
    "print(feat[0].shape)\n",
    "print(data_cancer.target_names)\n",
    "print(data_cancer.DESCR)"
   ]
  },
  {
   "cell_type": "markdown",
   "id": "f1c1cf3d",
   "metadata": {},
   "source": [
    "### Decision Tree"
   ]
  },
  {
   "cell_type": "code",
   "execution_count": 15,
   "id": "03a1cf27",
   "metadata": {},
   "outputs": [
    {
     "name": "stdout",
     "output_type": "stream",
     "text": [
      "\n",
      "==== Classification Report of Decision Tree ====\n",
      "              precision    recall  f1-score   support\n",
      "\n",
      "           0       0.93      0.91      0.92        56\n",
      "           1       0.94      0.95      0.95        87\n",
      "\n",
      "    accuracy                           0.94       143\n",
      "   macro avg       0.94      0.93      0.93       143\n",
      "weighted avg       0.94      0.94      0.94       143\n",
      "\n",
      "==== Confusion Matrix of Decision Tree ====\n",
      "[[51  5]\n",
      " [ 4 83]]\n"
     ]
    }
   ],
   "source": [
    "get_model_result(\"Decision Tree\", DecisionTreeClassifier, feat, label, scale=True)\n"
   ]
  },
  {
   "cell_type": "markdown",
   "id": "f857ab50",
   "metadata": {},
   "source": [
    "#### Decision Tree의 결과 분석\n",
    "\n",
    "- accuracy는 94%\n",
    "- 첫번째 클래스인 악성에 대한 recall이 0.91\n",
    "  - 악성을 놓치는 경우가 발생할 확률이 낮지 않아 유방암 여부 진단에는 적합하지 않다고 판단됨"
   ]
  },
  {
   "cell_type": "markdown",
   "id": "6642867f",
   "metadata": {},
   "source": [
    "### Random Forest"
   ]
  },
  {
   "cell_type": "code",
   "execution_count": 16,
   "id": "43344ac6",
   "metadata": {},
   "outputs": [
    {
     "name": "stdout",
     "output_type": "stream",
     "text": [
      "\n",
      "==== Classification Report of Random Forest ====\n",
      "              precision    recall  f1-score   support\n",
      "\n",
      "           0       0.85      0.96      0.90        49\n",
      "           1       0.98      0.91      0.95        94\n",
      "\n",
      "    accuracy                           0.93       143\n",
      "   macro avg       0.92      0.94      0.92       143\n",
      "weighted avg       0.94      0.93      0.93       143\n",
      "\n",
      "==== Confusion Matrix of Random Forest ====\n",
      "[[47  2]\n",
      " [ 8 86]]\n"
     ]
    }
   ],
   "source": [
    "get_model_result(\"Random Forest\", RandomForestClassifier, feat, label, scale=True)"
   ]
  },
  {
   "cell_type": "markdown",
   "id": "fec19e7c",
   "metadata": {},
   "source": [
    "#### Random Forest의 결과 분석\n",
    "\n",
    "- accuracy는 93%\n",
    "- 첫번째 클래스인 악성에 대한 recall이 0.96\n",
    "  - precision이 0.85이지만, 악성을 놓치는 경우가 적어 유방암 여부 진단에 적합한 방법이라고 판단됨"
   ]
  },
  {
   "cell_type": "markdown",
   "id": "03385ec6",
   "metadata": {},
   "source": [
    "### SVM"
   ]
  },
  {
   "cell_type": "code",
   "execution_count": 17,
   "id": "04e49a05",
   "metadata": {},
   "outputs": [
    {
     "name": "stdout",
     "output_type": "stream",
     "text": [
      "\n",
      "==== Classification Report of SVM ====\n",
      "              precision    recall  f1-score   support\n",
      "\n",
      "           0       0.89      1.00      0.94        49\n",
      "           1       1.00      0.94      0.97        94\n",
      "\n",
      "    accuracy                           0.96       143\n",
      "   macro avg       0.95      0.97      0.95       143\n",
      "weighted avg       0.96      0.96      0.96       143\n",
      "\n",
      "==== Confusion Matrix of SVM ====\n",
      "[[49  0]\n",
      " [ 6 88]]\n"
     ]
    }
   ],
   "source": [
    "get_model_result(\"SVM\", SVC, feat, label, scale=True)"
   ]
  },
  {
   "cell_type": "markdown",
   "id": "13efa57a",
   "metadata": {},
   "source": [
    "#### SVM의 결과 분석\n",
    "\n",
    "- accuracy는 96%\n",
    "- 첫번째 클래스인 악성에 대한 recall이 1.00\n",
    "  - precision이 0.89이지만, 악성을 놓치는 경우가 없어 유방암 여부 진단에 좋은 방법이라고 판단됨"
   ]
  },
  {
   "cell_type": "markdown",
   "id": "cb329a4f",
   "metadata": {},
   "source": [
    "### SGD Classifier"
   ]
  },
  {
   "cell_type": "code",
   "execution_count": 18,
   "id": "428a3916",
   "metadata": {},
   "outputs": [
    {
     "name": "stdout",
     "output_type": "stream",
     "text": [
      "\n",
      "==== Classification Report of SGD ====\n",
      "              precision    recall  f1-score   support\n",
      "\n",
      "           0       0.93      0.98      0.95        52\n",
      "           1       0.99      0.96      0.97        91\n",
      "\n",
      "    accuracy                           0.97       143\n",
      "   macro avg       0.96      0.97      0.96       143\n",
      "weighted avg       0.97      0.97      0.97       143\n",
      "\n",
      "==== Confusion Matrix of SGD ====\n",
      "[[51  1]\n",
      " [ 4 87]]\n"
     ]
    }
   ],
   "source": [
    "get_model_result(\"SGD\", SGDClassifier, feat, label, scale=True)"
   ]
  },
  {
   "cell_type": "markdown",
   "id": "3aa31acf",
   "metadata": {},
   "source": [
    "#### SGD Classifier의 결과 분석\n",
    "\n",
    "- accuracy는 97%\n",
    "- 첫번째 클래스인 악성에 대한 recall이 0.98\n",
    "  - precision이 0.93이면서, 악성을 놓치는 경우가 적어 유방암 여부 진단에 좋은 방법이라고 판단됨"
   ]
  },
  {
   "cell_type": "markdown",
   "id": "90093d06",
   "metadata": {},
   "source": [
    "### Logistic Regression"
   ]
  },
  {
   "cell_type": "code",
   "execution_count": 19,
   "id": "c6eef5dd",
   "metadata": {},
   "outputs": [
    {
     "name": "stdout",
     "output_type": "stream",
     "text": [
      "\n",
      "==== Classification Report of Logistic Regression ====\n",
      "              precision    recall  f1-score   support\n",
      "\n",
      "           0       0.91      1.00      0.95        50\n",
      "           1       1.00      0.95      0.97        93\n",
      "\n",
      "    accuracy                           0.97       143\n",
      "   macro avg       0.95      0.97      0.96       143\n",
      "weighted avg       0.97      0.97      0.97       143\n",
      "\n",
      "==== Confusion Matrix of Logistic Regression ====\n",
      "[[50  0]\n",
      " [ 5 88]]\n"
     ]
    }
   ],
   "source": [
    "get_model_result(\"Logistic Regression\", LogisticRegression, feat, label, scale=True)"
   ]
  },
  {
   "cell_type": "markdown",
   "id": "e61786c1",
   "metadata": {},
   "source": [
    "#### Logistic Regression의 결과 분석\n",
    "\n",
    "- accuracy는 97%\n",
    "- 첫번째 클래스인 악성에 대한 recall이 1.00\n",
    "  - precision이 0.91이면서, 악성을 놓치는 경우가 없어 유방암 여부 진단에 좋은 방법이라고 판단됨"
   ]
  },
  {
   "cell_type": "markdown",
   "id": "fadd9199",
   "metadata": {},
   "source": [
    "### 결론\n",
    "- Decision Tree의 경우 정확도는 0.94로 높은 편이나, 악성 클래스에 대한 recall이 0.91로 다소 낮아 유방암 진단에는 적합하지 않은 모델이라 판단됨\n",
    "- SVM, SGD Classifier, Logistic Regression의 경우 0.96의 이상의 정확도를 보이면서, 악성 클래스에 대한 recall 역시 0.98 이상으로 매우 높아 유방암 진단에 적합한 모델이라 판단됨\n",
    "- Random Forest의 경우, 0.93의 정확도를 보이면서 악성 클래스에 대한 recall이 0.96으로 높은 편이기에 유방암 진단에 사용 가능한 모델이라 판단됨"
   ]
  },
  {
   "cell_type": "markdown",
   "id": "123ab4b4",
   "metadata": {},
   "source": [
    "## 프로젝트 결론\n",
    "- 3가지 데이터셋에 대해 Decision Tree는 다른 모델에 비교하여 전반적으로 낮은 분류 성능을 보임\n",
    "  - 이러한 경향은 데이터가 가지는 특징의 수와 무관하게 나타남\n",
    "- SVM, Logistic Regression은 모든 데이터셋에 대해서 높은 accuracy와 함께 높은 recall을 얻을 수 있었음\n",
    "  - 기본적인 분류 성능이 뛰어나면서, False Negative가 적은 것이 중요한 데이터셋에서도 좋은 성능을 보일 수 있음\n"
   ]
  },
  {
   "cell_type": "markdown",
   "id": "53480677",
   "metadata": {},
   "source": [
    "## 루브릭\n",
    "\n",
    "1. 3가지의 데이터셋의 구성이 합리적으로 진행되었는가? - feature와 label 선정을 위한 데이터 분석과정이 체계적으로 전개됨\n",
    "2. 3가지 데이터셋에 대해 각각 5가지 모델을 성공적으로 적용하였는가? - 모델학습 및 테스트가 정상적으로 수행되었음\n",
    "3. 3가지 데이터셋에 대해 모델의 평가지표가 적절히 선택되었는가? - 평가지표 선택 및 이유 설명이 타당함"
   ]
  },
  {
   "cell_type": "markdown",
   "id": "cceca19c",
   "metadata": {},
   "source": [
    "### 루브릭에 대한 자체평가\n",
    "1. 데이터셋의 feature의 특성을 분석하여 scale 여부를 결정하여 적용\n",
    "2. Decision Tree, Random Forest, SVM, SGD Classifier, Logistic Regression의 5가지 모델에 대하여 성공적으로 훈련을 진행하고 성능 평가를 위한 결과를 얻을 수 있었음\n",
    "3. 3가지 종류의 데이터셋에 대해 accuracy, precision 또는 recall 성능을 개별적으로 분석하였다"
   ]
  }
 ],
 "metadata": {
  "kernelspec": {
   "display_name": "Python 3 (ipykernel)",
   "language": "python",
   "name": "python3"
  },
  "language_info": {
   "codemirror_mode": {
    "name": "ipython",
    "version": 3
   },
   "file_extension": ".py",
   "mimetype": "text/x-python",
   "name": "python",
   "nbconvert_exporter": "python",
   "pygments_lexer": "ipython3",
   "version": "3.8.12"
  }
 },
 "nbformat": 4,
 "nbformat_minor": 5
}
