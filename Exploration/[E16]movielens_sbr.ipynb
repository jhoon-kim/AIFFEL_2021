{
 "cells": [
  {
   "cell_type": "markdown",
   "id": "fea8864d",
   "metadata": {},
   "source": [
    "# 16. Movielens 영화 Session Based Recommendation"
   ]
  },
  {
   "cell_type": "markdown",
   "id": "6bd411dc",
   "metadata": {},
   "source": [
    "## 데이터 준비"
   ]
  },
  {
   "cell_type": "code",
   "execution_count": 1,
   "id": "54767b30",
   "metadata": {
    "scrolled": false
   },
   "outputs": [
    {
     "data": {
      "application/javascript": "\n            setTimeout(function() {\n                var nbb_cell_id = 2;\n                var nbb_unformatted_code = \"import pandas as pd\\nfrom pathlib import Path\\nimport os\\nimport numpy as np\\n\\nimport warnings\\n\\nwarnings.filterwarnings(\\\"ignore\\\")\";\n                var nbb_formatted_code = \"import pandas as pd\\nfrom pathlib import Path\\nimport os\\nimport numpy as np\\n\\nimport warnings\\n\\nwarnings.filterwarnings(\\\"ignore\\\")\";\n                var nbb_cells = Jupyter.notebook.get_cells();\n                for (var i = 0; i < nbb_cells.length; ++i) {\n                    if (nbb_cells[i].input_prompt_number == nbb_cell_id) {\n                        if (nbb_cells[i].get_text() == nbb_unformatted_code) {\n                             nbb_cells[i].set_text(nbb_formatted_code);\n                        }\n                        break;\n                    }\n                }\n            }, 500);\n            ",
      "text/plain": [
       "<IPython.core.display.Javascript object>"
      ]
     },
     "metadata": {},
     "output_type": "display_data"
    }
   ],
   "source": [
    "import pandas as pd\n",
    "from pathlib import Path\n",
    "import os\n",
    "import numpy as np\n",
    "\n",
    "import warnings\n",
    "\n",
    "warnings.filterwarnings(\"ignore\")"
   ]
  },
  {
   "cell_type": "code",
   "execution_count": 2,
   "id": "fb219389",
   "metadata": {
    "scrolled": false
   },
   "outputs": [
    {
     "data": {
      "application/javascript": "\n            setTimeout(function() {\n                var nbb_cell_id = 3;\n                var nbb_unformatted_code = \"data_path = Path(os.getenv(\\\"HOME\\\") + \\\"/aiffel/yoochoose/data/\\\")\\ntrain_path = data_path / \\\"ratings.dat\\\"\\n\\n\\ndef load_data(data_path: Path, nrows=None):\\n    data = pd.read_csv(\\n        data_path,\\n        sep=\\\"::\\\",\\n        header=None,\\n        usecols=[0, 1, 2, 3],\\n        dtype={0: np.int32, 1: np.int32, 2: np.int32},\\n        nrows=nrows,\\n    )\\n    data.columns = [\\\"UserId\\\", \\\"ItemId\\\", \\\"Rating\\\", \\\"Time\\\"]\\n    return data\\n\\n\\ndata = load_data(train_path, None)\\ndata.sort_values([\\\"UserId\\\", \\\"Time\\\"], inplace=True)\\n\\ndata_orig = data.copy()\";\n                var nbb_formatted_code = \"data_path = Path(os.getenv(\\\"HOME\\\") + \\\"/aiffel/yoochoose/data/\\\")\\ntrain_path = data_path / \\\"ratings.dat\\\"\\n\\n\\ndef load_data(data_path: Path, nrows=None):\\n    data = pd.read_csv(\\n        data_path,\\n        sep=\\\"::\\\",\\n        header=None,\\n        usecols=[0, 1, 2, 3],\\n        dtype={0: np.int32, 1: np.int32, 2: np.int32},\\n        nrows=nrows,\\n    )\\n    data.columns = [\\\"UserId\\\", \\\"ItemId\\\", \\\"Rating\\\", \\\"Time\\\"]\\n    return data\\n\\n\\ndata = load_data(train_path, None)\\ndata.sort_values([\\\"UserId\\\", \\\"Time\\\"], inplace=True)\\n\\ndata_orig = data.copy()\";\n                var nbb_cells = Jupyter.notebook.get_cells();\n                for (var i = 0; i < nbb_cells.length; ++i) {\n                    if (nbb_cells[i].input_prompt_number == nbb_cell_id) {\n                        if (nbb_cells[i].get_text() == nbb_unformatted_code) {\n                             nbb_cells[i].set_text(nbb_formatted_code);\n                        }\n                        break;\n                    }\n                }\n            }, 500);\n            ",
      "text/plain": [
       "<IPython.core.display.Javascript object>"
      ]
     },
     "metadata": {},
     "output_type": "display_data"
    }
   ],
   "source": [
    "data_path = Path(os.getenv(\"HOME\") + \"/aiffel/yoochoose/data/\")\n",
    "train_path = data_path / \"ratings.dat\"\n",
    "\n",
    "\n",
    "def load_data(data_path: Path, nrows=None):\n",
    "    data = pd.read_csv(\n",
    "        data_path,\n",
    "        sep=\"::\",\n",
    "        header=None,\n",
    "        usecols=[0, 1, 2, 3],\n",
    "        dtype={0: np.int32, 1: np.int32, 2: np.int32},\n",
    "        nrows=nrows,\n",
    "    )\n",
    "    data.columns = [\"UserId\", \"ItemId\", \"Rating\", \"Time\"]\n",
    "    return data\n",
    "\n",
    "\n",
    "data = load_data(train_path, None)\n",
    "data.sort_values([\"UserId\", \"Time\"], inplace=True)\n",
    "\n",
    "data_orig = data.copy()"
   ]
  },
  {
   "cell_type": "code",
   "execution_count": 3,
   "id": "707cd611",
   "metadata": {},
   "outputs": [
    {
     "data": {
      "text/plain": [
       "(6040, 3706)"
      ]
     },
     "execution_count": 3,
     "metadata": {},
     "output_type": "execute_result"
    },
    {
     "data": {
      "application/javascript": "\n            setTimeout(function() {\n                var nbb_cell_id = 4;\n                var nbb_unformatted_code = \"data[\\\"UserId\\\"].nunique(), data[\\\"ItemId\\\"].nunique()\";\n                var nbb_formatted_code = \"data[\\\"UserId\\\"].nunique(), data[\\\"ItemId\\\"].nunique()\";\n                var nbb_cells = Jupyter.notebook.get_cells();\n                for (var i = 0; i < nbb_cells.length; ++i) {\n                    if (nbb_cells[i].input_prompt_number == nbb_cell_id) {\n                        if (nbb_cells[i].get_text() == nbb_unformatted_code) {\n                             nbb_cells[i].set_text(nbb_formatted_code);\n                        }\n                        break;\n                    }\n                }\n            }, 500);\n            ",
      "text/plain": [
       "<IPython.core.display.Javascript object>"
      ]
     },
     "metadata": {},
     "output_type": "display_data"
    }
   ],
   "source": [
    "data[\"UserId\"].nunique(), data[\"ItemId\"].nunique()"
   ]
  },
  {
   "cell_type": "markdown",
   "id": "020d6cf6",
   "metadata": {},
   "source": [
    "사용자는 6040명, 영화는 3706개의 항목이 존재합니다."
   ]
  },
  {
   "cell_type": "markdown",
   "id": "dd19b21f",
   "metadata": {},
   "source": [
    "데이터셋에 세션 항목이 존재하지 않습니다. `UserId`와 `Time` 정보를 사용하여 새로운 `SessionId`를 부여하겠습니다.  \n",
    "동일 유저가 특정한 기간동안 기록한 활동을 하나의 세션으로 취급합니다.  \n",
    "우선 1시간을 기준으로 세션화를 진행합니다."
   ]
  },
  {
   "cell_type": "code",
   "execution_count": 4,
   "id": "944d482f",
   "metadata": {},
   "outputs": [
    {
     "data": {
      "text/html": [
       "<div>\n",
       "<style scoped>\n",
       "    .dataframe tbody tr th:only-of-type {\n",
       "        vertical-align: middle;\n",
       "    }\n",
       "\n",
       "    .dataframe tbody tr th {\n",
       "        vertical-align: top;\n",
       "    }\n",
       "\n",
       "    .dataframe thead th {\n",
       "        text-align: right;\n",
       "    }\n",
       "</style>\n",
       "<table border=\"1\" class=\"dataframe\">\n",
       "  <thead>\n",
       "    <tr style=\"text-align: right;\">\n",
       "      <th></th>\n",
       "      <th>UserId</th>\n",
       "      <th>ItemId</th>\n",
       "      <th>Rating</th>\n",
       "      <th>Time</th>\n",
       "      <th>TimeDisc</th>\n",
       "    </tr>\n",
       "  </thead>\n",
       "  <tbody>\n",
       "    <tr>\n",
       "      <th>31</th>\n",
       "      <td>1</td>\n",
       "      <td>3186</td>\n",
       "      <td>4</td>\n",
       "      <td>978300019</td>\n",
       "      <td>978300000</td>\n",
       "    </tr>\n",
       "    <tr>\n",
       "      <th>22</th>\n",
       "      <td>1</td>\n",
       "      <td>1270</td>\n",
       "      <td>5</td>\n",
       "      <td>978300055</td>\n",
       "      <td>978300000</td>\n",
       "    </tr>\n",
       "    <tr>\n",
       "      <th>27</th>\n",
       "      <td>1</td>\n",
       "      <td>1721</td>\n",
       "      <td>4</td>\n",
       "      <td>978300055</td>\n",
       "      <td>978300000</td>\n",
       "    </tr>\n",
       "    <tr>\n",
       "      <th>37</th>\n",
       "      <td>1</td>\n",
       "      <td>1022</td>\n",
       "      <td>5</td>\n",
       "      <td>978300055</td>\n",
       "      <td>978300000</td>\n",
       "    </tr>\n",
       "    <tr>\n",
       "      <th>24</th>\n",
       "      <td>1</td>\n",
       "      <td>2340</td>\n",
       "      <td>3</td>\n",
       "      <td>978300103</td>\n",
       "      <td>978300000</td>\n",
       "    </tr>\n",
       "    <tr>\n",
       "      <th>...</th>\n",
       "      <td>...</td>\n",
       "      <td>...</td>\n",
       "      <td>...</td>\n",
       "      <td>...</td>\n",
       "      <td>...</td>\n",
       "    </tr>\n",
       "    <tr>\n",
       "      <th>1000019</th>\n",
       "      <td>6040</td>\n",
       "      <td>2917</td>\n",
       "      <td>4</td>\n",
       "      <td>997454429</td>\n",
       "      <td>997452000</td>\n",
       "    </tr>\n",
       "    <tr>\n",
       "      <th>999988</th>\n",
       "      <td>6040</td>\n",
       "      <td>1921</td>\n",
       "      <td>4</td>\n",
       "      <td>997454464</td>\n",
       "      <td>997452000</td>\n",
       "    </tr>\n",
       "    <tr>\n",
       "      <th>1000172</th>\n",
       "      <td>6040</td>\n",
       "      <td>1784</td>\n",
       "      <td>3</td>\n",
       "      <td>997454464</td>\n",
       "      <td>997452000</td>\n",
       "    </tr>\n",
       "    <tr>\n",
       "      <th>1000167</th>\n",
       "      <td>6040</td>\n",
       "      <td>161</td>\n",
       "      <td>3</td>\n",
       "      <td>997454486</td>\n",
       "      <td>997452000</td>\n",
       "    </tr>\n",
       "    <tr>\n",
       "      <th>1000042</th>\n",
       "      <td>6040</td>\n",
       "      <td>1221</td>\n",
       "      <td>4</td>\n",
       "      <td>998315055</td>\n",
       "      <td>998312400</td>\n",
       "    </tr>\n",
       "  </tbody>\n",
       "</table>\n",
       "<p>1000209 rows × 5 columns</p>\n",
       "</div>"
      ],
      "text/plain": [
       "         UserId  ItemId  Rating       Time   TimeDisc\n",
       "31            1    3186       4  978300019  978300000\n",
       "22            1    1270       5  978300055  978300000\n",
       "27            1    1721       4  978300055  978300000\n",
       "37            1    1022       5  978300055  978300000\n",
       "24            1    2340       3  978300103  978300000\n",
       "...         ...     ...     ...        ...        ...\n",
       "1000019    6040    2917       4  997454429  997452000\n",
       "999988     6040    1921       4  997454464  997452000\n",
       "1000172    6040    1784       3  997454464  997452000\n",
       "1000167    6040     161       3  997454486  997452000\n",
       "1000042    6040    1221       4  998315055  998312400\n",
       "\n",
       "[1000209 rows x 5 columns]"
      ]
     },
     "execution_count": 4,
     "metadata": {},
     "output_type": "execute_result"
    },
    {
     "data": {
      "application/javascript": "\n            setTimeout(function() {\n                var nbb_cell_id = 5;\n                var nbb_unformatted_code = \"unit = 3600 * 1\\ndata[\\\"TimeDisc\\\"] = data[\\\"Time\\\"].floordiv(unit) * unit\\ndata\";\n                var nbb_formatted_code = \"unit = 3600 * 1\\ndata[\\\"TimeDisc\\\"] = data[\\\"Time\\\"].floordiv(unit) * unit\\ndata\";\n                var nbb_cells = Jupyter.notebook.get_cells();\n                for (var i = 0; i < nbb_cells.length; ++i) {\n                    if (nbb_cells[i].input_prompt_number == nbb_cell_id) {\n                        if (nbb_cells[i].get_text() == nbb_unformatted_code) {\n                             nbb_cells[i].set_text(nbb_formatted_code);\n                        }\n                        break;\n                    }\n                }\n            }, 500);\n            ",
      "text/plain": [
       "<IPython.core.display.Javascript object>"
      ]
     },
     "metadata": {},
     "output_type": "display_data"
    }
   ],
   "source": [
    "unit = 3600 * 1\n",
    "data[\"TimeDisc\"] = data[\"Time\"].floordiv(unit) * unit\n",
    "data"
   ]
  },
  {
   "cell_type": "code",
   "execution_count": 5,
   "id": "8ecd89d5",
   "metadata": {},
   "outputs": [
    {
     "data": {
      "text/html": [
       "<div>\n",
       "<style scoped>\n",
       "    .dataframe tbody tr th:only-of-type {\n",
       "        vertical-align: middle;\n",
       "    }\n",
       "\n",
       "    .dataframe tbody tr th {\n",
       "        vertical-align: top;\n",
       "    }\n",
       "\n",
       "    .dataframe thead th {\n",
       "        text-align: right;\n",
       "    }\n",
       "</style>\n",
       "<table border=\"1\" class=\"dataframe\">\n",
       "  <thead>\n",
       "    <tr style=\"text-align: right;\">\n",
       "      <th></th>\n",
       "      <th>UserId</th>\n",
       "      <th>TimeDisc</th>\n",
       "      <th>SessionId</th>\n",
       "    </tr>\n",
       "  </thead>\n",
       "  <tbody>\n",
       "    <tr>\n",
       "      <th>0</th>\n",
       "      <td>1</td>\n",
       "      <td>978300000</td>\n",
       "      <td>0</td>\n",
       "    </tr>\n",
       "    <tr>\n",
       "      <th>1</th>\n",
       "      <td>1</td>\n",
       "      <td>978822000</td>\n",
       "      <td>1</td>\n",
       "    </tr>\n",
       "    <tr>\n",
       "      <th>2</th>\n",
       "      <td>2</td>\n",
       "      <td>978296400</td>\n",
       "      <td>2</td>\n",
       "    </tr>\n",
       "    <tr>\n",
       "      <th>3</th>\n",
       "      <td>2</td>\n",
       "      <td>978300000</td>\n",
       "      <td>3</td>\n",
       "    </tr>\n",
       "    <tr>\n",
       "      <th>4</th>\n",
       "      <td>3</td>\n",
       "      <td>978296400</td>\n",
       "      <td>4</td>\n",
       "    </tr>\n",
       "    <tr>\n",
       "      <th>...</th>\n",
       "      <td>...</td>\n",
       "      <td>...</td>\n",
       "      <td>...</td>\n",
       "    </tr>\n",
       "    <tr>\n",
       "      <th>31964</th>\n",
       "      <td>6040</td>\n",
       "      <td>964825200</td>\n",
       "      <td>31964</td>\n",
       "    </tr>\n",
       "    <tr>\n",
       "      <th>31965</th>\n",
       "      <td>6040</td>\n",
       "      <td>964828800</td>\n",
       "      <td>31965</td>\n",
       "    </tr>\n",
       "    <tr>\n",
       "      <th>31966</th>\n",
       "      <td>6040</td>\n",
       "      <td>984193200</td>\n",
       "      <td>31966</td>\n",
       "    </tr>\n",
       "    <tr>\n",
       "      <th>31967</th>\n",
       "      <td>6040</td>\n",
       "      <td>997452000</td>\n",
       "      <td>31967</td>\n",
       "    </tr>\n",
       "    <tr>\n",
       "      <th>31968</th>\n",
       "      <td>6040</td>\n",
       "      <td>998312400</td>\n",
       "      <td>31968</td>\n",
       "    </tr>\n",
       "  </tbody>\n",
       "</table>\n",
       "<p>31969 rows × 3 columns</p>\n",
       "</div>"
      ],
      "text/plain": [
       "       UserId   TimeDisc  SessionId\n",
       "0           1  978300000          0\n",
       "1           1  978822000          1\n",
       "2           2  978296400          2\n",
       "3           2  978300000          3\n",
       "4           3  978296400          4\n",
       "...       ...        ...        ...\n",
       "31964    6040  964825200      31964\n",
       "31965    6040  964828800      31965\n",
       "31966    6040  984193200      31966\n",
       "31967    6040  997452000      31967\n",
       "31968    6040  998312400      31968\n",
       "\n",
       "[31969 rows x 3 columns]"
      ]
     },
     "execution_count": 5,
     "metadata": {},
     "output_type": "execute_result"
    },
    {
     "data": {
      "application/javascript": "\n            setTimeout(function() {\n                var nbb_cell_id = 6;\n                var nbb_unformatted_code = \"grp = data.groupby([\\\"UserId\\\", \\\"TimeDisc\\\"]).count().reset_index()\\ngrp[\\\"SessionId\\\"] = grp.index\\ngrp.drop([\\\"ItemId\\\", \\\"Rating\\\", \\\"Time\\\"], axis=1, inplace=True)\\ngrp\";\n                var nbb_formatted_code = \"grp = data.groupby([\\\"UserId\\\", \\\"TimeDisc\\\"]).count().reset_index()\\ngrp[\\\"SessionId\\\"] = grp.index\\ngrp.drop([\\\"ItemId\\\", \\\"Rating\\\", \\\"Time\\\"], axis=1, inplace=True)\\ngrp\";\n                var nbb_cells = Jupyter.notebook.get_cells();\n                for (var i = 0; i < nbb_cells.length; ++i) {\n                    if (nbb_cells[i].input_prompt_number == nbb_cell_id) {\n                        if (nbb_cells[i].get_text() == nbb_unformatted_code) {\n                             nbb_cells[i].set_text(nbb_formatted_code);\n                        }\n                        break;\n                    }\n                }\n            }, 500);\n            ",
      "text/plain": [
       "<IPython.core.display.Javascript object>"
      ]
     },
     "metadata": {},
     "output_type": "display_data"
    }
   ],
   "source": [
    "grp = data.groupby([\"UserId\", \"TimeDisc\"]).count().reset_index()\n",
    "grp[\"SessionId\"] = grp.index\n",
    "grp.drop([\"ItemId\", \"Rating\", \"Time\"], axis=1, inplace=True)\n",
    "grp"
   ]
  },
  {
   "cell_type": "code",
   "execution_count": 6,
   "id": "e23f1a50",
   "metadata": {
    "scrolled": false
   },
   "outputs": [
    {
     "data": {
      "text/html": [
       "<div>\n",
       "<style scoped>\n",
       "    .dataframe tbody tr th:only-of-type {\n",
       "        vertical-align: middle;\n",
       "    }\n",
       "\n",
       "    .dataframe tbody tr th {\n",
       "        vertical-align: top;\n",
       "    }\n",
       "\n",
       "    .dataframe thead th {\n",
       "        text-align: right;\n",
       "    }\n",
       "</style>\n",
       "<table border=\"1\" class=\"dataframe\">\n",
       "  <thead>\n",
       "    <tr style=\"text-align: right;\">\n",
       "      <th></th>\n",
       "      <th>UserId</th>\n",
       "      <th>ItemId</th>\n",
       "      <th>Rating</th>\n",
       "      <th>Time</th>\n",
       "      <th>TimeDisc</th>\n",
       "      <th>SessionId</th>\n",
       "    </tr>\n",
       "  </thead>\n",
       "  <tbody>\n",
       "    <tr>\n",
       "      <th>0</th>\n",
       "      <td>1</td>\n",
       "      <td>3186</td>\n",
       "      <td>4</td>\n",
       "      <td>978300019</td>\n",
       "      <td>978300000</td>\n",
       "      <td>0</td>\n",
       "    </tr>\n",
       "    <tr>\n",
       "      <th>1</th>\n",
       "      <td>1</td>\n",
       "      <td>1270</td>\n",
       "      <td>5</td>\n",
       "      <td>978300055</td>\n",
       "      <td>978300000</td>\n",
       "      <td>0</td>\n",
       "    </tr>\n",
       "    <tr>\n",
       "      <th>2</th>\n",
       "      <td>1</td>\n",
       "      <td>1721</td>\n",
       "      <td>4</td>\n",
       "      <td>978300055</td>\n",
       "      <td>978300000</td>\n",
       "      <td>0</td>\n",
       "    </tr>\n",
       "    <tr>\n",
       "      <th>3</th>\n",
       "      <td>1</td>\n",
       "      <td>1022</td>\n",
       "      <td>5</td>\n",
       "      <td>978300055</td>\n",
       "      <td>978300000</td>\n",
       "      <td>0</td>\n",
       "    </tr>\n",
       "    <tr>\n",
       "      <th>4</th>\n",
       "      <td>1</td>\n",
       "      <td>2340</td>\n",
       "      <td>3</td>\n",
       "      <td>978300103</td>\n",
       "      <td>978300000</td>\n",
       "      <td>0</td>\n",
       "    </tr>\n",
       "    <tr>\n",
       "      <th>...</th>\n",
       "      <td>...</td>\n",
       "      <td>...</td>\n",
       "      <td>...</td>\n",
       "      <td>...</td>\n",
       "      <td>...</td>\n",
       "      <td>...</td>\n",
       "    </tr>\n",
       "    <tr>\n",
       "      <th>1000204</th>\n",
       "      <td>6040</td>\n",
       "      <td>2917</td>\n",
       "      <td>4</td>\n",
       "      <td>997454429</td>\n",
       "      <td>997452000</td>\n",
       "      <td>31967</td>\n",
       "    </tr>\n",
       "    <tr>\n",
       "      <th>1000205</th>\n",
       "      <td>6040</td>\n",
       "      <td>1921</td>\n",
       "      <td>4</td>\n",
       "      <td>997454464</td>\n",
       "      <td>997452000</td>\n",
       "      <td>31967</td>\n",
       "    </tr>\n",
       "    <tr>\n",
       "      <th>1000206</th>\n",
       "      <td>6040</td>\n",
       "      <td>1784</td>\n",
       "      <td>3</td>\n",
       "      <td>997454464</td>\n",
       "      <td>997452000</td>\n",
       "      <td>31967</td>\n",
       "    </tr>\n",
       "    <tr>\n",
       "      <th>1000207</th>\n",
       "      <td>6040</td>\n",
       "      <td>161</td>\n",
       "      <td>3</td>\n",
       "      <td>997454486</td>\n",
       "      <td>997452000</td>\n",
       "      <td>31967</td>\n",
       "    </tr>\n",
       "    <tr>\n",
       "      <th>1000208</th>\n",
       "      <td>6040</td>\n",
       "      <td>1221</td>\n",
       "      <td>4</td>\n",
       "      <td>998315055</td>\n",
       "      <td>998312400</td>\n",
       "      <td>31968</td>\n",
       "    </tr>\n",
       "  </tbody>\n",
       "</table>\n",
       "<p>1000209 rows × 6 columns</p>\n",
       "</div>"
      ],
      "text/plain": [
       "         UserId  ItemId  Rating       Time   TimeDisc  SessionId\n",
       "0             1    3186       4  978300019  978300000          0\n",
       "1             1    1270       5  978300055  978300000          0\n",
       "2             1    1721       4  978300055  978300000          0\n",
       "3             1    1022       5  978300055  978300000          0\n",
       "4             1    2340       3  978300103  978300000          0\n",
       "...         ...     ...     ...        ...        ...        ...\n",
       "1000204    6040    2917       4  997454429  997452000      31967\n",
       "1000205    6040    1921       4  997454464  997452000      31967\n",
       "1000206    6040    1784       3  997454464  997452000      31967\n",
       "1000207    6040     161       3  997454486  997452000      31967\n",
       "1000208    6040    1221       4  998315055  998312400      31968\n",
       "\n",
       "[1000209 rows x 6 columns]"
      ]
     },
     "execution_count": 6,
     "metadata": {},
     "output_type": "execute_result"
    },
    {
     "data": {
      "application/javascript": "\n            setTimeout(function() {\n                var nbb_cell_id = 7;\n                var nbb_unformatted_code = \"data_merge = pd.merge(data, grp)\\ndata_merge\";\n                var nbb_formatted_code = \"data_merge = pd.merge(data, grp)\\ndata_merge\";\n                var nbb_cells = Jupyter.notebook.get_cells();\n                for (var i = 0; i < nbb_cells.length; ++i) {\n                    if (nbb_cells[i].input_prompt_number == nbb_cell_id) {\n                        if (nbb_cells[i].get_text() == nbb_unformatted_code) {\n                             nbb_cells[i].set_text(nbb_formatted_code);\n                        }\n                        break;\n                    }\n                }\n            }, 500);\n            ",
      "text/plain": [
       "<IPython.core.display.Javascript object>"
      ]
     },
     "metadata": {},
     "output_type": "display_data"
    }
   ],
   "source": [
    "data_merge = pd.merge(data, grp)\n",
    "data_merge"
   ]
  },
  {
   "cell_type": "code",
   "execution_count": 7,
   "id": "525852eb",
   "metadata": {},
   "outputs": [
    {
     "data": {
      "text/html": [
       "<div>\n",
       "<style scoped>\n",
       "    .dataframe tbody tr th:only-of-type {\n",
       "        vertical-align: middle;\n",
       "    }\n",
       "\n",
       "    .dataframe tbody tr th {\n",
       "        vertical-align: top;\n",
       "    }\n",
       "\n",
       "    .dataframe thead th {\n",
       "        text-align: right;\n",
       "    }\n",
       "</style>\n",
       "<table border=\"1\" class=\"dataframe\">\n",
       "  <thead>\n",
       "    <tr style=\"text-align: right;\">\n",
       "      <th></th>\n",
       "      <th>UserId</th>\n",
       "      <th>ItemId</th>\n",
       "      <th>Rating</th>\n",
       "      <th>Time</th>\n",
       "      <th>SessionId</th>\n",
       "    </tr>\n",
       "  </thead>\n",
       "  <tbody>\n",
       "    <tr>\n",
       "      <th>0</th>\n",
       "      <td>1</td>\n",
       "      <td>3186</td>\n",
       "      <td>4</td>\n",
       "      <td>978300019</td>\n",
       "      <td>0</td>\n",
       "    </tr>\n",
       "    <tr>\n",
       "      <th>1</th>\n",
       "      <td>1</td>\n",
       "      <td>1270</td>\n",
       "      <td>5</td>\n",
       "      <td>978300055</td>\n",
       "      <td>0</td>\n",
       "    </tr>\n",
       "    <tr>\n",
       "      <th>2</th>\n",
       "      <td>1</td>\n",
       "      <td>1721</td>\n",
       "      <td>4</td>\n",
       "      <td>978300055</td>\n",
       "      <td>0</td>\n",
       "    </tr>\n",
       "    <tr>\n",
       "      <th>3</th>\n",
       "      <td>1</td>\n",
       "      <td>1022</td>\n",
       "      <td>5</td>\n",
       "      <td>978300055</td>\n",
       "      <td>0</td>\n",
       "    </tr>\n",
       "    <tr>\n",
       "      <th>4</th>\n",
       "      <td>1</td>\n",
       "      <td>2340</td>\n",
       "      <td>3</td>\n",
       "      <td>978300103</td>\n",
       "      <td>0</td>\n",
       "    </tr>\n",
       "    <tr>\n",
       "      <th>...</th>\n",
       "      <td>...</td>\n",
       "      <td>...</td>\n",
       "      <td>...</td>\n",
       "      <td>...</td>\n",
       "      <td>...</td>\n",
       "    </tr>\n",
       "    <tr>\n",
       "      <th>1000204</th>\n",
       "      <td>6040</td>\n",
       "      <td>2917</td>\n",
       "      <td>4</td>\n",
       "      <td>997454429</td>\n",
       "      <td>31967</td>\n",
       "    </tr>\n",
       "    <tr>\n",
       "      <th>1000205</th>\n",
       "      <td>6040</td>\n",
       "      <td>1921</td>\n",
       "      <td>4</td>\n",
       "      <td>997454464</td>\n",
       "      <td>31967</td>\n",
       "    </tr>\n",
       "    <tr>\n",
       "      <th>1000206</th>\n",
       "      <td>6040</td>\n",
       "      <td>1784</td>\n",
       "      <td>3</td>\n",
       "      <td>997454464</td>\n",
       "      <td>31967</td>\n",
       "    </tr>\n",
       "    <tr>\n",
       "      <th>1000207</th>\n",
       "      <td>6040</td>\n",
       "      <td>161</td>\n",
       "      <td>3</td>\n",
       "      <td>997454486</td>\n",
       "      <td>31967</td>\n",
       "    </tr>\n",
       "    <tr>\n",
       "      <th>1000208</th>\n",
       "      <td>6040</td>\n",
       "      <td>1221</td>\n",
       "      <td>4</td>\n",
       "      <td>998315055</td>\n",
       "      <td>31968</td>\n",
       "    </tr>\n",
       "  </tbody>\n",
       "</table>\n",
       "<p>1000209 rows × 5 columns</p>\n",
       "</div>"
      ],
      "text/plain": [
       "         UserId  ItemId  Rating       Time  SessionId\n",
       "0             1    3186       4  978300019          0\n",
       "1             1    1270       5  978300055          0\n",
       "2             1    1721       4  978300055          0\n",
       "3             1    1022       5  978300055          0\n",
       "4             1    2340       3  978300103          0\n",
       "...         ...     ...     ...        ...        ...\n",
       "1000204    6040    2917       4  997454429      31967\n",
       "1000205    6040    1921       4  997454464      31967\n",
       "1000206    6040    1784       3  997454464      31967\n",
       "1000207    6040     161       3  997454486      31967\n",
       "1000208    6040    1221       4  998315055      31968\n",
       "\n",
       "[1000209 rows x 5 columns]"
      ]
     },
     "execution_count": 7,
     "metadata": {},
     "output_type": "execute_result"
    },
    {
     "data": {
      "application/javascript": "\n            setTimeout(function() {\n                var nbb_cell_id = 8;\n                var nbb_unformatted_code = \"data = data_merge.drop([\\\"TimeDisc\\\"], axis=1)\\ndata\";\n                var nbb_formatted_code = \"data = data_merge.drop([\\\"TimeDisc\\\"], axis=1)\\ndata\";\n                var nbb_cells = Jupyter.notebook.get_cells();\n                for (var i = 0; i < nbb_cells.length; ++i) {\n                    if (nbb_cells[i].input_prompt_number == nbb_cell_id) {\n                        if (nbb_cells[i].get_text() == nbb_unformatted_code) {\n                             nbb_cells[i].set_text(nbb_formatted_code);\n                        }\n                        break;\n                    }\n                }\n            }, 500);\n            ",
      "text/plain": [
       "<IPython.core.display.Javascript object>"
      ]
     },
     "metadata": {},
     "output_type": "display_data"
    }
   ],
   "source": [
    "data = data_merge.drop([\"TimeDisc\"], axis=1)\n",
    "data"
   ]
  },
  {
   "cell_type": "code",
   "execution_count": 8,
   "id": "870020f4",
   "metadata": {},
   "outputs": [
    {
     "data": {
      "text/plain": [
       "SessionId\n",
       "0         40\n",
       "1         13\n",
       "2        109\n",
       "3         20\n",
       "4         51\n",
       "        ... \n",
       "31964     13\n",
       "31965      1\n",
       "31966      1\n",
       "31967     21\n",
       "31968      1\n",
       "Length: 31969, dtype: int64"
      ]
     },
     "execution_count": 8,
     "metadata": {},
     "output_type": "execute_result"
    },
    {
     "data": {
      "application/javascript": "\n            setTimeout(function() {\n                var nbb_cell_id = 9;\n                var nbb_unformatted_code = \"session_length = data.groupby(\\\"SessionId\\\").size()\\nsession_length\";\n                var nbb_formatted_code = \"session_length = data.groupby(\\\"SessionId\\\").size()\\nsession_length\";\n                var nbb_cells = Jupyter.notebook.get_cells();\n                for (var i = 0; i < nbb_cells.length; ++i) {\n                    if (nbb_cells[i].input_prompt_number == nbb_cell_id) {\n                        if (nbb_cells[i].get_text() == nbb_unformatted_code) {\n                             nbb_cells[i].set_text(nbb_formatted_code);\n                        }\n                        break;\n                    }\n                }\n            }, 500);\n            ",
      "text/plain": [
       "<IPython.core.display.Javascript object>"
      ]
     },
     "metadata": {},
     "output_type": "display_data"
    }
   ],
   "source": [
    "session_length = data.groupby(\"SessionId\").size()\n",
    "session_length"
   ]
  },
  {
   "cell_type": "markdown",
   "id": "db11ca4b",
   "metadata": {},
   "source": [
    "세션에 대한 통계를 확인합니다."
   ]
  },
  {
   "cell_type": "code",
   "execution_count": 9,
   "id": "dadd5d10",
   "metadata": {},
   "outputs": [
    {
     "data": {
      "text/plain": [
       "(8.0, 31.286840376614844)"
      ]
     },
     "execution_count": 9,
     "metadata": {},
     "output_type": "execute_result"
    },
    {
     "data": {
      "application/javascript": "\n            setTimeout(function() {\n                var nbb_cell_id = 10;\n                var nbb_unformatted_code = \"session_length.median(), session_length.mean()\";\n                var nbb_formatted_code = \"session_length.median(), session_length.mean()\";\n                var nbb_cells = Jupyter.notebook.get_cells();\n                for (var i = 0; i < nbb_cells.length; ++i) {\n                    if (nbb_cells[i].input_prompt_number == nbb_cell_id) {\n                        if (nbb_cells[i].get_text() == nbb_unformatted_code) {\n                             nbb_cells[i].set_text(nbb_formatted_code);\n                        }\n                        break;\n                    }\n                }\n            }, 500);\n            ",
      "text/plain": [
       "<IPython.core.display.Javascript object>"
      ]
     },
     "metadata": {},
     "output_type": "display_data"
    }
   ],
   "source": [
    "session_length.median(), session_length.mean()"
   ]
  },
  {
   "cell_type": "code",
   "execution_count": 10,
   "id": "16dc5546",
   "metadata": {},
   "outputs": [
    {
     "data": {
      "text/plain": [
       "(1, 711)"
      ]
     },
     "execution_count": 10,
     "metadata": {},
     "output_type": "execute_result"
    },
    {
     "data": {
      "application/javascript": "\n            setTimeout(function() {\n                var nbb_cell_id = 11;\n                var nbb_unformatted_code = \"session_length.min(), session_length.max()\";\n                var nbb_formatted_code = \"session_length.min(), session_length.max()\";\n                var nbb_cells = Jupyter.notebook.get_cells();\n                for (var i = 0; i < nbb_cells.length; ++i) {\n                    if (nbb_cells[i].input_prompt_number == nbb_cell_id) {\n                        if (nbb_cells[i].get_text() == nbb_unformatted_code) {\n                             nbb_cells[i].set_text(nbb_formatted_code);\n                        }\n                        break;\n                    }\n                }\n            }, 500);\n            ",
      "text/plain": [
       "<IPython.core.display.Javascript object>"
      ]
     },
     "metadata": {},
     "output_type": "display_data"
    }
   ],
   "source": [
    "session_length.min(), session_length.max()"
   ]
  },
  {
   "cell_type": "code",
   "execution_count": 11,
   "id": "85338f23",
   "metadata": {
    "scrolled": true
   },
   "outputs": [
    {
     "data": {
      "text/plain": [
       "1      0.237480\n",
       "2      0.329663\n",
       "3      0.378742\n",
       "4      0.413056\n",
       "5      0.445400\n",
       "         ...   \n",
       "389    0.998874\n",
       "391    0.998905\n",
       "392    0.998936\n",
       "395    0.998968\n",
       "401    0.998999\n",
       "Length: 359, dtype: float64"
      ]
     },
     "execution_count": 11,
     "metadata": {},
     "output_type": "execute_result"
    },
    {
     "data": {
      "application/javascript": "\n            setTimeout(function() {\n                var nbb_cell_id = 12;\n                var nbb_unformatted_code = \"length_count = session_length.groupby(session_length).size()\\nlength_percent_cumsum = length_count.cumsum() / length_count.sum()\\nlength_percent_cumsum_999 = length_percent_cumsum[length_percent_cumsum < 0.999]\\n\\nlength_percent_cumsum_999\";\n                var nbb_formatted_code = \"length_count = session_length.groupby(session_length).size()\\nlength_percent_cumsum = length_count.cumsum() / length_count.sum()\\nlength_percent_cumsum_999 = length_percent_cumsum[length_percent_cumsum < 0.999]\\n\\nlength_percent_cumsum_999\";\n                var nbb_cells = Jupyter.notebook.get_cells();\n                for (var i = 0; i < nbb_cells.length; ++i) {\n                    if (nbb_cells[i].input_prompt_number == nbb_cell_id) {\n                        if (nbb_cells[i].get_text() == nbb_unformatted_code) {\n                             nbb_cells[i].set_text(nbb_formatted_code);\n                        }\n                        break;\n                    }\n                }\n            }, 500);\n            ",
      "text/plain": [
       "<IPython.core.display.Javascript object>"
      ]
     },
     "metadata": {},
     "output_type": "display_data"
    }
   ],
   "source": [
    "length_count = session_length.groupby(session_length).size()\n",
    "length_percent_cumsum = length_count.cumsum() / length_count.sum()\n",
    "length_percent_cumsum_999 = length_percent_cumsum[length_percent_cumsum < 0.999]\n",
    "\n",
    "length_percent_cumsum_999"
   ]
  },
  {
   "cell_type": "markdown",
   "id": "15e64470",
   "metadata": {},
   "source": [
    "길이가 3 이하인 세션이 전체 세션의 약 38% 입니다."
   ]
  },
  {
   "cell_type": "markdown",
   "id": "c3fbb59f",
   "metadata": {},
   "source": [
    "1시간이 아닌 0.5시간(30분) 또는 2시간을 기준으로 세션화를 진행하면 결과가 어떻게 변화하는지 확인합니다."
   ]
  },
  {
   "cell_type": "code",
   "execution_count": 12,
   "id": "3e9d9b48",
   "metadata": {},
   "outputs": [
    {
     "data": {
      "text/plain": [
       "1      0.218633\n",
       "2      0.305704\n",
       "3      0.354733\n",
       "4      0.392162\n",
       "5      0.425971\n",
       "         ...   \n",
       "241    0.998725\n",
       "243    0.998776\n",
       "244    0.998827\n",
       "245    0.998929\n",
       "246    0.998980\n",
       "Length: 242, dtype: float64"
      ]
     },
     "execution_count": 12,
     "metadata": {},
     "output_type": "execute_result"
    },
    {
     "data": {
      "application/javascript": "\n            setTimeout(function() {\n                var nbb_cell_id = 13;\n                var nbb_unformatted_code = \"data = data_orig.copy()\\nunit = 3600 * 0.5\\ndata[\\\"TimeDisc\\\"] = data[\\\"Time\\\"].floordiv(unit) * unit\\ngrp = data.groupby([\\\"UserId\\\", \\\"TimeDisc\\\"]).count().reset_index()\\ngrp[\\\"SessionId\\\"] = grp.index\\ngrp.drop([\\\"ItemId\\\", \\\"Rating\\\", \\\"Time\\\"], axis=1, inplace=True)\\ndata_merge = pd.merge(data, grp)\\ndata = data_merge.drop([\\\"TimeDisc\\\"], axis=1)\\nsession_length = data.groupby(\\\"SessionId\\\").size()\\nlength_count = session_length.groupby(session_length).size()\\nlength_percent_cumsum = length_count.cumsum() / length_count.sum()\\nlength_percent_cumsum_999 = length_percent_cumsum[length_percent_cumsum < 0.999]\\n\\nlength_percent_cumsum_999\";\n                var nbb_formatted_code = \"data = data_orig.copy()\\nunit = 3600 * 0.5\\ndata[\\\"TimeDisc\\\"] = data[\\\"Time\\\"].floordiv(unit) * unit\\ngrp = data.groupby([\\\"UserId\\\", \\\"TimeDisc\\\"]).count().reset_index()\\ngrp[\\\"SessionId\\\"] = grp.index\\ngrp.drop([\\\"ItemId\\\", \\\"Rating\\\", \\\"Time\\\"], axis=1, inplace=True)\\ndata_merge = pd.merge(data, grp)\\ndata = data_merge.drop([\\\"TimeDisc\\\"], axis=1)\\nsession_length = data.groupby(\\\"SessionId\\\").size()\\nlength_count = session_length.groupby(session_length).size()\\nlength_percent_cumsum = length_count.cumsum() / length_count.sum()\\nlength_percent_cumsum_999 = length_percent_cumsum[length_percent_cumsum < 0.999]\\n\\nlength_percent_cumsum_999\";\n                var nbb_cells = Jupyter.notebook.get_cells();\n                for (var i = 0; i < nbb_cells.length; ++i) {\n                    if (nbb_cells[i].input_prompt_number == nbb_cell_id) {\n                        if (nbb_cells[i].get_text() == nbb_unformatted_code) {\n                             nbb_cells[i].set_text(nbb_formatted_code);\n                        }\n                        break;\n                    }\n                }\n            }, 500);\n            ",
      "text/plain": [
       "<IPython.core.display.Javascript object>"
      ]
     },
     "metadata": {},
     "output_type": "display_data"
    }
   ],
   "source": [
    "data = data_orig.copy()\n",
    "unit = 3600 * 0.5\n",
    "data[\"TimeDisc\"] = data[\"Time\"].floordiv(unit) * unit\n",
    "grp = data.groupby([\"UserId\", \"TimeDisc\"]).count().reset_index()\n",
    "grp[\"SessionId\"] = grp.index\n",
    "grp.drop([\"ItemId\", \"Rating\", \"Time\"], axis=1, inplace=True)\n",
    "data_merge = pd.merge(data, grp)\n",
    "data = data_merge.drop([\"TimeDisc\"], axis=1)\n",
    "session_length = data.groupby(\"SessionId\").size()\n",
    "length_count = session_length.groupby(session_length).size()\n",
    "length_percent_cumsum = length_count.cumsum() / length_count.sum()\n",
    "length_percent_cumsum_999 = length_percent_cumsum[length_percent_cumsum < 0.999]\n",
    "\n",
    "length_percent_cumsum_999"
   ]
  },
  {
   "cell_type": "code",
   "execution_count": 13,
   "id": "9ed6ae11",
   "metadata": {},
   "outputs": [
    {
     "data": {
      "text/plain": [
       "1      0.252293\n",
       "2      0.348250\n",
       "3      0.397209\n",
       "4      0.430361\n",
       "5      0.459551\n",
       "         ...   \n",
       "525    0.998787\n",
       "528    0.998822\n",
       "532    0.998858\n",
       "536    0.998894\n",
       "537    0.998965\n",
       "Length: 443, dtype: float64"
      ]
     },
     "execution_count": 13,
     "metadata": {},
     "output_type": "execute_result"
    },
    {
     "data": {
      "application/javascript": "\n            setTimeout(function() {\n                var nbb_cell_id = 14;\n                var nbb_unformatted_code = \"data = data_orig.copy()\\nunit = 3600 * 2\\ndata[\\\"TimeDisc\\\"] = data[\\\"Time\\\"].floordiv(unit) * unit\\ngrp = data.groupby([\\\"UserId\\\", \\\"TimeDisc\\\"]).count().reset_index()\\ngrp[\\\"SessionId\\\"] = grp.index\\ngrp.drop([\\\"ItemId\\\", \\\"Rating\\\", \\\"Time\\\"], axis=1, inplace=True)\\ndata_merge = pd.merge(data, grp)\\ndata = data_merge.drop([\\\"TimeDisc\\\"], axis=1)\\nsession_length = data.groupby(\\\"SessionId\\\").size()\\nlength_count = session_length.groupby(session_length).size()\\nlength_percent_cumsum = length_count.cumsum() / length_count.sum()\\nlength_percent_cumsum_999 = length_percent_cumsum[length_percent_cumsum < 0.999]\\n\\nlength_percent_cumsum_999\";\n                var nbb_formatted_code = \"data = data_orig.copy()\\nunit = 3600 * 2\\ndata[\\\"TimeDisc\\\"] = data[\\\"Time\\\"].floordiv(unit) * unit\\ngrp = data.groupby([\\\"UserId\\\", \\\"TimeDisc\\\"]).count().reset_index()\\ngrp[\\\"SessionId\\\"] = grp.index\\ngrp.drop([\\\"ItemId\\\", \\\"Rating\\\", \\\"Time\\\"], axis=1, inplace=True)\\ndata_merge = pd.merge(data, grp)\\ndata = data_merge.drop([\\\"TimeDisc\\\"], axis=1)\\nsession_length = data.groupby(\\\"SessionId\\\").size()\\nlength_count = session_length.groupby(session_length).size()\\nlength_percent_cumsum = length_count.cumsum() / length_count.sum()\\nlength_percent_cumsum_999 = length_percent_cumsum[length_percent_cumsum < 0.999]\\n\\nlength_percent_cumsum_999\";\n                var nbb_cells = Jupyter.notebook.get_cells();\n                for (var i = 0; i < nbb_cells.length; ++i) {\n                    if (nbb_cells[i].input_prompt_number == nbb_cell_id) {\n                        if (nbb_cells[i].get_text() == nbb_unformatted_code) {\n                             nbb_cells[i].set_text(nbb_formatted_code);\n                        }\n                        break;\n                    }\n                }\n            }, 500);\n            ",
      "text/plain": [
       "<IPython.core.display.Javascript object>"
      ]
     },
     "metadata": {},
     "output_type": "display_data"
    }
   ],
   "source": [
    "data = data_orig.copy()\n",
    "unit = 3600 * 2\n",
    "data[\"TimeDisc\"] = data[\"Time\"].floordiv(unit) * unit\n",
    "grp = data.groupby([\"UserId\", \"TimeDisc\"]).count().reset_index()\n",
    "grp[\"SessionId\"] = grp.index\n",
    "grp.drop([\"ItemId\", \"Rating\", \"Time\"], axis=1, inplace=True)\n",
    "data_merge = pd.merge(data, grp)\n",
    "data = data_merge.drop([\"TimeDisc\"], axis=1)\n",
    "session_length = data.groupby(\"SessionId\").size()\n",
    "length_count = session_length.groupby(session_length).size()\n",
    "length_percent_cumsum = length_count.cumsum() / length_count.sum()\n",
    "length_percent_cumsum_999 = length_percent_cumsum[length_percent_cumsum < 0.999]\n",
    "\n",
    "length_percent_cumsum_999"
   ]
  },
  {
   "cell_type": "markdown",
   "id": "9d7a3832",
   "metadata": {},
   "source": [
    "0.5시간, 1시간, 2시간으로 세션화를 진행한 결과 세션의 길이가 3 이하인 경우는 40% 이하입니다."
   ]
  },
  {
   "cell_type": "code",
   "execution_count": 14,
   "id": "9e33d42c",
   "metadata": {},
   "outputs": [
    {
     "data": {
      "application/javascript": "\n            setTimeout(function() {\n                var nbb_cell_id = 51;\n                var nbb_unformatted_code = \"data = data_orig.copy()\\nunit = 3600 * 1\\ndata[\\\"TimeDisc\\\"] = data[\\\"Time\\\"].floordiv(unit) * unit\\ngrp = data.groupby([\\\"UserId\\\", \\\"TimeDisc\\\"]).count().reset_index()\\ngrp[\\\"SessionId\\\"] = grp.index\\ngrp.drop([\\\"ItemId\\\", \\\"Rating\\\", \\\"Time\\\"], axis=1, inplace=True)\\ndata_merge = pd.merge(data, grp)\\ndata = data_merge.drop([\\\"TimeDisc\\\"], axis=1)\";\n                var nbb_formatted_code = \"data = data_orig.copy()\\nunit = 3600 * 1\\ndata[\\\"TimeDisc\\\"] = data[\\\"Time\\\"].floordiv(unit) * unit\\ngrp = data.groupby([\\\"UserId\\\", \\\"TimeDisc\\\"]).count().reset_index()\\ngrp[\\\"SessionId\\\"] = grp.index\\ngrp.drop([\\\"ItemId\\\", \\\"Rating\\\", \\\"Time\\\"], axis=1, inplace=True)\\ndata_merge = pd.merge(data, grp)\\ndata = data_merge.drop([\\\"TimeDisc\\\"], axis=1)\";\n                var nbb_cells = Jupyter.notebook.get_cells();\n                for (var i = 0; i < nbb_cells.length; ++i) {\n                    if (nbb_cells[i].input_prompt_number == nbb_cell_id) {\n                        if (nbb_cells[i].get_text() == nbb_unformatted_code) {\n                             nbb_cells[i].set_text(nbb_formatted_code);\n                        }\n                        break;\n                    }\n                }\n            }, 500);\n            ",
      "text/plain": [
       "<IPython.core.display.Javascript object>"
      ]
     },
     "metadata": {},
     "output_type": "display_data"
    }
   ],
   "source": [
    "data = data_orig.copy()\n",
    "unit = 3600 * 1\n",
    "data[\"TimeDisc\"] = data[\"Time\"].floordiv(unit) * unit\n",
    "grp = data.groupby([\"UserId\", \"TimeDisc\"]).count().reset_index()\n",
    "grp[\"SessionId\"] = grp.index\n",
    "grp.drop([\"ItemId\", \"Rating\", \"Time\"], axis=1, inplace=True)\n",
    "data_merge = pd.merge(data, grp)\n",
    "data = data_merge.drop([\"TimeDisc\"], axis=1)"
   ]
  },
  {
   "cell_type": "markdown",
   "id": "17710fc1",
   "metadata": {},
   "source": [
    "추천하기에 적절하지 않은 항목들을 제외합니다.\n",
    "- `Rating`을 1 또는 2 를 주었다는 것은 영화에 대한 흥미가 떨어진다는 것으로 추천을 하지 않는 것이 좋기에 데이터셋에서 제외합니다.\n",
    "- 평가가 10번 이하로 이루어진 영화는 인기가 없는 영화일 확률이 높기에 제외합니다\n",
    "- 세션의 길이가 3 미만인 데이터는 제외합니다."
   ]
  },
  {
   "cell_type": "code",
   "execution_count": 15,
   "id": "d3b7b711",
   "metadata": {},
   "outputs": [
    {
     "data": {
      "text/html": [
       "<div>\n",
       "<style scoped>\n",
       "    .dataframe tbody tr th:only-of-type {\n",
       "        vertical-align: middle;\n",
       "    }\n",
       "\n",
       "    .dataframe tbody tr th {\n",
       "        vertical-align: top;\n",
       "    }\n",
       "\n",
       "    .dataframe thead th {\n",
       "        text-align: right;\n",
       "    }\n",
       "</style>\n",
       "<table border=\"1\" class=\"dataframe\">\n",
       "  <thead>\n",
       "    <tr style=\"text-align: right;\">\n",
       "      <th></th>\n",
       "      <th>UserId</th>\n",
       "      <th>ItemId</th>\n",
       "      <th>Rating</th>\n",
       "      <th>Time</th>\n",
       "      <th>SessionId</th>\n",
       "    </tr>\n",
       "  </thead>\n",
       "  <tbody>\n",
       "    <tr>\n",
       "      <th>0</th>\n",
       "      <td>1</td>\n",
       "      <td>3186</td>\n",
       "      <td>4</td>\n",
       "      <td>978300019</td>\n",
       "      <td>0</td>\n",
       "    </tr>\n",
       "    <tr>\n",
       "      <th>1</th>\n",
       "      <td>1</td>\n",
       "      <td>1270</td>\n",
       "      <td>5</td>\n",
       "      <td>978300055</td>\n",
       "      <td>0</td>\n",
       "    </tr>\n",
       "    <tr>\n",
       "      <th>2</th>\n",
       "      <td>1</td>\n",
       "      <td>1721</td>\n",
       "      <td>4</td>\n",
       "      <td>978300055</td>\n",
       "      <td>0</td>\n",
       "    </tr>\n",
       "    <tr>\n",
       "      <th>3</th>\n",
       "      <td>1</td>\n",
       "      <td>1022</td>\n",
       "      <td>5</td>\n",
       "      <td>978300055</td>\n",
       "      <td>0</td>\n",
       "    </tr>\n",
       "    <tr>\n",
       "      <th>4</th>\n",
       "      <td>1</td>\n",
       "      <td>2340</td>\n",
       "      <td>3</td>\n",
       "      <td>978300103</td>\n",
       "      <td>0</td>\n",
       "    </tr>\n",
       "    <tr>\n",
       "      <th>...</th>\n",
       "      <td>...</td>\n",
       "      <td>...</td>\n",
       "      <td>...</td>\n",
       "      <td>...</td>\n",
       "      <td>...</td>\n",
       "    </tr>\n",
       "    <tr>\n",
       "      <th>1000204</th>\n",
       "      <td>6040</td>\n",
       "      <td>2917</td>\n",
       "      <td>4</td>\n",
       "      <td>997454429</td>\n",
       "      <td>28021</td>\n",
       "    </tr>\n",
       "    <tr>\n",
       "      <th>1000205</th>\n",
       "      <td>6040</td>\n",
       "      <td>1921</td>\n",
       "      <td>4</td>\n",
       "      <td>997454464</td>\n",
       "      <td>28021</td>\n",
       "    </tr>\n",
       "    <tr>\n",
       "      <th>1000206</th>\n",
       "      <td>6040</td>\n",
       "      <td>1784</td>\n",
       "      <td>3</td>\n",
       "      <td>997454464</td>\n",
       "      <td>28021</td>\n",
       "    </tr>\n",
       "    <tr>\n",
       "      <th>1000207</th>\n",
       "      <td>6040</td>\n",
       "      <td>161</td>\n",
       "      <td>3</td>\n",
       "      <td>997454486</td>\n",
       "      <td>28021</td>\n",
       "    </tr>\n",
       "    <tr>\n",
       "      <th>1000208</th>\n",
       "      <td>6040</td>\n",
       "      <td>1221</td>\n",
       "      <td>4</td>\n",
       "      <td>998315055</td>\n",
       "      <td>28022</td>\n",
       "    </tr>\n",
       "  </tbody>\n",
       "</table>\n",
       "<p>836478 rows × 5 columns</p>\n",
       "</div>"
      ],
      "text/plain": [
       "         UserId  ItemId  Rating       Time  SessionId\n",
       "0             1    3186       4  978300019          0\n",
       "1             1    1270       5  978300055          0\n",
       "2             1    1721       4  978300055          0\n",
       "3             1    1022       5  978300055          0\n",
       "4             1    2340       3  978300103          0\n",
       "...         ...     ...     ...        ...        ...\n",
       "1000204    6040    2917       4  997454429      28021\n",
       "1000205    6040    1921       4  997454464      28021\n",
       "1000206    6040    1784       3  997454464      28021\n",
       "1000207    6040     161       3  997454486      28021\n",
       "1000208    6040    1221       4  998315055      28022\n",
       "\n",
       "[836478 rows x 5 columns]"
      ]
     },
     "execution_count": 15,
     "metadata": {},
     "output_type": "execute_result"
    },
    {
     "data": {
      "application/javascript": "\n            setTimeout(function() {\n                var nbb_cell_id = 15;\n                var nbb_unformatted_code = \"data.drop(data[data.Rating < 3].index, inplace=True)\\ndata\";\n                var nbb_formatted_code = \"data.drop(data[data.Rating < 3].index, inplace=True)\\ndata\";\n                var nbb_cells = Jupyter.notebook.get_cells();\n                for (var i = 0; i < nbb_cells.length; ++i) {\n                    if (nbb_cells[i].input_prompt_number == nbb_cell_id) {\n                        if (nbb_cells[i].get_text() == nbb_unformatted_code) {\n                             nbb_cells[i].set_text(nbb_formatted_code);\n                        }\n                        break;\n                    }\n                }\n            }, 500);\n            ",
      "text/plain": [
       "<IPython.core.display.Javascript object>"
      ]
     },
     "metadata": {},
     "output_type": "display_data"
    }
   ],
   "source": [
    "data.drop(data[data.Rating < 3].index, inplace=True)\n",
    "data"
   ]
  },
  {
   "cell_type": "code",
   "execution_count": 16,
   "id": "a86ae868",
   "metadata": {},
   "outputs": [
    {
     "data": {
      "application/javascript": "\n            setTimeout(function() {\n                var nbb_cell_id = 16;\n                var nbb_unformatted_code = \"def cleanse_recursive(data: pd.DataFrame, shortest, least_click) -> pd.DataFrame:\\n    while True:\\n        before_len = len(data)\\n        data = cleanse_short_session(data, shortest)\\n        data = cleanse_unpopular_item(data, least_click)\\n        after_len = len(data)\\n        if before_len == after_len:\\n            break\\n    return data\\n\\n\\ndef cleanse_short_session(data: pd.DataFrame, shortest):\\n    session_len = data.groupby(\\\"SessionId\\\").size()\\n    session_use = session_len[session_len >= shortest].index\\n    data = data[data[\\\"SessionId\\\"].isin(session_use)]\\n    return data\\n\\n\\ndef cleanse_unpopular_item(data: pd.DataFrame, least_click):\\n    item_popular = data.groupby(\\\"ItemId\\\").size()\\n    item_use = item_popular[item_popular >= least_click].index\\n    data = data[data[\\\"ItemId\\\"].isin(item_use)]\\n    return data\";\n                var nbb_formatted_code = \"def cleanse_recursive(data: pd.DataFrame, shortest, least_click) -> pd.DataFrame:\\n    while True:\\n        before_len = len(data)\\n        data = cleanse_short_session(data, shortest)\\n        data = cleanse_unpopular_item(data, least_click)\\n        after_len = len(data)\\n        if before_len == after_len:\\n            break\\n    return data\\n\\n\\ndef cleanse_short_session(data: pd.DataFrame, shortest):\\n    session_len = data.groupby(\\\"SessionId\\\").size()\\n    session_use = session_len[session_len >= shortest].index\\n    data = data[data[\\\"SessionId\\\"].isin(session_use)]\\n    return data\\n\\n\\ndef cleanse_unpopular_item(data: pd.DataFrame, least_click):\\n    item_popular = data.groupby(\\\"ItemId\\\").size()\\n    item_use = item_popular[item_popular >= least_click].index\\n    data = data[data[\\\"ItemId\\\"].isin(item_use)]\\n    return data\";\n                var nbb_cells = Jupyter.notebook.get_cells();\n                for (var i = 0; i < nbb_cells.length; ++i) {\n                    if (nbb_cells[i].input_prompt_number == nbb_cell_id) {\n                        if (nbb_cells[i].get_text() == nbb_unformatted_code) {\n                             nbb_cells[i].set_text(nbb_formatted_code);\n                        }\n                        break;\n                    }\n                }\n            }, 500);\n            ",
      "text/plain": [
       "<IPython.core.display.Javascript object>"
      ]
     },
     "metadata": {},
     "output_type": "display_data"
    }
   ],
   "source": [
    "def cleanse_recursive(data: pd.DataFrame, shortest, least_click) -> pd.DataFrame:\n",
    "    while True:\n",
    "        before_len = len(data)\n",
    "        data = cleanse_short_session(data, shortest)\n",
    "        data = cleanse_unpopular_item(data, least_click)\n",
    "        after_len = len(data)\n",
    "        if before_len == after_len:\n",
    "            break\n",
    "    return data\n",
    "\n",
    "\n",
    "def cleanse_short_session(data: pd.DataFrame, shortest):\n",
    "    session_len = data.groupby(\"SessionId\").size()\n",
    "    session_use = session_len[session_len >= shortest].index\n",
    "    data = data[data[\"SessionId\"].isin(session_use)]\n",
    "    return data\n",
    "\n",
    "\n",
    "def cleanse_unpopular_item(data: pd.DataFrame, least_click):\n",
    "    item_popular = data.groupby(\"ItemId\").size()\n",
    "    item_use = item_popular[item_popular >= least_click].index\n",
    "    data = data[data[\"ItemId\"].isin(item_use)]\n",
    "    return data"
   ]
  },
  {
   "cell_type": "code",
   "execution_count": 17,
   "id": "dd9ce16e",
   "metadata": {},
   "outputs": [
    {
     "data": {
      "text/html": [
       "<div>\n",
       "<style scoped>\n",
       "    .dataframe tbody tr th:only-of-type {\n",
       "        vertical-align: middle;\n",
       "    }\n",
       "\n",
       "    .dataframe tbody tr th {\n",
       "        vertical-align: top;\n",
       "    }\n",
       "\n",
       "    .dataframe thead th {\n",
       "        text-align: right;\n",
       "    }\n",
       "</style>\n",
       "<table border=\"1\" class=\"dataframe\">\n",
       "  <thead>\n",
       "    <tr style=\"text-align: right;\">\n",
       "      <th></th>\n",
       "      <th>UserId</th>\n",
       "      <th>ItemId</th>\n",
       "      <th>Rating</th>\n",
       "      <th>Time</th>\n",
       "      <th>SessionId</th>\n",
       "    </tr>\n",
       "  </thead>\n",
       "  <tbody>\n",
       "    <tr>\n",
       "      <th>0</th>\n",
       "      <td>1</td>\n",
       "      <td>3186</td>\n",
       "      <td>4</td>\n",
       "      <td>978300019</td>\n",
       "      <td>0</td>\n",
       "    </tr>\n",
       "    <tr>\n",
       "      <th>1</th>\n",
       "      <td>1</td>\n",
       "      <td>1270</td>\n",
       "      <td>5</td>\n",
       "      <td>978300055</td>\n",
       "      <td>0</td>\n",
       "    </tr>\n",
       "    <tr>\n",
       "      <th>2</th>\n",
       "      <td>1</td>\n",
       "      <td>1721</td>\n",
       "      <td>4</td>\n",
       "      <td>978300055</td>\n",
       "      <td>0</td>\n",
       "    </tr>\n",
       "    <tr>\n",
       "      <th>3</th>\n",
       "      <td>1</td>\n",
       "      <td>1022</td>\n",
       "      <td>5</td>\n",
       "      <td>978300055</td>\n",
       "      <td>0</td>\n",
       "    </tr>\n",
       "    <tr>\n",
       "      <th>4</th>\n",
       "      <td>1</td>\n",
       "      <td>2340</td>\n",
       "      <td>3</td>\n",
       "      <td>978300103</td>\n",
       "      <td>0</td>\n",
       "    </tr>\n",
       "    <tr>\n",
       "      <th>...</th>\n",
       "      <td>...</td>\n",
       "      <td>...</td>\n",
       "      <td>...</td>\n",
       "      <td>...</td>\n",
       "      <td>...</td>\n",
       "    </tr>\n",
       "    <tr>\n",
       "      <th>1000203</th>\n",
       "      <td>6040</td>\n",
       "      <td>232</td>\n",
       "      <td>5</td>\n",
       "      <td>997454398</td>\n",
       "      <td>28021</td>\n",
       "    </tr>\n",
       "    <tr>\n",
       "      <th>1000204</th>\n",
       "      <td>6040</td>\n",
       "      <td>2917</td>\n",
       "      <td>4</td>\n",
       "      <td>997454429</td>\n",
       "      <td>28021</td>\n",
       "    </tr>\n",
       "    <tr>\n",
       "      <th>1000205</th>\n",
       "      <td>6040</td>\n",
       "      <td>1921</td>\n",
       "      <td>4</td>\n",
       "      <td>997454464</td>\n",
       "      <td>28021</td>\n",
       "    </tr>\n",
       "    <tr>\n",
       "      <th>1000206</th>\n",
       "      <td>6040</td>\n",
       "      <td>1784</td>\n",
       "      <td>3</td>\n",
       "      <td>997454464</td>\n",
       "      <td>28021</td>\n",
       "    </tr>\n",
       "    <tr>\n",
       "      <th>1000207</th>\n",
       "      <td>6040</td>\n",
       "      <td>161</td>\n",
       "      <td>3</td>\n",
       "      <td>997454486</td>\n",
       "      <td>28021</td>\n",
       "    </tr>\n",
       "  </tbody>\n",
       "</table>\n",
       "<p>822460 rows × 5 columns</p>\n",
       "</div>"
      ],
      "text/plain": [
       "         UserId  ItemId  Rating       Time  SessionId\n",
       "0             1    3186       4  978300019          0\n",
       "1             1    1270       5  978300055          0\n",
       "2             1    1721       4  978300055          0\n",
       "3             1    1022       5  978300055          0\n",
       "4             1    2340       3  978300103          0\n",
       "...         ...     ...     ...        ...        ...\n",
       "1000203    6040     232       5  997454398      28021\n",
       "1000204    6040    2917       4  997454429      28021\n",
       "1000205    6040    1921       4  997454464      28021\n",
       "1000206    6040    1784       3  997454464      28021\n",
       "1000207    6040     161       3  997454486      28021\n",
       "\n",
       "[822460 rows x 5 columns]"
      ]
     },
     "execution_count": 17,
     "metadata": {},
     "output_type": "execute_result"
    },
    {
     "data": {
      "application/javascript": "\n            setTimeout(function() {\n                var nbb_cell_id = 17;\n                var nbb_unformatted_code = \"data = cleanse_recursive(data, shortest=3, least_click=10)\\ndata\";\n                var nbb_formatted_code = \"data = cleanse_recursive(data, shortest=3, least_click=10)\\ndata\";\n                var nbb_cells = Jupyter.notebook.get_cells();\n                for (var i = 0; i < nbb_cells.length; ++i) {\n                    if (nbb_cells[i].input_prompt_number == nbb_cell_id) {\n                        if (nbb_cells[i].get_text() == nbb_unformatted_code) {\n                             nbb_cells[i].set_text(nbb_formatted_code);\n                        }\n                        break;\n                    }\n                }\n            }, 500);\n            ",
      "text/plain": [
       "<IPython.core.display.Javascript object>"
      ]
     },
     "metadata": {},
     "output_type": "display_data"
    }
   ],
   "source": [
    "data = cleanse_recursive(data, shortest=3, least_click=10)\n",
    "data"
   ]
  },
  {
   "cell_type": "markdown",
   "id": "016151b2",
   "metadata": {},
   "source": [
    "각 세션이 기록된 시간을 확인합니다."
   ]
  },
  {
   "cell_type": "code",
   "execution_count": 18,
   "id": "a6a8ae16",
   "metadata": {},
   "outputs": [
    {
     "data": {
      "text/plain": [
       "(Timestamp('2000-04-25 23:05:32'), Timestamp('2003-02-28 17:49:50'))"
      ]
     },
     "execution_count": 18,
     "metadata": {},
     "output_type": "execute_result"
    },
    {
     "data": {
      "application/javascript": "\n            setTimeout(function() {\n                var nbb_cell_id = 18;\n                var nbb_unformatted_code = \"oldest, latest = data[\\\"Time\\\"].min(), data[\\\"Time\\\"].max()\\noldest = pd.to_datetime(oldest, unit=\\\"s\\\")\\nlatest = pd.to_datetime(latest, unit=\\\"s\\\")\\noldest, latest\";\n                var nbb_formatted_code = \"oldest, latest = data[\\\"Time\\\"].min(), data[\\\"Time\\\"].max()\\noldest = pd.to_datetime(oldest, unit=\\\"s\\\")\\nlatest = pd.to_datetime(latest, unit=\\\"s\\\")\\noldest, latest\";\n                var nbb_cells = Jupyter.notebook.get_cells();\n                for (var i = 0; i < nbb_cells.length; ++i) {\n                    if (nbb_cells[i].input_prompt_number == nbb_cell_id) {\n                        if (nbb_cells[i].get_text() == nbb_unformatted_code) {\n                             nbb_cells[i].set_text(nbb_formatted_code);\n                        }\n                        break;\n                    }\n                }\n            }, 500);\n            ",
      "text/plain": [
       "<IPython.core.display.Javascript object>"
      ]
     },
     "metadata": {},
     "output_type": "display_data"
    }
   ],
   "source": [
    "oldest, latest = data[\"Time\"].min(), data[\"Time\"].max()\n",
    "oldest = pd.to_datetime(oldest, unit=\"s\")\n",
    "latest = pd.to_datetime(latest, unit=\"s\")\n",
    "oldest, latest"
   ]
  },
  {
   "cell_type": "code",
   "execution_count": 19,
   "id": "75ff6803",
   "metadata": {},
   "outputs": [
    {
     "data": {
      "text/plain": [
       "1038"
      ]
     },
     "execution_count": 19,
     "metadata": {},
     "output_type": "execute_result"
    },
    {
     "data": {
      "application/javascript": "\n            setTimeout(function() {\n                var nbb_cell_id = 19;\n                var nbb_unformatted_code = \"(latest - oldest).days\";\n                var nbb_formatted_code = \"(latest - oldest).days\";\n                var nbb_cells = Jupyter.notebook.get_cells();\n                for (var i = 0; i < nbb_cells.length; ++i) {\n                    if (nbb_cells[i].input_prompt_number == nbb_cell_id) {\n                        if (nbb_cells[i].get_text() == nbb_unformatted_code) {\n                             nbb_cells[i].set_text(nbb_formatted_code);\n                        }\n                        break;\n                    }\n                }\n            }, 500);\n            ",
      "text/plain": [
       "<IPython.core.display.Javascript object>"
      ]
     },
     "metadata": {},
     "output_type": "display_data"
    }
   ],
   "source": [
    "(latest - oldest).days"
   ]
  },
  {
   "cell_type": "markdown",
   "id": "a77067b5",
   "metadata": {},
   "source": [
    "데이터셋은 1,038일 동안의 정보를 담고 있습니다. validation을 위한 데이터에 200일, test를 위한 데이터에 200일 동안의 데이터를 사용합니다."
   ]
  },
  {
   "cell_type": "code",
   "execution_count": 20,
   "id": "d6ae1081",
   "metadata": {},
   "outputs": [
    {
     "data": {
      "application/javascript": "\n            setTimeout(function() {\n                var nbb_cell_id = 20;\n                var nbb_unformatted_code = \"import datetime as dt\\n\\n\\ndef split_by_date(data: pd.DataFrame, n_days: int):\\n    final_time = data[\\\"Time\\\"].max()\\n    session_last_time = data.groupby(\\\"SessionId\\\")[\\\"Time\\\"].max()\\n    session_in_train = session_last_time[\\n        session_last_time < final_time - n_days * 86400\\n    ].index\\n    session_in_test = session_last_time[\\n        session_last_time >= final_time - n_days * 86400\\n    ].index\\n\\n    before_date = data[data[\\\"SessionId\\\"].isin(session_in_train)]\\n    after_date = data[data[\\\"SessionId\\\"].isin(session_in_test)]\\n    after_date = after_date[after_date[\\\"ItemId\\\"].isin(before_date[\\\"ItemId\\\"])]\\n    return before_date, after_date\";\n                var nbb_formatted_code = \"import datetime as dt\\n\\n\\ndef split_by_date(data: pd.DataFrame, n_days: int):\\n    final_time = data[\\\"Time\\\"].max()\\n    session_last_time = data.groupby(\\\"SessionId\\\")[\\\"Time\\\"].max()\\n    session_in_train = session_last_time[\\n        session_last_time < final_time - n_days * 86400\\n    ].index\\n    session_in_test = session_last_time[\\n        session_last_time >= final_time - n_days * 86400\\n    ].index\\n\\n    before_date = data[data[\\\"SessionId\\\"].isin(session_in_train)]\\n    after_date = data[data[\\\"SessionId\\\"].isin(session_in_test)]\\n    after_date = after_date[after_date[\\\"ItemId\\\"].isin(before_date[\\\"ItemId\\\"])]\\n    return before_date, after_date\";\n                var nbb_cells = Jupyter.notebook.get_cells();\n                for (var i = 0; i < nbb_cells.length; ++i) {\n                    if (nbb_cells[i].input_prompt_number == nbb_cell_id) {\n                        if (nbb_cells[i].get_text() == nbb_unformatted_code) {\n                             nbb_cells[i].set_text(nbb_formatted_code);\n                        }\n                        break;\n                    }\n                }\n            }, 500);\n            ",
      "text/plain": [
       "<IPython.core.display.Javascript object>"
      ]
     },
     "metadata": {},
     "output_type": "display_data"
    }
   ],
   "source": [
    "import datetime as dt\n",
    "\n",
    "\n",
    "def split_by_date(data: pd.DataFrame, n_days: int):\n",
    "    final_time = data[\"Time\"].max()\n",
    "    session_last_time = data.groupby(\"SessionId\")[\"Time\"].max()\n",
    "    session_in_train = session_last_time[\n",
    "        session_last_time < final_time - n_days * 86400\n",
    "    ].index\n",
    "    session_in_test = session_last_time[\n",
    "        session_last_time >= final_time - n_days * 86400\n",
    "    ].index\n",
    "\n",
    "    before_date = data[data[\"SessionId\"].isin(session_in_train)]\n",
    "    after_date = data[data[\"SessionId\"].isin(session_in_test)]\n",
    "    after_date = after_date[after_date[\"ItemId\"].isin(before_date[\"ItemId\"])]\n",
    "    return before_date, after_date"
   ]
  },
  {
   "cell_type": "code",
   "execution_count": 21,
   "id": "0a43f745",
   "metadata": {},
   "outputs": [
    {
     "data": {
      "application/javascript": "\n            setTimeout(function() {\n                var nbb_cell_id = 21;\n                var nbb_unformatted_code = \"tr, test = split_by_date(data, n_days=200)\\ntr, val = split_by_date(tr, n_days=200)\";\n                var nbb_formatted_code = \"tr, test = split_by_date(data, n_days=200)\\ntr, val = split_by_date(tr, n_days=200)\";\n                var nbb_cells = Jupyter.notebook.get_cells();\n                for (var i = 0; i < nbb_cells.length; ++i) {\n                    if (nbb_cells[i].input_prompt_number == nbb_cell_id) {\n                        if (nbb_cells[i].get_text() == nbb_unformatted_code) {\n                             nbb_cells[i].set_text(nbb_formatted_code);\n                        }\n                        break;\n                    }\n                }\n            }, 500);\n            ",
      "text/plain": [
       "<IPython.core.display.Javascript object>"
      ]
     },
     "metadata": {},
     "output_type": "display_data"
    }
   ],
   "source": [
    "tr, test = split_by_date(data, n_days=200)\n",
    "tr, val = split_by_date(tr, n_days=200)"
   ]
  },
  {
   "cell_type": "code",
   "execution_count": 22,
   "id": "b8b7ee8b",
   "metadata": {},
   "outputs": [
    {
     "data": {
      "application/javascript": "\n            setTimeout(function() {\n                var nbb_cell_id = 22;\n                var nbb_unformatted_code = \"def stats_info(data: pd.DataFrame, status: str):\\n    print(\\n        f\\\"* {status} Set Stats Info\\\\n\\\"\\n        f\\\"\\\\t Events: {len(data)}\\\\n\\\"\\n        f'\\\\t Sessions: {data[\\\"SessionId\\\"].nunique()}\\\\n'\\n        f'\\\\t Items: {data[\\\"ItemId\\\"].nunique()}\\\\n'\\n        f'\\\\t First Time : {pd.to_datetime(data[\\\"Time\\\"].min(), unit=\\\"s\\\")}\\\\n'\\n        f'\\\\t Last Time : {pd.to_datetime(data[\\\"Time\\\"].max(), unit=\\\"s\\\")}\\\\n'\\n    )\";\n                var nbb_formatted_code = \"def stats_info(data: pd.DataFrame, status: str):\\n    print(\\n        f\\\"* {status} Set Stats Info\\\\n\\\"\\n        f\\\"\\\\t Events: {len(data)}\\\\n\\\"\\n        f'\\\\t Sessions: {data[\\\"SessionId\\\"].nunique()}\\\\n'\\n        f'\\\\t Items: {data[\\\"ItemId\\\"].nunique()}\\\\n'\\n        f'\\\\t First Time : {pd.to_datetime(data[\\\"Time\\\"].min(), unit=\\\"s\\\")}\\\\n'\\n        f'\\\\t Last Time : {pd.to_datetime(data[\\\"Time\\\"].max(), unit=\\\"s\\\")}\\\\n'\\n    )\";\n                var nbb_cells = Jupyter.notebook.get_cells();\n                for (var i = 0; i < nbb_cells.length; ++i) {\n                    if (nbb_cells[i].input_prompt_number == nbb_cell_id) {\n                        if (nbb_cells[i].get_text() == nbb_unformatted_code) {\n                             nbb_cells[i].set_text(nbb_formatted_code);\n                        }\n                        break;\n                    }\n                }\n            }, 500);\n            ",
      "text/plain": [
       "<IPython.core.display.Javascript object>"
      ]
     },
     "metadata": {},
     "output_type": "display_data"
    }
   ],
   "source": [
    "def stats_info(data: pd.DataFrame, status: str):\n",
    "    print(\n",
    "        f\"* {status} Set Stats Info\\n\"\n",
    "        f\"\\t Events: {len(data)}\\n\"\n",
    "        f'\\t Sessions: {data[\"SessionId\"].nunique()}\\n'\n",
    "        f'\\t Items: {data[\"ItemId\"].nunique()}\\n'\n",
    "        f'\\t First Time : {pd.to_datetime(data[\"Time\"].min(), unit=\"s\")}\\n'\n",
    "        f'\\t Last Time : {pd.to_datetime(data[\"Time\"].max(), unit=\"s\")}\\n'\n",
    "    )"
   ]
  },
  {
   "cell_type": "code",
   "execution_count": 23,
   "id": "722335df",
   "metadata": {},
   "outputs": [
    {
     "name": "stdout",
     "output_type": "stream",
     "text": [
      "* train Set Stats Info\n",
      "\t Events: 805419\n",
      "\t Sessions: 16309\n",
      "\t Items: 3100\n",
      "\t First Time : 2000-04-25 23:05:32\n",
      "\t Last Time : 2002-01-24 03:46:12\n",
      "\n",
      "* valid Set Stats Info\n",
      "\t Events: 9853\n",
      "\t Sessions: 698\n",
      "\t Items: 2284\n",
      "\t First Time : 2002-01-24 20:01:17\n",
      "\t Last Time : 2002-08-12 13:53:29\n",
      "\n",
      "* test Set Stats Info\n",
      "\t Events: 7188\n",
      "\t Sessions: 462\n",
      "\t Items: 1986\n",
      "\t First Time : 2002-08-13 09:05:17\n",
      "\t Last Time : 2003-02-28 17:49:50\n",
      "\n"
     ]
    },
    {
     "data": {
      "application/javascript": "\n            setTimeout(function() {\n                var nbb_cell_id = 23;\n                var nbb_unformatted_code = \"stats_info(tr, \\\"train\\\")\\nstats_info(val, \\\"valid\\\")\\nstats_info(test, \\\"test\\\")\";\n                var nbb_formatted_code = \"stats_info(tr, \\\"train\\\")\\nstats_info(val, \\\"valid\\\")\\nstats_info(test, \\\"test\\\")\";\n                var nbb_cells = Jupyter.notebook.get_cells();\n                for (var i = 0; i < nbb_cells.length; ++i) {\n                    if (nbb_cells[i].input_prompt_number == nbb_cell_id) {\n                        if (nbb_cells[i].get_text() == nbb_unformatted_code) {\n                             nbb_cells[i].set_text(nbb_formatted_code);\n                        }\n                        break;\n                    }\n                }\n            }, 500);\n            ",
      "text/plain": [
       "<IPython.core.display.Javascript object>"
      ]
     },
     "metadata": {},
     "output_type": "display_data"
    }
   ],
   "source": [
    "stats_info(tr, \"train\")\n",
    "stats_info(val, \"valid\")\n",
    "stats_info(test, \"test\")"
   ]
  },
  {
   "cell_type": "code",
   "execution_count": 24,
   "id": "d002a8ed",
   "metadata": {},
   "outputs": [
    {
     "data": {
      "application/javascript": "\n            setTimeout(function() {\n                var nbb_cell_id = 24;\n                var nbb_unformatted_code = \"# train set\\uc5d0 \\uc5c6\\ub294 \\uc544\\uc774\\ud15c\\uc774 val, test\\uae30\\uac04\\uc5d0 \\uc0dd\\uae38 \\uc218 \\uc788\\uc73c\\ubbc0\\ub85c train data\\ub97c \\uae30\\uc900\\uc73c\\ub85c \\uc778\\ub371\\uc2f1\\ud569\\ub2c8\\ub2e4.\\nid2idx = {item_id: index for index, item_id in enumerate(tr[\\\"ItemId\\\"].unique())}\\n\\n\\ndef indexing(df, id2idx):\\n    df[\\\"item_idx\\\"] = df[\\\"ItemId\\\"].map(\\n        lambda x: id2idx.get(x, -1)\\n    )  # id2idx\\uc5d0 \\uc5c6\\ub294 \\uc544\\uc774\\ud15c\\uc740 \\ubaa8\\ub974\\ub294 \\uac12(-1) \\ucc98\\ub9ac \\ud574\\uc90d\\ub2c8\\ub2e4.\\n    return df\\n\\n\\ntr = indexing(tr, id2idx)\\nval = indexing(val, id2idx)\\ntest = indexing(test, id2idx)\";\n                var nbb_formatted_code = \"# train set\\uc5d0 \\uc5c6\\ub294 \\uc544\\uc774\\ud15c\\uc774 val, test\\uae30\\uac04\\uc5d0 \\uc0dd\\uae38 \\uc218 \\uc788\\uc73c\\ubbc0\\ub85c train data\\ub97c \\uae30\\uc900\\uc73c\\ub85c \\uc778\\ub371\\uc2f1\\ud569\\ub2c8\\ub2e4.\\nid2idx = {item_id: index for index, item_id in enumerate(tr[\\\"ItemId\\\"].unique())}\\n\\n\\ndef indexing(df, id2idx):\\n    df[\\\"item_idx\\\"] = df[\\\"ItemId\\\"].map(\\n        lambda x: id2idx.get(x, -1)\\n    )  # id2idx\\uc5d0 \\uc5c6\\ub294 \\uc544\\uc774\\ud15c\\uc740 \\ubaa8\\ub974\\ub294 \\uac12(-1) \\ucc98\\ub9ac \\ud574\\uc90d\\ub2c8\\ub2e4.\\n    return df\\n\\n\\ntr = indexing(tr, id2idx)\\nval = indexing(val, id2idx)\\ntest = indexing(test, id2idx)\";\n                var nbb_cells = Jupyter.notebook.get_cells();\n                for (var i = 0; i < nbb_cells.length; ++i) {\n                    if (nbb_cells[i].input_prompt_number == nbb_cell_id) {\n                        if (nbb_cells[i].get_text() == nbb_unformatted_code) {\n                             nbb_cells[i].set_text(nbb_formatted_code);\n                        }\n                        break;\n                    }\n                }\n            }, 500);\n            ",
      "text/plain": [
       "<IPython.core.display.Javascript object>"
      ]
     },
     "metadata": {},
     "output_type": "display_data"
    }
   ],
   "source": [
    "# train set에 없는 아이템이 val, test기간에 생길 수 있으므로 train data를 기준으로 인덱싱합니다.\n",
    "id2idx = {item_id: index for index, item_id in enumerate(tr[\"ItemId\"].unique())}\n",
    "\n",
    "\n",
    "def indexing(df, id2idx):\n",
    "    df[\"item_idx\"] = df[\"ItemId\"].map(\n",
    "        lambda x: id2idx.get(x, -1)\n",
    "    )  # id2idx에 없는 아이템은 모르는 값(-1) 처리 해줍니다.\n",
    "    return df\n",
    "\n",
    "\n",
    "tr = indexing(tr, id2idx)\n",
    "val = indexing(val, id2idx)\n",
    "test = indexing(test, id2idx)"
   ]
  },
  {
   "cell_type": "markdown",
   "id": "1d1b04e9",
   "metadata": {},
   "source": [
    "## 데이터셋 구성"
   ]
  },
  {
   "cell_type": "code",
   "execution_count": 25,
   "id": "a285b460",
   "metadata": {},
   "outputs": [
    {
     "data": {
      "application/javascript": "\n            setTimeout(function() {\n                var nbb_cell_id = 25;\n                var nbb_unformatted_code = \"class SessionDataset:\\n    \\\"\\\"\\\"Credit to yhs-968/pyGRU4REC.\\\"\\\"\\\"\\n\\n    def __init__(self, data):\\n        self.df = data\\n        self.click_offsets = self.get_click_offsets()\\n        self.session_idx = np.arange(\\n            self.df[\\\"SessionId\\\"].nunique()\\n        )  # indexing to SessionId\\n\\n    def get_click_offsets(self):\\n        \\\"\\\"\\\"\\n        Return the indexes of the first click of each session IDs,\\n        \\\"\\\"\\\"\\n        offsets = np.zeros(self.df[\\\"SessionId\\\"].nunique() + 1, dtype=np.int32)\\n        offsets[1:] = self.df.groupby(\\\"SessionId\\\").size().cumsum()\\n        return offsets\";\n                var nbb_formatted_code = \"class SessionDataset:\\n    \\\"\\\"\\\"Credit to yhs-968/pyGRU4REC.\\\"\\\"\\\"\\n\\n    def __init__(self, data):\\n        self.df = data\\n        self.click_offsets = self.get_click_offsets()\\n        self.session_idx = np.arange(\\n            self.df[\\\"SessionId\\\"].nunique()\\n        )  # indexing to SessionId\\n\\n    def get_click_offsets(self):\\n        \\\"\\\"\\\"\\n        Return the indexes of the first click of each session IDs,\\n        \\\"\\\"\\\"\\n        offsets = np.zeros(self.df[\\\"SessionId\\\"].nunique() + 1, dtype=np.int32)\\n        offsets[1:] = self.df.groupby(\\\"SessionId\\\").size().cumsum()\\n        return offsets\";\n                var nbb_cells = Jupyter.notebook.get_cells();\n                for (var i = 0; i < nbb_cells.length; ++i) {\n                    if (nbb_cells[i].input_prompt_number == nbb_cell_id) {\n                        if (nbb_cells[i].get_text() == nbb_unformatted_code) {\n                             nbb_cells[i].set_text(nbb_formatted_code);\n                        }\n                        break;\n                    }\n                }\n            }, 500);\n            ",
      "text/plain": [
       "<IPython.core.display.Javascript object>"
      ]
     },
     "metadata": {},
     "output_type": "display_data"
    }
   ],
   "source": [
    "class SessionDataset:\n",
    "    \"\"\"Credit to yhs-968/pyGRU4REC.\"\"\"\n",
    "\n",
    "    def __init__(self, data):\n",
    "        self.df = data\n",
    "        self.click_offsets = self.get_click_offsets()\n",
    "        self.session_idx = np.arange(\n",
    "            self.df[\"SessionId\"].nunique()\n",
    "        )  # indexing to SessionId\n",
    "\n",
    "    def get_click_offsets(self):\n",
    "        \"\"\"\n",
    "        Return the indexes of the first click of each session IDs,\n",
    "        \"\"\"\n",
    "        offsets = np.zeros(self.df[\"SessionId\"].nunique() + 1, dtype=np.int32)\n",
    "        offsets[1:] = self.df.groupby(\"SessionId\").size().cumsum()\n",
    "        return offsets"
   ]
  },
  {
   "cell_type": "code",
   "execution_count": 26,
   "id": "38f0299d",
   "metadata": {},
   "outputs": [
    {
     "data": {
      "text/html": [
       "<div>\n",
       "<style scoped>\n",
       "    .dataframe tbody tr th:only-of-type {\n",
       "        vertical-align: middle;\n",
       "    }\n",
       "\n",
       "    .dataframe tbody tr th {\n",
       "        vertical-align: top;\n",
       "    }\n",
       "\n",
       "    .dataframe thead th {\n",
       "        text-align: right;\n",
       "    }\n",
       "</style>\n",
       "<table border=\"1\" class=\"dataframe\">\n",
       "  <thead>\n",
       "    <tr style=\"text-align: right;\">\n",
       "      <th></th>\n",
       "      <th>UserId</th>\n",
       "      <th>ItemId</th>\n",
       "      <th>Rating</th>\n",
       "      <th>Time</th>\n",
       "      <th>SessionId</th>\n",
       "      <th>item_idx</th>\n",
       "    </tr>\n",
       "  </thead>\n",
       "  <tbody>\n",
       "    <tr>\n",
       "      <th>0</th>\n",
       "      <td>1</td>\n",
       "      <td>3186</td>\n",
       "      <td>4</td>\n",
       "      <td>978300019</td>\n",
       "      <td>0</td>\n",
       "      <td>0</td>\n",
       "    </tr>\n",
       "    <tr>\n",
       "      <th>1</th>\n",
       "      <td>1</td>\n",
       "      <td>1270</td>\n",
       "      <td>5</td>\n",
       "      <td>978300055</td>\n",
       "      <td>0</td>\n",
       "      <td>1</td>\n",
       "    </tr>\n",
       "    <tr>\n",
       "      <th>2</th>\n",
       "      <td>1</td>\n",
       "      <td>1721</td>\n",
       "      <td>4</td>\n",
       "      <td>978300055</td>\n",
       "      <td>0</td>\n",
       "      <td>2</td>\n",
       "    </tr>\n",
       "    <tr>\n",
       "      <th>3</th>\n",
       "      <td>1</td>\n",
       "      <td>1022</td>\n",
       "      <td>5</td>\n",
       "      <td>978300055</td>\n",
       "      <td>0</td>\n",
       "      <td>3</td>\n",
       "    </tr>\n",
       "    <tr>\n",
       "      <th>4</th>\n",
       "      <td>1</td>\n",
       "      <td>2340</td>\n",
       "      <td>3</td>\n",
       "      <td>978300103</td>\n",
       "      <td>0</td>\n",
       "      <td>4</td>\n",
       "    </tr>\n",
       "    <tr>\n",
       "      <th>5</th>\n",
       "      <td>1</td>\n",
       "      <td>1836</td>\n",
       "      <td>5</td>\n",
       "      <td>978300172</td>\n",
       "      <td>0</td>\n",
       "      <td>5</td>\n",
       "    </tr>\n",
       "    <tr>\n",
       "      <th>6</th>\n",
       "      <td>1</td>\n",
       "      <td>3408</td>\n",
       "      <td>4</td>\n",
       "      <td>978300275</td>\n",
       "      <td>0</td>\n",
       "      <td>6</td>\n",
       "    </tr>\n",
       "    <tr>\n",
       "      <th>7</th>\n",
       "      <td>1</td>\n",
       "      <td>2804</td>\n",
       "      <td>5</td>\n",
       "      <td>978300719</td>\n",
       "      <td>0</td>\n",
       "      <td>7</td>\n",
       "    </tr>\n",
       "    <tr>\n",
       "      <th>8</th>\n",
       "      <td>1</td>\n",
       "      <td>1207</td>\n",
       "      <td>4</td>\n",
       "      <td>978300719</td>\n",
       "      <td>0</td>\n",
       "      <td>8</td>\n",
       "    </tr>\n",
       "    <tr>\n",
       "      <th>9</th>\n",
       "      <td>1</td>\n",
       "      <td>1193</td>\n",
       "      <td>5</td>\n",
       "      <td>978300760</td>\n",
       "      <td>0</td>\n",
       "      <td>9</td>\n",
       "    </tr>\n",
       "  </tbody>\n",
       "</table>\n",
       "</div>"
      ],
      "text/plain": [
       "   UserId  ItemId  Rating       Time  SessionId  item_idx\n",
       "0       1    3186       4  978300019          0         0\n",
       "1       1    1270       5  978300055          0         1\n",
       "2       1    1721       4  978300055          0         2\n",
       "3       1    1022       5  978300055          0         3\n",
       "4       1    2340       3  978300103          0         4\n",
       "5       1    1836       5  978300172          0         5\n",
       "6       1    3408       4  978300275          0         6\n",
       "7       1    2804       5  978300719          0         7\n",
       "8       1    1207       4  978300719          0         8\n",
       "9       1    1193       5  978300760          0         9"
      ]
     },
     "execution_count": 26,
     "metadata": {},
     "output_type": "execute_result"
    },
    {
     "data": {
      "application/javascript": "\n            setTimeout(function() {\n                var nbb_cell_id = 26;\n                var nbb_unformatted_code = \"tr_dataset = SessionDataset(tr)\\ntr_dataset.df.head(10)\";\n                var nbb_formatted_code = \"tr_dataset = SessionDataset(tr)\\ntr_dataset.df.head(10)\";\n                var nbb_cells = Jupyter.notebook.get_cells();\n                for (var i = 0; i < nbb_cells.length; ++i) {\n                    if (nbb_cells[i].input_prompt_number == nbb_cell_id) {\n                        if (nbb_cells[i].get_text() == nbb_unformatted_code) {\n                             nbb_cells[i].set_text(nbb_formatted_code);\n                        }\n                        break;\n                    }\n                }\n            }, 500);\n            ",
      "text/plain": [
       "<IPython.core.display.Javascript object>"
      ]
     },
     "metadata": {},
     "output_type": "display_data"
    }
   ],
   "source": [
    "tr_dataset = SessionDataset(tr)\n",
    "tr_dataset.df.head(10)"
   ]
  },
  {
   "cell_type": "code",
   "execution_count": 27,
   "id": "116feb99",
   "metadata": {},
   "outputs": [
    {
     "data": {
      "text/plain": [
       "array([     0,     40,     53, ..., 805386, 805398, 805419], dtype=int32)"
      ]
     },
     "execution_count": 27,
     "metadata": {},
     "output_type": "execute_result"
    },
    {
     "data": {
      "application/javascript": "\n            setTimeout(function() {\n                var nbb_cell_id = 27;\n                var nbb_unformatted_code = \"tr_dataset.click_offsets\";\n                var nbb_formatted_code = \"tr_dataset.click_offsets\";\n                var nbb_cells = Jupyter.notebook.get_cells();\n                for (var i = 0; i < nbb_cells.length; ++i) {\n                    if (nbb_cells[i].input_prompt_number == nbb_cell_id) {\n                        if (nbb_cells[i].get_text() == nbb_unformatted_code) {\n                             nbb_cells[i].set_text(nbb_formatted_code);\n                        }\n                        break;\n                    }\n                }\n            }, 500);\n            ",
      "text/plain": [
       "<IPython.core.display.Javascript object>"
      ]
     },
     "metadata": {},
     "output_type": "display_data"
    }
   ],
   "source": [
    "tr_dataset.click_offsets"
   ]
  },
  {
   "cell_type": "code",
   "execution_count": 28,
   "id": "5d433ead",
   "metadata": {},
   "outputs": [
    {
     "data": {
      "text/plain": [
       "array([    0,     1,     2, ..., 16306, 16307, 16308])"
      ]
     },
     "execution_count": 28,
     "metadata": {},
     "output_type": "execute_result"
    },
    {
     "data": {
      "application/javascript": "\n            setTimeout(function() {\n                var nbb_cell_id = 28;\n                var nbb_unformatted_code = \"tr_dataset.session_idx\";\n                var nbb_formatted_code = \"tr_dataset.session_idx\";\n                var nbb_cells = Jupyter.notebook.get_cells();\n                for (var i = 0; i < nbb_cells.length; ++i) {\n                    if (nbb_cells[i].input_prompt_number == nbb_cell_id) {\n                        if (nbb_cells[i].get_text() == nbb_unformatted_code) {\n                             nbb_cells[i].set_text(nbb_formatted_code);\n                        }\n                        break;\n                    }\n                }\n            }, 500);\n            ",
      "text/plain": [
       "<IPython.core.display.Javascript object>"
      ]
     },
     "metadata": {},
     "output_type": "display_data"
    }
   ],
   "source": [
    "tr_dataset.session_idx"
   ]
  },
  {
   "cell_type": "code",
   "execution_count": 29,
   "id": "b5b4975f",
   "metadata": {},
   "outputs": [
    {
     "data": {
      "application/javascript": "\n            setTimeout(function() {\n                var nbb_cell_id = 29;\n                var nbb_unformatted_code = \"class SessionDataLoader:\\n    \\\"\\\"\\\"Credit to yhs-968/pyGRU4REC.\\\"\\\"\\\"\\n\\n    def __init__(self, dataset: SessionDataset, batch_size=64):\\n        self.dataset = dataset\\n        self.batch_size = batch_size\\n\\n    def __iter__(self):\\n        \\\"\\\"\\\"Returns the iterator for producing session-parallel training mini-batches.\\n        Yields:\\n            input (B,):  Item indices that will be encoded as one-hot vectors later.\\n            target (B,): a Variable that stores the target item indices\\n            masks: Numpy array indicating the positions of the sessions to be terminated\\n        \\\"\\\"\\\"\\n\\n        (\\n            start,\\n            end,\\n            mask,\\n            last_session,\\n            finished,\\n        ) = self.initialize()  # initialize \\uba54\\uc18c\\ub4dc\\uc5d0\\uc11c \\ud655\\uc778\\ud574\\uc8fc\\uc138\\uc694.\\n        \\\"\\\"\\\"\\n        start : Index Where Session Start\\n        end : Index Where Session End\\n        mask : indicator for the sessions to be terminated\\n        \\\"\\\"\\\"\\n\\n        while not finished:\\n            min_len = (end - start).min() - 1  # Shortest Length Among Sessions\\n            for i in range(min_len):\\n                # Build inputs & targets\\n                inp = self.dataset.df[\\\"item_idx\\\"].values[start + i]\\n                target = self.dataset.df[\\\"item_idx\\\"].values[start + i + 1]\\n                yield inp, target, mask\\n\\n            start, end, mask, last_session, finished = self.update_status(\\n                start, end, min_len, last_session, finished\\n            )\\n\\n    def initialize(self):\\n        first_iters = np.arange(self.batch_size)  # \\uccab \\ubc30\\uce58\\uc5d0 \\uc0ac\\uc6a9\\ud560 \\uc138\\uc158 Index\\ub97c \\uac00\\uc838\\uc635\\ub2c8\\ub2e4.\\n        last_session = self.batch_size - 1  # \\ub9c8\\uc9c0\\ub9c9\\uc73c\\ub85c \\ub2e4\\ub8e8\\uace0 \\uc788\\ub294 \\uc138\\uc158 Index\\ub97c \\uc800\\uc7a5\\ud574\\ub461\\ub2c8\\ub2e4.\\n        start = self.dataset.click_offsets[\\n            self.dataset.session_idx[first_iters]\\n        ]  # data \\uc0c1\\uc5d0\\uc11c session\\uc774 \\uc2dc\\uc791\\ub41c \\uc704\\uce58\\ub97c \\uac00\\uc838\\uc635\\ub2c8\\ub2e4.\\n        end = self.dataset.click_offsets[\\n            self.dataset.session_idx[first_iters] + 1\\n        ]  # session\\uc774 \\ub05d\\ub09c \\uc704\\uce58 \\ubc14\\ub85c \\ub2e4\\uc74c \\uc704\\uce58\\ub97c \\uac00\\uc838\\uc635\\ub2c8\\ub2e4.\\n        mask = np.array([])  # session\\uc758 \\ubaa8\\ub4e0 \\uc544\\uc774\\ud15c\\uc744 \\ub2e4 \\ub3cc\\uc740 \\uacbd\\uc6b0 mask\\uc5d0 \\ucd94\\uac00\\ud574\\uc904 \\uac83\\uc785\\ub2c8\\ub2e4.\\n        finished = False  # data\\ub97c \\uc804\\ubd80 \\ub3cc\\uc558\\ub294\\uc9c0 \\uae30\\ub85d\\ud558\\uae30 \\uc704\\ud55c \\ubcc0\\uc218\\uc785\\ub2c8\\ub2e4.\\n        return start, end, mask, last_session, finished\\n\\n    def update_status(\\n        self,\\n        start: np.ndarray,\\n        end: np.ndarray,\\n        min_len: int,\\n        last_session: int,\\n        finished: bool,\\n    ):\\n        # \\ub2e4\\uc74c \\ubc30\\uce58 \\ub370\\uc774\\ud130\\ub97c \\uc0dd\\uc131\\ud558\\uae30 \\uc704\\ud574 \\uc0c1\\ud0dc\\ub97c update\\ud569\\ub2c8\\ub2e4.\\n\\n        start += min_len  # __iter__\\uc5d0\\uc11c min_len \\ub9cc\\ud07c for\\ubb38\\uc744 \\ub3cc\\uc558\\uc73c\\ubbc0\\ub85c start\\ub97c min_len \\ub9cc\\ud07c \\ub354\\ud574\\uc90d\\ub2c8\\ub2e4.\\n        mask = np.arange(self.batch_size)[(end - start) == 1]\\n        # end\\ub294 \\ub2e4\\uc74c \\uc138\\uc158\\uc774 \\uc2dc\\uc791\\ub418\\ub294 \\uc704\\uce58\\uc778\\ub370 start\\uc640 \\ud55c \\uce78 \\ucc28\\uc774\\ub09c\\ub2e4\\ub294 \\uac83\\uc740 session\\uc774 \\ub05d\\ub0ac\\ub2e4\\ub294 \\ub73b\\uc785\\ub2c8\\ub2e4. mask\\uc5d0 \\uae30\\ub85d\\ud574\\uc90d\\ub2c8\\ub2e4.\\n\\n        for i, idx in enumerate(mask, start=1):  # mask\\uc5d0 \\ucd94\\uac00\\ub41c \\uc138\\uc158 \\uac1c\\uc218\\ub9cc\\ud07c \\uc0c8\\ub85c\\uc6b4 \\uc138\\uc158\\uc744 \\ub3cc\\uac83\\uc785\\ub2c8\\ub2e4.\\n            new_session = last_session + i\\n            if (\\n                new_session > self.dataset.session_idx[-1]\\n            ):  # \\ub9cc\\uc57d \\uc0c8\\ub85c\\uc6b4 \\uc138\\uc158\\uc774 \\ub9c8\\uc9c0\\ub9c9 \\uc138\\uc158 index\\ubcf4\\ub2e4 \\ud06c\\ub2e4\\uba74 \\ubaa8\\ub4e0 \\ud559\\uc2b5\\ub370\\uc774\\ud130\\ub97c \\ub3c8 \\uac83\\uc785\\ub2c8\\ub2e4.\\n                finished = True\\n                break\\n            # update the next starting/ending point\\n            start[idx] = self.dataset.click_offsets[\\n                self.dataset.session_idx[new_session]\\n            ]  # \\uc885\\ub8cc\\ub41c \\uc138\\uc158 \\ub300\\uc2e0 \\uc0c8\\ub85c\\uc6b4 \\uc138\\uc158\\uc758 \\uc2dc\\uc791\\uc810\\uc744 \\uae30\\ub85d\\ud569\\ub2c8\\ub2e4.\\n            end[idx] = self.dataset.click_offsets[\\n                self.dataset.session_idx[new_session] + 1\\n            ]\\n\\n        last_session += len(mask)  # \\ub9c8\\uc9c0\\ub9c9 \\uc138\\uc158\\uc758 \\uc704\\uce58\\ub97c \\uae30\\ub85d\\ud574\\ub461\\ub2c8\\ub2e4.\\n        return start, end, mask, last_session, finished\";\n                var nbb_formatted_code = \"class SessionDataLoader:\\n    \\\"\\\"\\\"Credit to yhs-968/pyGRU4REC.\\\"\\\"\\\"\\n\\n    def __init__(self, dataset: SessionDataset, batch_size=64):\\n        self.dataset = dataset\\n        self.batch_size = batch_size\\n\\n    def __iter__(self):\\n        \\\"\\\"\\\"Returns the iterator for producing session-parallel training mini-batches.\\n        Yields:\\n            input (B,):  Item indices that will be encoded as one-hot vectors later.\\n            target (B,): a Variable that stores the target item indices\\n            masks: Numpy array indicating the positions of the sessions to be terminated\\n        \\\"\\\"\\\"\\n\\n        (\\n            start,\\n            end,\\n            mask,\\n            last_session,\\n            finished,\\n        ) = self.initialize()  # initialize \\uba54\\uc18c\\ub4dc\\uc5d0\\uc11c \\ud655\\uc778\\ud574\\uc8fc\\uc138\\uc694.\\n        \\\"\\\"\\\"\\n        start : Index Where Session Start\\n        end : Index Where Session End\\n        mask : indicator for the sessions to be terminated\\n        \\\"\\\"\\\"\\n\\n        while not finished:\\n            min_len = (end - start).min() - 1  # Shortest Length Among Sessions\\n            for i in range(min_len):\\n                # Build inputs & targets\\n                inp = self.dataset.df[\\\"item_idx\\\"].values[start + i]\\n                target = self.dataset.df[\\\"item_idx\\\"].values[start + i + 1]\\n                yield inp, target, mask\\n\\n            start, end, mask, last_session, finished = self.update_status(\\n                start, end, min_len, last_session, finished\\n            )\\n\\n    def initialize(self):\\n        first_iters = np.arange(self.batch_size)  # \\uccab \\ubc30\\uce58\\uc5d0 \\uc0ac\\uc6a9\\ud560 \\uc138\\uc158 Index\\ub97c \\uac00\\uc838\\uc635\\ub2c8\\ub2e4.\\n        last_session = self.batch_size - 1  # \\ub9c8\\uc9c0\\ub9c9\\uc73c\\ub85c \\ub2e4\\ub8e8\\uace0 \\uc788\\ub294 \\uc138\\uc158 Index\\ub97c \\uc800\\uc7a5\\ud574\\ub461\\ub2c8\\ub2e4.\\n        start = self.dataset.click_offsets[\\n            self.dataset.session_idx[first_iters]\\n        ]  # data \\uc0c1\\uc5d0\\uc11c session\\uc774 \\uc2dc\\uc791\\ub41c \\uc704\\uce58\\ub97c \\uac00\\uc838\\uc635\\ub2c8\\ub2e4.\\n        end = self.dataset.click_offsets[\\n            self.dataset.session_idx[first_iters] + 1\\n        ]  # session\\uc774 \\ub05d\\ub09c \\uc704\\uce58 \\ubc14\\ub85c \\ub2e4\\uc74c \\uc704\\uce58\\ub97c \\uac00\\uc838\\uc635\\ub2c8\\ub2e4.\\n        mask = np.array([])  # session\\uc758 \\ubaa8\\ub4e0 \\uc544\\uc774\\ud15c\\uc744 \\ub2e4 \\ub3cc\\uc740 \\uacbd\\uc6b0 mask\\uc5d0 \\ucd94\\uac00\\ud574\\uc904 \\uac83\\uc785\\ub2c8\\ub2e4.\\n        finished = False  # data\\ub97c \\uc804\\ubd80 \\ub3cc\\uc558\\ub294\\uc9c0 \\uae30\\ub85d\\ud558\\uae30 \\uc704\\ud55c \\ubcc0\\uc218\\uc785\\ub2c8\\ub2e4.\\n        return start, end, mask, last_session, finished\\n\\n    def update_status(\\n        self,\\n        start: np.ndarray,\\n        end: np.ndarray,\\n        min_len: int,\\n        last_session: int,\\n        finished: bool,\\n    ):\\n        # \\ub2e4\\uc74c \\ubc30\\uce58 \\ub370\\uc774\\ud130\\ub97c \\uc0dd\\uc131\\ud558\\uae30 \\uc704\\ud574 \\uc0c1\\ud0dc\\ub97c update\\ud569\\ub2c8\\ub2e4.\\n\\n        start += min_len  # __iter__\\uc5d0\\uc11c min_len \\ub9cc\\ud07c for\\ubb38\\uc744 \\ub3cc\\uc558\\uc73c\\ubbc0\\ub85c start\\ub97c min_len \\ub9cc\\ud07c \\ub354\\ud574\\uc90d\\ub2c8\\ub2e4.\\n        mask = np.arange(self.batch_size)[(end - start) == 1]\\n        # end\\ub294 \\ub2e4\\uc74c \\uc138\\uc158\\uc774 \\uc2dc\\uc791\\ub418\\ub294 \\uc704\\uce58\\uc778\\ub370 start\\uc640 \\ud55c \\uce78 \\ucc28\\uc774\\ub09c\\ub2e4\\ub294 \\uac83\\uc740 session\\uc774 \\ub05d\\ub0ac\\ub2e4\\ub294 \\ub73b\\uc785\\ub2c8\\ub2e4. mask\\uc5d0 \\uae30\\ub85d\\ud574\\uc90d\\ub2c8\\ub2e4.\\n\\n        for i, idx in enumerate(mask, start=1):  # mask\\uc5d0 \\ucd94\\uac00\\ub41c \\uc138\\uc158 \\uac1c\\uc218\\ub9cc\\ud07c \\uc0c8\\ub85c\\uc6b4 \\uc138\\uc158\\uc744 \\ub3cc\\uac83\\uc785\\ub2c8\\ub2e4.\\n            new_session = last_session + i\\n            if (\\n                new_session > self.dataset.session_idx[-1]\\n            ):  # \\ub9cc\\uc57d \\uc0c8\\ub85c\\uc6b4 \\uc138\\uc158\\uc774 \\ub9c8\\uc9c0\\ub9c9 \\uc138\\uc158 index\\ubcf4\\ub2e4 \\ud06c\\ub2e4\\uba74 \\ubaa8\\ub4e0 \\ud559\\uc2b5\\ub370\\uc774\\ud130\\ub97c \\ub3c8 \\uac83\\uc785\\ub2c8\\ub2e4.\\n                finished = True\\n                break\\n            # update the next starting/ending point\\n            start[idx] = self.dataset.click_offsets[\\n                self.dataset.session_idx[new_session]\\n            ]  # \\uc885\\ub8cc\\ub41c \\uc138\\uc158 \\ub300\\uc2e0 \\uc0c8\\ub85c\\uc6b4 \\uc138\\uc158\\uc758 \\uc2dc\\uc791\\uc810\\uc744 \\uae30\\ub85d\\ud569\\ub2c8\\ub2e4.\\n            end[idx] = self.dataset.click_offsets[\\n                self.dataset.session_idx[new_session] + 1\\n            ]\\n\\n        last_session += len(mask)  # \\ub9c8\\uc9c0\\ub9c9 \\uc138\\uc158\\uc758 \\uc704\\uce58\\ub97c \\uae30\\ub85d\\ud574\\ub461\\ub2c8\\ub2e4.\\n        return start, end, mask, last_session, finished\";\n                var nbb_cells = Jupyter.notebook.get_cells();\n                for (var i = 0; i < nbb_cells.length; ++i) {\n                    if (nbb_cells[i].input_prompt_number == nbb_cell_id) {\n                        if (nbb_cells[i].get_text() == nbb_unformatted_code) {\n                             nbb_cells[i].set_text(nbb_formatted_code);\n                        }\n                        break;\n                    }\n                }\n            }, 500);\n            ",
      "text/plain": [
       "<IPython.core.display.Javascript object>"
      ]
     },
     "metadata": {},
     "output_type": "display_data"
    }
   ],
   "source": [
    "class SessionDataLoader:\n",
    "    \"\"\"Credit to yhs-968/pyGRU4REC.\"\"\"\n",
    "\n",
    "    def __init__(self, dataset: SessionDataset, batch_size=64):\n",
    "        self.dataset = dataset\n",
    "        self.batch_size = batch_size\n",
    "\n",
    "    def __iter__(self):\n",
    "        \"\"\"Returns the iterator for producing session-parallel training mini-batches.\n",
    "        Yields:\n",
    "            input (B,):  Item indices that will be encoded as one-hot vectors later.\n",
    "            target (B,): a Variable that stores the target item indices\n",
    "            masks: Numpy array indicating the positions of the sessions to be terminated\n",
    "        \"\"\"\n",
    "\n",
    "        (\n",
    "            start,\n",
    "            end,\n",
    "            mask,\n",
    "            last_session,\n",
    "            finished,\n",
    "        ) = self.initialize()  # initialize 메소드에서 확인해주세요.\n",
    "        \"\"\"\n",
    "        start : Index Where Session Start\n",
    "        end : Index Where Session End\n",
    "        mask : indicator for the sessions to be terminated\n",
    "        \"\"\"\n",
    "\n",
    "        while not finished:\n",
    "            min_len = (end - start).min() - 1  # Shortest Length Among Sessions\n",
    "            for i in range(min_len):\n",
    "                # Build inputs & targets\n",
    "                inp = self.dataset.df[\"item_idx\"].values[start + i]\n",
    "                target = self.dataset.df[\"item_idx\"].values[start + i + 1]\n",
    "                yield inp, target, mask\n",
    "\n",
    "            start, end, mask, last_session, finished = self.update_status(\n",
    "                start, end, min_len, last_session, finished\n",
    "            )\n",
    "\n",
    "    def initialize(self):\n",
    "        first_iters = np.arange(self.batch_size)  # 첫 배치에 사용할 세션 Index를 가져옵니다.\n",
    "        last_session = self.batch_size - 1  # 마지막으로 다루고 있는 세션 Index를 저장해둡니다.\n",
    "        start = self.dataset.click_offsets[\n",
    "            self.dataset.session_idx[first_iters]\n",
    "        ]  # data 상에서 session이 시작된 위치를 가져옵니다.\n",
    "        end = self.dataset.click_offsets[\n",
    "            self.dataset.session_idx[first_iters] + 1\n",
    "        ]  # session이 끝난 위치 바로 다음 위치를 가져옵니다.\n",
    "        mask = np.array([])  # session의 모든 아이템을 다 돌은 경우 mask에 추가해줄 것입니다.\n",
    "        finished = False  # data를 전부 돌았는지 기록하기 위한 변수입니다.\n",
    "        return start, end, mask, last_session, finished\n",
    "\n",
    "    def update_status(\n",
    "        self,\n",
    "        start: np.ndarray,\n",
    "        end: np.ndarray,\n",
    "        min_len: int,\n",
    "        last_session: int,\n",
    "        finished: bool,\n",
    "    ):\n",
    "        # 다음 배치 데이터를 생성하기 위해 상태를 update합니다.\n",
    "\n",
    "        start += min_len  # __iter__에서 min_len 만큼 for문을 돌았으므로 start를 min_len 만큼 더해줍니다.\n",
    "        mask = np.arange(self.batch_size)[(end - start) == 1]\n",
    "        # end는 다음 세션이 시작되는 위치인데 start와 한 칸 차이난다는 것은 session이 끝났다는 뜻입니다. mask에 기록해줍니다.\n",
    "\n",
    "        for i, idx in enumerate(mask, start=1):  # mask에 추가된 세션 개수만큼 새로운 세션을 돌것입니다.\n",
    "            new_session = last_session + i\n",
    "            if (\n",
    "                new_session > self.dataset.session_idx[-1]\n",
    "            ):  # 만약 새로운 세션이 마지막 세션 index보다 크다면 모든 학습데이터를 돈 것입니다.\n",
    "                finished = True\n",
    "                break\n",
    "            # update the next starting/ending point\n",
    "            start[idx] = self.dataset.click_offsets[\n",
    "                self.dataset.session_idx[new_session]\n",
    "            ]  # 종료된 세션 대신 새로운 세션의 시작점을 기록합니다.\n",
    "            end[idx] = self.dataset.click_offsets[\n",
    "                self.dataset.session_idx[new_session] + 1\n",
    "            ]\n",
    "\n",
    "        last_session += len(mask)  # 마지막 세션의 위치를 기록해둡니다.\n",
    "        return start, end, mask, last_session, finished"
   ]
  },
  {
   "cell_type": "code",
   "execution_count": 30,
   "id": "f1c4b2aa",
   "metadata": {},
   "outputs": [
    {
     "data": {
      "text/html": [
       "<div>\n",
       "<style scoped>\n",
       "    .dataframe tbody tr th:only-of-type {\n",
       "        vertical-align: middle;\n",
       "    }\n",
       "\n",
       "    .dataframe tbody tr th {\n",
       "        vertical-align: top;\n",
       "    }\n",
       "\n",
       "    .dataframe thead th {\n",
       "        text-align: right;\n",
       "    }\n",
       "</style>\n",
       "<table border=\"1\" class=\"dataframe\">\n",
       "  <thead>\n",
       "    <tr style=\"text-align: right;\">\n",
       "      <th></th>\n",
       "      <th>UserId</th>\n",
       "      <th>ItemId</th>\n",
       "      <th>Rating</th>\n",
       "      <th>Time</th>\n",
       "      <th>SessionId</th>\n",
       "      <th>item_idx</th>\n",
       "    </tr>\n",
       "  </thead>\n",
       "  <tbody>\n",
       "    <tr>\n",
       "      <th>0</th>\n",
       "      <td>1</td>\n",
       "      <td>3186</td>\n",
       "      <td>4</td>\n",
       "      <td>978300019</td>\n",
       "      <td>0</td>\n",
       "      <td>0</td>\n",
       "    </tr>\n",
       "    <tr>\n",
       "      <th>1</th>\n",
       "      <td>1</td>\n",
       "      <td>1270</td>\n",
       "      <td>5</td>\n",
       "      <td>978300055</td>\n",
       "      <td>0</td>\n",
       "      <td>1</td>\n",
       "    </tr>\n",
       "    <tr>\n",
       "      <th>2</th>\n",
       "      <td>1</td>\n",
       "      <td>1721</td>\n",
       "      <td>4</td>\n",
       "      <td>978300055</td>\n",
       "      <td>0</td>\n",
       "      <td>2</td>\n",
       "    </tr>\n",
       "    <tr>\n",
       "      <th>3</th>\n",
       "      <td>1</td>\n",
       "      <td>1022</td>\n",
       "      <td>5</td>\n",
       "      <td>978300055</td>\n",
       "      <td>0</td>\n",
       "      <td>3</td>\n",
       "    </tr>\n",
       "    <tr>\n",
       "      <th>4</th>\n",
       "      <td>1</td>\n",
       "      <td>2340</td>\n",
       "      <td>3</td>\n",
       "      <td>978300103</td>\n",
       "      <td>0</td>\n",
       "      <td>4</td>\n",
       "    </tr>\n",
       "    <tr>\n",
       "      <th>5</th>\n",
       "      <td>1</td>\n",
       "      <td>1836</td>\n",
       "      <td>5</td>\n",
       "      <td>978300172</td>\n",
       "      <td>0</td>\n",
       "      <td>5</td>\n",
       "    </tr>\n",
       "    <tr>\n",
       "      <th>6</th>\n",
       "      <td>1</td>\n",
       "      <td>3408</td>\n",
       "      <td>4</td>\n",
       "      <td>978300275</td>\n",
       "      <td>0</td>\n",
       "      <td>6</td>\n",
       "    </tr>\n",
       "    <tr>\n",
       "      <th>7</th>\n",
       "      <td>1</td>\n",
       "      <td>2804</td>\n",
       "      <td>5</td>\n",
       "      <td>978300719</td>\n",
       "      <td>0</td>\n",
       "      <td>7</td>\n",
       "    </tr>\n",
       "    <tr>\n",
       "      <th>8</th>\n",
       "      <td>1</td>\n",
       "      <td>1207</td>\n",
       "      <td>4</td>\n",
       "      <td>978300719</td>\n",
       "      <td>0</td>\n",
       "      <td>8</td>\n",
       "    </tr>\n",
       "    <tr>\n",
       "      <th>9</th>\n",
       "      <td>1</td>\n",
       "      <td>1193</td>\n",
       "      <td>5</td>\n",
       "      <td>978300760</td>\n",
       "      <td>0</td>\n",
       "      <td>9</td>\n",
       "    </tr>\n",
       "    <tr>\n",
       "      <th>10</th>\n",
       "      <td>1</td>\n",
       "      <td>720</td>\n",
       "      <td>3</td>\n",
       "      <td>978300760</td>\n",
       "      <td>0</td>\n",
       "      <td>10</td>\n",
       "    </tr>\n",
       "    <tr>\n",
       "      <th>11</th>\n",
       "      <td>1</td>\n",
       "      <td>260</td>\n",
       "      <td>4</td>\n",
       "      <td>978300760</td>\n",
       "      <td>0</td>\n",
       "      <td>11</td>\n",
       "    </tr>\n",
       "    <tr>\n",
       "      <th>12</th>\n",
       "      <td>1</td>\n",
       "      <td>919</td>\n",
       "      <td>4</td>\n",
       "      <td>978301368</td>\n",
       "      <td>0</td>\n",
       "      <td>12</td>\n",
       "    </tr>\n",
       "    <tr>\n",
       "      <th>13</th>\n",
       "      <td>1</td>\n",
       "      <td>608</td>\n",
       "      <td>4</td>\n",
       "      <td>978301398</td>\n",
       "      <td>0</td>\n",
       "      <td>13</td>\n",
       "    </tr>\n",
       "    <tr>\n",
       "      <th>14</th>\n",
       "      <td>1</td>\n",
       "      <td>2692</td>\n",
       "      <td>4</td>\n",
       "      <td>978301570</td>\n",
       "      <td>0</td>\n",
       "      <td>14</td>\n",
       "    </tr>\n",
       "  </tbody>\n",
       "</table>\n",
       "</div>"
      ],
      "text/plain": [
       "    UserId  ItemId  Rating       Time  SessionId  item_idx\n",
       "0        1    3186       4  978300019          0         0\n",
       "1        1    1270       5  978300055          0         1\n",
       "2        1    1721       4  978300055          0         2\n",
       "3        1    1022       5  978300055          0         3\n",
       "4        1    2340       3  978300103          0         4\n",
       "5        1    1836       5  978300172          0         5\n",
       "6        1    3408       4  978300275          0         6\n",
       "7        1    2804       5  978300719          0         7\n",
       "8        1    1207       4  978300719          0         8\n",
       "9        1    1193       5  978300760          0         9\n",
       "10       1     720       3  978300760          0        10\n",
       "11       1     260       4  978300760          0        11\n",
       "12       1     919       4  978301368          0        12\n",
       "13       1     608       4  978301398          0        13\n",
       "14       1    2692       4  978301570          0        14"
      ]
     },
     "execution_count": 30,
     "metadata": {},
     "output_type": "execute_result"
    },
    {
     "data": {
      "application/javascript": "\n            setTimeout(function() {\n                var nbb_cell_id = 30;\n                var nbb_unformatted_code = \"tr_data_loader = SessionDataLoader(tr_dataset)\\ntr_dataset.df.head(15)\";\n                var nbb_formatted_code = \"tr_data_loader = SessionDataLoader(tr_dataset)\\ntr_dataset.df.head(15)\";\n                var nbb_cells = Jupyter.notebook.get_cells();\n                for (var i = 0; i < nbb_cells.length; ++i) {\n                    if (nbb_cells[i].input_prompt_number == nbb_cell_id) {\n                        if (nbb_cells[i].get_text() == nbb_unformatted_code) {\n                             nbb_cells[i].set_text(nbb_formatted_code);\n                        }\n                        break;\n                    }\n                }\n            }, 500);\n            ",
      "text/plain": [
       "<IPython.core.display.Javascript object>"
      ]
     },
     "metadata": {},
     "output_type": "display_data"
    }
   ],
   "source": [
    "tr_data_loader = SessionDataLoader(tr_dataset)\n",
    "tr_dataset.df.head(15)"
   ]
  },
  {
   "cell_type": "markdown",
   "id": "44c478cf",
   "metadata": {},
   "source": [
    "성능을 평가하기 위한 metric 함수를 정의합니다."
   ]
  },
  {
   "cell_type": "code",
   "execution_count": 31,
   "id": "e1b244d2",
   "metadata": {},
   "outputs": [
    {
     "data": {
      "application/javascript": "\n            setTimeout(function() {\n                var nbb_cell_id = 31;\n                var nbb_unformatted_code = \"def mrr_k(pred, truth: int, k: int):\\n    indexing = np.where(pred[:k] == truth)[0]\\n    if len(indexing) > 0:\\n        return 1 / (indexing[0] + 1)\\n    else:\\n        return 0\\n\\n\\ndef recall_k(pred, truth: int, k: int) -> int:\\n    answer = truth in pred[:k]\\n    return int(answer)\";\n                var nbb_formatted_code = \"def mrr_k(pred, truth: int, k: int):\\n    indexing = np.where(pred[:k] == truth)[0]\\n    if len(indexing) > 0:\\n        return 1 / (indexing[0] + 1)\\n    else:\\n        return 0\\n\\n\\ndef recall_k(pred, truth: int, k: int) -> int:\\n    answer = truth in pred[:k]\\n    return int(answer)\";\n                var nbb_cells = Jupyter.notebook.get_cells();\n                for (var i = 0; i < nbb_cells.length; ++i) {\n                    if (nbb_cells[i].input_prompt_number == nbb_cell_id) {\n                        if (nbb_cells[i].get_text() == nbb_unformatted_code) {\n                             nbb_cells[i].set_text(nbb_formatted_code);\n                        }\n                        break;\n                    }\n                }\n            }, 500);\n            ",
      "text/plain": [
       "<IPython.core.display.Javascript object>"
      ]
     },
     "metadata": {},
     "output_type": "display_data"
    }
   ],
   "source": [
    "def mrr_k(pred, truth: int, k: int):\n",
    "    indexing = np.where(pred[:k] == truth)[0]\n",
    "    if len(indexing) > 0:\n",
    "        return 1 / (indexing[0] + 1)\n",
    "    else:\n",
    "        return 0\n",
    "\n",
    "\n",
    "def recall_k(pred, truth: int, k: int) -> int:\n",
    "    answer = truth in pred[:k]\n",
    "    return int(answer)"
   ]
  },
  {
   "cell_type": "markdown",
   "id": "80a23cad",
   "metadata": {},
   "source": [
    "## 모델 학습 및 평가"
   ]
  },
  {
   "cell_type": "code",
   "execution_count": 32,
   "id": "90ebf74c",
   "metadata": {},
   "outputs": [
    {
     "data": {
      "application/javascript": "\n            setTimeout(function() {\n                var nbb_cell_id = 32;\n                var nbb_unformatted_code = \"import numpy as np\\nimport tensorflow as tf\\nfrom tensorflow.keras.layers import Input, Dense, Dropout, GRU\\nfrom tensorflow.keras.losses import categorical_crossentropy\\nfrom tensorflow.keras.models import Model\\nfrom tensorflow.keras.optimizers import Adam\\nfrom tensorflow.keras.utils import to_categorical\\nfrom tqdm import tqdm\";\n                var nbb_formatted_code = \"import numpy as np\\nimport tensorflow as tf\\nfrom tensorflow.keras.layers import Input, Dense, Dropout, GRU\\nfrom tensorflow.keras.losses import categorical_crossentropy\\nfrom tensorflow.keras.models import Model\\nfrom tensorflow.keras.optimizers import Adam\\nfrom tensorflow.keras.utils import to_categorical\\nfrom tqdm import tqdm\";\n                var nbb_cells = Jupyter.notebook.get_cells();\n                for (var i = 0; i < nbb_cells.length; ++i) {\n                    if (nbb_cells[i].input_prompt_number == nbb_cell_id) {\n                        if (nbb_cells[i].get_text() == nbb_unformatted_code) {\n                             nbb_cells[i].set_text(nbb_formatted_code);\n                        }\n                        break;\n                    }\n                }\n            }, 500);\n            ",
      "text/plain": [
       "<IPython.core.display.Javascript object>"
      ]
     },
     "metadata": {},
     "output_type": "display_data"
    }
   ],
   "source": [
    "import numpy as np\n",
    "import tensorflow as tf\n",
    "from tensorflow.keras.layers import Input, Dense, Dropout, GRU\n",
    "from tensorflow.keras.losses import categorical_crossentropy\n",
    "from tensorflow.keras.models import Model\n",
    "from tensorflow.keras.optimizers import Adam\n",
    "from tensorflow.keras.utils import to_categorical\n",
    "from tqdm import tqdm"
   ]
  },
  {
   "cell_type": "code",
   "execution_count": 33,
   "id": "a83a9899",
   "metadata": {},
   "outputs": [
    {
     "data": {
      "application/javascript": "\n            setTimeout(function() {\n                var nbb_cell_id = 33;\n                var nbb_unformatted_code = \"def create_model(args):\\n    inputs = Input(batch_shape=(args.batch_size, 1, args.num_items))\\n    gru, _ = GRU(args.hsz, stateful=True, return_state=True, name=\\\"GRU\\\")(inputs)\\n    dropout = Dropout(args.drop_rate)(gru)\\n    predictions = Dense(args.num_items, activation=\\\"softmax\\\")(dropout)\\n    model = Model(\\n        inputs=inputs, outputs=[predictions], name=f\\\"m_b{args.batch_size}_h{args.hsz}\\\"\\n    )\\n    model.compile(\\n        loss=categorical_crossentropy, optimizer=Adam(args.lr), metrics=[\\\"accuracy\\\"]\\n    )\\n    model.summary()\\n    return model\";\n                var nbb_formatted_code = \"def create_model(args):\\n    inputs = Input(batch_shape=(args.batch_size, 1, args.num_items))\\n    gru, _ = GRU(args.hsz, stateful=True, return_state=True, name=\\\"GRU\\\")(inputs)\\n    dropout = Dropout(args.drop_rate)(gru)\\n    predictions = Dense(args.num_items, activation=\\\"softmax\\\")(dropout)\\n    model = Model(\\n        inputs=inputs, outputs=[predictions], name=f\\\"m_b{args.batch_size}_h{args.hsz}\\\"\\n    )\\n    model.compile(\\n        loss=categorical_crossentropy, optimizer=Adam(args.lr), metrics=[\\\"accuracy\\\"]\\n    )\\n    model.summary()\\n    return model\";\n                var nbb_cells = Jupyter.notebook.get_cells();\n                for (var i = 0; i < nbb_cells.length; ++i) {\n                    if (nbb_cells[i].input_prompt_number == nbb_cell_id) {\n                        if (nbb_cells[i].get_text() == nbb_unformatted_code) {\n                             nbb_cells[i].set_text(nbb_formatted_code);\n                        }\n                        break;\n                    }\n                }\n            }, 500);\n            ",
      "text/plain": [
       "<IPython.core.display.Javascript object>"
      ]
     },
     "metadata": {},
     "output_type": "display_data"
    }
   ],
   "source": [
    "def create_model(args):\n",
    "    inputs = Input(batch_shape=(args.batch_size, 1, args.num_items))\n",
    "    gru, _ = GRU(args.hsz, stateful=True, return_state=True, name=\"GRU\")(inputs)\n",
    "    dropout = Dropout(args.drop_rate)(gru)\n",
    "    predictions = Dense(args.num_items, activation=\"softmax\")(dropout)\n",
    "    model = Model(\n",
    "        inputs=inputs, outputs=[predictions], name=f\"m_b{args.batch_size}_h{args.hsz}\"\n",
    "    )\n",
    "    model.compile(\n",
    "        loss=categorical_crossentropy, optimizer=Adam(args.lr), metrics=[\"accuracy\"]\n",
    "    )\n",
    "    model.summary()\n",
    "    return model"
   ]
  },
  {
   "cell_type": "code",
   "execution_count": 34,
   "id": "c3eb04fc",
   "metadata": {},
   "outputs": [
    {
     "data": {
      "application/javascript": "\n            setTimeout(function() {\n                var nbb_cell_id = 34;\n                var nbb_unformatted_code = \"BATCH_SZ = 128\\nH_SZ = 64\\nEPOCH = 10\";\n                var nbb_formatted_code = \"BATCH_SZ = 128\\nH_SZ = 64\\nEPOCH = 10\";\n                var nbb_cells = Jupyter.notebook.get_cells();\n                for (var i = 0; i < nbb_cells.length; ++i) {\n                    if (nbb_cells[i].input_prompt_number == nbb_cell_id) {\n                        if (nbb_cells[i].get_text() == nbb_unformatted_code) {\n                             nbb_cells[i].set_text(nbb_formatted_code);\n                        }\n                        break;\n                    }\n                }\n            }, 500);\n            ",
      "text/plain": [
       "<IPython.core.display.Javascript object>"
      ]
     },
     "metadata": {},
     "output_type": "display_data"
    }
   ],
   "source": [
    "BATCH_SZ = 128\n",
    "H_SZ = 64\n",
    "EPOCH = 10"
   ]
  },
  {
   "cell_type": "code",
   "execution_count": 35,
   "id": "5c3a5e7e",
   "metadata": {},
   "outputs": [
    {
     "data": {
      "application/javascript": "\n            setTimeout(function() {\n                var nbb_cell_id = 35;\n                var nbb_unformatted_code = \"class Args:\\n    def __init__(self, tr, val, test, batch_size, hsz, drop_rate, lr, epochs, k):\\n        self.tr = tr\\n        self.val = val\\n        self.test = test\\n        self.num_items = tr[\\\"ItemId\\\"].nunique()\\n        self.num_sessions = tr[\\\"SessionId\\\"].nunique()\\n        self.batch_size = batch_size\\n        self.hsz = hsz\\n        self.drop_rate = drop_rate\\n        self.lr = lr\\n        self.epochs = epochs\\n        self.k = k\\n\\n\\nargs = Args(\\n    tr,\\n    val,\\n    test,\\n    batch_size=BATCH_SZ,\\n    hsz=H_SZ,\\n    drop_rate=0.1,\\n    lr=0.001,\\n    epochs=EPOCH,\\n    k=20,\\n)\";\n                var nbb_formatted_code = \"class Args:\\n    def __init__(self, tr, val, test, batch_size, hsz, drop_rate, lr, epochs, k):\\n        self.tr = tr\\n        self.val = val\\n        self.test = test\\n        self.num_items = tr[\\\"ItemId\\\"].nunique()\\n        self.num_sessions = tr[\\\"SessionId\\\"].nunique()\\n        self.batch_size = batch_size\\n        self.hsz = hsz\\n        self.drop_rate = drop_rate\\n        self.lr = lr\\n        self.epochs = epochs\\n        self.k = k\\n\\n\\nargs = Args(\\n    tr,\\n    val,\\n    test,\\n    batch_size=BATCH_SZ,\\n    hsz=H_SZ,\\n    drop_rate=0.1,\\n    lr=0.001,\\n    epochs=EPOCH,\\n    k=20,\\n)\";\n                var nbb_cells = Jupyter.notebook.get_cells();\n                for (var i = 0; i < nbb_cells.length; ++i) {\n                    if (nbb_cells[i].input_prompt_number == nbb_cell_id) {\n                        if (nbb_cells[i].get_text() == nbb_unformatted_code) {\n                             nbb_cells[i].set_text(nbb_formatted_code);\n                        }\n                        break;\n                    }\n                }\n            }, 500);\n            ",
      "text/plain": [
       "<IPython.core.display.Javascript object>"
      ]
     },
     "metadata": {},
     "output_type": "display_data"
    }
   ],
   "source": [
    "class Args:\n",
    "    def __init__(self, tr, val, test, batch_size, hsz, drop_rate, lr, epochs, k):\n",
    "        self.tr = tr\n",
    "        self.val = val\n",
    "        self.test = test\n",
    "        self.num_items = tr[\"ItemId\"].nunique()\n",
    "        self.num_sessions = tr[\"SessionId\"].nunique()\n",
    "        self.batch_size = batch_size\n",
    "        self.hsz = hsz\n",
    "        self.drop_rate = drop_rate\n",
    "        self.lr = lr\n",
    "        self.epochs = epochs\n",
    "        self.k = k\n",
    "\n",
    "\n",
    "args = Args(\n",
    "    tr,\n",
    "    val,\n",
    "    test,\n",
    "    batch_size=BATCH_SZ,\n",
    "    hsz=H_SZ,\n",
    "    drop_rate=0.1,\n",
    "    lr=0.001,\n",
    "    epochs=EPOCH,\n",
    "    k=20,\n",
    ")"
   ]
  },
  {
   "cell_type": "code",
   "execution_count": 36,
   "id": "98a9beeb",
   "metadata": {},
   "outputs": [
    {
     "name": "stdout",
     "output_type": "stream",
     "text": [
      "Model: \"m_b128_h64\"\n",
      "_________________________________________________________________\n",
      "Layer (type)                 Output Shape              Param #   \n",
      "=================================================================\n",
      "input_1 (InputLayer)         [(128, 1, 3100)]          0         \n",
      "_________________________________________________________________\n",
      "GRU (GRU)                    [(128, 64), (128, 64)]    607872    \n",
      "_________________________________________________________________\n",
      "dropout (Dropout)            (128, 64)                 0         \n",
      "_________________________________________________________________\n",
      "dense (Dense)                (128, 3100)               201500    \n",
      "=================================================================\n",
      "Total params: 809,372\n",
      "Trainable params: 809,372\n",
      "Non-trainable params: 0\n",
      "_________________________________________________________________\n"
     ]
    },
    {
     "data": {
      "application/javascript": "\n            setTimeout(function() {\n                var nbb_cell_id = 36;\n                var nbb_unformatted_code = \"model = create_model(args)\";\n                var nbb_formatted_code = \"model = create_model(args)\";\n                var nbb_cells = Jupyter.notebook.get_cells();\n                for (var i = 0; i < nbb_cells.length; ++i) {\n                    if (nbb_cells[i].input_prompt_number == nbb_cell_id) {\n                        if (nbb_cells[i].get_text() == nbb_unformatted_code) {\n                             nbb_cells[i].set_text(nbb_formatted_code);\n                        }\n                        break;\n                    }\n                }\n            }, 500);\n            ",
      "text/plain": [
       "<IPython.core.display.Javascript object>"
      ]
     },
     "metadata": {},
     "output_type": "display_data"
    }
   ],
   "source": [
    "model = create_model(args)"
   ]
  },
  {
   "cell_type": "code",
   "execution_count": 37,
   "id": "6cb71340",
   "metadata": {},
   "outputs": [
    {
     "data": {
      "application/javascript": "\n            setTimeout(function() {\n                var nbb_cell_id = 37;\n                var nbb_unformatted_code = \"# train \\uc14b\\uc73c\\ub85c \\ud559\\uc2b5\\ud558\\uba74\\uc11c valid \\uc14b\\uc73c\\ub85c \\uac80\\uc99d\\ud569\\ub2c8\\ub2e4.\\ndef train_model(model, args, verbose=False):\\n    train_dataset = SessionDataset(args.tr)\\n    train_loader = SessionDataLoader(train_dataset, batch_size=args.batch_size)\\n\\n    for epoch in range(1, args.epochs + 1):\\n        total_step = len(args.tr) - args.tr[\\\"SessionId\\\"].nunique()\\n        tr_loader = tqdm(\\n            train_loader,\\n            total=total_step // args.batch_size,\\n            desc=\\\"Train\\\",\\n            mininterval=1,\\n        )\\n        for feat, target, mask in tr_loader:\\n            reset_hidden_states(\\n                model, mask\\n            )  # \\uc885\\ub8cc\\ub41c session\\uc740 hidden_state\\ub97c \\ucd08\\uae30\\ud654\\ud569\\ub2c8\\ub2e4. \\uc544\\ub798 \\uba54\\uc11c\\ub4dc\\uc5d0\\uc11c \\ud655\\uc778\\ud574\\uc8fc\\uc138\\uc694.\\n\\n            input_ohe = to_categorical(feat, num_classes=args.num_items)\\n            input_ohe = np.expand_dims(input_ohe, axis=1)\\n            target_ohe = to_categorical(target, num_classes=args.num_items)\\n\\n            result = model.train_on_batch(input_ohe, target_ohe)\\n            tr_loader.set_postfix(train_loss=result[0], accuracy=result[1])\\n\\n        val_recall, val_mrr = get_metrics(\\n            args.val, model, args, args.k\\n        )  # valid set\\uc5d0 \\ub300\\ud574 \\uac80\\uc99d\\ud569\\ub2c8\\ub2e4.\\n        if verbose == 1 and epoch and epoch % 5 == 0:\\n            print(f\\\"\\\\t - Recall@{args.k} epoch {epoch}: {val_recall:3f}\\\")\\n            print(f\\\"\\\\t - MRR@{args.k}    epoch {epoch}: {val_mrr:3f}\\\")\\n        if verbose == 2 and epoch:\\n            print(f\\\"\\\\t - Recall@{args.k} epoch {epoch}: {val_recall:3f}\\\")\\n            print(f\\\"\\\\t - MRR@{args.k}    epoch {epoch}: {val_mrr:3f}\\\")\\n\\n\\ndef reset_hidden_states(model, mask):\\n    gru_layer = model.get_layer(name=\\\"GRU\\\")  # model\\uc5d0\\uc11c gru layer\\ub97c \\uac00\\uc838\\uc635\\ub2c8\\ub2e4.\\n    hidden_states = gru_layer.states[0].numpy()  # gru_layer\\uc758 parameter\\ub97c \\uac00\\uc838\\uc635\\ub2c8\\ub2e4.\\n    for elt in mask:  # mask\\ub41c \\uc778\\ub371\\uc2a4 \\uc989, \\uc885\\ub8cc\\ub41c \\uc138\\uc158\\uc758 \\uc778\\ub371\\uc2a4\\ub97c \\ub3cc\\uba74\\uc11c\\n        hidden_states[elt, :] = 0  # parameter\\ub97c \\ucd08\\uae30\\ud654 \\ud569\\ub2c8\\ub2e4.\\n    gru_layer.reset_states(states=hidden_states)\\n\\n\\ndef get_metrics(data, model, args, k: int):  # valid\\uc14b\\uacfc test\\uc14b\\uc744 \\ud3c9\\uac00\\ud558\\ub294 \\ucf54\\ub4dc\\uc785\\ub2c8\\ub2e4.\\n    # train\\uacfc \\uac70\\uc758 \\uac19\\uc9c0\\ub9cc mrr, recall\\uc744 \\uad6c\\ud558\\ub294 \\ub77c\\uc778\\uc774 \\uc788\\uc2b5\\ub2c8\\ub2e4.\\n    dataset = SessionDataset(data)\\n    loader = SessionDataLoader(dataset, batch_size=args.batch_size)\\n    recall_list, mrr_list = [], []\\n\\n    total_step = len(data) - data[\\\"SessionId\\\"].nunique()\\n    for inputs, label, mask in tqdm(\\n        loader, total=total_step // args.batch_size, desc=\\\"Evaluation\\\", mininterval=1\\n    ):\\n        reset_hidden_states(model, mask)\\n        input_ohe = to_categorical(inputs, num_classes=args.num_items)\\n        input_ohe = np.expand_dims(input_ohe, axis=1)\\n\\n        pred = model.predict(input_ohe, batch_size=args.batch_size)\\n        pred_arg = tf.argsort(\\n            pred, direction=\\\"DESCENDING\\\"\\n        )  # softmax \\uac12\\uc774 \\ud070 \\uc21c\\uc11c\\ub300\\ub85c sorting \\ud569\\ub2c8\\ub2e4.\\n\\n        length = len(inputs)\\n        recall_list.extend([recall_k(pred_arg[i], label[i], k) for i in range(length)])\\n        mrr_list.extend([mrr_k(pred_arg[i], label[i], k) for i in range(length)])\\n\\n    recall, mrr = np.mean(recall_list), np.mean(mrr_list)\\n    return recall, mrr\";\n                var nbb_formatted_code = \"# train \\uc14b\\uc73c\\ub85c \\ud559\\uc2b5\\ud558\\uba74\\uc11c valid \\uc14b\\uc73c\\ub85c \\uac80\\uc99d\\ud569\\ub2c8\\ub2e4.\\ndef train_model(model, args, verbose=False):\\n    train_dataset = SessionDataset(args.tr)\\n    train_loader = SessionDataLoader(train_dataset, batch_size=args.batch_size)\\n\\n    for epoch in range(1, args.epochs + 1):\\n        total_step = len(args.tr) - args.tr[\\\"SessionId\\\"].nunique()\\n        tr_loader = tqdm(\\n            train_loader,\\n            total=total_step // args.batch_size,\\n            desc=\\\"Train\\\",\\n            mininterval=1,\\n        )\\n        for feat, target, mask in tr_loader:\\n            reset_hidden_states(\\n                model, mask\\n            )  # \\uc885\\ub8cc\\ub41c session\\uc740 hidden_state\\ub97c \\ucd08\\uae30\\ud654\\ud569\\ub2c8\\ub2e4. \\uc544\\ub798 \\uba54\\uc11c\\ub4dc\\uc5d0\\uc11c \\ud655\\uc778\\ud574\\uc8fc\\uc138\\uc694.\\n\\n            input_ohe = to_categorical(feat, num_classes=args.num_items)\\n            input_ohe = np.expand_dims(input_ohe, axis=1)\\n            target_ohe = to_categorical(target, num_classes=args.num_items)\\n\\n            result = model.train_on_batch(input_ohe, target_ohe)\\n            tr_loader.set_postfix(train_loss=result[0], accuracy=result[1])\\n\\n        val_recall, val_mrr = get_metrics(\\n            args.val, model, args, args.k\\n        )  # valid set\\uc5d0 \\ub300\\ud574 \\uac80\\uc99d\\ud569\\ub2c8\\ub2e4.\\n        if verbose == 1 and epoch and epoch % 5 == 0:\\n            print(f\\\"\\\\t - Recall@{args.k} epoch {epoch}: {val_recall:3f}\\\")\\n            print(f\\\"\\\\t - MRR@{args.k}    epoch {epoch}: {val_mrr:3f}\\\")\\n        if verbose == 2 and epoch:\\n            print(f\\\"\\\\t - Recall@{args.k} epoch {epoch}: {val_recall:3f}\\\")\\n            print(f\\\"\\\\t - MRR@{args.k}    epoch {epoch}: {val_mrr:3f}\\\")\\n\\n\\ndef reset_hidden_states(model, mask):\\n    gru_layer = model.get_layer(name=\\\"GRU\\\")  # model\\uc5d0\\uc11c gru layer\\ub97c \\uac00\\uc838\\uc635\\ub2c8\\ub2e4.\\n    hidden_states = gru_layer.states[0].numpy()  # gru_layer\\uc758 parameter\\ub97c \\uac00\\uc838\\uc635\\ub2c8\\ub2e4.\\n    for elt in mask:  # mask\\ub41c \\uc778\\ub371\\uc2a4 \\uc989, \\uc885\\ub8cc\\ub41c \\uc138\\uc158\\uc758 \\uc778\\ub371\\uc2a4\\ub97c \\ub3cc\\uba74\\uc11c\\n        hidden_states[elt, :] = 0  # parameter\\ub97c \\ucd08\\uae30\\ud654 \\ud569\\ub2c8\\ub2e4.\\n    gru_layer.reset_states(states=hidden_states)\\n\\n\\ndef get_metrics(data, model, args, k: int):  # valid\\uc14b\\uacfc test\\uc14b\\uc744 \\ud3c9\\uac00\\ud558\\ub294 \\ucf54\\ub4dc\\uc785\\ub2c8\\ub2e4.\\n    # train\\uacfc \\uac70\\uc758 \\uac19\\uc9c0\\ub9cc mrr, recall\\uc744 \\uad6c\\ud558\\ub294 \\ub77c\\uc778\\uc774 \\uc788\\uc2b5\\ub2c8\\ub2e4.\\n    dataset = SessionDataset(data)\\n    loader = SessionDataLoader(dataset, batch_size=args.batch_size)\\n    recall_list, mrr_list = [], []\\n\\n    total_step = len(data) - data[\\\"SessionId\\\"].nunique()\\n    for inputs, label, mask in tqdm(\\n        loader, total=total_step // args.batch_size, desc=\\\"Evaluation\\\", mininterval=1\\n    ):\\n        reset_hidden_states(model, mask)\\n        input_ohe = to_categorical(inputs, num_classes=args.num_items)\\n        input_ohe = np.expand_dims(input_ohe, axis=1)\\n\\n        pred = model.predict(input_ohe, batch_size=args.batch_size)\\n        pred_arg = tf.argsort(\\n            pred, direction=\\\"DESCENDING\\\"\\n        )  # softmax \\uac12\\uc774 \\ud070 \\uc21c\\uc11c\\ub300\\ub85c sorting \\ud569\\ub2c8\\ub2e4.\\n\\n        length = len(inputs)\\n        recall_list.extend([recall_k(pred_arg[i], label[i], k) for i in range(length)])\\n        mrr_list.extend([mrr_k(pred_arg[i], label[i], k) for i in range(length)])\\n\\n    recall, mrr = np.mean(recall_list), np.mean(mrr_list)\\n    return recall, mrr\";\n                var nbb_cells = Jupyter.notebook.get_cells();\n                for (var i = 0; i < nbb_cells.length; ++i) {\n                    if (nbb_cells[i].input_prompt_number == nbb_cell_id) {\n                        if (nbb_cells[i].get_text() == nbb_unformatted_code) {\n                             nbb_cells[i].set_text(nbb_formatted_code);\n                        }\n                        break;\n                    }\n                }\n            }, 500);\n            ",
      "text/plain": [
       "<IPython.core.display.Javascript object>"
      ]
     },
     "metadata": {},
     "output_type": "display_data"
    }
   ],
   "source": [
    "# train 셋으로 학습하면서 valid 셋으로 검증합니다.\n",
    "def train_model(model, args, verbose=False):\n",
    "    train_dataset = SessionDataset(args.tr)\n",
    "    train_loader = SessionDataLoader(train_dataset, batch_size=args.batch_size)\n",
    "\n",
    "    for epoch in range(1, args.epochs + 1):\n",
    "        total_step = len(args.tr) - args.tr[\"SessionId\"].nunique()\n",
    "        tr_loader = tqdm(\n",
    "            train_loader,\n",
    "            total=total_step // args.batch_size,\n",
    "            desc=\"Train\",\n",
    "            mininterval=1,\n",
    "        )\n",
    "        for feat, target, mask in tr_loader:\n",
    "            reset_hidden_states(\n",
    "                model, mask\n",
    "            )  # 종료된 session은 hidden_state를 초기화합니다. 아래 메서드에서 확인해주세요.\n",
    "\n",
    "            input_ohe = to_categorical(feat, num_classes=args.num_items)\n",
    "            input_ohe = np.expand_dims(input_ohe, axis=1)\n",
    "            target_ohe = to_categorical(target, num_classes=args.num_items)\n",
    "\n",
    "            result = model.train_on_batch(input_ohe, target_ohe)\n",
    "            tr_loader.set_postfix(train_loss=result[0], accuracy=result[1])\n",
    "\n",
    "        val_recall, val_mrr = get_metrics(\n",
    "            args.val, model, args, args.k\n",
    "        )  # valid set에 대해 검증합니다.\n",
    "        if verbose == 1 and epoch and epoch % 5 == 0:\n",
    "            print(f\"\\t - Recall@{args.k} epoch {epoch}: {val_recall:3f}\")\n",
    "            print(f\"\\t - MRR@{args.k}    epoch {epoch}: {val_mrr:3f}\")\n",
    "        if verbose == 2 and epoch:\n",
    "            print(f\"\\t - Recall@{args.k} epoch {epoch}: {val_recall:3f}\")\n",
    "            print(f\"\\t - MRR@{args.k}    epoch {epoch}: {val_mrr:3f}\")\n",
    "\n",
    "\n",
    "def reset_hidden_states(model, mask):\n",
    "    gru_layer = model.get_layer(name=\"GRU\")  # model에서 gru layer를 가져옵니다.\n",
    "    hidden_states = gru_layer.states[0].numpy()  # gru_layer의 parameter를 가져옵니다.\n",
    "    for elt in mask:  # mask된 인덱스 즉, 종료된 세션의 인덱스를 돌면서\n",
    "        hidden_states[elt, :] = 0  # parameter를 초기화 합니다.\n",
    "    gru_layer.reset_states(states=hidden_states)\n",
    "\n",
    "\n",
    "def get_metrics(data, model, args, k: int):  # valid셋과 test셋을 평가하는 코드입니다.\n",
    "    # train과 거의 같지만 mrr, recall을 구하는 라인이 있습니다.\n",
    "    dataset = SessionDataset(data)\n",
    "    loader = SessionDataLoader(dataset, batch_size=args.batch_size)\n",
    "    recall_list, mrr_list = [], []\n",
    "\n",
    "    total_step = len(data) - data[\"SessionId\"].nunique()\n",
    "    for inputs, label, mask in tqdm(\n",
    "        loader, total=total_step // args.batch_size, desc=\"Evaluation\", mininterval=1\n",
    "    ):\n",
    "        reset_hidden_states(model, mask)\n",
    "        input_ohe = to_categorical(inputs, num_classes=args.num_items)\n",
    "        input_ohe = np.expand_dims(input_ohe, axis=1)\n",
    "\n",
    "        pred = model.predict(input_ohe, batch_size=args.batch_size)\n",
    "        pred_arg = tf.argsort(\n",
    "            pred, direction=\"DESCENDING\"\n",
    "        )  # softmax 값이 큰 순서대로 sorting 합니다.\n",
    "\n",
    "        length = len(inputs)\n",
    "        recall_list.extend([recall_k(pred_arg[i], label[i], k) for i in range(length)])\n",
    "        mrr_list.extend([mrr_k(pred_arg[i], label[i], k) for i in range(length)])\n",
    "\n",
    "    recall, mrr = np.mean(recall_list), np.mean(mrr_list)\n",
    "    return recall, mrr"
   ]
  },
  {
   "cell_type": "code",
   "execution_count": 38,
   "id": "c1308c07",
   "metadata": {
    "scrolled": false
   },
   "outputs": [
    {
     "name": "stderr",
     "output_type": "stream",
     "text": [
      "Train:  99%|█████████▉| 6100/6164 [01:24<00:00, 72.02it/s, accuracy=0.0469, train_loss=5.88] \n",
      "Evaluation:  68%|██████▊   | 48/71 [00:26<00:12,  1.83it/s]\n"
     ]
    },
    {
     "name": "stdout",
     "output_type": "stream",
     "text": [
      "\t - Recall@20 epoch 1: 0.115723\n",
      "\t - MRR@20    epoch 1: 0.029443\n"
     ]
    },
    {
     "name": "stderr",
     "output_type": "stream",
     "text": [
      "Train:  99%|█████████▉| 6100/6164 [01:20<00:00, 76.08it/s, accuracy=0.0547, train_loss=5.49] \n",
      "Evaluation:  68%|██████▊   | 48/71 [00:25<00:12,  1.86it/s]\n"
     ]
    },
    {
     "name": "stdout",
     "output_type": "stream",
     "text": [
      "\t - Recall@20 epoch 2: 0.143555\n",
      "\t - MRR@20    epoch 2: 0.037504\n"
     ]
    },
    {
     "name": "stderr",
     "output_type": "stream",
     "text": [
      "Train:  99%|█████████▉| 6100/6164 [01:20<00:00, 75.89it/s, accuracy=0.0625, train_loss=5.4]  \n",
      "Evaluation:  68%|██████▊   | 48/71 [00:25<00:12,  1.89it/s]\n"
     ]
    },
    {
     "name": "stdout",
     "output_type": "stream",
     "text": [
      "\t - Recall@20 epoch 3: 0.153158\n",
      "\t - MRR@20    epoch 3: 0.040929\n"
     ]
    },
    {
     "name": "stderr",
     "output_type": "stream",
     "text": [
      "Train:  99%|█████████▉| 6100/6164 [01:20<00:00, 76.01it/s, accuracy=0.0547, train_loss=5.31] \n",
      "Evaluation:  68%|██████▊   | 48/71 [00:25<00:12,  1.88it/s]\n"
     ]
    },
    {
     "name": "stdout",
     "output_type": "stream",
     "text": [
      "\t - Recall@20 epoch 4: 0.155436\n",
      "\t - MRR@20    epoch 4: 0.043730\n"
     ]
    },
    {
     "name": "stderr",
     "output_type": "stream",
     "text": [
      "Train:  99%|█████████▉| 6100/6164 [01:22<00:00, 74.00it/s, accuracy=0.0781, train_loss=5.26] \n",
      "Evaluation:  68%|██████▊   | 48/71 [00:25<00:12,  1.89it/s]\n"
     ]
    },
    {
     "name": "stdout",
     "output_type": "stream",
     "text": [
      "\t - Recall@20 epoch 5: 0.160970\n",
      "\t - MRR@20    epoch 5: 0.045963\n"
     ]
    },
    {
     "name": "stderr",
     "output_type": "stream",
     "text": [
      "Train:  99%|█████████▉| 6100/6164 [01:22<00:00, 73.71it/s, accuracy=0.0781, train_loss=5.22] \n",
      "Evaluation:  68%|██████▊   | 48/71 [00:25<00:12,  1.91it/s]\n"
     ]
    },
    {
     "name": "stdout",
     "output_type": "stream",
     "text": [
      "\t - Recall@20 epoch 6: 0.160319\n",
      "\t - MRR@20    epoch 6: 0.046409\n"
     ]
    },
    {
     "name": "stderr",
     "output_type": "stream",
     "text": [
      "Train:  99%|█████████▉| 6100/6164 [01:20<00:00, 76.05it/s, accuracy=0.0625, train_loss=5.25] \n",
      "Evaluation:  68%|██████▊   | 48/71 [00:25<00:12,  1.91it/s]\n"
     ]
    },
    {
     "name": "stdout",
     "output_type": "stream",
     "text": [
      "\t - Recall@20 epoch 7: 0.162109\n",
      "\t - MRR@20    epoch 7: 0.047636\n"
     ]
    },
    {
     "name": "stderr",
     "output_type": "stream",
     "text": [
      "Train:  99%|█████████▉| 6100/6164 [01:19<00:00, 76.46it/s, accuracy=0.0625, train_loss=5.27] \n",
      "Evaluation:  68%|██████▊   | 48/71 [00:25<00:12,  1.91it/s]\n"
     ]
    },
    {
     "name": "stdout",
     "output_type": "stream",
     "text": [
      "\t - Recall@20 epoch 8: 0.161458\n",
      "\t - MRR@20    epoch 8: 0.047273\n"
     ]
    },
    {
     "name": "stderr",
     "output_type": "stream",
     "text": [
      "Train:  99%|█████████▉| 6100/6164 [01:19<00:00, 76.41it/s, accuracy=0.0938, train_loss=5.18] \n",
      "Evaluation:  68%|██████▊   | 48/71 [00:25<00:12,  1.90it/s]\n"
     ]
    },
    {
     "name": "stdout",
     "output_type": "stream",
     "text": [
      "\t - Recall@20 epoch 9: 0.162923\n",
      "\t - MRR@20    epoch 9: 0.048023\n"
     ]
    },
    {
     "name": "stderr",
     "output_type": "stream",
     "text": [
      "Train:  99%|█████████▉| 6100/6164 [01:19<00:00, 76.92it/s, accuracy=0.0859, train_loss=5.26] \n",
      "Evaluation:  68%|██████▊   | 48/71 [00:25<00:12,  1.90it/s]"
     ]
    },
    {
     "name": "stdout",
     "output_type": "stream",
     "text": [
      "\t - Recall@20 epoch 10: 0.166829\n",
      "\t - MRR@20    epoch 10: 0.048603\n"
     ]
    },
    {
     "name": "stderr",
     "output_type": "stream",
     "text": [
      "\n"
     ]
    },
    {
     "data": {
      "application/javascript": "\n            setTimeout(function() {\n                var nbb_cell_id = 38;\n                var nbb_unformatted_code = \"train_model(model, args, verbose=2)\";\n                var nbb_formatted_code = \"train_model(model, args, verbose=2)\";\n                var nbb_cells = Jupyter.notebook.get_cells();\n                for (var i = 0; i < nbb_cells.length; ++i) {\n                    if (nbb_cells[i].input_prompt_number == nbb_cell_id) {\n                        if (nbb_cells[i].get_text() == nbb_unformatted_code) {\n                             nbb_cells[i].set_text(nbb_formatted_code);\n                        }\n                        break;\n                    }\n                }\n            }, 500);\n            ",
      "text/plain": [
       "<IPython.core.display.Javascript object>"
      ]
     },
     "metadata": {},
     "output_type": "display_data"
    }
   ],
   "source": [
    "train_model(model, args, verbose=2)"
   ]
  },
  {
   "cell_type": "code",
   "execution_count": 39,
   "id": "403ec8bd",
   "metadata": {},
   "outputs": [
    {
     "name": "stderr",
     "output_type": "stream",
     "text": [
      "Evaluation:  56%|█████▌    | 29/52 [00:15<00:11,  1.92it/s]"
     ]
    },
    {
     "name": "stdout",
     "output_type": "stream",
     "text": [
      "\n",
      "====Evaluation====\n",
      "\t - Recall@20: 0.170259\n",
      "\t - MRR@20: 0.054571\n",
      "\n"
     ]
    },
    {
     "name": "stderr",
     "output_type": "stream",
     "text": [
      "\n"
     ]
    },
    {
     "data": {
      "application/javascript": "\n            setTimeout(function() {\n                var nbb_cell_id = 39;\n                var nbb_unformatted_code = \"def test_model(model, args, test):\\n    test_recall, test_mrr = get_metrics(test, model, args, 20)\\n    print()\\n    print(\\\"====Evaluation====\\\")\\n    print(f\\\"\\\\t - Recall@{args.k}: {test_recall:3f}\\\")\\n    print(f\\\"\\\\t - MRR@{args.k}: {test_mrr:3f}\\\\n\\\")\\n\\n\\ntest_model(model, args, test)\";\n                var nbb_formatted_code = \"def test_model(model, args, test):\\n    test_recall, test_mrr = get_metrics(test, model, args, 20)\\n    print()\\n    print(\\\"====Evaluation====\\\")\\n    print(f\\\"\\\\t - Recall@{args.k}: {test_recall:3f}\\\")\\n    print(f\\\"\\\\t - MRR@{args.k}: {test_mrr:3f}\\\\n\\\")\\n\\n\\ntest_model(model, args, test)\";\n                var nbb_cells = Jupyter.notebook.get_cells();\n                for (var i = 0; i < nbb_cells.length; ++i) {\n                    if (nbb_cells[i].input_prompt_number == nbb_cell_id) {\n                        if (nbb_cells[i].get_text() == nbb_unformatted_code) {\n                             nbb_cells[i].set_text(nbb_formatted_code);\n                        }\n                        break;\n                    }\n                }\n            }, 500);\n            ",
      "text/plain": [
       "<IPython.core.display.Javascript object>"
      ]
     },
     "metadata": {},
     "output_type": "display_data"
    }
   ],
   "source": [
    "def test_model(model, args, test):\n",
    "    test_recall, test_mrr = get_metrics(test, model, args, 20)\n",
    "    print()\n",
    "    print(\"====Evaluation====\")\n",
    "    print(f\"\\t - Recall@{args.k}: {test_recall:3f}\")\n",
    "    print(f\"\\t - MRR@{args.k}: {test_mrr:3f}\\n\")\n",
    "\n",
    "\n",
    "test_model(model, args, test)"
   ]
  },
  {
   "cell_type": "markdown",
   "id": "3711759b",
   "metadata": {},
   "source": [
    "## 모델 탐색"
   ]
  },
  {
   "cell_type": "markdown",
   "id": "199173c5",
   "metadata": {},
   "source": [
    "### 세션 정의 변경"
   ]
  },
  {
   "cell_type": "code",
   "execution_count": 40,
   "id": "b4d86dc4",
   "metadata": {},
   "outputs": [
    {
     "data": {
      "application/javascript": "\n            setTimeout(function() {\n                var nbb_cell_id = 40;\n                var nbb_unformatted_code = \"def get_data(d_orig):\\n    data = d_orig.copy()\\n    data[\\\"TimeDisc\\\"] = data[\\\"Time\\\"].floordiv(unit) * unit\\n    grp = data.groupby([\\\"UserId\\\", \\\"TimeDisc\\\"]).count().reset_index()\\n    grp[\\\"SessionId\\\"] = grp.index\\n    grp.drop([\\\"ItemId\\\", \\\"Rating\\\", \\\"Time\\\"], axis=1, inplace=True)\\n    data_merge = pd.merge(data, grp)\\n    data = data_merge.drop([\\\"TimeDisc\\\"], axis=1)\\n    data.drop(data[data.Rating < 3].index, inplace=True)\\n    data = cleanse_recursive(data, shortest=3, least_click=10)\\n    return data\";\n                var nbb_formatted_code = \"def get_data(d_orig):\\n    data = d_orig.copy()\\n    data[\\\"TimeDisc\\\"] = data[\\\"Time\\\"].floordiv(unit) * unit\\n    grp = data.groupby([\\\"UserId\\\", \\\"TimeDisc\\\"]).count().reset_index()\\n    grp[\\\"SessionId\\\"] = grp.index\\n    grp.drop([\\\"ItemId\\\", \\\"Rating\\\", \\\"Time\\\"], axis=1, inplace=True)\\n    data_merge = pd.merge(data, grp)\\n    data = data_merge.drop([\\\"TimeDisc\\\"], axis=1)\\n    data.drop(data[data.Rating < 3].index, inplace=True)\\n    data = cleanse_recursive(data, shortest=3, least_click=10)\\n    return data\";\n                var nbb_cells = Jupyter.notebook.get_cells();\n                for (var i = 0; i < nbb_cells.length; ++i) {\n                    if (nbb_cells[i].input_prompt_number == nbb_cell_id) {\n                        if (nbb_cells[i].get_text() == nbb_unformatted_code) {\n                             nbb_cells[i].set_text(nbb_formatted_code);\n                        }\n                        break;\n                    }\n                }\n            }, 500);\n            ",
      "text/plain": [
       "<IPython.core.display.Javascript object>"
      ]
     },
     "metadata": {},
     "output_type": "display_data"
    }
   ],
   "source": [
    "def get_data(d_orig):\n",
    "    data = d_orig.copy()\n",
    "    data[\"TimeDisc\"] = data[\"Time\"].floordiv(unit) * unit\n",
    "    grp = data.groupby([\"UserId\", \"TimeDisc\"]).count().reset_index()\n",
    "    grp[\"SessionId\"] = grp.index\n",
    "    grp.drop([\"ItemId\", \"Rating\", \"Time\"], axis=1, inplace=True)\n",
    "    data_merge = pd.merge(data, grp)\n",
    "    data = data_merge.drop([\"TimeDisc\"], axis=1)\n",
    "    data.drop(data[data.Rating < 3].index, inplace=True)\n",
    "    data = cleanse_recursive(data, shortest=3, least_click=10)\n",
    "    return data"
   ]
  },
  {
   "cell_type": "code",
   "execution_count": 41,
   "id": "952984a3",
   "metadata": {},
   "outputs": [
    {
     "name": "stdout",
     "output_type": "stream",
     "text": [
      "Model: \"m_b128_h64\"\n",
      "_________________________________________________________________\n",
      "Layer (type)                 Output Shape              Param #   \n",
      "=================================================================\n",
      "input_2 (InputLayer)         [(128, 1, 2667)]          0         \n",
      "_________________________________________________________________\n",
      "GRU (GRU)                    [(128, 64), (128, 64)]    524736    \n",
      "_________________________________________________________________\n",
      "dropout_1 (Dropout)          (128, 64)                 0         \n",
      "_________________________________________________________________\n",
      "dense_1 (Dense)              (128, 2667)               173355    \n",
      "=================================================================\n",
      "Total params: 698,091\n",
      "Trainable params: 698,091\n",
      "Non-trainable params: 0\n",
      "_________________________________________________________________\n"
     ]
    },
    {
     "name": "stderr",
     "output_type": "stream",
     "text": [
      "Train: 100%|█████████▉| 2377/2378 [00:31<00:00, 76.56it/s, accuracy=0.0312, train_loss=6.55] \n",
      "Evaluation:  94%|█████████▍| 16/17 [00:08<00:00,  1.85it/s]\n",
      "Train: 100%|█████████▉| 2377/2378 [00:30<00:00, 79.07it/s, accuracy=0.0625, train_loss=6.05] \n",
      "Evaluation:  94%|█████████▍| 16/17 [00:07<00:00,  2.05it/s]\n",
      "Train: 100%|█████████▉| 2377/2378 [00:30<00:00, 78.75it/s, accuracy=0.0547, train_loss=5.77] \n",
      "Evaluation:  94%|█████████▍| 16/17 [00:07<00:00,  2.08it/s]\n",
      "Train: 100%|█████████▉| 2377/2378 [00:29<00:00, 79.99it/s, accuracy=0.0547, train_loss=5.63] \n",
      "Evaluation:  94%|█████████▍| 16/17 [00:07<00:00,  2.10it/s]\n",
      "Train: 100%|█████████▉| 2377/2378 [00:29<00:00, 80.28it/s, accuracy=0.0625, train_loss=5.57] \n",
      "Evaluation:  94%|█████████▍| 16/17 [00:07<00:00,  2.12it/s]\n"
     ]
    },
    {
     "name": "stdout",
     "output_type": "stream",
     "text": [
      "\t - Recall@20 epoch 5: 0.312988\n",
      "\t - MRR@20    epoch 5: 0.107193\n"
     ]
    },
    {
     "name": "stderr",
     "output_type": "stream",
     "text": [
      "Train: 100%|█████████▉| 2377/2378 [00:29<00:00, 79.39it/s, accuracy=0.0547, train_loss=5.51] \n",
      "Evaluation:  94%|█████████▍| 16/17 [00:07<00:00,  2.14it/s]\n",
      "Train: 100%|█████████▉| 2377/2378 [00:29<00:00, 79.62it/s, accuracy=0.0625, train_loss=5.45]\n",
      "Evaluation:  94%|█████████▍| 16/17 [00:07<00:00,  2.16it/s]\n",
      "Train: 100%|█████████▉| 2377/2378 [00:29<00:00, 79.81it/s, accuracy=0.0625, train_loss=5.44] \n",
      "Evaluation:  94%|█████████▍| 16/17 [00:07<00:00,  2.14it/s]\n",
      "Train: 100%|█████████▉| 2377/2378 [00:29<00:00, 80.27it/s, accuracy=0.0781, train_loss=5.31]\n",
      "Evaluation:  94%|█████████▍| 16/17 [00:07<00:00,  2.15it/s]\n",
      "Train: 100%|█████████▉| 2377/2378 [00:29<00:00, 80.13it/s, accuracy=0.0781, train_loss=5.29]\n",
      "Evaluation:  94%|█████████▍| 16/17 [00:07<00:00,  2.17it/s]\n"
     ]
    },
    {
     "name": "stdout",
     "output_type": "stream",
     "text": [
      "\t - Recall@20 epoch 10: 0.326172\n",
      "\t - MRR@20    epoch 10: 0.112007\n"
     ]
    },
    {
     "name": "stderr",
     "output_type": "stream",
     "text": [
      "Evaluation:  89%|████████▉ | 8/9 [00:03<00:00,  2.06it/s]"
     ]
    },
    {
     "name": "stdout",
     "output_type": "stream",
     "text": [
      "\n",
      "====Evaluation====\n",
      "\t - Recall@20: 0.263672\n",
      "\t - MRR@20: 0.099476\n",
      "\n"
     ]
    },
    {
     "name": "stderr",
     "output_type": "stream",
     "text": [
      "\n"
     ]
    },
    {
     "data": {
      "application/javascript": "\n            setTimeout(function() {\n                var nbb_cell_id = 41;\n                var nbb_unformatted_code = \"unit = 0.5\\ndata= get_data(data_orig)\\n\\ntr, test = split_by_date(data, n_days=200)\\ntr, val = split_by_date(tr, n_days=200)\\n\\nid2idx = {item_id: index for index, item_id in enumerate(tr[\\\"ItemId\\\"].unique())}\\n\\ntr = indexing(tr, id2idx)\\nval = indexing(val, id2idx)\\ntest = indexing(test, id2idx)\\n\\nargs = Args(\\n    tr,\\n    val,\\n    test,\\n    batch_size=BATCH_SZ,\\n    hsz=H_SZ,\\n    drop_rate=0.1,\\n    lr=0.001,\\n    epochs=EPOCH,\\n    k=20,\\n)\\nmodel = create_model(args)\\ntrain_model(model, args, verbose=1)\\ntest_model(model, args, test)\";\n                var nbb_formatted_code = \"unit = 0.5\\ndata = get_data(data_orig)\\n\\ntr, test = split_by_date(data, n_days=200)\\ntr, val = split_by_date(tr, n_days=200)\\n\\nid2idx = {item_id: index for index, item_id in enumerate(tr[\\\"ItemId\\\"].unique())}\\n\\ntr = indexing(tr, id2idx)\\nval = indexing(val, id2idx)\\ntest = indexing(test, id2idx)\\n\\nargs = Args(\\n    tr,\\n    val,\\n    test,\\n    batch_size=BATCH_SZ,\\n    hsz=H_SZ,\\n    drop_rate=0.1,\\n    lr=0.001,\\n    epochs=EPOCH,\\n    k=20,\\n)\\nmodel = create_model(args)\\ntrain_model(model, args, verbose=1)\\ntest_model(model, args, test)\";\n                var nbb_cells = Jupyter.notebook.get_cells();\n                for (var i = 0; i < nbb_cells.length; ++i) {\n                    if (nbb_cells[i].input_prompt_number == nbb_cell_id) {\n                        if (nbb_cells[i].get_text() == nbb_unformatted_code) {\n                             nbb_cells[i].set_text(nbb_formatted_code);\n                        }\n                        break;\n                    }\n                }\n            }, 500);\n            ",
      "text/plain": [
       "<IPython.core.display.Javascript object>"
      ]
     },
     "metadata": {},
     "output_type": "display_data"
    }
   ],
   "source": [
    "unit = 0.5\n",
    "data = get_data(data_orig)\n",
    "\n",
    "tr, test = split_by_date(data, n_days=200)\n",
    "tr, val = split_by_date(tr, n_days=200)\n",
    "\n",
    "id2idx = {item_id: index for index, item_id in enumerate(tr[\"ItemId\"].unique())}\n",
    "\n",
    "tr = indexing(tr, id2idx)\n",
    "val = indexing(val, id2idx)\n",
    "test = indexing(test, id2idx)\n",
    "\n",
    "args = Args(\n",
    "    tr,\n",
    "    val,\n",
    "    test,\n",
    "    batch_size=BATCH_SZ,\n",
    "    hsz=H_SZ,\n",
    "    drop_rate=0.1,\n",
    "    lr=0.001,\n",
    "    epochs=EPOCH,\n",
    "    k=20,\n",
    ")\n",
    "model = create_model(args)\n",
    "train_model(model, args, verbose=1)\n",
    "test_model(model, args, test)"
   ]
  },
  {
   "cell_type": "code",
   "execution_count": 42,
   "id": "efe5877f",
   "metadata": {},
   "outputs": [
    {
     "name": "stdout",
     "output_type": "stream",
     "text": [
      "Model: \"m_b128_h64\"\n",
      "_________________________________________________________________\n",
      "Layer (type)                 Output Shape              Param #   \n",
      "=================================================================\n",
      "input_3 (InputLayer)         [(128, 1, 2673)]          0         \n",
      "_________________________________________________________________\n",
      "GRU (GRU)                    [(128, 64), (128, 64)]    525888    \n",
      "_________________________________________________________________\n",
      "dropout_2 (Dropout)          (128, 64)                 0         \n",
      "_________________________________________________________________\n",
      "dense_2 (Dense)              (128, 2673)               173745    \n",
      "=================================================================\n",
      "Total params: 699,633\n",
      "Trainable params: 699,633\n",
      "Non-trainable params: 0\n",
      "_________________________________________________________________\n"
     ]
    },
    {
     "name": "stderr",
     "output_type": "stream",
     "text": [
      "Train: 100%|█████████▉| 2406/2407 [00:30<00:00, 78.18it/s, accuracy=0.0234, train_loss=6.62] \n",
      "Evaluation:  89%|████████▉ | 16/18 [00:08<00:01,  1.81it/s]\n",
      "Train: 100%|█████████▉| 2406/2407 [00:29<00:00, 81.96it/s, accuracy=0.0859, train_loss=6.25] \n",
      "Evaluation:  89%|████████▉ | 16/18 [00:07<00:00,  2.00it/s]\n",
      "Train: 100%|█████████▉| 2406/2407 [00:29<00:00, 82.00it/s, accuracy=0.0859, train_loss=6]    \n",
      "Evaluation:  89%|████████▉ | 16/18 [00:07<00:00,  2.08it/s]\n",
      "Train: 100%|█████████▉| 2406/2407 [00:29<00:00, 81.62it/s, accuracy=0.0547, train_loss=5.89] \n",
      "Evaluation:  89%|████████▉ | 16/18 [00:07<00:00,  2.08it/s]\n",
      "Train: 100%|█████████▉| 2406/2407 [00:29<00:00, 82.07it/s, accuracy=0.0781, train_loss=5.78] \n",
      "Evaluation:  89%|████████▉ | 16/18 [00:07<00:00,  2.12it/s]\n"
     ]
    },
    {
     "name": "stdout",
     "output_type": "stream",
     "text": [
      "\t - Recall@20 epoch 5: 0.305664\n",
      "\t - MRR@20    epoch 5: 0.102995\n"
     ]
    },
    {
     "name": "stderr",
     "output_type": "stream",
     "text": [
      "Train: 100%|█████████▉| 2406/2407 [00:29<00:00, 81.47it/s, accuracy=0.0547, train_loss=5.73] \n",
      "Evaluation:  89%|████████▉ | 16/18 [00:07<00:00,  2.12it/s]\n",
      "Train: 100%|█████████▉| 2406/2407 [00:29<00:00, 82.07it/s, accuracy=0.0781, train_loss=5.6] \n",
      "Evaluation:  89%|████████▉ | 16/18 [00:07<00:00,  2.11it/s]\n",
      "Train: 100%|█████████▉| 2406/2407 [00:29<00:00, 81.41it/s, accuracy=0.0781, train_loss=5.59] \n",
      "Evaluation:  89%|████████▉ | 16/18 [00:07<00:00,  2.09it/s]\n",
      "Train: 100%|█████████▉| 2406/2407 [00:29<00:00, 82.42it/s, accuracy=0.0703, train_loss=5.55]\n",
      "Evaluation:  89%|████████▉ | 16/18 [00:07<00:00,  2.12it/s]\n",
      "Train: 100%|█████████▉| 2406/2407 [00:29<00:00, 81.75it/s, accuracy=0.0625, train_loss=5.46]\n",
      "Evaluation:  89%|████████▉ | 16/18 [00:07<00:00,  2.13it/s]\n"
     ]
    },
    {
     "name": "stdout",
     "output_type": "stream",
     "text": [
      "\t - Recall@20 epoch 10: 0.314453\n",
      "\t - MRR@20    epoch 10: 0.110491\n"
     ]
    },
    {
     "name": "stderr",
     "output_type": "stream",
     "text": [
      "Evaluation:  90%|█████████ | 9/10 [00:04<00:00,  2.04it/s]"
     ]
    },
    {
     "name": "stdout",
     "output_type": "stream",
     "text": [
      "\n",
      "====Evaluation====\n",
      "\t - Recall@20: 0.265625\n",
      "\t - MRR@20: 0.091663\n",
      "\n"
     ]
    },
    {
     "name": "stderr",
     "output_type": "stream",
     "text": [
      "\n"
     ]
    },
    {
     "data": {
      "application/javascript": "\n            setTimeout(function() {\n                var nbb_cell_id = 42;\n                var nbb_unformatted_code = \"unit = 2\\ndata= get_data(data_orig)\\n\\ntr, test = split_by_date(data, n_days=200)\\ntr, val = split_by_date(tr, n_days=200)\\n\\nid2idx = {item_id: index for index, item_id in enumerate(tr[\\\"ItemId\\\"].unique())}\\n\\ntr = indexing(tr, id2idx)\\nval = indexing(val, id2idx)\\ntest = indexing(test, id2idx)\\n\\nargs = Args(\\n    tr,\\n    val,\\n    test,\\n    batch_size=BATCH_SZ,\\n    hsz=H_SZ,\\n    drop_rate=0.1,\\n    lr=0.001,\\n    epochs=EPOCH,\\n    k=20,\\n)\\nmodel = create_model(args)\\ntrain_model(model, args, verbose=1)\\ntest_model(model, args, test)\";\n                var nbb_formatted_code = \"unit = 2\\ndata = get_data(data_orig)\\n\\ntr, test = split_by_date(data, n_days=200)\\ntr, val = split_by_date(tr, n_days=200)\\n\\nid2idx = {item_id: index for index, item_id in enumerate(tr[\\\"ItemId\\\"].unique())}\\n\\ntr = indexing(tr, id2idx)\\nval = indexing(val, id2idx)\\ntest = indexing(test, id2idx)\\n\\nargs = Args(\\n    tr,\\n    val,\\n    test,\\n    batch_size=BATCH_SZ,\\n    hsz=H_SZ,\\n    drop_rate=0.1,\\n    lr=0.001,\\n    epochs=EPOCH,\\n    k=20,\\n)\\nmodel = create_model(args)\\ntrain_model(model, args, verbose=1)\\ntest_model(model, args, test)\";\n                var nbb_cells = Jupyter.notebook.get_cells();\n                for (var i = 0; i < nbb_cells.length; ++i) {\n                    if (nbb_cells[i].input_prompt_number == nbb_cell_id) {\n                        if (nbb_cells[i].get_text() == nbb_unformatted_code) {\n                             nbb_cells[i].set_text(nbb_formatted_code);\n                        }\n                        break;\n                    }\n                }\n            }, 500);\n            ",
      "text/plain": [
       "<IPython.core.display.Javascript object>"
      ]
     },
     "metadata": {},
     "output_type": "display_data"
    }
   ],
   "source": [
    "unit = 2\n",
    "data = get_data(data_orig)\n",
    "\n",
    "tr, test = split_by_date(data, n_days=200)\n",
    "tr, val = split_by_date(tr, n_days=200)\n",
    "\n",
    "id2idx = {item_id: index for index, item_id in enumerate(tr[\"ItemId\"].unique())}\n",
    "\n",
    "tr = indexing(tr, id2idx)\n",
    "val = indexing(val, id2idx)\n",
    "test = indexing(test, id2idx)\n",
    "\n",
    "args = Args(\n",
    "    tr,\n",
    "    val,\n",
    "    test,\n",
    "    batch_size=BATCH_SZ,\n",
    "    hsz=H_SZ,\n",
    "    drop_rate=0.1,\n",
    "    lr=0.001,\n",
    "    epochs=EPOCH,\n",
    "    k=20,\n",
    ")\n",
    "model = create_model(args)\n",
    "train_model(model, args, verbose=1)\n",
    "test_model(model, args, test)"
   ]
  },
  {
   "cell_type": "markdown",
   "id": "6bdfe428",
   "metadata": {},
   "source": [
    "세션을 정의하는 시간의 범위가 1시간인 경우와 비교하여 30분, 2시간인 경우 성능이 향상되었습니다. Recall의 성능 차이는 크지 않으나, 30분인 경우의 MRR이 조금 더 증가하여 1시간 보다 더 작은 세션 단위에 대한 추가 실험을 진행합니다.  \n",
    "세션을 정의하는 시간을 15분으로 설정하여 실험을 진행합니다."
   ]
  },
  {
   "cell_type": "code",
   "execution_count": 43,
   "id": "04652e59",
   "metadata": {},
   "outputs": [
    {
     "name": "stdout",
     "output_type": "stream",
     "text": [
      "Model: \"m_b128_h64\"\n",
      "_________________________________________________________________\n",
      "Layer (type)                 Output Shape              Param #   \n",
      "=================================================================\n",
      "input_4 (InputLayer)         [(128, 1, 2667)]          0         \n",
      "_________________________________________________________________\n",
      "GRU (GRU)                    [(128, 64), (128, 64)]    524736    \n",
      "_________________________________________________________________\n",
      "dropout_3 (Dropout)          (128, 64)                 0         \n",
      "_________________________________________________________________\n",
      "dense_3 (Dense)              (128, 2667)               173355    \n",
      "=================================================================\n",
      "Total params: 698,091\n",
      "Trainable params: 698,091\n",
      "Non-trainable params: 0\n",
      "_________________________________________________________________\n"
     ]
    },
    {
     "name": "stderr",
     "output_type": "stream",
     "text": [
      "Train: 100%|█████████▉| 2377/2378 [00:30<00:00, 76.99it/s, accuracy=0.0312, train_loss=6.53] \n",
      "Evaluation:  94%|█████████▍| 16/17 [00:08<00:00,  1.85it/s]\n",
      "Train: 100%|█████████▉| 2377/2378 [00:29<00:00, 79.89it/s, accuracy=0.0781, train_loss=6]    \n",
      "Evaluation:  94%|█████████▍| 16/17 [00:07<00:00,  2.00it/s]\n",
      "Train: 100%|█████████▉| 2377/2378 [00:29<00:00, 81.01it/s, accuracy=0.0859, train_loss=5.76] \n",
      "Evaluation:  94%|█████████▍| 16/17 [00:07<00:00,  2.05it/s]\n",
      "Train: 100%|█████████▉| 2377/2378 [00:29<00:00, 81.08it/s, accuracy=0.0625, train_loss=5.65] \n",
      "Evaluation:  94%|█████████▍| 16/17 [00:07<00:00,  2.05it/s]\n",
      "Train: 100%|█████████▉| 2377/2378 [00:29<00:00, 80.67it/s, accuracy=0.0703, train_loss=5.52] \n",
      "Evaluation:  94%|█████████▍| 16/17 [00:07<00:00,  2.08it/s]\n"
     ]
    },
    {
     "name": "stdout",
     "output_type": "stream",
     "text": [
      "\t - Recall@20 epoch 5: 0.300781\n",
      "\t - MRR@20    epoch 5: 0.104657\n"
     ]
    },
    {
     "name": "stderr",
     "output_type": "stream",
     "text": [
      "Train: 100%|█████████▉| 2377/2378 [00:29<00:00, 81.83it/s, accuracy=0.0625, train_loss=5.5]  \n",
      "Evaluation:  94%|█████████▍| 16/17 [00:07<00:00,  2.09it/s]\n",
      "Train: 100%|█████████▉| 2377/2378 [00:29<00:00, 81.26it/s, accuracy=0.0781, train_loss=5.49] \n",
      "Evaluation:  94%|█████████▍| 16/17 [00:07<00:00,  2.11it/s]\n",
      "Train: 100%|█████████▉| 2377/2378 [00:29<00:00, 81.08it/s, accuracy=0.0625, train_loss=5.42] \n",
      "Evaluation:  94%|█████████▍| 16/17 [00:07<00:00,  2.11it/s]\n",
      "Train: 100%|█████████▉| 2377/2378 [00:29<00:00, 81.93it/s, accuracy=0.0781, train_loss=5.46]\n",
      "Evaluation:  94%|█████████▍| 16/17 [00:07<00:00,  2.11it/s]\n",
      "Train: 100%|█████████▉| 2377/2378 [00:29<00:00, 81.53it/s, accuracy=0.0781, train_loss=5.35]\n",
      "Evaluation:  94%|█████████▍| 16/17 [00:07<00:00,  2.13it/s]\n"
     ]
    },
    {
     "name": "stdout",
     "output_type": "stream",
     "text": [
      "\t - Recall@20 epoch 10: 0.321777\n",
      "\t - MRR@20    epoch 10: 0.111437\n"
     ]
    },
    {
     "name": "stderr",
     "output_type": "stream",
     "text": [
      "Evaluation:  89%|████████▉ | 8/9 [00:03<00:00,  2.05it/s]"
     ]
    },
    {
     "name": "stdout",
     "output_type": "stream",
     "text": [
      "\n",
      "====Evaluation====\n",
      "\t - Recall@20: 0.255859\n",
      "\t - MRR@20: 0.095412\n",
      "\n"
     ]
    },
    {
     "name": "stderr",
     "output_type": "stream",
     "text": [
      "\n"
     ]
    },
    {
     "data": {
      "application/javascript": "\n            setTimeout(function() {\n                var nbb_cell_id = 43;\n                var nbb_unformatted_code = \"unit = 0.25\\ndata= get_data(data_orig)\\n\\ntr, test = split_by_date(data, n_days=200)\\ntr, val = split_by_date(tr, n_days=200)\\n\\nid2idx = {item_id: index for index, item_id in enumerate(tr[\\\"ItemId\\\"].unique())}\\n\\ntr = indexing(tr, id2idx)\\nval = indexing(val, id2idx)\\ntest = indexing(test, id2idx)\\n\\nargs = Args(\\n    tr,\\n    val,\\n    test,\\n    batch_size=BATCH_SZ,\\n    hsz=H_SZ,\\n    drop_rate=0.1,\\n    lr=0.001,\\n    epochs=EPOCH,\\n    k=20,\\n)\\nmodel = create_model(args)\\ntrain_model(model, args, verbose=1)\\ntest_model(model, args, test)\";\n                var nbb_formatted_code = \"unit = 0.25\\ndata = get_data(data_orig)\\n\\ntr, test = split_by_date(data, n_days=200)\\ntr, val = split_by_date(tr, n_days=200)\\n\\nid2idx = {item_id: index for index, item_id in enumerate(tr[\\\"ItemId\\\"].unique())}\\n\\ntr = indexing(tr, id2idx)\\nval = indexing(val, id2idx)\\ntest = indexing(test, id2idx)\\n\\nargs = Args(\\n    tr,\\n    val,\\n    test,\\n    batch_size=BATCH_SZ,\\n    hsz=H_SZ,\\n    drop_rate=0.1,\\n    lr=0.001,\\n    epochs=EPOCH,\\n    k=20,\\n)\\nmodel = create_model(args)\\ntrain_model(model, args, verbose=1)\\ntest_model(model, args, test)\";\n                var nbb_cells = Jupyter.notebook.get_cells();\n                for (var i = 0; i < nbb_cells.length; ++i) {\n                    if (nbb_cells[i].input_prompt_number == nbb_cell_id) {\n                        if (nbb_cells[i].get_text() == nbb_unformatted_code) {\n                             nbb_cells[i].set_text(nbb_formatted_code);\n                        }\n                        break;\n                    }\n                }\n            }, 500);\n            ",
      "text/plain": [
       "<IPython.core.display.Javascript object>"
      ]
     },
     "metadata": {},
     "output_type": "display_data"
    }
   ],
   "source": [
    "unit = 0.25\n",
    "data = get_data(data_orig)\n",
    "\n",
    "tr, test = split_by_date(data, n_days=200)\n",
    "tr, val = split_by_date(tr, n_days=200)\n",
    "\n",
    "id2idx = {item_id: index for index, item_id in enumerate(tr[\"ItemId\"].unique())}\n",
    "\n",
    "tr = indexing(tr, id2idx)\n",
    "val = indexing(val, id2idx)\n",
    "test = indexing(test, id2idx)\n",
    "\n",
    "args = Args(\n",
    "    tr,\n",
    "    val,\n",
    "    test,\n",
    "    batch_size=BATCH_SZ,\n",
    "    hsz=H_SZ,\n",
    "    drop_rate=0.1,\n",
    "    lr=0.001,\n",
    "    epochs=EPOCH,\n",
    "    k=20,\n",
    ")\n",
    "model = create_model(args)\n",
    "train_model(model, args, verbose=1)\n",
    "test_model(model, args, test)"
   ]
  },
  {
   "cell_type": "markdown",
   "id": "92c4d958",
   "metadata": {},
   "source": [
    "세션 설정 단위를 15분으로 설정한 경우, 다른 단위와 비교하여 성능 향상이 이루어지지 않았습니다. 가장 좋은 성능을 보였던 30분으로 세션 단위를 설정합니다."
   ]
  },
  {
   "cell_type": "code",
   "execution_count": 44,
   "id": "eb7cc5ee",
   "metadata": {},
   "outputs": [
    {
     "data": {
      "application/javascript": "\n            setTimeout(function() {\n                var nbb_cell_id = 45;\n                var nbb_unformatted_code = \"unit = 0.5\\ndata= get_data(data_orig)\\n\\ntr, test = split_by_date(data, n_days=200)\\ntr, val = split_by_date(tr, n_days=200)\\n\\nid2idx = {item_id: index for index, item_id in enumerate(tr[\\\"ItemId\\\"].unique())}\\n\\ntr = indexing(tr, id2idx)\\nval = indexing(val, id2idx)\\ntest = indexing(test, id2idx)\";\n                var nbb_formatted_code = \"unit = 0.5\\ndata = get_data(data_orig)\\n\\ntr, test = split_by_date(data, n_days=200)\\ntr, val = split_by_date(tr, n_days=200)\\n\\nid2idx = {item_id: index for index, item_id in enumerate(tr[\\\"ItemId\\\"].unique())}\\n\\ntr = indexing(tr, id2idx)\\nval = indexing(val, id2idx)\\ntest = indexing(test, id2idx)\";\n                var nbb_cells = Jupyter.notebook.get_cells();\n                for (var i = 0; i < nbb_cells.length; ++i) {\n                    if (nbb_cells[i].input_prompt_number == nbb_cell_id) {\n                        if (nbb_cells[i].get_text() == nbb_unformatted_code) {\n                             nbb_cells[i].set_text(nbb_formatted_code);\n                        }\n                        break;\n                    }\n                }\n            }, 500);\n            ",
      "text/plain": [
       "<IPython.core.display.Javascript object>"
      ]
     },
     "metadata": {},
     "output_type": "display_data"
    }
   ],
   "source": [
    "unit = 0.5\n",
    "data = get_data(data_orig)\n",
    "\n",
    "tr, test = split_by_date(data, n_days=200)\n",
    "tr, val = split_by_date(tr, n_days=200)\n",
    "\n",
    "id2idx = {item_id: index for index, item_id in enumerate(tr[\"ItemId\"].unique())}\n",
    "\n",
    "tr = indexing(tr, id2idx)\n",
    "val = indexing(val, id2idx)\n",
    "test = indexing(test, id2idx)"
   ]
  },
  {
   "cell_type": "markdown",
   "id": "bfd2ff4f",
   "metadata": {},
   "source": [
    "### 배치 사이즈 변경\n",
    "\n",
    "최초 사용한 모델의 배치 사이즈 128의 절반인 64, 2배인 256으로 실험을 진행합니다."
   ]
  },
  {
   "cell_type": "code",
   "execution_count": 45,
   "id": "ac5f2b28",
   "metadata": {},
   "outputs": [
    {
     "name": "stdout",
     "output_type": "stream",
     "text": [
      "Model: \"m_b64_h64\"\n",
      "_________________________________________________________________\n",
      "Layer (type)                 Output Shape              Param #   \n",
      "=================================================================\n",
      "input_5 (InputLayer)         [(64, 1, 2667)]           0         \n",
      "_________________________________________________________________\n",
      "GRU (GRU)                    [(64, 64), (64, 64)]      524736    \n",
      "_________________________________________________________________\n",
      "dropout_4 (Dropout)          (64, 64)                  0         \n",
      "_________________________________________________________________\n",
      "dense_4 (Dense)              (64, 2667)                173355    \n",
      "=================================================================\n",
      "Total params: 698,091\n",
      "Trainable params: 698,091\n",
      "Non-trainable params: 0\n",
      "_________________________________________________________________\n"
     ]
    },
    {
     "name": "stderr",
     "output_type": "stream",
     "text": [
      "Train: 100%|█████████▉| 4755/4756 [00:49<00:00, 96.17it/s, accuracy=0.0312, train_loss=5.87]\n",
      "Evaluation:  97%|█████████▋| 34/35 [00:09<00:00,  3.65it/s]\n",
      "Train: 100%|█████████▉| 4755/4756 [00:48<00:00, 98.05it/s, accuracy=0.0469, train_loss=5.43]\n",
      "Evaluation:  97%|█████████▋| 34/35 [00:09<00:00,  3.78it/s]\n",
      "Train: 100%|█████████▉| 4755/4756 [00:48<00:00, 97.98it/s, accuracy=0.0469, train_loss=5.21]\n",
      "Evaluation:  97%|█████████▋| 34/35 [00:08<00:00,  3.88it/s]\n",
      "Train: 100%|█████████▉| 4755/4756 [00:48<00:00, 97.31it/s, accuracy=0.0469, train_loss=5.04]\n",
      "Evaluation:  97%|█████████▋| 34/35 [00:08<00:00,  3.93it/s]\n",
      "Train: 100%|█████████▉| 4755/4756 [00:48<00:00, 97.93it/s, accuracy=0.0312, train_loss=4.97]\n",
      "Evaluation:  97%|█████████▋| 34/35 [00:08<00:00,  4.02it/s]\n"
     ]
    },
    {
     "name": "stdout",
     "output_type": "stream",
     "text": [
      "\t - Recall@20 epoch 5: 0.324449\n",
      "\t - MRR@20    epoch 5: 0.110769\n"
     ]
    },
    {
     "name": "stderr",
     "output_type": "stream",
     "text": [
      "Train: 100%|█████████▉| 4755/4756 [00:49<00:00, 96.84it/s, accuracy=0.0625, train_loss=4.78]\n",
      "Evaluation:  97%|█████████▋| 34/35 [00:08<00:00,  3.98it/s]\n",
      "Train: 100%|█████████▉| 4755/4756 [00:48<00:00, 98.32it/s, accuracy=0.0781, train_loss=4.75]\n",
      "Evaluation:  97%|█████████▋| 34/35 [00:08<00:00,  4.03it/s]\n",
      "Train: 100%|█████████▉| 4755/4756 [00:48<00:00, 98.85it/s, accuracy=0.0781, train_loss=4.78]\n",
      "Evaluation:  97%|█████████▋| 34/35 [00:08<00:00,  3.94it/s]\n",
      "Train: 100%|█████████▉| 4755/4756 [00:48<00:00, 99.01it/s, accuracy=0.109, train_loss=4.73] \n",
      "Evaluation:  97%|█████████▋| 34/35 [00:08<00:00,  4.06it/s]\n",
      "Train: 100%|█████████▉| 4755/4756 [00:47<00:00, 99.36it/s, accuracy=0.0625, train_loss=4.85] \n",
      "Evaluation:  97%|█████████▋| 34/35 [00:08<00:00,  4.01it/s]\n"
     ]
    },
    {
     "name": "stdout",
     "output_type": "stream",
     "text": [
      "\t - Recall@20 epoch 10: 0.331342\n",
      "\t - MRR@20    epoch 10: 0.114148\n"
     ]
    },
    {
     "name": "stderr",
     "output_type": "stream",
     "text": [
      "Evaluation:  95%|█████████▍| 18/19 [00:04<00:00,  3.89it/s]"
     ]
    },
    {
     "name": "stdout",
     "output_type": "stream",
     "text": [
      "\n",
      "====Evaluation====\n",
      "\t - Recall@20: 0.283854\n",
      "\t - MRR@20: 0.101895\n",
      "\n"
     ]
    },
    {
     "name": "stderr",
     "output_type": "stream",
     "text": [
      "\n"
     ]
    },
    {
     "data": {
      "application/javascript": "\n            setTimeout(function() {\n                var nbb_cell_id = 46;\n                var nbb_unformatted_code = \"args = Args(\\n    tr, val, test, batch_size=64, hsz=64, drop_rate=0.1, lr=0.001, epochs=EPOCH, k=20\\n)\\nmodel = create_model(args)\\ntrain_model(model, args, verbose=1)\\ntest_model(model, args, test)\";\n                var nbb_formatted_code = \"args = Args(\\n    tr, val, test, batch_size=64, hsz=64, drop_rate=0.1, lr=0.001, epochs=EPOCH, k=20\\n)\\nmodel = create_model(args)\\ntrain_model(model, args, verbose=1)\\ntest_model(model, args, test)\";\n                var nbb_cells = Jupyter.notebook.get_cells();\n                for (var i = 0; i < nbb_cells.length; ++i) {\n                    if (nbb_cells[i].input_prompt_number == nbb_cell_id) {\n                        if (nbb_cells[i].get_text() == nbb_unformatted_code) {\n                             nbb_cells[i].set_text(nbb_formatted_code);\n                        }\n                        break;\n                    }\n                }\n            }, 500);\n            ",
      "text/plain": [
       "<IPython.core.display.Javascript object>"
      ]
     },
     "metadata": {},
     "output_type": "display_data"
    }
   ],
   "source": [
    "args = Args(\n",
    "    tr, val, test, batch_size=64, hsz=64, drop_rate=0.1, lr=0.001, epochs=EPOCH, k=20\n",
    ")\n",
    "model = create_model(args)\n",
    "train_model(model, args, verbose=1)\n",
    "test_model(model, args, test)"
   ]
  },
  {
   "cell_type": "code",
   "execution_count": 46,
   "id": "d78b3794",
   "metadata": {},
   "outputs": [
    {
     "name": "stdout",
     "output_type": "stream",
     "text": [
      "Model: \"m_b256_h64\"\n",
      "_________________________________________________________________\n",
      "Layer (type)                 Output Shape              Param #   \n",
      "=================================================================\n",
      "input_6 (InputLayer)         [(256, 1, 2667)]          0         \n",
      "_________________________________________________________________\n",
      "GRU (GRU)                    [(256, 64), (256, 64)]    524736    \n",
      "_________________________________________________________________\n",
      "dropout_5 (Dropout)          (256, 64)                 0         \n",
      "_________________________________________________________________\n",
      "dense_5 (Dense)              (256, 2667)               173355    \n",
      "=================================================================\n",
      "Total params: 698,091\n",
      "Trainable params: 698,091\n",
      "Non-trainable params: 0\n",
      "_________________________________________________________________\n"
     ]
    },
    {
     "name": "stderr",
     "output_type": "stream",
     "text": [
      "Train: 100%|█████████▉| 1187/1189 [00:21<00:00, 55.25it/s, accuracy=0.0117, train_loss=6.88] \n",
      "Evaluation:  88%|████████▊ | 7/8 [00:07<00:01,  1.07s/it]\n",
      "Train: 100%|█████████▉| 1187/1189 [00:20<00:00, 57.48it/s, accuracy=0.0234, train_loss=6.29]\n",
      "Evaluation:  88%|████████▊ | 7/8 [00:06<00:00,  1.00it/s]\n",
      "Train: 100%|█████████▉| 1187/1189 [00:20<00:00, 58.02it/s, accuracy=0.0469, train_loss=5.96]\n",
      "Evaluation:  88%|████████▊ | 7/8 [00:06<00:00,  1.03it/s]\n",
      "Train: 100%|█████████▉| 1187/1189 [00:20<00:00, 58.63it/s, accuracy=0.0469, train_loss=5.82]\n",
      "Evaluation:  88%|████████▊ | 7/8 [00:06<00:00,  1.06it/s]\n",
      "Train: 100%|█████████▉| 1187/1189 [00:20<00:00, 58.38it/s, accuracy=0.0625, train_loss=5.71]\n",
      "Evaluation:  88%|████████▊ | 7/8 [00:06<00:00,  1.07it/s]\n"
     ]
    },
    {
     "name": "stdout",
     "output_type": "stream",
     "text": [
      "\t - Recall@20 epoch 5: 0.265625\n",
      "\t - MRR@20    epoch 5: 0.089999\n"
     ]
    },
    {
     "name": "stderr",
     "output_type": "stream",
     "text": [
      "Train: 100%|█████████▉| 1187/1189 [00:20<00:00, 58.47it/s, accuracy=0.0664, train_loss=5.66]\n",
      "Evaluation:  88%|████████▊ | 7/8 [00:06<00:00,  1.08it/s]\n",
      "Train: 100%|█████████▉| 1187/1189 [00:20<00:00, 59.04it/s, accuracy=0.0859, train_loss=5.57]\n",
      "Evaluation:  88%|████████▊ | 7/8 [00:06<00:00,  1.09it/s]\n",
      "Train: 100%|█████████▉| 1187/1189 [00:20<00:00, 58.61it/s, accuracy=0.082, train_loss=5.54] \n",
      "Evaluation:  88%|████████▊ | 7/8 [00:06<00:00,  1.08it/s]\n",
      "Train: 100%|█████████▉| 1187/1189 [00:20<00:00, 57.94it/s, accuracy=0.0938, train_loss=5.46]\n",
      "Evaluation:  88%|████████▊ | 7/8 [00:06<00:00,  1.08it/s]\n",
      "Train: 100%|█████████▉| 1187/1189 [00:20<00:00, 58.45it/s, accuracy=0.0938, train_loss=5.41]\n",
      "Evaluation:  88%|████████▊ | 7/8 [00:06<00:00,  1.09it/s]\n"
     ]
    },
    {
     "name": "stdout",
     "output_type": "stream",
     "text": [
      "\t - Recall@20 epoch 10: 0.299665\n",
      "\t - MRR@20    epoch 10: 0.101935\n"
     ]
    },
    {
     "name": "stderr",
     "output_type": "stream",
     "text": [
      "Evaluation:  75%|███████▌  | 3/4 [00:02<00:00,  1.03it/s]"
     ]
    },
    {
     "name": "stdout",
     "output_type": "stream",
     "text": [
      "\n",
      "====Evaluation====\n",
      "\t - Recall@20: 0.205729\n",
      "\t - MRR@20: 0.074695\n",
      "\n"
     ]
    },
    {
     "name": "stderr",
     "output_type": "stream",
     "text": [
      "\n"
     ]
    },
    {
     "data": {
      "application/javascript": "\n            setTimeout(function() {\n                var nbb_cell_id = 47;\n                var nbb_unformatted_code = \"args = Args(\\n    tr, val, test, batch_size=256, hsz=64, drop_rate=0.1, lr=0.001, epochs=EPOCH, k=20\\n)\\nmodel = create_model(args)\\ntrain_model(model, args, verbose=1)\\ntest_model(model, args, test)\";\n                var nbb_formatted_code = \"args = Args(\\n    tr, val, test, batch_size=256, hsz=64, drop_rate=0.1, lr=0.001, epochs=EPOCH, k=20\\n)\\nmodel = create_model(args)\\ntrain_model(model, args, verbose=1)\\ntest_model(model, args, test)\";\n                var nbb_cells = Jupyter.notebook.get_cells();\n                for (var i = 0; i < nbb_cells.length; ++i) {\n                    if (nbb_cells[i].input_prompt_number == nbb_cell_id) {\n                        if (nbb_cells[i].get_text() == nbb_unformatted_code) {\n                             nbb_cells[i].set_text(nbb_formatted_code);\n                        }\n                        break;\n                    }\n                }\n            }, 500);\n            ",
      "text/plain": [
       "<IPython.core.display.Javascript object>"
      ]
     },
     "metadata": {},
     "output_type": "display_data"
    }
   ],
   "source": [
    "args = Args(\n",
    "    tr, val, test, batch_size=256, hsz=64, drop_rate=0.1, lr=0.001, epochs=EPOCH, k=20\n",
    ")\n",
    "model = create_model(args)\n",
    "train_model(model, args, verbose=1)\n",
    "test_model(model, args, test)"
   ]
  },
  {
   "cell_type": "markdown",
   "id": "55adeaeb",
   "metadata": {},
   "source": [
    "조금 더 좋은 성능을 보인 64로 설정하여 이후 실험을 진행합니다."
   ]
  },
  {
   "cell_type": "code",
   "execution_count": 47,
   "id": "0373522d",
   "metadata": {},
   "outputs": [
    {
     "data": {
      "application/javascript": "\n            setTimeout(function() {\n                var nbb_cell_id = 48;\n                var nbb_unformatted_code = \"BATCH_SZ = 64\";\n                var nbb_formatted_code = \"BATCH_SZ = 64\";\n                var nbb_cells = Jupyter.notebook.get_cells();\n                for (var i = 0; i < nbb_cells.length; ++i) {\n                    if (nbb_cells[i].input_prompt_number == nbb_cell_id) {\n                        if (nbb_cells[i].get_text() == nbb_unformatted_code) {\n                             nbb_cells[i].set_text(nbb_formatted_code);\n                        }\n                        break;\n                    }\n                }\n            }, 500);\n            ",
      "text/plain": [
       "<IPython.core.display.Javascript object>"
      ]
     },
     "metadata": {},
     "output_type": "display_data"
    }
   ],
   "source": [
    "BATCH_SZ = 64"
   ]
  },
  {
   "cell_type": "markdown",
   "id": "0a8a5489",
   "metadata": {},
   "source": [
    "### Hidden Unit 변경\n",
    "\n",
    "최초 사용한 모델의 hidden unit size 64의 절반인 32, 2배인 128로 설정하여 실험을 진행합니다."
   ]
  },
  {
   "cell_type": "code",
   "execution_count": 48,
   "id": "f4e66b99",
   "metadata": {},
   "outputs": [
    {
     "name": "stdout",
     "output_type": "stream",
     "text": [
      "Model: \"m_b64_h32\"\n",
      "_________________________________________________________________\n",
      "Layer (type)                 Output Shape              Param #   \n",
      "=================================================================\n",
      "input_7 (InputLayer)         [(64, 1, 2667)]           0         \n",
      "_________________________________________________________________\n",
      "GRU (GRU)                    [(64, 32), (64, 32)]      259296    \n",
      "_________________________________________________________________\n",
      "dropout_6 (Dropout)          (64, 32)                  0         \n",
      "_________________________________________________________________\n",
      "dense_6 (Dense)              (64, 2667)                88011     \n",
      "=================================================================\n",
      "Total params: 347,307\n",
      "Trainable params: 347,307\n",
      "Non-trainable params: 0\n",
      "_________________________________________________________________\n"
     ]
    },
    {
     "name": "stderr",
     "output_type": "stream",
     "text": [
      "Train: 100%|█████████▉| 4755/4756 [00:49<00:00, 95.81it/s, accuracy=0.0312, train_loss=6.31]\n",
      "Evaluation:  97%|█████████▋| 34/35 [00:09<00:00,  3.47it/s]\n",
      "Train: 100%|█████████▉| 4755/4756 [00:48<00:00, 98.14it/s, accuracy=0.0469, train_loss=5.83]\n",
      "Evaluation:  97%|█████████▋| 34/35 [00:09<00:00,  3.78it/s]\n",
      "Train: 100%|█████████▉| 4755/4756 [00:47<00:00, 100.14it/s, accuracy=0.0312, train_loss=5.53]\n",
      "Evaluation:  97%|█████████▋| 34/35 [00:08<00:00,  3.90it/s]\n",
      "Train: 100%|█████████▉| 4755/4756 [00:47<00:00, 100.09it/s, accuracy=0.0312, train_loss=5.35]\n",
      "Evaluation:  97%|█████████▋| 34/35 [00:08<00:00,  3.93it/s]\n",
      "Train: 100%|█████████▉| 4755/4756 [00:47<00:00, 100.85it/s, accuracy=0.0312, train_loss=5.26]\n",
      "Evaluation:  97%|█████████▋| 34/35 [00:08<00:00,  4.02it/s]\n"
     ]
    },
    {
     "name": "stdout",
     "output_type": "stream",
     "text": [
      "\t - Recall@20 epoch 5: 0.316176\n",
      "\t - MRR@20    epoch 5: 0.100552\n"
     ]
    },
    {
     "name": "stderr",
     "output_type": "stream",
     "text": [
      "Train: 100%|█████████▉| 4755/4756 [00:47<00:00, 100.84it/s, accuracy=0.0469, train_loss=5.15]\n",
      "Evaluation:  97%|█████████▋| 34/35 [00:08<00:00,  3.98it/s]\n",
      "Train: 100%|█████████▉| 4755/4756 [00:47<00:00, 99.71it/s, accuracy=0.0469, train_loss=5.03] \n",
      "Evaluation:  97%|█████████▋| 34/35 [00:08<00:00,  4.02it/s]\n",
      "Train: 100%|█████████▉| 4755/4756 [00:47<00:00, 100.81it/s, accuracy=0.0312, train_loss=5.11]\n",
      "Evaluation:  97%|█████████▋| 34/35 [00:08<00:00,  4.00it/s]\n",
      "Train: 100%|█████████▉| 4755/4756 [00:47<00:00, 100.54it/s, accuracy=0.0469, train_loss=5.11]\n",
      "Evaluation:  97%|█████████▋| 34/35 [00:08<00:00,  4.02it/s]\n",
      "Train: 100%|█████████▉| 4755/4756 [00:47<00:00, 101.03it/s, accuracy=0.0312, train_loss=5.22]\n",
      "Evaluation:  97%|█████████▋| 34/35 [00:08<00:00,  4.05it/s]\n"
     ]
    },
    {
     "name": "stdout",
     "output_type": "stream",
     "text": [
      "\t - Recall@20 epoch 10: 0.335018\n",
      "\t - MRR@20    epoch 10: 0.110685\n"
     ]
    },
    {
     "name": "stderr",
     "output_type": "stream",
     "text": [
      "Evaluation:  95%|█████████▍| 18/19 [00:04<00:00,  3.87it/s]"
     ]
    },
    {
     "name": "stdout",
     "output_type": "stream",
     "text": [
      "\n",
      "====Evaluation====\n",
      "\t - Recall@20: 0.289062\n",
      "\t - MRR@20: 0.100780\n",
      "\n"
     ]
    },
    {
     "name": "stderr",
     "output_type": "stream",
     "text": [
      "\n"
     ]
    },
    {
     "data": {
      "application/javascript": "\n            setTimeout(function() {\n                var nbb_cell_id = 49;\n                var nbb_unformatted_code = \"args = Args(\\n    tr, val, test, batch_size=BATCH_SZ, hsz=32, drop_rate=0.1, lr=0.001, epochs=EPOCH, k=20\\n)\\nmodel = create_model(args)\\ntrain_model(model, args, verbose=1)\\ntest_model(model, args, test)\";\n                var nbb_formatted_code = \"args = Args(\\n    tr,\\n    val,\\n    test,\\n    batch_size=BATCH_SZ,\\n    hsz=32,\\n    drop_rate=0.1,\\n    lr=0.001,\\n    epochs=EPOCH,\\n    k=20,\\n)\\nmodel = create_model(args)\\ntrain_model(model, args, verbose=1)\\ntest_model(model, args, test)\";\n                var nbb_cells = Jupyter.notebook.get_cells();\n                for (var i = 0; i < nbb_cells.length; ++i) {\n                    if (nbb_cells[i].input_prompt_number == nbb_cell_id) {\n                        if (nbb_cells[i].get_text() == nbb_unformatted_code) {\n                             nbb_cells[i].set_text(nbb_formatted_code);\n                        }\n                        break;\n                    }\n                }\n            }, 500);\n            ",
      "text/plain": [
       "<IPython.core.display.Javascript object>"
      ]
     },
     "metadata": {},
     "output_type": "display_data"
    }
   ],
   "source": [
    "args = Args(\n",
    "    tr,\n",
    "    val,\n",
    "    test,\n",
    "    batch_size=BATCH_SZ,\n",
    "    hsz=32,\n",
    "    drop_rate=0.1,\n",
    "    lr=0.001,\n",
    "    epochs=EPOCH,\n",
    "    k=20,\n",
    ")\n",
    "model = create_model(args)\n",
    "train_model(model, args, verbose=1)\n",
    "test_model(model, args, test)"
   ]
  },
  {
   "cell_type": "code",
   "execution_count": 49,
   "id": "d7d3119f",
   "metadata": {},
   "outputs": [
    {
     "name": "stdout",
     "output_type": "stream",
     "text": [
      "Model: \"m_b64_h128\"\n",
      "_________________________________________________________________\n",
      "Layer (type)                 Output Shape              Param #   \n",
      "=================================================================\n",
      "input_8 (InputLayer)         [(64, 1, 2667)]           0         \n",
      "_________________________________________________________________\n",
      "GRU (GRU)                    [(64, 128), (64, 128)]    1074048   \n",
      "_________________________________________________________________\n",
      "dropout_7 (Dropout)          (64, 128)                 0         \n",
      "_________________________________________________________________\n",
      "dense_7 (Dense)              (64, 2667)                344043    \n",
      "=================================================================\n",
      "Total params: 1,418,091\n",
      "Trainable params: 1,418,091\n",
      "Non-trainable params: 0\n",
      "_________________________________________________________________\n"
     ]
    },
    {
     "name": "stderr",
     "output_type": "stream",
     "text": [
      "Train: 100%|█████████▉| 4755/4756 [00:51<00:00, 91.67it/s, accuracy=0.0312, train_loss=5.62]\n",
      "Evaluation:  97%|█████████▋| 34/35 [00:09<00:00,  3.74it/s]\n",
      "Train: 100%|█████████▉| 4755/4756 [00:50<00:00, 93.90it/s, accuracy=0.0312, train_loss=5.12]\n",
      "Evaluation:  97%|█████████▋| 34/35 [00:08<00:00,  3.93it/s]\n",
      "Train: 100%|█████████▉| 4755/4756 [00:51<00:00, 93.23it/s, accuracy=0.0625, train_loss=4.97]\n",
      "Evaluation:  97%|█████████▋| 34/35 [00:08<00:00,  3.98it/s]\n",
      "Train: 100%|█████████▉| 4755/4756 [00:50<00:00, 93.91it/s, accuracy=0.0469, train_loss=4.82]\n",
      "Evaluation:  97%|█████████▋| 34/35 [00:08<00:00,  4.04it/s]\n",
      "Train: 100%|█████████▉| 4755/4756 [00:50<00:00, 94.33it/s, accuracy=0.0625, train_loss=4.67]\n",
      "Evaluation:  97%|█████████▋| 34/35 [00:08<00:00,  4.00it/s]\n"
     ]
    },
    {
     "name": "stdout",
     "output_type": "stream",
     "text": [
      "\t - Recall@20 epoch 5: 0.326287\n",
      "\t - MRR@20    epoch 5: 0.109023\n"
     ]
    },
    {
     "name": "stderr",
     "output_type": "stream",
     "text": [
      "Train: 100%|█████████▉| 4755/4756 [00:50<00:00, 94.28it/s, accuracy=0.0469, train_loss=4.65]\n",
      "Evaluation:  97%|█████████▋| 34/35 [00:08<00:00,  4.03it/s]\n",
      "Train: 100%|█████████▉| 4755/4756 [00:50<00:00, 93.98it/s, accuracy=0.0781, train_loss=4.65]\n",
      "Evaluation:  97%|█████████▋| 34/35 [00:08<00:00,  4.04it/s]\n",
      "Train: 100%|█████████▉| 4755/4756 [00:50<00:00, 93.61it/s, accuracy=0.0625, train_loss=4.51]\n",
      "Evaluation:  97%|█████████▋| 34/35 [00:08<00:00,  4.04it/s]\n",
      "Train: 100%|█████████▉| 4755/4756 [00:50<00:00, 93.96it/s, accuracy=0.0469, train_loss=4.52]\n",
      "Evaluation:  97%|█████████▋| 34/35 [00:08<00:00,  3.98it/s]\n",
      "Train: 100%|█████████▉| 4755/4756 [00:50<00:00, 94.77it/s, accuracy=0.0469, train_loss=4.39]\n",
      "Evaluation:  97%|█████████▋| 34/35 [00:08<00:00,  3.97it/s]\n"
     ]
    },
    {
     "name": "stdout",
     "output_type": "stream",
     "text": [
      "\t - Recall@20 epoch 10: 0.323989\n",
      "\t - MRR@20    epoch 10: 0.103040\n"
     ]
    },
    {
     "name": "stderr",
     "output_type": "stream",
     "text": [
      "Evaluation:  95%|█████████▍| 18/19 [00:04<00:00,  3.89it/s]"
     ]
    },
    {
     "name": "stdout",
     "output_type": "stream",
     "text": [
      "\n",
      "====Evaluation====\n",
      "\t - Recall@20: 0.269965\n",
      "\t - MRR@20: 0.097871\n",
      "\n"
     ]
    },
    {
     "name": "stderr",
     "output_type": "stream",
     "text": [
      "\n"
     ]
    },
    {
     "data": {
      "application/javascript": "\n            setTimeout(function() {\n                var nbb_cell_id = 50;\n                var nbb_unformatted_code = \"args = Args(\\n    tr,\\n    val,\\n    test,\\n    batch_size=BATCH_SZ,\\n    hsz=128,\\n    drop_rate=0.1,\\n    lr=0.001,\\n    epochs=EPOCH,\\n    k=20,\\n)\\nmodel = create_model(args)\\ntrain_model(model, args, verbose=1)\\ntest_model(model, args, test)\";\n                var nbb_formatted_code = \"args = Args(\\n    tr,\\n    val,\\n    test,\\n    batch_size=BATCH_SZ,\\n    hsz=128,\\n    drop_rate=0.1,\\n    lr=0.001,\\n    epochs=EPOCH,\\n    k=20,\\n)\\nmodel = create_model(args)\\ntrain_model(model, args, verbose=1)\\ntest_model(model, args, test)\";\n                var nbb_cells = Jupyter.notebook.get_cells();\n                for (var i = 0; i < nbb_cells.length; ++i) {\n                    if (nbb_cells[i].input_prompt_number == nbb_cell_id) {\n                        if (nbb_cells[i].get_text() == nbb_unformatted_code) {\n                             nbb_cells[i].set_text(nbb_formatted_code);\n                        }\n                        break;\n                    }\n                }\n            }, 500);\n            ",
      "text/plain": [
       "<IPython.core.display.Javascript object>"
      ]
     },
     "metadata": {},
     "output_type": "display_data"
    }
   ],
   "source": [
    "args = Args(\n",
    "    tr,\n",
    "    val,\n",
    "    test,\n",
    "    batch_size=BATCH_SZ,\n",
    "    hsz=128,\n",
    "    drop_rate=0.1,\n",
    "    lr=0.001,\n",
    "    epochs=EPOCH,\n",
    "    k=20,\n",
    ")\n",
    "model = create_model(args)\n",
    "train_model(model, args, verbose=1)\n",
    "test_model(model, args, test)"
   ]
  },
  {
   "cell_type": "markdown",
   "id": "ab0b4f3c",
   "metadata": {},
   "source": [
    "## 실험결과\n",
    "| Try | Session Size | Batch Size | Hidden Unit Size | Recall | MRR |\n",
    "| --- | --- | --- | --- | --- | --- |\n",
    "| #1 | 1 hour | 128 | 64 | 0.170 | 0.055 |\n",
    "| #2 | 30 min | 128 | 64 | 0.264 | 0.099 |\n",
    "| #3 | 2 hour | 128 | 64 | 0.266 | 0.092 |\n",
    "| #4 | 15 min | 128 | 64 | 0.256 | 0.095 |\n",
    "| #5 | 30 min | 64 | 64 | <ins>0.284</ins> | **0.102** |\n",
    "| #6 | 30 min | 256 | 64 | 0.206 | 0.075 |\n",
    "| #7 | 30 min | 64 | 32 | **0.289** | <ins>0.101</ins> |\n",
    "| #8 | 30 min | 64 | 128 | 0.270 | 0.098 |\n"
   ]
  },
  {
   "cell_type": "markdown",
   "id": "e461de31",
   "metadata": {},
   "source": [
    "## 결론\n",
    "\n",
    "- 동일한 구조의 네트워크를 사용하여도 세션의 정의에 따라 데이터셋이 달라져 다른 성능을 보였습니다.\n",
    "    - 세션을 정의하는 시간의 범위가 넓어지거나 좁아짐에 따른 성능의 변화는 일관되지 않아, 목적에 맞는 적절한 세션의 범위를 찾기 위한 과정이 필요합니다.\n",
    "- 배치 사이즈에 따라 성능이 달라짐을 확인하였습니다.\n",
    "    - 기준이 되는 128보다 작은 64에서는 성능 향상, 128보다 큰 256에서는 성능 하락을 확인하였습니다.\n",
    "- 네트워크를 구성하는 GRU 레이어의 hidden unit 사이즈의 크기가 달라짐에 따라 성능이 변화하였습니다.    \n",
    "    - 기준이 되는 64보다 큰 128에서는 성능이 하락되었고, 64보다 작은 32에서는 성능이 향상되었습니다. 데이터셋과 네트워크에 적절한 탐색이 필요합니다.\n",
    "- 세션을 정의하는 시간의 범위를 30분, 배치 사이즈를 64, hidden unit 사이즈를 32로 설정하였을 때, 가장 높은 recall을 얻을 수 있었습니다."
   ]
  },
  {
   "cell_type": "markdown",
   "id": "3e7b6410",
   "metadata": {},
   "source": [
    "## 루브릭\n",
    "\n",
    "| 평가문항\t| 상세기준 |\n",
    "| --- | --- |\n",
    "| 1. Movielens 데이터셋을 session based recommendation 관점으로 전처리하는 과정이 체계적으로 진행되었다. | 데이터셋의 면밀한 분석을 토대로 세션단위 정의 과정(길이분석, 시간분석)을 합리적으로 수행한 과정이 기술되었다. |\n",
    "| 2. RNN 기반의 예측 모델이 정상적으로 구성되어 안정적으로 훈련이 진행되었다. | 적절한 epoch만큼의 학습이 진행되는 과정에서 train loss가 안정적으로 감소하고, validation 단계에서의 Recall, MRR이 개선되는 것이 확인된다. |\n",
    "| 3. 세션정의, 모델구조, 하이퍼파라미터 등을 변경해서 실험하여 Recall, MRR 등의 변화추이를 관찰하였다. | 3가지 이상의 변화를 시도하고 그 실험결과를 체계적으로 분석하였다. |"
   ]
  },
  {
   "cell_type": "markdown",
   "id": "ea5a4e1a",
   "metadata": {},
   "source": [
    "### 루브릭 자체평가\n",
    "1. 세션의 단위를 정의하고, 실험을 통해 서로 다른 정의에 따른 모델의 성능 변화를 확인하였다.\n",
    "2. 모델이 학습을 진행함에 따라 train loss가 감소하고, recall과 mrr이 향상됨을 확인할 수 있었다.\n",
    "3. 세션 단위 변경, 모델 변경, 배치 사이즈와 같은 학습 관련 하이퍼파라미터 변경 등의 다양한 실험을 진행하였다."
   ]
  }
 ],
 "metadata": {
  "kernelspec": {
   "display_name": "Python 3 (ipykernel)",
   "language": "python",
   "name": "python3"
  },
  "language_info": {
   "codemirror_mode": {
    "name": "ipython",
    "version": 3
   },
   "file_extension": ".py",
   "mimetype": "text/x-python",
   "name": "python",
   "nbconvert_exporter": "python",
   "pygments_lexer": "ipython3",
   "version": "3.9.7"
  }
 },
 "nbformat": 4,
 "nbformat_minor": 5
}
