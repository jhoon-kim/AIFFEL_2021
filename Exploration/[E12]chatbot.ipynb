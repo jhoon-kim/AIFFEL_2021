{
 "cells": [
  {
   "cell_type": "markdown",
   "id": "fb62e11b",
   "metadata": {},
   "source": [
    "# 12. \ud2b8\ub79c\uc2a4\ud3ec\uba38\ub85c \ub9cc\ub4dc\ub294 \ub300\ud654\ud615 \ucc57\ubd07\n"
   ]
  },
  {
   "cell_type": "markdown",
   "id": "cb2a230f",
   "metadata": {},
   "source": [
    "## \ub370\uc774\ud130 \uc218\uc9d1\n",
    "\n",
    "\uc1a1\uc601\uc219\ub2d8\uc774 \uacf5\uac1c\ud55c [\ub370\uc774\ud130](https://github.com/songys/Chatbot_data)\ub97c \ud6c8\ub828\uc5d0 \uc0ac\uc6a9\ud569\ub2c8\ub2e4."
   ]
  },
  {
   "cell_type": "code",
   "execution_count": 1,
   "id": "8395b249",
   "metadata": {
    "scrolled": false
   },
   "outputs": [
    {
     "name": "stdout",
     "output_type": "stream",
     "text": [
      "11823\n"
     ]
    },
    {
     "data": {
      "text/html": [
       "<div>\n",
       "<style scoped>\n",
       "    .dataframe tbody tr th:only-of-type {\n",
       "        vertical-align: middle;\n",
       "    }\n",
       "\n",
       "    .dataframe tbody tr th {\n",
       "        vertical-align: top;\n",
       "    }\n",
       "\n",
       "    .dataframe thead th {\n",
       "        text-align: right;\n",
       "    }\n",
       "</style>\n",
       "<table border=\"1\" class=\"dataframe\">\n",
       "  <thead>\n",
       "    <tr style=\"text-align: right;\">\n",
       "      <th></th>\n",
       "      <th>Q</th>\n",
       "      <th>A</th>\n",
       "      <th>label</th>\n",
       "    </tr>\n",
       "  </thead>\n",
       "  <tbody>\n",
       "    <tr>\n",
       "      <th>0</th>\n",
       "      <td>12\uc2dc \ub561!</td>\n",
       "      <td>\ud558\ub8e8\uac00 \ub610 \uac00\ub124\uc694.</td>\n",
       "      <td>0</td>\n",
       "    </tr>\n",
       "    <tr>\n",
       "      <th>1</th>\n",
       "      <td>1\uc9c0\ub9dd \ud559\uad50 \ub5a8\uc5b4\uc84c\uc5b4</td>\n",
       "      <td>\uc704\ub85c\ud574 \ub4dc\ub9bd\ub2c8\ub2e4.</td>\n",
       "      <td>0</td>\n",
       "    </tr>\n",
       "    <tr>\n",
       "      <th>2</th>\n",
       "      <td>3\ubc154\uc77c \ub180\ub7ec\uac00\uace0 \uc2f6\ub2e4</td>\n",
       "      <td>\uc5ec\ud589\uc740 \uc5b8\uc81c\ub098 \uc88b\uc8e0.</td>\n",
       "      <td>0</td>\n",
       "    </tr>\n",
       "    <tr>\n",
       "      <th>3</th>\n",
       "      <td>3\ubc154\uc77c \uc815\ub3c4 \ub180\ub7ec\uac00\uace0 \uc2f6\ub2e4</td>\n",
       "      <td>\uc5ec\ud589\uc740 \uc5b8\uc81c\ub098 \uc88b\uc8e0.</td>\n",
       "      <td>0</td>\n",
       "    </tr>\n",
       "    <tr>\n",
       "      <th>4</th>\n",
       "      <td>PPL \uc2ec\ud558\ub124</td>\n",
       "      <td>\ub208\uc0b4\uc774 \ucc0c\ud478\ub824\uc9c0\uc8e0.</td>\n",
       "      <td>0</td>\n",
       "    </tr>\n",
       "  </tbody>\n",
       "</table>\n",
       "</div>"
      ],
      "text/plain": [
       "                 Q            A  label\n",
       "0           12\uc2dc \ub561!   \ud558\ub8e8\uac00 \ub610 \uac00\ub124\uc694.      0\n",
       "1      1\uc9c0\ub9dd \ud559\uad50 \ub5a8\uc5b4\uc84c\uc5b4    \uc704\ub85c\ud574 \ub4dc\ub9bd\ub2c8\ub2e4.      0\n",
       "2     3\ubc154\uc77c \ub180\ub7ec\uac00\uace0 \uc2f6\ub2e4  \uc5ec\ud589\uc740 \uc5b8\uc81c\ub098 \uc88b\uc8e0.      0\n",
       "3  3\ubc154\uc77c \uc815\ub3c4 \ub180\ub7ec\uac00\uace0 \uc2f6\ub2e4  \uc5ec\ud589\uc740 \uc5b8\uc81c\ub098 \uc88b\uc8e0.      0\n",
       "4          PPL \uc2ec\ud558\ub124   \ub208\uc0b4\uc774 \ucc0c\ud478\ub824\uc9c0\uc8e0.      0"
      ]
     },
     "execution_count": 1,
     "metadata": {},
     "output_type": "execute_result"
    }
   ],
   "source": [
    "import os\n",
    "import re\n",
    "import matplotlib.pyplot as plt\n",
    "import numpy as np\n",
    "import pandas as pd\n",
    "import tensorflow as tf\n",
    "\n",
    "\n",
    "data = pd.read_csv(\n",
    "    os.getenv(\"HOME\") + \"/aiffel/transformer_chatbot/data/ChatbotData .csv\"\n",
    ")\n",
    "print(len(data))\n",
    "data.head()"
   ]
  },
  {
   "cell_type": "markdown",
   "id": "3ea5e717",
   "metadata": {},
   "source": [
    "\ub370\uc774\ud130\ub294 \uc9c8\ubb38 `Q`\uc640 \ub2f5\ubcc0 `A`\ub85c \uc774\ub8e8\uc5b4\uc838 \uc788\uc2b5\ub2c8\ub2e4. `label`\uc740 \ub300\ud654\uc758 \uc8fc\uc81c\uac00 0(\uc77c\uc0c1), 1(\ubd80\uc815), 2(\uae0d\uc815)\uc784\uc744 \ub098\ud0c0\ub0b4\uba70 \uc5ec\uae30\uc11c\ub294 \uc0ac\uc6a9\ud558\uc9c0 \uc54a\uc2b5\ub2c8\ub2e4."
   ]
  },
  {
   "cell_type": "markdown",
   "id": "77304dc4",
   "metadata": {},
   "source": [
    "\uacb0\uce21\uce58 \uc720\ubb34\ub97c \ud655\uc778\ud569\ub2c8\ub2e4."
   ]
  },
  {
   "cell_type": "code",
   "execution_count": 2,
   "id": "4c274af8",
   "metadata": {
    "scrolled": true
   },
   "outputs": [
    {
     "data": {
      "text/plain": [
       "Q        0\n",
       "A        0\n",
       "label    0\n",
       "dtype: int64"
      ]
     },
     "execution_count": 2,
     "metadata": {},
     "output_type": "execute_result"
    }
   ],
   "source": [
    "data.isnull().sum()"
   ]
  },
  {
   "cell_type": "markdown",
   "id": "2d4b8adb",
   "metadata": {},
   "source": [
    "\uacb0\uce21\uce58\ub294 \uc874\uc7ac\ud558\uc9c0 \uc54a\uc2b5\ub2c8\ub2e4."
   ]
  },
  {
   "cell_type": "markdown",
   "id": "906ce3fe",
   "metadata": {},
   "source": [
    "## \ub370\uc774\ud130 \uc804\ucc98\ub9ac\n",
    "\n",
    "\ub370\uc774\ud130 \uc804\ucc98\ub9ac\ub97c \uc9c4\ud589\ud569\ub2c8\ub2e4.\n",
    "1. \uc601\ubb38\uc744 \uc704\ud55c \uc18c\ubb38\uc790 \ubcc0\ud658 \ubc0f \uacf5\ubc31 \uc81c\uac70\n",
    "2. \ubb38\uc7a5 \ubd80\ud638\ub97c \uae30\uc900\uc73c\ub85c \ubd80\ud638 \uc55e \uacf5\ubc31 \ucd94\uac00\n",
    "3. 2\uac1c \uc774\uc0c1\uc758 \uacf5\ubc31\uc744 \ud558\ub098\uc758 \uacf5\ubc31\uc73c\ub85c \uce58\ud658\n",
    "4. \ud55c\uae00\uc640 \uc601\ubb38, \uc77c\ubd80 \ubb38\uc7a5 \ubd80\ud638\ub97c \uc81c\uc678\ud55c \ubaa8\ub4e0 \ubb38\uc790 \uacf5\ubc31\uc73c\ub85c \ucc98\ub9ac"
   ]
  },
  {
   "cell_type": "code",
   "execution_count": 3,
   "id": "7ea39d50",
   "metadata": {},
   "outputs": [],
   "source": [
    "def preprocess_sentence(sentence):\n",
    "    sentence = sentence.lower().strip()\n",
    "    sentence = re.sub(r\"([?.!,])\", r\" \\1 \", sentence)\n",
    "    sentence = re.sub(r'[\" \"]+', \" \", sentence)\n",
    "    sentence = re.sub(r\"[^\uac00-\ud7a3a-zA-Z?.!,]+\", \" \", sentence)\n",
    "    sentence = sentence.strip()\n",
    "    return sentence"
   ]
  },
  {
   "cell_type": "markdown",
   "id": "930366d4",
   "metadata": {},
   "source": [
    "\uc9c8\ubb38 \ubb38\uc7a5\uc5d0 \uc804\ucc98\ub9ac\ub97c \uc801\uc6a9\ud55c \uacb0\uacfc\ub97c \ud655\uc778\ud569\ub2c8\ub2e4."
   ]
  },
  {
   "cell_type": "code",
   "execution_count": 4,
   "id": "6697a1c8",
   "metadata": {},
   "outputs": [
    {
     "name": "stdout",
     "output_type": "stream",
     "text": [
      "12\uc2dc \ub561! -> \uc2dc \ub561 !\n",
      "1\uc9c0\ub9dd \ud559\uad50 \ub5a8\uc5b4\uc84c\uc5b4 -> \uc9c0\ub9dd \ud559\uad50 \ub5a8\uc5b4\uc84c\uc5b4\n",
      "3\ubc154\uc77c \ub180\ub7ec\uac00\uace0 \uc2f6\ub2e4 -> \ubc15 \uc77c \ub180\ub7ec\uac00\uace0 \uc2f6\ub2e4\n",
      "3\ubc154\uc77c \uc815\ub3c4 \ub180\ub7ec\uac00\uace0 \uc2f6\ub2e4 -> \ubc15 \uc77c \uc815\ub3c4 \ub180\ub7ec\uac00\uace0 \uc2f6\ub2e4\n",
      "PPL \uc2ec\ud558\ub124 -> ppl \uc2ec\ud558\ub124\n"
     ]
    }
   ],
   "source": [
    "for i in data[\"Q\"].iloc[:5]:\n",
    "    print(i, \"->\", preprocess_sentence(i))"
   ]
  },
  {
   "cell_type": "markdown",
   "id": "326688ea",
   "metadata": {},
   "source": [
    "\uc804\ucc98\ub9ac\ub97c \uc9c8\ubb38\uacfc \ub2f5\ubcc0 \ub370\uc774\ud130\uc5d0 \uc801\uc6a9\ud569\ub2c8\ub2e4."
   ]
  },
  {
   "cell_type": "code",
   "execution_count": 5,
   "id": "f0c9a6e5",
   "metadata": {},
   "outputs": [
    {
     "name": "stdout",
     "output_type": "stream",
     "text": [
      "\uc804\uccb4 \uc0d8\ud50c \uc218 : 11823\n",
      "\uc804\uccb4 \uc0d8\ud50c \uc218 : 11823\n"
     ]
    }
   ],
   "source": [
    "questions = data[\"Q\"].apply(preprocess_sentence)\n",
    "answers = data[\"A\"].apply(preprocess_sentence)\n",
    "print(\"\uc804\uccb4 \uc0d8\ud50c \uc218 :\", len(questions))\n",
    "print(\"\uc804\uccb4 \uc0d8\ud50c \uc218 :\", len(answers))"
   ]
  },
  {
   "cell_type": "code",
   "execution_count": 6,
   "id": "9b052f27",
   "metadata": {},
   "outputs": [
    {
     "name": "stdout",
     "output_type": "stream",
     "text": [
      "\uc804\ucc98\ub9ac \ud6c4\uc758 1\ubc88\uc9f8 \uc9c8\ubb38 \uc0d8\ud50c: \uc2dc \ub561 !\n",
      "\uc804\ucc98\ub9ac \ud6c4\uc758 1\ubc88\uc9f8 \ub2f5\ubcc0 \uc0d8\ud50c: \ud558\ub8e8\uac00 \ub610 \uac00\ub124\uc694 .\n",
      "\n",
      "\uc804\ucc98\ub9ac \ud6c4\uc758 2\ubc88\uc9f8 \uc9c8\ubb38 \uc0d8\ud50c: \uc9c0\ub9dd \ud559\uad50 \ub5a8\uc5b4\uc84c\uc5b4\n",
      "\uc804\ucc98\ub9ac \ud6c4\uc758 2\ubc88\uc9f8 \ub2f5\ubcc0 \uc0d8\ud50c: \uc704\ub85c\ud574 \ub4dc\ub9bd\ub2c8\ub2e4 .\n",
      "\n",
      "\uc804\ucc98\ub9ac \ud6c4\uc758 3\ubc88\uc9f8 \uc9c8\ubb38 \uc0d8\ud50c: \ubc15 \uc77c \ub180\ub7ec\uac00\uace0 \uc2f6\ub2e4\n",
      "\uc804\ucc98\ub9ac \ud6c4\uc758 3\ubc88\uc9f8 \ub2f5\ubcc0 \uc0d8\ud50c: \uc5ec\ud589\uc740 \uc5b8\uc81c\ub098 \uc88b\uc8e0 .\n",
      "\n",
      "\uc804\ucc98\ub9ac \ud6c4\uc758 4\ubc88\uc9f8 \uc9c8\ubb38 \uc0d8\ud50c: \ubc15 \uc77c \uc815\ub3c4 \ub180\ub7ec\uac00\uace0 \uc2f6\ub2e4\n",
      "\uc804\ucc98\ub9ac \ud6c4\uc758 4\ubc88\uc9f8 \ub2f5\ubcc0 \uc0d8\ud50c: \uc5ec\ud589\uc740 \uc5b8\uc81c\ub098 \uc88b\uc8e0 .\n",
      "\n",
      "\uc804\ucc98\ub9ac \ud6c4\uc758 5\ubc88\uc9f8 \uc9c8\ubb38 \uc0d8\ud50c: ppl \uc2ec\ud558\ub124\n",
      "\uc804\ucc98\ub9ac \ud6c4\uc758 5\ubc88\uc9f8 \ub2f5\ubcc0 \uc0d8\ud50c: \ub208\uc0b4\uc774 \ucc0c\ud478\ub824\uc9c0\uc8e0 .\n",
      "\n"
     ]
    }
   ],
   "source": [
    "for i in range(5):\n",
    "    print(f\"\uc804\ucc98\ub9ac \ud6c4\uc758 {i+1}\ubc88\uc9f8 \uc9c8\ubb38 \uc0d8\ud50c: {questions[i]}\")\n",
    "    print(f\"\uc804\ucc98\ub9ac \ud6c4\uc758 {i+1}\ubc88\uc9f8 \ub2f5\ubcc0 \uc0d8\ud50c: {answers[i]}\")\n",
    "    print()"
   ]
  },
  {
   "cell_type": "markdown",
   "id": "825d8572",
   "metadata": {},
   "source": [
    "## SubwordTextEncoder \uc0ac\uc6a9\n",
    "\n",
    "\ud150\uc11c\ud50c\ub85c\uc6b0\uc5d0\uc11c \uc81c\uacf5\ud558\ub294 [SubwordTextEncoder](https://www.tensorflow.org/datasets/api_docs/python/tfds/deprecated/text/SubwordTextEncoder)\ub97c \uc0ac\uc6a9\ud569\ub2c8\ub2e4."
   ]
  },
  {
   "cell_type": "code",
   "execution_count": 7,
   "id": "f8e0b180",
   "metadata": {},
   "outputs": [],
   "source": [
    "import tensorflow_datasets as tfds\n",
    "\n",
    "tokenizer = tfds.deprecated.text.SubwordTextEncoder.build_from_corpus(\n",
    "    questions + answers, target_vocab_size=2 ** 13\n",
    ")"
   ]
  },
  {
   "cell_type": "markdown",
   "id": "12fcb59e",
   "metadata": {},
   "source": [
    "\uc2dc\uc791 \ud1a0\ud070\uacfc \uc885\ub8cc \ud1a0\ud070\uc744 \uc704\ud55c \uc778\ub371\uc2a4\ub97c \uc124\uc815\ud569\ub2c8\ub2e4."
   ]
  },
  {
   "cell_type": "code",
   "execution_count": 8,
   "id": "b5640251",
   "metadata": {},
   "outputs": [
    {
     "name": "stdout",
     "output_type": "stream",
     "text": [
      "START_TOKEN\uc758 \ubc88\ud638 : [8325]\n",
      "END_TOKEN\uc758 \ubc88\ud638 : [8326]\n"
     ]
    }
   ],
   "source": [
    "START_TOKEN, END_TOKEN = [tokenizer.vocab_size], [tokenizer.vocab_size + 1]\n",
    "\n",
    "print(\"START_TOKEN\uc758 \ubc88\ud638 :\", [tokenizer.vocab_size])\n",
    "print(\"END_TOKEN\uc758 \ubc88\ud638 :\", [tokenizer.vocab_size + 1])"
   ]
  },
  {
   "cell_type": "markdown",
   "id": "f4c5896c",
   "metadata": {},
   "source": [
    "\uc2dc\uc791 \ud1a0\ud070\uacfc \uc885\ub8cc \ud1a0\ud070\uc744 \ud3ec\ud568\ud55c \ub2e8\uc5b4\uc7a5\uc758 \ud06c\uae30\ub97c \uc124\uc815\ud569\ub2c8\ub2e4."
   ]
  },
  {
   "cell_type": "code",
   "execution_count": 9,
   "id": "9436ba1a",
   "metadata": {},
   "outputs": [
    {
     "name": "stdout",
     "output_type": "stream",
     "text": [
      "8327\n"
     ]
    }
   ],
   "source": [
    "VOCAB_SIZE = tokenizer.vocab_size + 2\n",
    "print(VOCAB_SIZE)"
   ]
  },
  {
   "cell_type": "code",
   "execution_count": 10,
   "id": "7b3d5ba3",
   "metadata": {},
   "outputs": [
    {
     "name": "stdout",
     "output_type": "stream",
     "text": [
      "\uc815\uc218 \uc778\ucf54\ub529 \ud6c4\uc758 1\ubc88\uc9f8 \uc9c8\ubb38 \uc0d8\ud50c: [1534, 3049, 37]\n",
      "\uc815\uc218 \uc778\ucf54\ub529 \ud6c4\uc758 1\ubc88\uc9f8 \ub2f5\ubcc0 \uc0d8\ud50c: [3839, 72, 8057, 1]\n",
      "\n",
      "\uc815\uc218 \uc778\ucf54\ub529 \ud6c4\uc758 2\ubc88\uc9f8 \uc9c8\ubb38 \uc0d8\ud50c: [51, 915, 8101, 988, 1713]\n",
      "\uc815\uc218 \uc778\ucf54\ub529 \ud6c4\uc758 2\ubc88\uc9f8 \ub2f5\ubcc0 \uc0d8\ud50c: [1830, 5523, 1]\n",
      "\n",
      "\uc815\uc218 \uc778\ucf54\ub529 \ud6c4\uc758 3\ubc88\uc9f8 \uc9c8\ubb38 \uc0d8\ud50c: [2998, 85, 3644, 76]\n",
      "\uc815\uc218 \uc778\ucf54\ub529 \ud6c4\uc758 3\ubc88\uc9f8 \ub2f5\ubcc0 \uc0d8\ud50c: [3387, 772, 128, 1]\n",
      "\n",
      "\uc815\uc218 \uc778\ucf54\ub529 \ud6c4\uc758 4\ubc88\uc9f8 \uc9c8\ubb38 \uc0d8\ud50c: [2998, 85, 1386, 3644, 76]\n",
      "\uc815\uc218 \uc778\ucf54\ub529 \ud6c4\uc758 4\ubc88\uc9f8 \ub2f5\ubcc0 \uc0d8\ud50c: [3387, 772, 128, 1]\n",
      "\n",
      "\uc815\uc218 \uc778\ucf54\ub529 \ud6c4\uc758 5\ubc88\uc9f8 \uc9c8\ubb38 \uc0d8\ud50c: [8181, 8181, 8177, 8101, 4188]\n",
      "\uc815\uc218 \uc778\ucf54\ub529 \ud6c4\uc758 5\ubc88\uc9f8 \ub2f5\ubcc0 \uc0d8\ud50c: [977, 2293, 1484, 2177, 5489, 46, 1]\n",
      "\n"
     ]
    }
   ],
   "source": [
    "for i in range(5):\n",
    "    print(f\"\uc815\uc218 \uc778\ucf54\ub529 \ud6c4\uc758 {i+1}\ubc88\uc9f8 \uc9c8\ubb38 \uc0d8\ud50c: {tokenizer.encode(questions[i])}\")\n",
    "    print(f\"\uc815\uc218 \uc778\ucf54\ub529 \ud6c4\uc758 {i+1}\ubc88\uc9f8 \ub2f5\ubcc0 \uc0d8\ud50c: {tokenizer.encode(answers[i])}\")\n",
    "    print()"
   ]
  },
  {
   "cell_type": "markdown",
   "id": "f2b457a6",
   "metadata": {},
   "source": [
    "\uc55e\uc11c \uc0dd\uc131\ud55c \ud1a0\ud06c\ub098\uc774\uc800\ub97c \uc0ac\uc6a9\ud558\uc5ec \uc9c8\ubb38 \ubb38\uc7a5\uacfc \ub2f5\ubcc0 \ubb38\uc7a5\uc744 encoding\ud569\ub2c8\ub2e4."
   ]
  },
  {
   "cell_type": "code",
   "execution_count": 11,
   "id": "61d09a4b",
   "metadata": {},
   "outputs": [],
   "source": [
    "questions_tok = questions.apply(tokenizer.encode)\n",
    "answers_tok = answers.apply(tokenizer.encode)"
   ]
  },
  {
   "cell_type": "markdown",
   "id": "75d2a2bc",
   "metadata": {},
   "source": [
    "\ud1a0\ud070 \uae38\uc774\uc758 \ud1b5\uacc4\ub97c \uc0ac\uc6a9\ud558\uc5ec \ud1a0\ud070\uc758 \ucd5c\ub300 \uae38\uc774\ub97c \uc124\uc815\ud569\ub2c8\ub2e4."
   ]
  },
  {
   "cell_type": "code",
   "execution_count": 12,
   "id": "4af36cd5",
   "metadata": {},
   "outputs": [
    {
     "name": "stdout",
     "output_type": "stream",
     "text": [
      "\uc9c8\ubb38 \uae38\uc774 \ucd5c\uc18c - \ud3c9\uade0 - \ucd5c\ub300: 1 - 5.459 - 21\n",
      "\uc9c8\ubb38 \uae38\uc774 \ud45c\uc900\ud3b8\ucc28: 2.495\n",
      "\ub2f5\ubcc0 \uae38\uc774 \ucd5c\uc18c - \ud3c9\uade0 - \ucd5c\ub300: 1 - 5.825 - 29\n",
      "\ub2f5\ubcc0 \uae38\uc774 \ud45c\uc900\ud3b8\ucc28: 2.601\n",
      "MAX_LENGTH: 13\n"
     ]
    }
   ],
   "source": [
    "question_len = [len(q) for q in questions_tok]\n",
    "answer_len = [len(a) for a in answers_tok]\n",
    "\n",
    "print(\n",
    "    f\"\uc9c8\ubb38 \uae38\uc774 \ucd5c\uc18c - \ud3c9\uade0 - \ucd5c\ub300: {np.min(question_len)} - {np.mean(question_len):.3f} - {np.max(question_len)}\"\n",
    ")\n",
    "print(f\"\uc9c8\ubb38 \uae38\uc774 \ud45c\uc900\ud3b8\ucc28: {np.std(question_len):.3f}\")\n",
    "print(\n",
    "    f\"\ub2f5\ubcc0 \uae38\uc774 \ucd5c\uc18c - \ud3c9\uade0 - \ucd5c\ub300: {np.min(answer_len)} - {np.mean(answer_len):.3f} - {np.max(answer_len)}\"\n",
    ")\n",
    "print(f\"\ub2f5\ubcc0 \uae38\uc774 \ud45c\uc900\ud3b8\ucc28: {np.std(answer_len):.3f}\")\n",
    "\n",
    "q_six_sig = np.mean(question_len) + 3 * np.std(question_len)\n",
    "a_six_sig = np.mean(answer_len) + 3 * np.std(answer_len)\n",
    "\n",
    "MAX_LENGTH = int(max(q_six_sig, a_six_sig))\n",
    "print(\"MAX_LENGTH:\", MAX_LENGTH)"
   ]
  },
  {
   "cell_type": "markdown",
   "id": "3c392c43",
   "metadata": {},
   "source": [
    "\uc55e\uc120 \uacfc\uc815\uc5d0\uc11c \uc124\uc815\ud55c \ud1a0\ud070\uc758 \ucd5c\ub300 \uae38\uc774\ubcf4\ub2e4 \uc9e7\uc740 \ubb38\uc7a5\uc774 \uc804\uccb4 \ub370\uc774\ud130\uc5d0\uc11c \ucc28\uc9c0\ud558\ub294 \ube44\uc728\uc744 \ud655\uc778\ud569\ub2c8\ub2e4."
   ]
  },
  {
   "cell_type": "code",
   "execution_count": 13,
   "id": "90dd49b9",
   "metadata": {},
   "outputs": [
    {
     "name": "stdout",
     "output_type": "stream",
     "text": [
      "MAX_LENGTH: 13\n",
      "\uc9c8\ubb38 \ubb38\uc7a5\uc758 98.655%\uac00 MAX_LENGTH \uc774\ub0b4\uc5d0 \ud3ec\ud568\ub429\ub2c8\ub2e4.\n",
      "\ub2f5\ubcc0 \ubb38\uc7a5\uc758 97.742%\uac00 MAX_LENGTH \uc774\ub0b4\uc5d0 \ud3ec\ud568\ub429\ub2c8\ub2e4.\n"
     ]
    }
   ],
   "source": [
    "question_len = np.array(question_len)\n",
    "maxlen_ratio_q = np.sum(question_len < MAX_LENGTH) / len(question_len) * 100\n",
    "answer_len = np.array(answer_len)\n",
    "maxlen_ratio_a = np.sum(answer_len < MAX_LENGTH) / len(answer_len) * 100\n",
    "\n",
    "print(\"MAX_LENGTH:\", MAX_LENGTH)\n",
    "print(f\"\uc9c8\ubb38 \ubb38\uc7a5\uc758 {maxlen_ratio_q:.3f}%\uac00 MAX_LENGTH \uc774\ub0b4\uc5d0 \ud3ec\ud568\ub429\ub2c8\ub2e4.\")\n",
    "print(f\"\ub2f5\ubcc0 \ubb38\uc7a5\uc758 {maxlen_ratio_a:.3f}%\uac00 MAX_LENGTH \uc774\ub0b4\uc5d0 \ud3ec\ud568\ub429\ub2c8\ub2e4.\")"
   ]
  },
  {
   "cell_type": "markdown",
   "id": "a8a7ef91",
   "metadata": {},
   "source": [
    "\ud1a0\ud070\ud654\uac00 \uc644\ub8cc\ub41c \uacb0\uacfc\uc758 \uc55e\uacfc \ub4a4\uc5d0 \uc2dc\uc791 \ud1a0\ud070\uacfc \uc885\ub8cc \ud1a0\ud070\uc744 \ubd80\uc5ec\ud558\uace0 \ucd5c\ub300 \uae38\uc774\ub97c \uc81c\ud55c\ud569\ub2c8\ub2e4.  \n",
    "\ubb38\uc7a5\uc758 \ucd5c\ub300 \uae38\uc774\ub97c \uae30\uc900\uc73c\ub85c \ud328\ub529\uc744 \uc9c4\ud589\ud569\ub2c8\ub2e4."
   ]
  },
  {
   "cell_type": "code",
   "execution_count": 14,
   "id": "bdd85f82",
   "metadata": {},
   "outputs": [],
   "source": [
    "def wrap_and_pad(inputs, outputs):\n",
    "    wrapped_input, wrapped_output = [], []\n",
    "\n",
    "    for (sentence1, sentence2) in zip(inputs, outputs):\n",
    "        sentence1 = START_TOKEN + sentence1 + END_TOKEN\n",
    "        sentence2 = START_TOKEN + sentence2 + END_TOKEN\n",
    "\n",
    "        if len(sentence1) <= MAX_LENGTH and len(sentence2) <= MAX_LENGTH:\n",
    "            wrapped_input.append(sentence1)\n",
    "            wrapped_output.append(sentence2)\n",
    "\n",
    "    padded_inputs = tf.keras.preprocessing.sequence.pad_sequences(\n",
    "        wrapped_input, maxlen=MAX_LENGTH, padding=\"post\"\n",
    "    )\n",
    "    padded_outputs = tf.keras.preprocessing.sequence.pad_sequences(\n",
    "        wrapped_output, maxlen=MAX_LENGTH, padding=\"post\"\n",
    "    )\n",
    "\n",
    "    return padded_inputs, padded_outputs"
   ]
  },
  {
   "cell_type": "markdown",
   "id": "30b740c6",
   "metadata": {},
   "source": [
    "\ucd5c\ub300 \uae38\uc774\ub97c \uc81c\ud55c\ud55c \uc774\ud6c4\uc758 \ub370\uc774\ud130\ub97c \ud655\uc778\ud569\ub2c8\ub2e4."
   ]
  },
  {
   "cell_type": "code",
   "execution_count": 15,
   "id": "36a7938c",
   "metadata": {},
   "outputs": [
    {
     "name": "stdout",
     "output_type": "stream",
     "text": [
      "\ub2e8\uc5b4\uc7a5\uc758 \ud06c\uae30: 8327\n",
      "\ud544\ud130\ub9c1 \ud6c4\uc758 \uc9c8\ubb38 \uc0d8\ud50c \uac1c\uc218: 11156\n",
      "\ud544\ud130\ub9c1 \ud6c4\uc758 \ub2f5\ubcc0 \uc0d8\ud50c \uac1c\uc218: 11156\n"
     ]
    }
   ],
   "source": [
    "questions, answers = wrap_and_pad(questions_tok, answers_tok)\n",
    "print(\"\ub2e8\uc5b4\uc7a5\uc758 \ud06c\uae30:\", (VOCAB_SIZE))\n",
    "print(\"\ud544\ud130\ub9c1 \ud6c4\uc758 \uc9c8\ubb38 \uc0d8\ud50c \uac1c\uc218:\", len(questions))\n",
    "print(\"\ud544\ud130\ub9c1 \ud6c4\uc758 \ub2f5\ubcc0 \uc0d8\ud50c \uac1c\uc218:\", len(answers))"
   ]
  },
  {
   "cell_type": "markdown",
   "id": "4b1bbc2a",
   "metadata": {},
   "source": [
    "Tensorflow\uc758 Dataset\uc744 \uc774\uc6a9\ud558\uc5ec \uc785\ub825 \ud30c\uc774\ud504\ub77c\uc778\uc744 \uc900\ube44\ud558\uba74\uc11c, Teacher Forcing\uc744 \uc704\ud55c \ub514\ucf54\ub354\uc758 \uc785\ub825 \ubc0f \ud0c0\uac9f \ub370\uc774\ud130\ub97c \uc815\uc758\ud569\ub2c8\ub2e4."
   ]
  },
  {
   "cell_type": "code",
   "execution_count": 16,
   "id": "97f29726",
   "metadata": {},
   "outputs": [],
   "source": [
    "BATCH_SIZE = 64\n",
    "BUFFER_SIZE = 20000\n",
    "\n",
    "dataset = tf.data.Dataset.from_tensor_slices(\n",
    "    (\n",
    "        {\"inputs\": questions, \"dec_inputs\": answers[:, :-1]},\n",
    "        {\"outputs\": answers[:, 1:]},\n",
    "    )\n",
    ")\n",
    "\n",
    "dataset = dataset.cache()\n",
    "dataset = dataset.shuffle(BUFFER_SIZE)\n",
    "dataset = dataset.batch(BATCH_SIZE)\n",
    "dataset = dataset.prefetch(tf.data.experimental.AUTOTUNE)"
   ]
  },
  {
   "cell_type": "markdown",
   "id": "6ecca9a5",
   "metadata": {},
   "source": [
    "## \ubaa8\ub378 \uad6c\uc131"
   ]
  },
  {
   "cell_type": "markdown",
   "id": "e25dbeb5",
   "metadata": {},
   "source": [
    "### \ud3ec\uc9c0\uc154\ub110 \uc778\ucf54\ub529\n",
    "\n",
    "\ub3d9\uc77c\ud55c \ub2e8\uc5b4\uc5d0 \ub300\ud574 \ub3d9\uc77c\ud55c \uc784\ubca0\ub529 \ub808\uc774\uc5b4\ub97c \uac70\uce58\uba74 \uc704\uce58\uc5d0 \ubb34\uad00\ud558\uac8c \uac19\uc740 \uac12\uc758 \ubca1\ud130\ub97c \uc5bb\uc2b5\ub2c8\ub2e4. \ud558\uc9c0\ub9cc \ud3ec\uc9c0\uc154\ub110 \uc778\ucf54\ub529\uc744 \uc801\uc6a9\ud558\uba74 \uac19\uc740 \ub2e8\uc5b4\ub77c\ub3c4 \uc704\uce58\uc5d0 \ub530\ub77c \ub2e4\ub978 \ubca1\ud130\ub97c \uc5bb\uc744 \uc218 \uc788\uc2b5\ub2c8\ub2e4. \n",
    "- sine \uc5f0\uc0b0\uacfc cosine \uc5f0\uc0b0\uc5d0 \uc0ac\uc6a9\ud560 \uac01\ub3c4\ub294 \uc704\uce58\uc5d0 \ub530\ub77c \uacc4\uc0b0\ub429\ub2c8\ub2e4.\n",
    "- \uc9dd\uc218\uc5d0 \ud574\ub2f9\ud558\ub294 \ud56d\ubaa9\uc5d0\ub294 sine \uc5f0\uc0b0\uc744 \uc801\uc6a9\ud569\ub2c8\ub2e4.\n",
    "- \ud640\uc218\uc5d0 \ud574\ub2f9\ud558\ub294 \ud56d\ubaa9\uc5d0\ub294 cosine \uc5f0\uc0b0\uc744 \uc801\uc6a9\ud569\ub2c8\ub2e4."
   ]
  },
  {
   "cell_type": "code",
   "execution_count": 17,
   "id": "20bc01cc",
   "metadata": {},
   "outputs": [],
   "source": [
    "class PositionalEncoding(tf.keras.layers.Layer):\n",
    "    def __init__(self, position, d_model):\n",
    "        super(PositionalEncoding, self).__init__()\n",
    "        self.pos_encoding = self.positional_encoding(position, d_model)\n",
    "\n",
    "    def get_angles(self, position, i, d_model):\n",
    "        angles = 1 / tf.pow(10000, (2 * (i // 2)) / tf.cast(d_model, tf.float32))\n",
    "        return position * angles\n",
    "\n",
    "    def positional_encoding(self, position, d_model):\n",
    "        angle_rads = self.get_angles(\n",
    "            position=tf.range(position, dtype=tf.float32)[:, tf.newaxis],\n",
    "            i=tf.range(d_model, dtype=tf.float32)[tf.newaxis, :],\n",
    "            d_model=d_model,\n",
    "        )\n",
    "        sines = tf.math.sin(angle_rads[:, 0::2])\n",
    "        cosines = tf.math.cos(angle_rads[:, 1::2])\n",
    "\n",
    "        pos_encoding = tf.stack([sines, cosines], axis=0)\n",
    "        pos_encoding = tf.transpose(pos_encoding, [1, 2, 0])\n",
    "        pos_encoding = tf.reshape(pos_encoding, [position, d_model])\n",
    "\n",
    "        pos_encoding = pos_encoding[tf.newaxis, ...]\n",
    "        return tf.cast(pos_encoding, tf.float32)\n",
    "\n",
    "    def call(self, inputs):\n",
    "        return inputs + self.pos_encoding[:, : tf.shape(inputs)[1], :]"
   ]
  },
  {
   "cell_type": "markdown",
   "id": "4dc88585",
   "metadata": {},
   "source": [
    "### \uc5b4\ud150\uc158\n",
    "\n",
    "1. Query\uc640 Key\uc758 \ub0b4\uc801\uc744 \ud1b5\ud574 \uc720\uc0ac\ub3c4\ub97c \uad6c\ud569\ub2c8\ub2e4.\n",
    "2. \uc720\uc0ac\ub3c4\uc758 \ud06c\uae30\uac00 \ub108\ubb34 \ucee4\uc838 \ud559\uc2b5\uc5d0 \ubd80\uc815\uc801\uc778 \uc601\ud5a5\uc744 \ubbf8\uce58\uc9c0 \uc54a\ub3c4\ub85d scaling\uc744 \uc801\uc6a9\ud569\ub2c8\ub2e4. (2-1. \ub9c8\uc2a4\ud06c\uac00 \uc874\uc7ac\ud55c\ub2e4\uba74 \uc801\uc6a9\ud569\ub2c8\ub2e4. softmax \ud568\uc218\uc5d0 \uc601\ud5a5\uc744 \ubbf8\uce58\uc9c0 \uc54a\uc744 \uc815\ub3c4\ub85c \uc544\uc8fc \uc791\uc740 \uac12\uc744 \uc785\ub825\ud569\ub2c8\ub2e4.)\n",
    "3. Softmax\ub97c \uc801\uc6a9\ud569\ub2c8\ub2e4.\n",
    "4. 3\ubc88\uc758 \uacb0\uacfc\ub97c Value\uc640 \uacf1\ud558\uc5ec \uc5b4\ud150\uc158\ub97c \uc5bb\uc2b5\ub2c8\ub2e4."
   ]
  },
  {
   "cell_type": "code",
   "execution_count": 18,
   "id": "992e7b5d",
   "metadata": {},
   "outputs": [],
   "source": [
    "def scaled_dot_product_attention(query, key, value, mask):\n",
    "    matmul_qk = tf.matmul(query, key, transpose_b=True)\n",
    "\n",
    "    depth = tf.cast(tf.shape(key)[-1], tf.float32)\n",
    "    logits = matmul_qk / tf.math.sqrt(depth)\n",
    "\n",
    "    if mask is not None:\n",
    "        logits += mask * -1e9\n",
    "\n",
    "    attention_weights = tf.nn.softmax(logits, axis=-1)\n",
    "\n",
    "    output = tf.matmul(attention_weights, value)\n",
    "    return output"
   ]
  },
  {
   "cell_type": "markdown",
   "id": "5d241e3e",
   "metadata": {},
   "source": [
    "### Multi-Head Attention\n",
    "\n",
    "Multi-Head Attention\uc740 \uc5ec\ub7ec \ud5e4\ub4dc\uac00 \uac01\uac01 \uc5b4\ud150\uc158 \uc5f0\uc0b0\uc744 \uc218\ud589\ud558\ub294 \uacfc\uc815\uc785\ub2c8\ub2e4. \uc5ec\ub7ec \uad00\uc810\uc5d0\uc11c \ucc98\ub9ac\ud55c \uc815\ubcf4\ub97c \uc5bb\uc744 \uc218 \uc788\uc2b5\ub2c8\ub2e4.\n",
    "1. Query, Key, Value\uc5d0 \ub300\ud574 unit\uc774 d_model\uc778 Dense \uc5f0\uc0b0\uc744 \uc801\uc6a9\ud569\ub2c8\ub2e4.(d_model\uc758 \ucc28\uc6d0\uc744 \uac00\uc9c4 \ubca1\ud130\ub97c \ub9cc\ub4e4\uc5b4\ub0c5\ub2c8\ub2e4.)\n",
    "2. d_model\uc758 \ud06c\uae30\ub97c \uac00\uc9c4 Query, Key, Value\ub97c head \uc218\uc5d0 \ub9de\ucd94\uc5b4 \ubd84\ud560\ud569\ub2c8\ub2e4.\n",
    "3. \ubd84\ud560\ub41c Query, Key, Value\uc5d0 \ub300\ud574 \uc5b4\ud150\uc158 \uc5f0\uc0b0\uc744 \uc801\uc6a9\ud569\ub2c8\ub2e4.\n",
    "4. \uac01\uac01\uc758 head\uc5d0\uc11c \uad6c\ud55c \uc5b4\ud150\uc158\uc744 concatenate\ud569\ub2c8\ub2e4.\n",
    "5. \uc5f0\uacb0\ub41c \uc5b4\ud150\uc158\uc5d0 Dense\ub97c \uc801\uc6a9\ud569\ub2c8\ub2e4."
   ]
  },
  {
   "cell_type": "code",
   "execution_count": 19,
   "id": "6cba0ba3",
   "metadata": {},
   "outputs": [],
   "source": [
    "class MultiHeadAttention(tf.keras.layers.Layer):\n",
    "    def __init__(self, d_model, num_heads, name=\"multi_head_attention\"):\n",
    "        super(MultiHeadAttention, self).__init__(name=name)\n",
    "        self.num_heads = num_heads\n",
    "        self.d_model = d_model\n",
    "\n",
    "        assert d_model % self.num_heads == 0\n",
    "\n",
    "        self.depth = d_model // self.num_heads\n",
    "\n",
    "        self.query_dense = tf.keras.layers.Dense(units=d_model)\n",
    "        self.key_dense = tf.keras.layers.Dense(units=d_model)\n",
    "        self.value_dense = tf.keras.layers.Dense(units=d_model)\n",
    "\n",
    "        self.dense = tf.keras.layers.Dense(units=d_model)\n",
    "\n",
    "    def split_heads(self, inputs, batch_size):\n",
    "        inputs = tf.reshape(inputs, shape=(batch_size, -1, self.num_heads, self.depth))\n",
    "        return tf.transpose(inputs, perm=[0, 2, 1, 3])\n",
    "\n",
    "    def call(self, inputs):\n",
    "        query, key, value, mask = (\n",
    "            inputs[\"query\"],\n",
    "            inputs[\"key\"],\n",
    "            inputs[\"value\"],\n",
    "            inputs[\"mask\"],\n",
    "        )\n",
    "        batch_size = tf.shape(query)[0]\n",
    "\n",
    "        query = self.query_dense(query)\n",
    "        key = self.key_dense(key)\n",
    "        query = self.split_heads(query, batch_size)\n",
    "        key = self.split_heads(key, batch_size)\n",
    "        value = self.split_heads(value, batch_size)\n",
    "\n",
    "        scaled_attention = scaled_dot_product_attention(query, key, value, mask)\n",
    "        scaled_attention = tf.transpose(scaled_attention, perm=[0, 2, 1, 3])\n",
    "        concat_attention = tf.reshape(scaled_attention, (batch_size, -1, self.d_model))\n",
    "\n",
    "        outputs = self.dense(concat_attention)\n",
    "        return outputs"
   ]
  },
  {
   "cell_type": "markdown",
   "id": "45b923ea",
   "metadata": {},
   "source": [
    "### \ub9c8\uc2a4\ud0b9\n",
    "\n",
    "\ubb38\uc7a5\uc758 \uae38\uc774\ub97c \ub9de\ucd94\uae30 \uc704\ud574 \uc0ac\uc6a9\ud55c `<PAD>` \uc815\ubcf4\ub97c \uc0ac\uc6a9\ud558\uc9c0 \uc54a\ub3c4\ub85d \ub9c8\uc2a4\ud0b9 \uc5f0\uc0b0\uc744 \uc815\uc758\ud569\ub2c8\ub2e4.\n",
    "- `tf.cast`\ub294 \uc870\uac74\uc5d0 \ub530\ub77c 1 \ub610\ub294 0 \uc744 \ubc18\ud658\ud558\ub294 \ud568\uc218\uc785\ub2c8\ub2e4.\n",
    "- \ub9c8\uc2a4\ud0b9 \uc815\ubcf4\uac00 \uc874\uc7ac\ud558\ub294 \uc694\uc18c(`mask` \ubca1\ud130\uc5d0\uc11c 1\ub85c \uc874\uc7ac)\uc5d0\ub294 \uc544\uc8fc \uc791\uc740 \uc74c\uc218\uac00 \uc785\ub825\ub418\uc5b4 softmax\uc5d0\uc11c 0\uc5d0 \uac00\uae4c\uc6b4 \uac12\uc744 \ucd9c\ub825\ud569\ub2c8\ub2e4."
   ]
  },
  {
   "cell_type": "code",
   "execution_count": 20,
   "id": "9af8f796",
   "metadata": {},
   "outputs": [],
   "source": [
    "def create_padding_mask(x):\n",
    "    mask = tf.cast(tf.math.equal(x, 0), tf.float32)\n",
    "    # (batch_size, 1, 1, sequence length)\n",
    "    return mask[:, tf.newaxis, tf.newaxis, :]"
   ]
  },
  {
   "cell_type": "code",
   "execution_count": 21,
   "id": "93b58e5c",
   "metadata": {},
   "outputs": [
    {
     "name": "stdout",
     "output_type": "stream",
     "text": [
      "tf.Tensor(\n",
      "[[[[0. 0. 1. 0. 1.]]]\n",
      "\n",
      "\n",
      " [[[1. 1. 1. 0. 0.]]]], shape=(2, 1, 1, 5), dtype=float32)\n"
     ]
    }
   ],
   "source": [
    "print(create_padding_mask(tf.constant([[1, 2, 0, 3, 0], [0, 0, 0, 4, 5]])))"
   ]
  },
  {
   "cell_type": "markdown",
   "id": "66914a65",
   "metadata": {},
   "source": [
    "\ud568\uc218\ub97c \ud14c\uc2a4\ud2b8\ud55c \uacb0\uacfc 0\uc778 \uc694\uc18c\uac00 `mask` \ubca1\ud130\uc5d0\uc11c 1\ub85c \uc124\uc815\ub418\uc5b4 \uc788\uc74c\uc744 \ud655\uc778\ud560 \uc218 \uc788\uc2b5\ub2c8\ub2e4."
   ]
  },
  {
   "cell_type": "markdown",
   "id": "5a7d7f12",
   "metadata": {},
   "source": [
    "### \uc778\ucf54\ub354\n",
    "\n",
    "\ud558\ub098\uc758 \uc778\ucf54\ub354 \uce35\uc5d0\ub294 2\uac1c\uc758 \uc11c\ube0c \ub808\uc774\uc5b4\uac00 \uc874\uc7ac\ud569\ub2c8\ub2e4.\n",
    "\n",
    "1. \uc140\ud504 \uc5b4\ud150\uc158(\uba40\ud2f0-\ud5e4\ub4dc \uc5b4\ud150\uc158)\n",
    "2. FFNN\n",
    "\n",
    "- \uac01 \ub808\uc774\uc5b4\uc758 \ucd9c\ub825 \uacb0\uacfc\uc5d0\ub294 Dropout \ub610\ub294 Layer Normalization\uc744 \uc801\uc6a9\ud569\ub2c8\ub2e4."
   ]
  },
  {
   "cell_type": "code",
   "execution_count": 22,
   "id": "ca269514",
   "metadata": {},
   "outputs": [],
   "source": [
    "def encoder_layer(units, d_model, num_heads, dropout, name=\"encoder_layer\"):\n",
    "    inputs = tf.keras.Input(shape=(None, d_model), name=\"inputs\")\n",
    "    padding_mask = tf.keras.Input(shape=(1, 1, None), name=\"padding_mask\")\n",
    "\n",
    "    attention = MultiHeadAttention(d_model, num_heads, name=\"attention\")(\n",
    "        {\"query\": inputs, \"key\": inputs, \"value\": inputs, \"mask\": padding_mask}\n",
    "    )\n",
    "\n",
    "    attention = tf.keras.layers.Dropout(rate=dropout)(attention)\n",
    "    attention = tf.keras.layers.LayerNormalization(epsilon=1e-6)(inputs + attention)\n",
    "\n",
    "    outputs = tf.keras.layers.Dense(units=units, activation=\"relu\")(attention)\n",
    "    outputs = tf.keras.layers.Dense(units=d_model)(outputs)\n",
    "\n",
    "    outputs = tf.keras.layers.Dropout(rate=dropout)(outputs)\n",
    "    outputs = tf.keras.layers.LayerNormalization(epsilon=1e-6)(attention + outputs)\n",
    "\n",
    "    return tf.keras.Model(inputs=[inputs, padding_mask], outputs=outputs, name=name)"
   ]
  },
  {
   "cell_type": "markdown",
   "id": "579d3025",
   "metadata": {},
   "source": [
    "\uc778\ucf54\ub529 \uce35\uc744 \uc5ec\ub7ec \uac1c \uc313\uc544 \uc778\ucf54\ub354\ub97c \uad6c\uc131\ud569\ub2c8\ub2e4.\n",
    "\n",
    "1. \uc785\ub825 \ub370\uc774\ud130\uc5d0 \ub9c8\uc2a4\ud0b9\uc744 \uc801\uc6a9\ud569\ub2c8\ub2e4.\n",
    "2. \uc784\ubca0\ub529 \uc5f0\uc0b0\uc744 \uc801\uc6a9\ud569\ub2c8\ub2e4.\n",
    "3. \ud3ec\uc9c0\uc154\ub110 \uc778\ucf54\ub529\uc744 \uc801\uc6a9\ud569\ub2c8\ub2e4.\n",
    "4. Dropout\uc744 \uc801\uc6a9\ud569\ub2c8\ub2e4.\n",
    "5. \uc5ec\ub7ec \uac1c\uc758 \uc778\ucf54\ub529 \uce35\uc744 \ud1b5\uacfc\ud569\ub2c8\ub2e4."
   ]
  },
  {
   "cell_type": "code",
   "execution_count": 23,
   "id": "1441f179",
   "metadata": {},
   "outputs": [],
   "source": [
    "def encoder(vocab_size, num_layers, units, d_model, num_heads, dropout, name=\"encoder\"):\n",
    "    inputs = tf.keras.Input(shape=(None,), name=\"inputs\")\n",
    "    padding_mask = tf.keras.Input(shape=(1, 1, None), name=\"padding_mask\")\n",
    "\n",
    "    embeddings = tf.keras.layers.Embedding(vocab_size, d_model)(inputs)\n",
    "    embeddings *= tf.math.sqrt(tf.cast(d_model, tf.float32))\n",
    "\n",
    "    embeddings = PositionalEncoding(vocab_size, d_model)(embeddings)\n",
    "\n",
    "    outputs = tf.keras.layers.Dropout(rate=dropout)(embeddings)\n",
    "\n",
    "    for i in range(num_layers):\n",
    "        outputs = encoder_layer(\n",
    "            units=units,\n",
    "            d_model=d_model,\n",
    "            num_heads=num_heads,\n",
    "            dropout=dropout,\n",
    "            name=\"encoder_layer_{}\".format(i),\n",
    "        )([outputs, padding_mask])\n",
    "\n",
    "    return tf.keras.Model(inputs=[inputs, padding_mask], outputs=outputs, name=name)"
   ]
  },
  {
   "cell_type": "markdown",
   "id": "da01c822",
   "metadata": {},
   "source": [
    "### \ub514\ucf54\ub354"
   ]
  },
  {
   "cell_type": "markdown",
   "id": "f07e5456",
   "metadata": {},
   "source": [
    "\ud2b8\ub79c\uc2a4\ud3ec\uba38\ub294 \uc785\ub825 \ub2e8\uc5b4\ub97c \uc2dc\uc810\uc5d0 \ub530\ub77c \uc21c\ucc28\uc801\uc73c\ub85c \uc785\ub825\ubc1b\ub294 \uad6c\uc870\uac00 \uc544\ub2c8\uae30 \ub54c\ubb38\uc5d0 \uc804\uccb4 \ubb38\uc7a5\uc744 \ud55c \ubc88\uc5d0 \uc785\ub825 \ubc1b\uc2b5\ub2c8\ub2e4. \uc774\ub7f0 \uc0c1\ud669\uc5d0\uc11c\ub294 \ud604\uc7ac \ub2e8\uc5b4\ubcf4\ub2e4 \uc774\ud6c4\uc5d0 \ub4f1\uc7a5\ud558\ub294 \ubbf8\ub798\uc758 \ub2e8\uc5b4 \uc815\ubcf4\ub97c \uc0ac\uc6a9\ud560 \uc218 \uc788\uae30 \ub54c\ubb38\uc5d0 \uc774\ub97c \ub9c9\uc744 \uc218 \uc788\ub294 \ub9c8\uc2a4\ud0b9\uc774 \ud544\uc694\ud569\ub2c8\ub2e4."
   ]
  },
  {
   "cell_type": "code",
   "execution_count": 24,
   "id": "ff377ff4",
   "metadata": {},
   "outputs": [],
   "source": [
    "def create_look_ahead_mask(x):\n",
    "    seq_len = tf.shape(x)[1]\n",
    "    look_ahead_mask = 1 - tf.linalg.band_part(tf.ones((seq_len, seq_len)), -1, 0)\n",
    "    padding_mask = create_padding_mask(x)\n",
    "    return tf.maximum(look_ahead_mask, padding_mask)"
   ]
  },
  {
   "cell_type": "markdown",
   "id": "15c94d28",
   "metadata": {},
   "source": [
    "Look-ahead mask \ud568\uc218\uc758 \uc2e4\ud589 \uacb0\uacfc\ub97c \ud14c\uc2a4\ud2b8\ud569\ub2c8\ub2e4."
   ]
  },
  {
   "cell_type": "code",
   "execution_count": 25,
   "id": "1dd4b103",
   "metadata": {},
   "outputs": [
    {
     "name": "stdout",
     "output_type": "stream",
     "text": [
      "tf.Tensor(\n",
      "[[[[0. 1. 1. 1. 1.]\n",
      "   [0. 0. 1. 1. 1.]\n",
      "   [0. 0. 0. 1. 1.]\n",
      "   [0. 0. 0. 0. 1.]\n",
      "   [0. 0. 0. 0. 0.]]]], shape=(1, 1, 5, 5), dtype=float32)\n"
     ]
    }
   ],
   "source": [
    "print(create_look_ahead_mask(tf.constant([[1, 2, 3, 4, 5]])))"
   ]
  },
  {
   "cell_type": "markdown",
   "id": "a80fd351",
   "metadata": {},
   "source": [
    "\ud604\uc7ac \uc2dc\uc810 \uc774\ud6c4\uc758 \ub370\uc774\ud130\ub4e4\uc5d0 \ub300\ud55c \ucc38\uc870\uac00 \uc774\ub8e8\uc5b4\uc9c0\uc9c0 \ubabb\ud558\ub3c4\ub85d \ub9c8\uc2a4\ud06c\uac00 1\ub85c \uc124\uc815\ub418\uc5b4 \uc788\uc2b5\ub2c8\ub2e4."
   ]
  },
  {
   "cell_type": "markdown",
   "id": "f511c335",
   "metadata": {},
   "source": [
    "Look-ahead mask\uc640 \ud328\ub529\uc744 \uc704\ud55c \ub9c8\uc2a4\ud06c\uac00 \ub3d9\uc2dc\uc5d0 \uc798 \uc801\uc6a9\ub418\ub294\uc9c0 \ud655\uc778\ud569\ub2c8\ub2e4."
   ]
  },
  {
   "cell_type": "code",
   "execution_count": 26,
   "id": "ce719a18",
   "metadata": {},
   "outputs": [
    {
     "name": "stdout",
     "output_type": "stream",
     "text": [
      "tf.Tensor(\n",
      "[[[[1. 1. 1. 1. 1.]\n",
      "   [1. 0. 1. 1. 1.]\n",
      "   [1. 0. 0. 1. 1.]\n",
      "   [1. 0. 0. 0. 1.]\n",
      "   [1. 0. 0. 0. 0.]]]], shape=(1, 1, 5, 5), dtype=float32)\n"
     ]
    }
   ],
   "source": [
    "print(create_look_ahead_mask(tf.constant([[0, 5, 1, 5, 5]])))"
   ]
  },
  {
   "cell_type": "markdown",
   "id": "257ef464",
   "metadata": {},
   "source": [
    "\ud604\uc7ac \uc2dc\uc810 \uc774\ud6c4\uc758 \ub370\uc774\ud130\ub4e4\uc5d0 \ub300\ud55c \ub9c8\uc2a4\ud06c\uc640 \uccab\ubc88\uc9f8 \ud56d\ubaa9\uc5d0 \ub300\ud55c \ud328\ub529 \ub9c8\uc2a4\ud06c\uac00 \uc798 \uc801\uc6a9\ub418\uc5c8\uc74c\uc744 \ud655\uc778\ud560 \uc218 \uc788\uc2b5\ub2c8\ub2e4."
   ]
  },
  {
   "cell_type": "markdown",
   "id": "80202757",
   "metadata": {},
   "source": [
    "\ud558\ub098\uc758 \ub514\ucf54\ub354 \uce35\uc5d0\ub294 3\uac1c\uc758 \uc11c\ube0c \ub808\uc774\uc5b4\uac00 \uc874\uc7ac\ud569\ub2c8\ub2e4.\n",
    "\n",
    "1. \uc140\ud504 \uc5b4\ud150\uc158(\uba40\ud2f0-\ud5e4\ub4dc \uc5b4\ud150\uc158)\n",
    "2. \uc778\ucf54\ub354-\ub514\ucf54\ub354 \uc5b4\ud150\uc158(\uba40\ud2f0-\ud5e4\ub4dc \uc5b4\ud150\uc158)\n",
    "    - \uc5b4\ud150\uc158\uc744 \uad6c\ud558\ub294 \uacfc\uc815\uc5d0\uc11c Query\ub294 \ub514\ucf54\ub354\uc5d0\uc11c \uc5bb\uc740 \uc815\ubcf4\ub97c, Key\uc640 Value\ub294 \uc778\ucf54\ub354\uc5d0\uc11c \uc5bb\uc740 \uc815\ubcf4\ub97c \uc0ac\uc6a9\ud569\ub2c8\ub2e4.\n",
    "3. FFNN\n",
    "\n",
    "- \uac01 \ub808\uc774\uc5b4\uc758 \ucd9c\ub825 \uacb0\uacfc\uc5d0\ub294 Dropout \ub610\ub294 Layer Normalization\uc744 \uc801\uc6a9\ud569\ub2c8\ub2e4."
   ]
  },
  {
   "cell_type": "code",
   "execution_count": 27,
   "id": "9b5b7edb",
   "metadata": {},
   "outputs": [],
   "source": [
    "def decoder_layer(units, d_model, num_heads, dropout, name=\"decoder_layer\"):\n",
    "    inputs = tf.keras.Input(shape=(None, d_model), name=\"inputs\")\n",
    "    enc_outputs = tf.keras.Input(shape=(None, d_model), name=\"encoder_outputs\")\n",
    "    look_ahead_mask = tf.keras.Input(shape=(1, None, None), name=\"look_ahead_mask\")\n",
    "    padding_mask = tf.keras.Input(shape=(1, 1, None), name=\"padding_mask\")\n",
    "\n",
    "    attention1 = MultiHeadAttention(d_model, num_heads, name=\"attention_1\")(\n",
    "        inputs={\n",
    "            \"query\": inputs,\n",
    "            \"key\": inputs,\n",
    "            \"value\": inputs,\n",
    "            \"mask\": look_ahead_mask,\n",
    "        }\n",
    "    )\n",
    "\n",
    "    attention1 = tf.keras.layers.LayerNormalization(epsilon=1e-6)(attention1 + inputs)\n",
    "\n",
    "    attention2 = MultiHeadAttention(d_model, num_heads, name=\"attention_2\")(\n",
    "        inputs={\n",
    "            \"query\": attention1,\n",
    "            \"key\": enc_outputs,\n",
    "            \"value\": enc_outputs,\n",
    "            \"mask\": padding_mask,\n",
    "        }\n",
    "    )\n",
    "\n",
    "    attention2 = tf.keras.layers.Dropout(rate=dropout)(attention2)\n",
    "    attention2 = tf.keras.layers.LayerNormalization(epsilon=1e-6)(\n",
    "        attention2 + attention1\n",
    "    )\n",
    "\n",
    "    outputs = tf.keras.layers.Dense(units=units, activation=\"relu\")(attention2)\n",
    "    outputs = tf.keras.layers.Dense(units=d_model)(outputs)\n",
    "\n",
    "    outputs = tf.keras.layers.Dropout(rate=dropout)(outputs)\n",
    "    outputs = tf.keras.layers.LayerNormalization(epsilon=1e-6)(outputs + attention2)\n",
    "\n",
    "    return tf.keras.Model(\n",
    "        inputs=[inputs, enc_outputs, look_ahead_mask, padding_mask],\n",
    "        outputs=outputs,\n",
    "        name=name,\n",
    "    )"
   ]
  },
  {
   "cell_type": "markdown",
   "id": "cd7fc9e9",
   "metadata": {},
   "source": [
    "\uc5ec\ub7ec \uac1c\uc758 \ub514\ucf54\ub354 \uce35\uc744 \uc313\uc544 \ub514\ucf54\ub354\ub97c \uad6c\uc131\ud569\ub2c8\ub2e4.\n",
    "\n",
    "1. \uc785\ub825 \ub370\uc774\ud130\uc5d0 \ub9c8\uc2a4\ud0b9\uc744 \uc801\uc6a9\ud569\ub2c8\ub2e4.\n",
    "2. \uc784\ubca0\ub529 \uc5f0\uc0b0\uc744 \uc801\uc6a9\ud569\ub2c8\ub2e4.\n",
    "3. \ud3ec\uc9c0\uc154\ub110 \uc778\ucf54\ub529\uc744 \uc801\uc6a9\ud569\ub2c8\ub2e4.\n",
    "4. Dropout\uc744 \uc801\uc6a9\ud569\ub2c8\ub2e4.\n",
    "5. \uc5ec\ub7ec \uac1c\uc758 \ub514\ucf54\ub529 \uce35\uc744 \ud1b5\uacfc\ud569\ub2c8\ub2e4."
   ]
  },
  {
   "cell_type": "code",
   "execution_count": 28,
   "id": "7dbd020b",
   "metadata": {},
   "outputs": [],
   "source": [
    "def decoder(vocab_size, num_layers, units, d_model, num_heads, dropout, name=\"decoder\"):\n",
    "    inputs = tf.keras.Input(shape=(None,), name=\"inputs\")\n",
    "    enc_outputs = tf.keras.Input(shape=(None, d_model), name=\"encoder_outputs\")\n",
    "    look_ahead_mask = tf.keras.Input(shape=(1, None, None), name=\"look_ahead_mask\")\n",
    "\n",
    "    padding_mask = tf.keras.Input(shape=(1, 1, None), name=\"padding_mask\")\n",
    "\n",
    "    embeddings = tf.keras.layers.Embedding(vocab_size, d_model)(inputs)\n",
    "    embeddings *= tf.math.sqrt(tf.cast(d_model, tf.float32))\n",
    "\n",
    "    embeddings = PositionalEncoding(vocab_size, d_model)(embeddings)\n",
    "\n",
    "    outputs = tf.keras.layers.Dropout(rate=dropout)(embeddings)\n",
    "\n",
    "    for i in range(num_layers):\n",
    "        outputs = decoder_layer(\n",
    "            units=units,\n",
    "            d_model=d_model,\n",
    "            num_heads=num_heads,\n",
    "            dropout=dropout,\n",
    "            name=\"decoder_layer_{}\".format(i),\n",
    "        )(inputs=[outputs, enc_outputs, look_ahead_mask, padding_mask])\n",
    "\n",
    "    return tf.keras.Model(\n",
    "        inputs=[inputs, enc_outputs, look_ahead_mask, padding_mask],\n",
    "        outputs=outputs,\n",
    "        name=name,\n",
    "    )"
   ]
  },
  {
   "cell_type": "markdown",
   "id": "a24d3bfe",
   "metadata": {},
   "source": [
    "### \ud2b8\ub79c\uc2a4\ud3ec\uba38\n",
    "\n",
    "1. \uc778\ucf54\ub354\uc640 \ub514\ucf54\ub354\ub97c \uc704\ud55c \uac01\uac01\uc758 \uc785\ub825\uc744 \uc124\uc815\ud569\ub2c8\ub2e4.\n",
    "2. \uc778\ucf54\ub354\uc640 \ub514\ucf54\ub354\ub97c \uc704\ud55c \ub9c8\uc2a4\ud06c\ub97c \uc124\uc815\ud569\ub2c8\ub2e4.\n",
    "3. \uc778\ucf54\ub354\ub97c \uc124\uc815\ud569\ub2c8\ub2e4.\n",
    "4. \ub514\ucf54\ub354\ub97c \uc124\uc815\ud569\ub2c8\ub2e4.\n",
    "5. \ub2e4\uc74c \ub2e8\uc5b4\ub97c \uc608\uce21\ud558\ub294 \ucd9c\ub825 \uacc4\uce35\uc744 \uc124\uc815\ud569\ub2c8\ub2e4."
   ]
  },
  {
   "cell_type": "code",
   "execution_count": 29,
   "id": "37bfefdf",
   "metadata": {},
   "outputs": [],
   "source": [
    "def transformer(\n",
    "    vocab_size, num_layers, units, d_model, num_heads, dropout, name=\"transformer\"\n",
    "):\n",
    "    inputs = tf.keras.Input(shape=(None,), name=\"inputs\")\n",
    "    dec_inputs = tf.keras.Input(shape=(None,), name=\"dec_inputs\")\n",
    "\n",
    "    enc_padding_mask = tf.keras.layers.Lambda(\n",
    "        create_padding_mask, output_shape=(1, 1, None), name=\"enc_padding_mask\"\n",
    "    )(inputs)\n",
    "\n",
    "    look_ahead_mask = tf.keras.layers.Lambda(\n",
    "        create_look_ahead_mask, output_shape=(1, None, None), name=\"look_ahead_mask\"\n",
    "    )(dec_inputs)\n",
    "\n",
    "    dec_padding_mask = tf.keras.layers.Lambda(\n",
    "        create_padding_mask, output_shape=(1, 1, None), name=\"dec_padding_mask\"\n",
    "    )(inputs)\n",
    "\n",
    "    enc_outputs = encoder(\n",
    "        vocab_size=vocab_size,\n",
    "        num_layers=num_layers,\n",
    "        units=units,\n",
    "        d_model=d_model,\n",
    "        num_heads=num_heads,\n",
    "        dropout=dropout,\n",
    "    )(inputs=[inputs, enc_padding_mask])\n",
    "\n",
    "    dec_outputs = decoder(\n",
    "        vocab_size=vocab_size,\n",
    "        num_layers=num_layers,\n",
    "        units=units,\n",
    "        d_model=d_model,\n",
    "        num_heads=num_heads,\n",
    "        dropout=dropout,\n",
    "    )(inputs=[dec_inputs, enc_outputs, look_ahead_mask, dec_padding_mask])\n",
    "\n",
    "    outputs = tf.keras.layers.Dense(units=vocab_size, name=\"outputs\")(dec_outputs)\n",
    "    return tf.keras.Model(inputs=[inputs, dec_inputs], outputs=outputs, name=name)"
   ]
  },
  {
   "cell_type": "markdown",
   "id": "67ccef31",
   "metadata": {},
   "source": [
    "## \ubaa8\ub378 \ud6c8\ub828"
   ]
  },
  {
   "cell_type": "markdown",
   "id": "7533c127",
   "metadata": {},
   "source": [
    "### \ubaa8\ub378 \uc0dd\uc131"
   ]
  },
  {
   "cell_type": "code",
   "execution_count": 30,
   "id": "72220221",
   "metadata": {},
   "outputs": [
    {
     "name": "stdout",
     "output_type": "stream",
     "text": [
      "Model: \"transformer\"\n",
      "__________________________________________________________________________________________________\n",
      "Layer (type)                    Output Shape         Param #     Connected to                     \n",
      "==================================================================================================\n",
      "inputs (InputLayer)             [(None, None)]       0                                            \n",
      "__________________________________________________________________________________________________\n",
      "dec_inputs (InputLayer)         [(None, None)]       0                                            \n",
      "__________________________________________________________________________________________________\n",
      "enc_padding_mask (Lambda)       (None, 1, 1, None)   0           inputs[0][0]                     \n",
      "__________________________________________________________________________________________________\n",
      "encoder (Functional)            (None, None, 256)    3054336     inputs[0][0]                     \n",
      "                                                                 enc_padding_mask[0][0]           \n",
      "__________________________________________________________________________________________________\n",
      "look_ahead_mask (Lambda)        (None, 1, None, None 0           dec_inputs[0][0]                 \n",
      "__________________________________________________________________________________________________\n",
      "dec_padding_mask (Lambda)       (None, 1, 1, None)   0           inputs[0][0]                     \n",
      "__________________________________________________________________________________________________\n",
      "decoder (Functional)            (None, None, 256)    3450112     dec_inputs[0][0]                 \n",
      "                                                                 encoder[0][0]                    \n",
      "                                                                 look_ahead_mask[0][0]            \n",
      "                                                                 dec_padding_mask[0][0]           \n",
      "__________________________________________________________________________________________________\n",
      "outputs (Dense)                 (None, None, 8327)   2140039     decoder[0][0]                    \n",
      "==================================================================================================\n",
      "Total params: 8,644,487\n",
      "Trainable params: 8,644,487\n",
      "Non-trainable params: 0\n",
      "__________________________________________________________________________________________________\n"
     ]
    }
   ],
   "source": [
    "tf.keras.backend.clear_session()\n",
    "\n",
    "NUM_LAYERS = 2\n",
    "D_MODEL = 256\n",
    "NUM_HEADS = 8\n",
    "UNITS = 512\n",
    "DROPOUT = 0.1\n",
    "\n",
    "model = transformer(\n",
    "    vocab_size=VOCAB_SIZE,\n",
    "    num_layers=NUM_LAYERS,\n",
    "    units=UNITS,\n",
    "    d_model=D_MODEL,\n",
    "    num_heads=NUM_HEADS,\n",
    "    dropout=DROPOUT,\n",
    ")\n",
    "\n",
    "model.summary()"
   ]
  },
  {
   "cell_type": "markdown",
   "id": "ca7633e7",
   "metadata": {},
   "source": [
    "### \uc190\uc2e4 \ud568\uc218 \uc815\uc758\n",
    "\n",
    "\ud0c0\ucf13 \ub370\uc774\ud130\uc5d0 \ud328\ub529\uc774 \uc874\uc7ac\ud558\uae30 \ub54c\ubb38\uc5d0 \uc190\uc2e4\uc744 \uacc4\uc0b0\ud558\ub294 \uacfc\uc815\uc5d0 \ub9c8\uc2a4\ud06c\ub97c \uc801\uc6a9\ud569\ub2c8\ub2e4.\n",
    "\n",
    "- \ub9c8\uc2a4\ud06c\uac00 \uc801\uc6a9\ub418\ub294 \ubd80\ubd84\uc758 \uc190\uc2e4\uc744 0\uc73c\ub85c \ucc98\ub9ac\ud569\ub2c8\ub2e4."
   ]
  },
  {
   "cell_type": "code",
   "execution_count": 31,
   "id": "41612492",
   "metadata": {},
   "outputs": [],
   "source": [
    "def loss_function(y_true, y_pred):\n",
    "    y_true = tf.reshape(y_true, shape=(-1, MAX_LENGTH - 1))\n",
    "\n",
    "    loss = tf.keras.losses.SparseCategoricalCrossentropy(\n",
    "        from_logits=True, reduction=\"none\"\n",
    "    )(y_true, y_pred)\n",
    "\n",
    "    mask = tf.cast(tf.not_equal(y_true, 0), tf.float32)\n",
    "    loss = tf.multiply(loss, mask)\n",
    "\n",
    "    return tf.reduce_mean(loss)"
   ]
  },
  {
   "cell_type": "markdown",
   "id": "3e2773d8",
   "metadata": {},
   "source": [
    "### Learning Rate Scheduling\n",
    "\n",
    "Warmup_steps\uc5d0 \ub3c4\ub2ec\ud558\uae30 \uc804\uae4c\uc9c0\ub294 \ud559\uc2b5\ub960\uc744 \uc120\ud615\uc801\uc73c\ub85c \uc99d\uac00\uc2dc\ud0a4\ub2e4\uac00, \ub3c4\ub2ec\ud55c \uc774\ud6c4\uc5d0\ub294 \uc81c\uacf1\uadfc\uc758 \uc5ed\uc218\uc5d0 \ube44\ub840\ud558\uc5ec \uac10\uc18c\uc2dc\ud0b5\ub2c8\ub2e4. \ud559\uc2b5\ub960\uc740 \uc544\ub798\uc758 \uc218\uc2dd\uc744 \ub530\ub985\ub2c8\ub2e4.\n",
    "\n",
    "$$\n",
    "lrate = d_{-0.5}^{model} \\times min(step\\_num^{-0.5}, step\\_num \\times warmup\\_steps^{-1.5})\n",
    "$$"
   ]
  },
  {
   "cell_type": "code",
   "execution_count": 32,
   "id": "65e40ec0",
   "metadata": {},
   "outputs": [],
   "source": [
    "class CustomSchedule(tf.keras.optimizers.schedules.LearningRateSchedule):\n",
    "    def __init__(self, d_model, warmup_steps=4000):\n",
    "        super(CustomSchedule, self).__init__()\n",
    "\n",
    "        self.d_model = d_model\n",
    "        self.d_model = tf.cast(self.d_model, tf.float32)\n",
    "\n",
    "        self.warmup_steps = warmup_steps\n",
    "\n",
    "    def __call__(self, step):\n",
    "        arg1 = tf.math.rsqrt(step)\n",
    "        arg2 = step * (self.warmup_steps ** -1.5)\n",
    "\n",
    "        return tf.math.rsqrt(self.d_model) * tf.math.minimum(arg1, arg2)"
   ]
  },
  {
   "cell_type": "markdown",
   "id": "9d46d652",
   "metadata": {},
   "source": [
    "200000 step \ub3d9\uc548\uc758 \ud559\uc2b5\ub960 \ubcc0\ud654\ub97c \uadf8\ub798\ud504\ub97c \ud1b5\ud574 \ud655\uc778\ud560 \uc218 \uc788\uc2b5\ub2c8\ub2e4."
   ]
  },
  {
   "cell_type": "code",
   "execution_count": 33,
   "id": "04088e3c",
   "metadata": {},
   "outputs": [
    {
     "data": {
      "text/plain": [
       "Text(0.5, 0, 'Train Step')"
      ]
     },
     "execution_count": 33,
     "metadata": {},
     "output_type": "execute_result"
    },
    {
     "data": {
      "image/png": "[encoded data removed]",
      "text/plain": [
       "<Figure size 432x288 with 1 Axes>"
      ]
     },
     "metadata": {
      "needs_background": "light"
     },
     "output_type": "display_data"
    }
   ],
   "source": [
    "sample_learning_rate = CustomSchedule(d_model=128)\n",
    "\n",
    "plt.plot(sample_learning_rate(tf.range(200000, dtype=tf.float32)))\n",
    "plt.ylabel(\"Learning Rate\")\n",
    "plt.xlabel(\"Train Step\")"
   ]
  },
  {
   "cell_type": "markdown",
   "id": "4fb62b3c",
   "metadata": {},
   "source": [
    "\ubb38\uc7a5 \uc2dc\uc791 \ud1a0\ud070\uc774 \ucd9c\ub825\ub418\uc9c0 \uc54a\uc544 `MAX_LENGTH - 1`\uc758 \ud06c\uae30\ub97c \uae30\uc900\uc73c\ub85c \uc815\ud655\ub3c4\ub97c \uce21\uc815\ud569\ub2c8\ub2e4."
   ]
  },
  {
   "cell_type": "code",
   "execution_count": 34,
   "id": "686db6fe",
   "metadata": {},
   "outputs": [],
   "source": [
    "learning_rate = CustomSchedule(D_MODEL)\n",
    "\n",
    "optimizer = tf.keras.optimizers.Adam(\n",
    "    learning_rate, beta_1=0.9, beta_2=0.98, epsilon=1e-9\n",
    ")\n",
    "\n",
    "\n",
    "def accuracy(y_true, y_pred):\n",
    "    y_true = tf.reshape(y_true, shape=(-1, MAX_LENGTH - 1))\n",
    "    return tf.keras.metrics.sparse_categorical_accuracy(y_true, y_pred)\n",
    "\n",
    "\n",
    "model.compile(optimizer=optimizer, loss=loss_function, metrics=[accuracy])"
   ]
  },
  {
   "cell_type": "markdown",
   "id": "c9806862",
   "metadata": {},
   "source": [
    "30 epoch \ub3d9\uc548 \ud6c8\ub828\uc744 \uc9c4\ud589\ud569\ub2c8\ub2e4."
   ]
  },
  {
   "cell_type": "code",
   "execution_count": 35,
   "id": "5bcb7b4a",
   "metadata": {},
   "outputs": [
    {
     "name": "stdout",
     "output_type": "stream",
     "text": [
      "Epoch 1/30\n",
      "175/175 [==============================] - 11s 30ms/step - loss: 4.5265 - accuracy: 0.0825\n",
      "Epoch 2/30\n",
      "175/175 [==============================] - 5s 30ms/step - loss: 3.6966 - accuracy: 0.1575\n",
      "Epoch 3/30\n",
      "175/175 [==============================] - 5s 30ms/step - loss: 3.1048 - accuracy: 0.1635\n",
      "Epoch 4/30\n",
      "175/175 [==============================] - 5s 30ms/step - loss: 2.8469 - accuracy: 0.1741\n",
      "Epoch 5/30\n",
      "175/175 [==============================] - 5s 30ms/step - loss: 2.6673 - accuracy: 0.1845\n",
      "Epoch 6/30\n",
      "175/175 [==============================] - 5s 30ms/step - loss: 2.4889 - accuracy: 0.1962\n",
      "Epoch 7/30\n",
      "175/175 [==============================] - 5s 30ms/step - loss: 2.2982 - accuracy: 0.2131\n",
      "Epoch 8/30\n",
      "175/175 [==============================] - 5s 30ms/step - loss: 2.0871 - accuracy: 0.2363\n",
      "Epoch 9/30\n",
      "175/175 [==============================] - 5s 30ms/step - loss: 1.8549 - accuracy: 0.2633\n",
      "Epoch 10/30\n",
      "175/175 [==============================] - 5s 30ms/step - loss: 1.6082 - accuracy: 0.2914\n",
      "Epoch 11/30\n",
      "175/175 [==============================] - 5s 29ms/step - loss: 1.3559 - accuracy: 0.3228\n",
      "Epoch 12/30\n",
      "175/175 [==============================] - 5s 29ms/step - loss: 1.1063 - accuracy: 0.3563\n",
      "Epoch 13/30\n",
      "175/175 [==============================] - 5s 30ms/step - loss: 0.8674 - accuracy: 0.3920\n",
      "Epoch 14/30\n",
      "175/175 [==============================] - 5s 30ms/step - loss: 0.6524 - accuracy: 0.4256\n",
      "Epoch 15/30\n",
      "175/175 [==============================] - 5s 29ms/step - loss: 0.4701 - accuracy: 0.4563\n",
      "Epoch 16/30\n",
      "175/175 [==============================] - 5s 29ms/step - loss: 0.3273 - accuracy: 0.4823\n",
      "Epoch 17/30\n",
      "175/175 [==============================] - 5s 30ms/step - loss: 0.2239 - accuracy: 0.5014\n",
      "Epoch 18/30\n",
      "175/175 [==============================] - 5s 30ms/step - loss: 0.1599 - accuracy: 0.5120\n",
      "Epoch 19/30\n",
      "175/175 [==============================] - 5s 30ms/step - loss: 0.1225 - accuracy: 0.5180\n",
      "Epoch 20/30\n",
      "175/175 [==============================] - 5s 30ms/step - loss: 0.1019 - accuracy: 0.5213\n",
      "Epoch 21/30\n",
      "175/175 [==============================] - 5s 30ms/step - loss: 0.0945 - accuracy: 0.5218\n",
      "Epoch 22/30\n",
      "175/175 [==============================] - 5s 30ms/step - loss: 0.0875 - accuracy: 0.5232\n",
      "Epoch 23/30\n",
      "175/175 [==============================] - 5s 30ms/step - loss: 0.0818 - accuracy: 0.5242\n",
      "Epoch 24/30\n",
      "175/175 [==============================] - 5s 29ms/step - loss: 0.0747 - accuracy: 0.5256\n",
      "Epoch 25/30\n",
      "175/175 [==============================] - 5s 30ms/step - loss: 0.0667 - accuracy: 0.5271\n",
      "Epoch 26/30\n",
      "175/175 [==============================] - 5s 30ms/step - loss: 0.0573 - accuracy: 0.5299\n",
      "Epoch 27/30\n",
      "175/175 [==============================] - 5s 30ms/step - loss: 0.0498 - accuracy: 0.5316\n",
      "Epoch 28/30\n",
      "175/175 [==============================] - 5s 29ms/step - loss: 0.0458 - accuracy: 0.5326\n",
      "Epoch 29/30\n",
      "175/175 [==============================] - 5s 30ms/step - loss: 0.0412 - accuracy: 0.5339\n",
      "Epoch 30/30\n",
      "175/175 [==============================] - 5s 30ms/step - loss: 0.0376 - accuracy: 0.5345\n"
     ]
    },
    {
     "data": {
      "text/plain": [
       "<keras.callbacks.History at 0x7fe8b43848e0>"
      ]
     },
     "execution_count": 35,
     "metadata": {},
     "output_type": "execute_result"
    }
   ],
   "source": [
    "EPOCHS = 30\n",
    "model.fit(dataset, epochs=EPOCHS, verbose=1)"
   ]
  },
  {
   "cell_type": "markdown",
   "id": "895fd215",
   "metadata": {},
   "source": [
    "## \ubaa8\ub378 \ud3c9\uac00\n",
    "\n",
    "\ubaa8\ub378\uc758 \uc131\ub2a5\uc744 \ud3c9\uac00\ud558\uae30 \uc704\ud574 \uc785\ub825 \ubb38\uc7a5\uc5d0 \ub300\ud55c \ucd9c\ub825\uc744 \uc608\uce21\ud558\ub294 \uacfc\uc815\uc744 \ud568\uc218\ub85c \uc815\uc758\ud569\ub2c8\ub2e4.\n",
    "\n",
    "1. \ud6c8\ub828 \ub370\uc774\ud130\uc640 \ub3d9\uc77c\ud55c \uc804\ucc98\ub9ac \uacfc\uc815\uc744 \uc801\uc6a9\ud569\ub2c8\ub2e4.\n",
    "2. \uc2dc\uc791 \ud1a0\ud070\uacfc \uc885\ub8cc \ud1a0\ud070\uc744 \ucd94\uac00\ud569\ub2c8\ub2e4.\n",
    "3. \ucd9c\ub825 \ubb38\uc7a5\uc774 \uacc4\uc18d\ud574\uc11c \ucd94\uac00\ub420 \ubcc0\uc218\ub97c \uc124\uc815\ud569\ub2c8\ub2e4.\n",
    "4. \ucd5c\ub300 \ubb38\uc7a5 \uae38\uc774\ub9cc\ud07c \uc608\uce21\uc744 \ubc18\ubcf5\ud569\ub2c8\ub2e4.\n",
    "    1. \ubaa8\ub378\uc774 \uc785\ub825 \ub370\uc774\ud130\ub97c \uc774\uc6a9\ud558\uc5ec \ucd9c\ub825\uc744 \uc608\uce21\ud569\ub2c8\ub2e4.\n",
    "    2. \uc608\uce21 \uacb0\uacfc\uac00 \uc885\ub8cc \ud1a0\ud070\uc774\ub77c\uba74 \uc608\uce21\uc744 \uc885\ub8cc\ud569\ub2c8\ub2e4.\n",
    "    3. \uc608\uce21 \uacb0\uacfc\ub97c \ucd9c\ub825 \ubb38\uc7a5\uc774 \ub2f4\uae30\ub294 \ubcc0\uc218\uc5d0 \ucd94\uac00\ud569\ub2c8\ub2e4.\n",
    "5. \ucd5c\uc885\uc801\uc73c\ub85c \uc644\uc131\ub41c \ubb38\uc7a5\uc744 return \ud569\ub2c8\ub2e4."
   ]
  },
  {
   "cell_type": "code",
   "execution_count": 36,
   "id": "d6d7b369",
   "metadata": {},
   "outputs": [],
   "source": [
    "def decoder_inference(sentence):\n",
    "    sentence = preprocess_sentence(sentence)\n",
    "\n",
    "    sentence = tf.expand_dims(\n",
    "        START_TOKEN + tokenizer.encode(sentence) + END_TOKEN, axis=0\n",
    "    )\n",
    "\n",
    "    output_sequence = tf.expand_dims(START_TOKEN, 0)\n",
    "\n",
    "    for i in range(MAX_LENGTH):\n",
    "        predictions = model(inputs=[sentence, output_sequence], training=False)\n",
    "        predictions = predictions[:, -1:, :]\n",
    "\n",
    "        predicted_id = tf.cast(tf.argmax(predictions, axis=-1), tf.int32)\n",
    "\n",
    "        if tf.equal(predicted_id, END_TOKEN[0]):\n",
    "            break\n",
    "\n",
    "        output_sequence = tf.concat([output_sequence, predicted_id], axis=-1)\n",
    "\n",
    "    return tf.squeeze(output_sequence, axis=0)"
   ]
  },
  {
   "cell_type": "markdown",
   "id": "0bd423bd",
   "metadata": {},
   "source": [
    "\ubaa8\ub378\uc774 \uc608\uce21\ud55c \uc815\uc218 \ud1a0\ud070\ub4e4\uc744 \ud14d\uc2a4\ud2b8\ub85c \ubcc0\ud658\ud569\ub2c8\ub2e4."
   ]
  },
  {
   "cell_type": "code",
   "execution_count": 37,
   "id": "42fbec81",
   "metadata": {},
   "outputs": [],
   "source": [
    "def sentence_generation(sentence):\n",
    "    pred = decoder_inference(sentence)\n",
    "\n",
    "    pred_sentence = tokenizer.decode([i for i in pred if i < tokenizer.vocab_size])\n",
    "\n",
    "    print(\"\uc785\ub825:\", sentence)\n",
    "    print(\"\ucd9c\ub825:\", pred_sentence)\n",
    "\n",
    "    return pred_sentence"
   ]
  },
  {
   "cell_type": "markdown",
   "id": "72bf4180",
   "metadata": {},
   "source": [
    "### \uc131\ub2a5 \ud3c9\uac00 \uc9c0\ud45c\n",
    "\n",
    "\ubaa8\ub378 \ud14c\uc2a4\ud2b8\uc5d0 \uc0ac\uc6a9\ud560 \ubb38\uc7a5\ub4e4\uc744 \uc900\ube44\ud569\ub2c8\ub2e4.\n",
    "\ubb38\uc7a5 \uc0dd\uc131\uc5d0 \uc788\uc5b4 \uc131\ub2a5\uc744 \ud3c9\uac00\ud558\ub294 \uc8fc\uad00\uc801\uc778 \uc9c0\ud45c\ub97c \uc124\uc815\ud569\ub2c8\ub2e4.\n",
    "\n",
    "1. \uc785\ub825 \ubb38\uc7a5\uc5d0 \ub300\ud574 \uc790\uc5f0\uc2a4\ub7ec\uc6b4 \ub300\ub2f5: 3\uc810\n",
    "2. \uc790\uc5f0\uc2a4\ub7ec\uc6b4 \ub300\ub2f5\uc740 \uc544\ub2c8\uc9c0\ub9cc \uae0d\uc815 \ub610\ub294 \ubd80\uc815\uc758 \uc758\ubbf8\uac00 \ud1b5\ud558\uac70\ub098: 1\uc810\n",
    "3. \uc804\ud600 \uc5b4\uc6b8\ub9ac\uc9c0 \uc54a\ub294 \ub300\ub2f5\uc774\uac70\ub098 \ubb38\uc7a5\uc774 \uc81c\ub300\ub85c \uc644\uc131\ub418\uc9c0 \uc54a\ub294 \uacbd\uc6b0: 0\uc810\n",
    "\n",
    "10\uac1c\uc758 \ubb38\uc7a5\uc5d0 \ub300\ud574 \ucd5c\ub300 30\uc810\uc744 \ub2ec\uc131\ud560 \uc218 \uc788\uc2b5\ub2c8\ub2e4."
   ]
  },
  {
   "cell_type": "code",
   "execution_count": 38,
   "id": "cb6b36e1",
   "metadata": {},
   "outputs": [],
   "source": [
    "test_input = [\n",
    "    \"\ubc18\uac00\uc6cc!\",\n",
    "    \"\uc624\ub298 \ub0a0\uc528\uac00 \uc88b\uc544!\",\n",
    "    \"\uc694\uc998 \uc5b4\ub54c?\",\n",
    "    \"\ub9db\uc810\ud574!\",\n",
    "    \"\uac19\uc774 \ubc25 \uba39\uc744\ub798\uc694?\",\n",
    "    \"\uc694\uc998 \uc544\uce68\uc5d0 \uc6b4\ub3d9\uc744 \ud558\uace0 \uc788\uc5b4.\",\n",
    "    \"\uc9c0\uae08 \uce58\ud0a8\uc744 \uc2dc\ucf1c\ub3c4 \ub420\uae4c?\",\n",
    "    \"\uafc8\uc744 \uafe8\uc5b4\uc694.\",\n",
    "    \"\uafc8\uc740 \ub3c4\ub9dd\uac00\uc9c0 \uc54a\uc544\",\n",
    "    \"\ucee4\ud53c \ud55c\uc794 \ud560\ub798\uc694?\",\n",
    "]"
   ]
  },
  {
   "cell_type": "markdown",
   "id": "82a3135b",
   "metadata": {},
   "source": [
    "\ud6c8\ub828\uc774 \uc644\ub8cc\ub41c \ubaa8\ub378\uc5d0 \ud14c\uc2a4\ud2b8 \ubb38\uc7a5\ub4e4\uc744 \uc785\ub825\ud569\ub2c8\ub2e4."
   ]
  },
  {
   "cell_type": "code",
   "execution_count": 39,
   "id": "66bae1cf",
   "metadata": {
    "scrolled": false
   },
   "outputs": [
    {
     "name": "stdout",
     "output_type": "stream",
     "text": [
      "\uc785\ub825: \ubc18\uac00\uc6cc!\n",
      "\ucd9c\ub825: \ubc18\uac11\uc2b5\ub2c8\ub2e4 .\n",
      "\n",
      "\uc785\ub825: \uc624\ub298 \ub0a0\uc528\uac00 \uc88b\uc544!\n",
      "\ucd9c\ub825: \uc2dc\uc6d0\ud55c \ubc14\ub78c \uc26c\uace0 \uc57d\uba39\uae30 !\n",
      "\n",
      "\uc785\ub825: \uc694\uc998 \uc5b4\ub54c?\n",
      "\ucd9c\ub825: \uad1c\ucc2e\uc740 \uc0ac\ub78c\uc774\uc5d0\uc694 .\n",
      "\n",
      "\uc785\ub825: \ub9db\uc810\ud574!\n",
      "\ucd9c\ub825: \uc870\uae08\uc529 \ub354 \ud589\ubcf5\ud574 \uc9c8\uac70 \uac19\uc544\uc694\n",
      "\n",
      "\uc785\ub825: \uac19\uc774 \ubc25 \uba39\uc744\ub798\uc694?\n",
      "\ucd9c\ub825: \uc2dd\ucd08 \ub123\uace0 \ube68\ub798\ud574\ubcf4\uc138\uc694 .\n",
      "\n",
      "\uc785\ub825: \uc694\uc998 \uc544\uce68\uc5d0 \uc6b4\ub3d9\uc744 \ud558\uace0 \uc788\uc5b4.\n",
      "\ucd9c\ub825: \uc88b\uc544\uc9c4 \uc774\uc0c1 \uc774\uc131\uc73c\ub85c \ub2e4\uac00\uac00\uc57c\uc8e0 .\n",
      "\n",
      "\uc785\ub825: \uc9c0\uae08 \uce58\ud0a8\uc744 \uc2dc\ucf1c\ub3c4 \ub420\uae4c?\n",
      "\ucd9c\ub825: \uad1c\ud55c \uae30\ub300\ub294 \ubc84\ub9ac\uc138\uc694 .\n",
      "\n",
      "\uc785\ub825: \uafc8\uc744 \uafe8\uc5b4\uc694.\n",
      "\ucd9c\ub825: \ub9ce\uc774 \uc0dd\uac01\ud588\ub098\ubd10\uc694 .\n",
      "\n",
      "\uc785\ub825: \uafc8\uc740 \ub3c4\ub9dd\uac00\uc9c0 \uc54a\uc544\n",
      "\ucd9c\ub825: \uc544\ub984\ub2e4\uc6b4 \uc774\ubcc4\uc740 \uc874\uc7ac\ud558\ub2c8\uae4c\uc694 .\n",
      "\n",
      "\uc785\ub825: \ucee4\ud53c \ud55c\uc794 \ud560\ub798\uc694?\n",
      "\ucd9c\ub825: \uac10\uc0ac\ud569\ub2c8\ub2e4 .\n",
      "\n"
     ]
    }
   ],
   "source": [
    "for test in test_input:\n",
    "    none = sentence_generation(test)\n",
    "    print()"
   ]
  },
  {
   "cell_type": "markdown",
   "id": "e1f6a9a3",
   "metadata": {},
   "source": [
    "1. 3\uc810 / 2. 1\uc810 / 3. 0\uc810 / 4. 0\uc810 / 5. 0\uc810 / 6. 0\uc810 / 7. 3\uc810 / 8. 1\uc810 / 9. 0\uc810 / 10. 1\uc810\n",
    "\ucd1d\uc810: 3 + 1 + 3 + 1 + 1 = 9\uc810(/30\uc810)"
   ]
  },
  {
   "cell_type": "markdown",
   "id": "1ba9ac0b",
   "metadata": {},
   "source": [
    "## \ubaa8\ub378 \ud0d0\uc0c9\n",
    "\n",
    "\ud6c8\ub828 \uacfc\uc815\uc5d0\uc11c \ud655\uc778\ud560 \uc218 \uc788\ub294 \uc815\ud655\ub3c4\ub9cc\uc744 \uc9c0\ud45c\ub85c \ubaa8\ub378\uc758 \uc131\ub2a5\uc744 \ud30c\uc545\ud558\uae30 \uc27d\uc9c0 \uc54a\uace0, \uc790\uccb4 \ud3c9\uac00 \uc9c0\ud45c\ub97c \ud1b5\ud574 \ud655\uc778\ud55c \ubaa8\ub378\uc758 \uc131\ub2a5 \uc5ed\uc2dc \uc6b0\uc218\ud558\uc9c0 \ubabb\ud558\uae30\uc5d0 \ucd94\uac00\uc801\uc778 \ubaa8\ub378 \ud0d0\uc0c9\uc744 \uc9c4\ud589\ud569\ub2c8\ub2e4.\n",
    "\n",
    "1. NUM_LAYERS: 2, 4, 6\n",
    "2. D_MODEL: 256, 512"
   ]
  },
  {
   "cell_type": "code",
   "execution_count": 40,
   "id": "422b20c2",
   "metadata": {
    "scrolled": false
   },
   "outputs": [
    {
     "name": "stdout",
     "output_type": "stream",
     "text": [
      "Model: \"transformer\"\n",
      "__________________________________________________________________________________________________\n",
      "Layer (type)                    Output Shape         Param #     Connected to                     \n",
      "==================================================================================================\n",
      "inputs (InputLayer)             [(None, None)]       0                                            \n",
      "__________________________________________________________________________________________________\n",
      "dec_inputs (InputLayer)         [(None, None)]       0                                            \n",
      "__________________________________________________________________________________________________\n",
      "enc_padding_mask (Lambda)       (None, 1, 1, None)   0           inputs[0][0]                     \n",
      "__________________________________________________________________________________________________\n",
      "encoder (Functional)            (None, None, 512)    6894080     inputs[0][0]                     \n",
      "                                                                 enc_padding_mask[0][0]           \n",
      "__________________________________________________________________________________________________\n",
      "look_ahead_mask (Lambda)        (None, 1, None, None 0           dec_inputs[0][0]                 \n",
      "__________________________________________________________________________________________________\n",
      "dec_padding_mask (Lambda)       (None, 1, 1, None)   0           inputs[0][0]                     \n",
      "__________________________________________________________________________________________________\n",
      "decoder (Functional)            (None, None, 512)    8472064     dec_inputs[0][0]                 \n",
      "                                                                 encoder[0][0]                    \n",
      "                                                                 look_ahead_mask[0][0]            \n",
      "                                                                 dec_padding_mask[0][0]           \n",
      "__________________________________________________________________________________________________\n",
      "outputs (Dense)                 (None, None, 8327)   4271751     decoder[0][0]                    \n",
      "==================================================================================================\n",
      "Total params: 19,637,895\n",
      "Trainable params: 19,637,895\n",
      "Non-trainable params: 0\n",
      "__________________________________________________________________________________________________\n",
      "Epoch 1/30\n",
      "175/175 [==============================] - 12s 41ms/step - loss: 4.2718 - accuracy: 0.0990\n",
      "Epoch 2/30\n",
      "175/175 [==============================] - 7s 41ms/step - loss: 3.2897 - accuracy: 0.1613\n",
      "Epoch 3/30\n",
      "175/175 [==============================] - 7s 41ms/step - loss: 2.9520 - accuracy: 0.1698\n",
      "Epoch 4/30\n",
      "175/175 [==============================] - 7s 41ms/step - loss: 2.7528 - accuracy: 0.1797\n",
      "Epoch 5/30\n",
      "175/175 [==============================] - 7s 41ms/step - loss: 2.5531 - accuracy: 0.1918\n",
      "Epoch 6/30\n",
      "175/175 [==============================] - 7s 41ms/step - loss: 2.3339 - accuracy: 0.2111\n",
      "Epoch 7/30\n",
      "175/175 [==============================] - 7s 41ms/step - loss: 2.0889 - accuracy: 0.2380\n",
      "Epoch 8/30\n",
      "175/175 [==============================] - 7s 41ms/step - loss: 1.8195 - accuracy: 0.2693\n",
      "Epoch 9/30\n",
      "175/175 [==============================] - 7s 41ms/step - loss: 1.5289 - accuracy: 0.3059\n",
      "Epoch 10/30\n",
      "175/175 [==============================] - 7s 41ms/step - loss: 1.2353 - accuracy: 0.3443\n",
      "Epoch 11/30\n",
      "175/175 [==============================] - 7s 41ms/step - loss: 0.9490 - accuracy: 0.3881\n",
      "Epoch 12/30\n",
      "175/175 [==============================] - 7s 41ms/step - loss: 0.6897 - accuracy: 0.4280\n",
      "Epoch 13/30\n",
      "175/175 [==============================] - 7s 41ms/step - loss: 0.4684 - accuracy: 0.4659\n",
      "Epoch 14/30\n",
      "175/175 [==============================] - 7s 41ms/step - loss: 0.2994 - accuracy: 0.4968\n",
      "Epoch 15/30\n",
      "175/175 [==============================] - 7s 41ms/step - loss: 0.1834 - accuracy: 0.5162\n",
      "Epoch 16/30\n",
      "175/175 [==============================] - 7s 41ms/step - loss: 0.1195 - accuracy: 0.5246\n",
      "Epoch 17/30\n",
      "175/175 [==============================] - 7s 41ms/step - loss: 0.0886 - accuracy: 0.5275\n",
      "Epoch 18/30\n",
      "175/175 [==============================] - 7s 41ms/step - loss: 0.0740 - accuracy: 0.5292\n",
      "Epoch 19/30\n",
      "175/175 [==============================] - 7s 41ms/step - loss: 0.0683 - accuracy: 0.5290\n",
      "Epoch 20/30\n",
      "175/175 [==============================] - 7s 41ms/step - loss: 0.0647 - accuracy: 0.5294\n",
      "Epoch 21/30\n",
      "175/175 [==============================] - 7s 41ms/step - loss: 0.0630 - accuracy: 0.5294\n",
      "Epoch 22/30\n",
      "175/175 [==============================] - 7s 42ms/step - loss: 0.0611 - accuracy: 0.5293\n",
      "Epoch 23/30\n",
      "175/175 [==============================] - 7s 42ms/step - loss: 0.0632 - accuracy: 0.5292\n",
      "Epoch 24/30\n",
      "175/175 [==============================] - 7s 41ms/step - loss: 0.0591 - accuracy: 0.5298\n",
      "Epoch 25/30\n",
      "175/175 [==============================] - 7s 41ms/step - loss: 0.0514 - accuracy: 0.5317\n",
      "Epoch 26/30\n",
      "175/175 [==============================] - 7s 41ms/step - loss: 0.0469 - accuracy: 0.5326\n",
      "Epoch 27/30\n",
      "175/175 [==============================] - 7s 41ms/step - loss: 0.0416 - accuracy: 0.5340\n",
      "Epoch 28/30\n",
      "175/175 [==============================] - 7s 41ms/step - loss: 0.0372 - accuracy: 0.5348\n",
      "Epoch 29/30\n",
      "175/175 [==============================] - 7s 41ms/step - loss: 0.0353 - accuracy: 0.5353\n",
      "Epoch 30/30\n",
      "175/175 [==============================] - 7s 41ms/step - loss: 0.0324 - accuracy: 0.5361\n"
     ]
    },
    {
     "data": {
      "text/plain": [
       "<keras.callbacks.History at 0x7fe8a412d760>"
      ]
     },
     "execution_count": 40,
     "metadata": {},
     "output_type": "execute_result"
    }
   ],
   "source": [
    "tf.keras.backend.clear_session()\n",
    "\n",
    "NUM_LAYERS = 2\n",
    "D_MODEL = 512\n",
    "NUM_HEADS = 8\n",
    "UNITS = 512\n",
    "DROPOUT = 0.1\n",
    "\n",
    "learning_rate = CustomSchedule(D_MODEL)\n",
    "\n",
    "optimizer = tf.keras.optimizers.Adam(\n",
    "    learning_rate, beta_1=0.9, beta_2=0.98, epsilon=1e-9\n",
    ")\n",
    "\n",
    "model = transformer(\n",
    "    vocab_size=VOCAB_SIZE,\n",
    "    num_layers=NUM_LAYERS,\n",
    "    units=UNITS,\n",
    "    d_model=D_MODEL,\n",
    "    num_heads=NUM_HEADS,\n",
    "    dropout=DROPOUT,\n",
    ")\n",
    "model.summary()\n",
    "model.compile(optimizer=optimizer, loss=loss_function, metrics=[accuracy])\n",
    "model.fit(dataset, epochs=EPOCHS, verbose=1)"
   ]
  },
  {
   "cell_type": "code",
   "execution_count": 41,
   "id": "95d7235d",
   "metadata": {},
   "outputs": [
    {
     "name": "stdout",
     "output_type": "stream",
     "text": [
      "\uc785\ub825: \ubc18\uac00\uc6cc!\n",
      "\ucd9c\ub825: \uc800\ub3c4 \ubc18\uac00\uc6cc\uc694 .\n",
      "\n",
      "\uc785\ub825: \uc624\ub298 \ub0a0\uc528\uac00 \uc88b\uc544!\n",
      "\ucd9c\ub825: \uc9d1\ubc16\uc5d0 \ub098\uac00\uae30\uac00 \ud798\ub4e4\uac83 \uac19\uc544\uc694 .\n",
      "\n",
      "\uc785\ub825: \uc694\uc998 \uc5b4\ub54c?\n",
      "\ucd9c\ub825: \uc0ac\ub791\uc5d0 \ub098\uc774\ub294 \uc911\uc694\ud558\uc9c0 \uc54a\ub2e4\uace0 \uc0dd\uac01\ud574\uc694 .\n",
      "\n",
      "\uc785\ub825: \ub9db\uc810\ud574!\n",
      "\ucd9c\ub825: \ucd95\ud558\ud569\ub2c8\ub2e4 !\n",
      "\n",
      "\uc785\ub825: \uac19\uc774 \ubc25 \uba39\uc744\ub798\uc694?\n",
      "\ucd9c\ub825: \uc190\uc218\uac74 \uc900\ube44\ud560\uac8c\uc694 .\n",
      "\n",
      "\uc785\ub825: \uc694\uc998 \uc544\uce68\uc5d0 \uc6b4\ub3d9\uc744 \ud558\uace0 \uc788\uc5b4.\n",
      "\ucd9c\ub825: \uadf8 \ub204\uad6c\ub3c4 \ub9ce\uc774 \uc88b\uc544\ud588\ub098\ubd10\uc694 .\n",
      "\n",
      "\uc785\ub825: \uc9c0\uae08 \uce58\ud0a8\uc744 \uc2dc\ucf1c\ub3c4 \ub420\uae4c?\n",
      "\ucd9c\ub825: \ud55c \uc794 \ud558\uc138\uc694 .\n",
      "\n",
      "\uc785\ub825: \uafc8\uc744 \uafe8\uc5b4\uc694.\n",
      "\ucd9c\ub825: \uafc8\uc740 \ud604\uc2e4\uc758 \ubc18\ub300\ub798\uc694 .\n",
      "\n",
      "\uc785\ub825: \uafc8\uc740 \ub3c4\ub9dd\uac00\uc9c0 \uc54a\uc544\n",
      "\ucd9c\ub825: \uadf8\ub798\uc11c \uc6b0\ub9ac\ub294 \uafc8\uc744 \uafb8\uc8e0 .\n",
      "\n",
      "\uc785\ub825: \ucee4\ud53c \ud55c\uc794 \ud560\ub798\uc694?\n",
      "\ucd9c\ub825: \ud55c \uc794 \ud558\uae30 \uc88b\uc740 \ub0a0\uc774\ub124\uc694 .\n",
      "\n"
     ]
    }
   ],
   "source": [
    "for test in test_input:\n",
    "    none = sentence_generation(test)\n",
    "    print()"
   ]
  },
  {
   "cell_type": "markdown",
   "id": "0b31d91d",
   "metadata": {},
   "source": [
    "1. 3\uc810 / 2. 1\uc810 / 3. 0\uc810 / 4. 0\uc810 / 5. 0\uc810 / 6. 0\uc810 / 7. 1\uc810 / 8. 3\uc810 / 9. 1\uc810 / 10. 3\uc810\n",
    "\n",
    "\ucd1d\uc810: 3 + 1 + 1 + 3 + 1 = 9\uc810(/30\uc810)"
   ]
  },
  {
   "cell_type": "code",
   "execution_count": 42,
   "id": "8426bebb",
   "metadata": {
    "scrolled": false
   },
   "outputs": [
    {
     "name": "stdout",
     "output_type": "stream",
     "text": [
      "Model: \"transformer\"\n",
      "__________________________________________________________________________________________________\n",
      "Layer (type)                    Output Shape         Param #     Connected to                     \n",
      "==================================================================================================\n",
      "inputs (InputLayer)             [(None, None)]       0                                            \n",
      "__________________________________________________________________________________________________\n",
      "dec_inputs (InputLayer)         [(None, None)]       0                                            \n",
      "__________________________________________________________________________________________________\n",
      "enc_padding_mask (Lambda)       (None, 1, 1, None)   0           inputs[0][0]                     \n",
      "__________________________________________________________________________________________________\n",
      "encoder (Functional)            (None, None, 256)    3976960     inputs[0][0]                     \n",
      "                                                                 enc_padding_mask[0][0]           \n",
      "__________________________________________________________________________________________________\n",
      "look_ahead_mask (Lambda)        (None, 1, None, None 0           dec_inputs[0][0]                 \n",
      "__________________________________________________________________________________________________\n",
      "dec_padding_mask (Lambda)       (None, 1, 1, None)   0           inputs[0][0]                     \n",
      "__________________________________________________________________________________________________\n",
      "decoder (Functional)            (None, None, 256)    4768512     dec_inputs[0][0]                 \n",
      "                                                                 encoder[0][0]                    \n",
      "                                                                 look_ahead_mask[0][0]            \n",
      "                                                                 dec_padding_mask[0][0]           \n",
      "__________________________________________________________________________________________________\n",
      "outputs (Dense)                 (None, None, 8327)   2140039     decoder[0][0]                    \n",
      "==================================================================================================\n",
      "Total params: 10,885,511\n",
      "Trainable params: 10,885,511\n",
      "Non-trainable params: 0\n",
      "__________________________________________________________________________________________________\n",
      "Epoch 1/30\n",
      "175/175 [==============================] - 18s 47ms/step - loss: 4.5397 - accuracy: 0.0851\n",
      "Epoch 2/30\n",
      "175/175 [==============================] - 8s 46ms/step - loss: 3.6970 - accuracy: 0.1605\n",
      "Epoch 3/30\n",
      "175/175 [==============================] - 8s 47ms/step - loss: 3.1161 - accuracy: 0.1627\n",
      "Epoch 4/30\n",
      "175/175 [==============================] - 8s 47ms/step - loss: 2.8891 - accuracy: 0.1700\n",
      "Epoch 5/30\n",
      "175/175 [==============================] - 8s 47ms/step - loss: 2.7502 - accuracy: 0.1783\n",
      "Epoch 6/30\n",
      "175/175 [==============================] - 8s 47ms/step - loss: 2.6107 - accuracy: 0.1860\n",
      "Epoch 7/30\n",
      "175/175 [==============================] - 8s 47ms/step - loss: 2.4540 - accuracy: 0.1973\n",
      "Epoch 8/30\n",
      "175/175 [==============================] - 8s 46ms/step - loss: 2.2790 - accuracy: 0.2119\n",
      "Epoch 9/30\n",
      "175/175 [==============================] - 8s 47ms/step - loss: 2.0844 - accuracy: 0.2315\n",
      "Epoch 10/30\n",
      "175/175 [==============================] - 8s 46ms/step - loss: 1.8760 - accuracy: 0.2546\n",
      "Epoch 11/30\n",
      "175/175 [==============================] - 8s 47ms/step - loss: 1.6548 - accuracy: 0.2810\n",
      "Epoch 12/30\n",
      "175/175 [==============================] - 8s 46ms/step - loss: 1.4339 - accuracy: 0.3088\n",
      "Epoch 13/30\n",
      "175/175 [==============================] - 8s 46ms/step - loss: 1.2193 - accuracy: 0.3375\n",
      "Epoch 14/30\n",
      "175/175 [==============================] - 8s 47ms/step - loss: 1.0095 - accuracy: 0.3662\n",
      "Epoch 15/30\n",
      "175/175 [==============================] - 8s 47ms/step - loss: 0.8231 - accuracy: 0.3924\n",
      "Epoch 16/30\n",
      "175/175 [==============================] - 8s 47ms/step - loss: 0.6565 - accuracy: 0.4166\n",
      "Epoch 17/30\n",
      "175/175 [==============================] - 8s 46ms/step - loss: 0.5252 - accuracy: 0.4368\n",
      "Epoch 18/30\n",
      "175/175 [==============================] - 8s 47ms/step - loss: 0.4070 - accuracy: 0.4590\n",
      "Epoch 19/30\n",
      "175/175 [==============================] - 8s 46ms/step - loss: 0.3245 - accuracy: 0.4725\n",
      "Epoch 20/30\n",
      "175/175 [==============================] - 8s 46ms/step - loss: 0.2624 - accuracy: 0.4844\n",
      "Epoch 21/30\n",
      "175/175 [==============================] - 8s 47ms/step - loss: 0.2227 - accuracy: 0.4917\n",
      "Epoch 22/30\n",
      "175/175 [==============================] - 8s 47ms/step - loss: 0.1974 - accuracy: 0.4961\n",
      "Epoch 23/30\n",
      "175/175 [==============================] - 8s 47ms/step - loss: 0.1801 - accuracy: 0.4991\n",
      "Epoch 24/30\n",
      "175/175 [==============================] - 8s 46ms/step - loss: 0.1599 - accuracy: 0.5039\n",
      "Epoch 25/30\n",
      "175/175 [==============================] - 8s 47ms/step - loss: 0.1383 - accuracy: 0.5084\n",
      "Epoch 26/30\n",
      "175/175 [==============================] - 8s 47ms/step - loss: 0.1183 - accuracy: 0.5134\n",
      "Epoch 27/30\n",
      "175/175 [==============================] - 8s 46ms/step - loss: 0.1052 - accuracy: 0.5170\n",
      "Epoch 28/30\n",
      "175/175 [==============================] - 8s 47ms/step - loss: 0.0914 - accuracy: 0.5201\n",
      "Epoch 29/30\n",
      "175/175 [==============================] - 8s 48ms/step - loss: 0.0817 - accuracy: 0.5228\n",
      "Epoch 30/30\n",
      "175/175 [==============================] - 8s 47ms/step - loss: 0.0752 - accuracy: 0.5245\n"
     ]
    },
    {
     "data": {
      "text/plain": [
       "<keras.callbacks.History at 0x7fe8a4d20a90>"
      ]
     },
     "execution_count": 42,
     "metadata": {},
     "output_type": "execute_result"
    }
   ],
   "source": [
    "tf.keras.backend.clear_session()\n",
    "\n",
    "NUM_LAYERS = 4\n",
    "D_MODEL = 256\n",
    "NUM_HEADS = 8\n",
    "UNITS = 512\n",
    "DROPOUT = 0.1\n",
    "\n",
    "learning_rate = CustomSchedule(D_MODEL)\n",
    "\n",
    "optimizer = tf.keras.optimizers.Adam(\n",
    "    learning_rate, beta_1=0.9, beta_2=0.98, epsilon=1e-9\n",
    ")\n",
    "\n",
    "model = transformer(\n",
    "    vocab_size=VOCAB_SIZE,\n",
    "    num_layers=NUM_LAYERS,\n",
    "    units=UNITS,\n",
    "    d_model=D_MODEL,\n",
    "    num_heads=NUM_HEADS,\n",
    "    dropout=DROPOUT,\n",
    ")\n",
    "model.summary()\n",
    "model.compile(optimizer=optimizer, loss=loss_function, metrics=[accuracy])\n",
    "model.fit(dataset, epochs=EPOCHS, verbose=1)"
   ]
  },
  {
   "cell_type": "code",
   "execution_count": 43,
   "id": "b7c7bc16",
   "metadata": {},
   "outputs": [
    {
     "name": "stdout",
     "output_type": "stream",
     "text": [
      "\uc785\ub825: \ubc18\uac00\uc6cc!\n",
      "\ucd9c\ub825: \ubc18\uac11\uc2b5\ub2c8\ub2e4 .\n",
      "\n",
      "\uc785\ub825: \uc624\ub298 \ub0a0\uc528\uac00 \uc88b\uc544!\n",
      "\ucd9c\ub825: \ucd95\ud558\ud574\uc694 !\n",
      "\n",
      "\uc785\ub825: \uc694\uc998 \uc5b4\ub54c?\n",
      "\ucd9c\ub825: \uad1c\ucc2e\uc740 \uc0ac\ub78c\uc774\uc5d0\uc694 .\n",
      "\n",
      "\uc785\ub825: \ub9db\uc810\ud574!\n",
      "\ucd9c\ub825: \ucd95\ud558\ud569\ub2c8\ub2e4\n",
      "\n",
      "\uc785\ub825: \uac19\uc774 \ubc25 \uba39\uc744\ub798\uc694?\n",
      "\ucd9c\ub825: \ub9c8\uc74c\uc5d0 \uc900\ube44\ud558\ub294\ubc29\ubc95\uc774 \uc788\ub294\uc9c0 \uac80\uc0c9\ud574\uc11c \uc900\ube44\ud574 .\n",
      "\n",
      "\uc785\ub825: \uc694\uc998 \uc544\uce68\uc5d0 \uc6b4\ub3d9\uc744 \ud558\uace0 \uc788\uc5b4.\n",
      "\ucd9c\ub825: \ubb50\ub4e0 \uc5f4\uc2ec\ud788 \ud558\ub294 \uc0ac\ub78c\uc740 \uc88b\uc544\ubcf4\uc5ec\uc694 .\n",
      "\n",
      "\uc785\ub825: \uc9c0\uae08 \uce58\ud0a8\uc744 \uc2dc\ucf1c\ub3c4 \ub420\uae4c?\n",
      "\ucd9c\ub825: \ucc14\ub7ec\ubcf4\ub294 \uc0c1\ub300 \ubcc4\ub85c\ub124\uc694 .\n",
      "\n",
      "\uc785\ub825: \uafc8\uc744 \uafe8\uc5b4\uc694.\n",
      "\ucd9c\ub825: \uc5b4\ub5a4 \uafc8\uc774\uc5c8\ub098\uc694 .\n",
      "\n",
      "\uc785\ub825: \uafc8\uc740 \ub3c4\ub9dd\uac00\uc9c0 \uc54a\uc544\n",
      "\ucd9c\ub825: \ucc28\uadfc\ucc28\uadfc \uc774\ub904\ubcf4\uc544\uc694 .\n",
      "\n",
      "\uc785\ub825: \ucee4\ud53c \ud55c\uc794 \ud560\ub798\uc694?\n",
      "\ucd9c\ub825: \uc88b\uc740 \uce74\ud398\uc778\uc774 \ud544\uc694\ud55c \uc2dc\uac04\uc778\uac00 \ubd10\uc694 .\n",
      "\n"
     ]
    }
   ],
   "source": [
    "for test in test_input:\n",
    "    none = sentence_generation(test)\n",
    "    print()"
   ]
  },
  {
   "cell_type": "markdown",
   "id": "51d028b1",
   "metadata": {},
   "source": [
    "1. 3\uc810 / 2. 0\uc810 / 3. 0\uc810 / 4. 0\uc810 / 5. 0\uc810 / 6. 3\uc810 / 7. 1\uc810 / 8. 3\uc810 / 9. 1\uc810 / 10. 3\uc810\n",
    "\n",
    "\ucd1d\uc810: 3 + 3 + 1 + 3 + 1 = 11\uc810(/30\uc810)"
   ]
  },
  {
   "cell_type": "code",
   "execution_count": 44,
   "id": "4482067b",
   "metadata": {
    "scrolled": false
   },
   "outputs": [
    {
     "name": "stdout",
     "output_type": "stream",
     "text": [
      "Model: \"transformer\"\n",
      "__________________________________________________________________________________________________\n",
      "Layer (type)                    Output Shape         Param #     Connected to                     \n",
      "==================================================================================================\n",
      "inputs (InputLayer)             [(None, None)]       0                                            \n",
      "__________________________________________________________________________________________________\n",
      "dec_inputs (InputLayer)         [(None, None)]       0                                            \n",
      "__________________________________________________________________________________________________\n",
      "enc_padding_mask (Lambda)       (None, 1, 1, None)   0           inputs[0][0]                     \n",
      "__________________________________________________________________________________________________\n",
      "encoder (Functional)            (None, None, 512)    9524736     inputs[0][0]                     \n",
      "                                                                 enc_padding_mask[0][0]           \n",
      "__________________________________________________________________________________________________\n",
      "look_ahead_mask (Lambda)        (None, 1, None, None 0           dec_inputs[0][0]                 \n",
      "__________________________________________________________________________________________________\n",
      "dec_padding_mask (Lambda)       (None, 1, 1, None)   0           inputs[0][0]                     \n",
      "__________________________________________________________________________________________________\n",
      "decoder (Functional)            (None, None, 512)    12680704    dec_inputs[0][0]                 \n",
      "                                                                 encoder[0][0]                    \n",
      "                                                                 look_ahead_mask[0][0]            \n",
      "                                                                 dec_padding_mask[0][0]           \n",
      "__________________________________________________________________________________________________\n",
      "outputs (Dense)                 (None, None, 8327)   4271751     decoder[0][0]                    \n",
      "==================================================================================================\n",
      "Total params: 26,477,191\n",
      "Trainable params: 26,477,191\n",
      "Non-trainable params: 0\n",
      "__________________________________________________________________________________________________\n",
      "Epoch 1/30\n",
      "175/175 [==============================] - 21s 65ms/step - loss: 4.2194 - accuracy: 0.0933\n",
      "Epoch 2/30\n",
      "175/175 [==============================] - 11s 66ms/step - loss: 3.2994 - accuracy: 0.1617\n",
      "Epoch 3/30\n",
      "175/175 [==============================] - 12s 66ms/step - loss: 2.9879 - accuracy: 0.1659\n",
      "Epoch 4/30\n",
      "175/175 [==============================] - 12s 66ms/step - loss: 2.8222 - accuracy: 0.1757\n",
      "Epoch 5/30\n",
      "175/175 [==============================] - 11s 66ms/step - loss: 2.6582 - accuracy: 0.1858\n",
      "Epoch 6/30\n",
      "175/175 [==============================] - 11s 65ms/step - loss: 2.4687 - accuracy: 0.1993\n",
      "Epoch 7/30\n",
      "175/175 [==============================] - 11s 65ms/step - loss: 2.2533 - accuracy: 0.2186\n",
      "Epoch 8/30\n",
      "175/175 [==============================] - 11s 65ms/step - loss: 2.0170 - accuracy: 0.2442\n",
      "Epoch 9/30\n",
      "175/175 [==============================] - 11s 65ms/step - loss: 1.7604 - accuracy: 0.2743\n",
      "Epoch 10/30\n",
      "175/175 [==============================] - 11s 66ms/step - loss: 1.4964 - accuracy: 0.3080\n",
      "Epoch 11/30\n",
      "175/175 [==============================] - 11s 66ms/step - loss: 1.2360 - accuracy: 0.3432\n",
      "Epoch 12/30\n",
      "175/175 [==============================] - 11s 65ms/step - loss: 0.9844 - accuracy: 0.3782\n",
      "Epoch 13/30\n",
      "175/175 [==============================] - 11s 66ms/step - loss: 0.7600 - accuracy: 0.4118\n",
      "Epoch 14/30\n",
      "175/175 [==============================] - 11s 65ms/step - loss: 0.5692 - accuracy: 0.4410\n",
      "Epoch 15/30\n",
      "175/175 [==============================] - 11s 65ms/step - loss: 0.4168 - accuracy: 0.4659\n",
      "Epoch 16/30\n",
      "175/175 [==============================] - 11s 66ms/step - loss: 0.2942 - accuracy: 0.4876\n",
      "Epoch 17/30\n",
      "175/175 [==============================] - 11s 65ms/step - loss: 0.2166 - accuracy: 0.5000\n",
      "Epoch 18/30\n",
      "175/175 [==============================] - 11s 65ms/step - loss: 0.1696 - accuracy: 0.5085\n",
      "Epoch 19/30\n",
      "175/175 [==============================] - 11s 66ms/step - loss: 0.1455 - accuracy: 0.5117\n",
      "Epoch 20/30\n",
      "175/175 [==============================] - 11s 65ms/step - loss: 0.1336 - accuracy: 0.5131\n",
      "Epoch 21/30\n",
      "175/175 [==============================] - 11s 65ms/step - loss: 0.1279 - accuracy: 0.5138\n",
      "Epoch 22/30\n",
      "175/175 [==============================] - 11s 65ms/step - loss: 0.1249 - accuracy: 0.5135\n",
      "Epoch 23/30\n",
      "175/175 [==============================] - 11s 65ms/step - loss: 0.1197 - accuracy: 0.5147\n",
      "Epoch 24/30\n",
      "175/175 [==============================] - 11s 66ms/step - loss: 0.1149 - accuracy: 0.5149\n",
      "Epoch 25/30\n",
      "175/175 [==============================] - 12s 66ms/step - loss: 0.0964 - accuracy: 0.5200\n",
      "Epoch 26/30\n",
      "175/175 [==============================] - 11s 65ms/step - loss: 0.0852 - accuracy: 0.5224\n",
      "Epoch 27/30\n",
      "175/175 [==============================] - 11s 65ms/step - loss: 0.0778 - accuracy: 0.5243\n",
      "Epoch 28/30\n",
      "175/175 [==============================] - 11s 65ms/step - loss: 0.0694 - accuracy: 0.5264\n",
      "Epoch 29/30\n",
      "175/175 [==============================] - 11s 65ms/step - loss: 0.0627 - accuracy: 0.5285\n",
      "Epoch 30/30\n",
      "175/175 [==============================] - 11s 65ms/step - loss: 0.0575 - accuracy: 0.5296\n"
     ]
    },
    {
     "data": {
      "text/plain": [
       "<keras.callbacks.History at 0x7fe891adb520>"
      ]
     },
     "execution_count": 44,
     "metadata": {},
     "output_type": "execute_result"
    }
   ],
   "source": [
    "tf.keras.backend.clear_session()\n",
    "\n",
    "NUM_LAYERS = 4\n",
    "D_MODEL = 512\n",
    "NUM_HEADS = 8\n",
    "UNITS = 512\n",
    "DROPOUT = 0.1\n",
    "\n",
    "learning_rate = CustomSchedule(D_MODEL)\n",
    "\n",
    "optimizer = tf.keras.optimizers.Adam(\n",
    "    learning_rate, beta_1=0.9, beta_2=0.98, epsilon=1e-9\n",
    ")\n",
    "\n",
    "model = transformer(\n",
    "    vocab_size=VOCAB_SIZE,\n",
    "    num_layers=NUM_LAYERS,\n",
    "    units=UNITS,\n",
    "    d_model=D_MODEL,\n",
    "    num_heads=NUM_HEADS,\n",
    "    dropout=DROPOUT,\n",
    ")\n",
    "model.summary()\n",
    "model.compile(optimizer=optimizer, loss=loss_function, metrics=[accuracy])\n",
    "model.fit(dataset, epochs=EPOCHS, verbose=1)"
   ]
  },
  {
   "cell_type": "code",
   "execution_count": 45,
   "id": "0754d706",
   "metadata": {
    "scrolled": false
   },
   "outputs": [
    {
     "name": "stdout",
     "output_type": "stream",
     "text": [
      "\uc785\ub825: \ubc18\uac00\uc6cc!\n",
      "\ucd9c\ub825: \ubc18\uac11\uc2b5\ub2c8\ub2e4 .\n",
      "\n",
      "\uc785\ub825: \uc624\ub298 \ub0a0\uc528\uac00 \uc88b\uc544!\n",
      "\ucd9c\ub825: \uadf8\ub798\ub3c4 \ud798\ub4e4\uc8e0 .\n",
      "\n",
      "\uc785\ub825: \uc694\uc998 \uc5b4\ub54c?\n",
      "\ucd9c\ub825: \uc9c1\uc811 \ubb3c\uc5b4\ubcf4\uc138\uc694 .\n",
      "\n",
      "\uc785\ub825: \ub9db\uc810\ud574!\n",
      "\ucd9c\ub825: \uc870\uae08\uc529 \uc870\uc2ec\ud558\uc138\uc694 .\n",
      "\n",
      "\uc785\ub825: \uac19\uc774 \ubc25 \uba39\uc744\ub798\uc694?\n",
      "\ucd9c\ub825: \uc544\ubb34\ub807\uc9c0\ub3c4 \uc54a\ub294 \ub0a0\uc774 \uc62c \uac70\uc608\uc694 .\n",
      "\n",
      "\uc785\ub825: \uc694\uc998 \uc544\uce68\uc5d0 \uc6b4\ub3d9\uc744 \ud558\uace0 \uc788\uc5b4.\n",
      "\ucd9c\ub825: \uc65c \uadf8 \uc2dc\uac04\uc5d0 \uc5f0\ub77d\uc744 \ud588\uc744\uae4c\uc694 .\n",
      "\n",
      "\uc785\ub825: \uc9c0\uae08 \uce58\ud0a8\uc744 \uc2dc\ucf1c\ub3c4 \ub420\uae4c?\n",
      "\ucd9c\ub825: \uc0dd\uac01\ubcf4\ub2e4 \ub9ce\uc744 \uac83\ub3c4 \uc77c\ub3c4 \ub9ce\uc744 \uac83 \uac19\uc544\uc694 .\n",
      "\n",
      "\uc785\ub825: \uafc8\uc744 \uafe8\uc5b4\uc694.\n",
      "\ucd9c\ub825: \uafc8\uc740 \ud604\uc2e4\uc758 \ubc18\ub300\ub798\uc694 .\n",
      "\n",
      "\uc785\ub825: \uafc8\uc740 \ub3c4\ub9dd\uac00\uc9c0 \uc54a\uc544\n",
      "\ucd9c\ub825: \uadf8\ub798\uc11c \uc6b0\ub9ac\ub294 \uafc8\uc744 \uafb8\uc8e0 .\n",
      "\n",
      "\uc785\ub825: \ucee4\ud53c \ud55c\uc794 \ud560\ub798\uc694?\n",
      "\ucd9c\ub825: \uc88b\uc740 \uc0ac\ud68c\uc0dd\ud65c\uc758 \ubc11\uac70\ub984\uc774 \ub418\uae38 \ubc14\ub78d\ub2c8\ub2e4 .\n",
      "\n"
     ]
    }
   ],
   "source": [
    "for test in test_input:\n",
    "    none = sentence_generation(test)\n",
    "    print()"
   ]
  },
  {
   "cell_type": "markdown",
   "id": "2a1095f1",
   "metadata": {},
   "source": [
    "1. 3\uc810 / 2. 0\uc810 / 3. 0\uc810 / 4. 0\uc810 / 5. 0\uc810 / 6. 0\uc810 / 7. 0\uc810 / 8. 3\uc810 / 9. 3\uc810 / 10. 0\uc810\n",
    "\n",
    "\ucd1d\uc810: 3 + 3 + 3 = 9\uc810(/30\uc810)"
   ]
  },
  {
   "cell_type": "code",
   "execution_count": 46,
   "id": "a1503259",
   "metadata": {},
   "outputs": [
    {
     "name": "stdout",
     "output_type": "stream",
     "text": [
      "Model: \"transformer\"\n",
      "__________________________________________________________________________________________________\n",
      "Layer (type)                    Output Shape         Param #     Connected to                     \n",
      "==================================================================================================\n",
      "inputs (InputLayer)             [(None, None)]       0                                            \n",
      "__________________________________________________________________________________________________\n",
      "dec_inputs (InputLayer)         [(None, None)]       0                                            \n",
      "__________________________________________________________________________________________________\n",
      "enc_padding_mask (Lambda)       (None, 1, 1, None)   0           inputs[0][0]                     \n",
      "__________________________________________________________________________________________________\n",
      "encoder (Functional)            (None, None, 256)    5822208     inputs[0][0]                     \n",
      "                                                                 enc_padding_mask[0][0]           \n",
      "__________________________________________________________________________________________________\n",
      "look_ahead_mask (Lambda)        (None, 1, None, None 0           dec_inputs[0][0]                 \n",
      "__________________________________________________________________________________________________\n",
      "dec_padding_mask (Lambda)       (None, 1, 1, None)   0           inputs[0][0]                     \n",
      "__________________________________________________________________________________________________\n",
      "decoder (Functional)            (None, None, 256)    7405312     dec_inputs[0][0]                 \n",
      "                                                                 encoder[0][0]                    \n",
      "                                                                 look_ahead_mask[0][0]            \n",
      "                                                                 dec_padding_mask[0][0]           \n",
      "__________________________________________________________________________________________________\n",
      "outputs (Dense)                 (None, None, 8327)   2140039     decoder[0][0]                    \n",
      "==================================================================================================\n",
      "Total params: 15,367,559\n",
      "Trainable params: 15,367,559\n",
      "Non-trainable params: 0\n",
      "__________________________________________________________________________________________________\n",
      "Epoch 1/30\n",
      "175/175 [==============================] - 33s 81ms/step - loss: 4.5267 - accuracy: 0.0669\n",
      "Epoch 2/30\n",
      "175/175 [==============================] - 14s 81ms/step - loss: 3.7775 - accuracy: 0.0988\n",
      "Epoch 3/30\n",
      "175/175 [==============================] - 14s 81ms/step - loss: 3.2049 - accuracy: 0.1608\n",
      "Epoch 4/30\n",
      "175/175 [==============================] - 14s 82ms/step - loss: 2.9764 - accuracy: 0.1644\n",
      "Epoch 5/30\n",
      "175/175 [==============================] - 14s 82ms/step - loss: 2.8419 - accuracy: 0.1695\n",
      "Epoch 6/30\n",
      "175/175 [==============================] - 14s 81ms/step - loss: 2.7662 - accuracy: 0.1733\n",
      "Epoch 7/30\n",
      "175/175 [==============================] - 14s 81ms/step - loss: 2.7034 - accuracy: 0.1750\n",
      "Epoch 8/30\n",
      "175/175 [==============================] - 14s 81ms/step - loss: 2.6322 - accuracy: 0.1784\n",
      "Epoch 9/30\n",
      "175/175 [==============================] - 14s 82ms/step - loss: 2.5583 - accuracy: 0.1830\n",
      "Epoch 10/30\n",
      "175/175 [==============================] - 14s 82ms/step - loss: 2.4814 - accuracy: 0.1870\n",
      "Epoch 11/30\n",
      "175/175 [==============================] - 14s 81ms/step - loss: 2.4015 - accuracy: 0.1916\n",
      "Epoch 12/30\n",
      "175/175 [==============================] - 14s 81ms/step - loss: 2.3225 - accuracy: 0.1966\n",
      "Epoch 13/30\n",
      "175/175 [==============================] - 14s 81ms/step - loss: 2.2447 - accuracy: 0.2001\n",
      "Epoch 14/30\n",
      "175/175 [==============================] - 14s 82ms/step - loss: 2.1642 - accuracy: 0.2055\n",
      "Epoch 15/30\n",
      "175/175 [==============================] - 14s 82ms/step - loss: 2.0895 - accuracy: 0.2097\n",
      "Epoch 16/30\n",
      "175/175 [==============================] - 14s 83ms/step - loss: 2.0160 - accuracy: 0.2146\n",
      "Epoch 17/30\n",
      "175/175 [==============================] - 14s 81ms/step - loss: 1.9440 - accuracy: 0.2202\n",
      "Epoch 18/30\n",
      "175/175 [==============================] - 14s 81ms/step - loss: 1.8666 - accuracy: 0.2268\n",
      "Epoch 19/30\n",
      "175/175 [==============================] - 14s 81ms/step - loss: 1.7998 - accuracy: 0.2328\n",
      "Epoch 20/30\n",
      "175/175 [==============================] - 14s 81ms/step - loss: 1.7332 - accuracy: 0.2392\n",
      "Epoch 21/30\n",
      "175/175 [==============================] - 14s 81ms/step - loss: 1.6528 - accuracy: 0.2484\n",
      "Epoch 22/30\n",
      "175/175 [==============================] - 14s 81ms/step - loss: 1.5917 - accuracy: 0.2555\n",
      "Epoch 23/30\n",
      "175/175 [==============================] - 14s 81ms/step - loss: 1.5289 - accuracy: 0.2648\n",
      "Epoch 24/30\n",
      "175/175 [==============================] - 14s 81ms/step - loss: 1.4538 - accuracy: 0.2745\n",
      "Epoch 25/30\n",
      "175/175 [==============================] - 14s 81ms/step - loss: 1.3731 - accuracy: 0.2870\n",
      "Epoch 26/30\n",
      "175/175 [==============================] - 14s 81ms/step - loss: 1.2971 - accuracy: 0.2987\n",
      "Epoch 27/30\n",
      "175/175 [==============================] - 14s 81ms/step - loss: 1.2301 - accuracy: 0.3097\n",
      "Epoch 28/30\n",
      "175/175 [==============================] - 14s 81ms/step - loss: 1.1666 - accuracy: 0.3202\n",
      "Epoch 29/30\n",
      "175/175 [==============================] - 14s 81ms/step - loss: 1.1115 - accuracy: 0.3306\n",
      "Epoch 30/30\n",
      "175/175 [==============================] - 14s 81ms/step - loss: 1.0661 - accuracy: 0.3385\n"
     ]
    },
    {
     "data": {
      "text/plain": [
       "<keras.callbacks.History at 0x7fe890cbc160>"
      ]
     },
     "execution_count": 46,
     "metadata": {},
     "output_type": "execute_result"
    }
   ],
   "source": [
    "tf.keras.backend.clear_session()\n",
    "\n",
    "NUM_LAYERS = 8\n",
    "D_MODEL = 256\n",
    "NUM_HEADS = 8\n",
    "UNITS = 512\n",
    "DROPOUT = 0.1\n",
    "\n",
    "learning_rate = CustomSchedule(D_MODEL)\n",
    "\n",
    "optimizer = tf.keras.optimizers.Adam(\n",
    "    learning_rate, beta_1=0.9, beta_2=0.98, epsilon=1e-9\n",
    ")\n",
    "\n",
    "model = transformer(\n",
    "    vocab_size=VOCAB_SIZE,\n",
    "    num_layers=NUM_LAYERS,\n",
    "    units=UNITS,\n",
    "    d_model=D_MODEL,\n",
    "    num_heads=NUM_HEADS,\n",
    "    dropout=DROPOUT,\n",
    ")\n",
    "model.summary()\n",
    "model.compile(optimizer=optimizer, loss=loss_function, metrics=[accuracy])\n",
    "model.fit(dataset, epochs=EPOCHS, verbose=1)"
   ]
  },
  {
   "cell_type": "code",
   "execution_count": 47,
   "id": "92b5b627",
   "metadata": {},
   "outputs": [
    {
     "name": "stdout",
     "output_type": "stream",
     "text": [
      "\uc785\ub825: \ubc18\uac00\uc6cc!\n",
      "\ucd9c\ub825: \uc88b\uc740 \ub9c8\ubb34\ub9ac\ud558\uae38 \ubc14\ub77c\uc694 .\n",
      "\n",
      "\uc785\ub825: \uc624\ub298 \ub0a0\uc528\uac00 \uc88b\uc544!\n",
      "\ucd9c\ub825: \uc798 \ubcfc \uc218 \uc788\uc744 \uac70\uc608\uc694 .\n",
      "\n",
      "\uc785\ub825: \uc694\uc998 \uc5b4\ub54c?\n",
      "\ucd9c\ub825: \uadf8\ub7f0 \uc0dd\uac01\uc740 \ubc84\ub9ac\uc138\uc694 .\n",
      "\n",
      "\uc785\ub825: \ub9db\uc810\ud574!\n",
      "\ucd9c\ub825: \ub3c8\uc744 \uc5bc\ub978 \ubaa8\uc544\uc57c\ud560 \uc774\uc720\uac00 \uc0dd\uacbc\ub124\uc694 .\n",
      "\n",
      "\uc785\ub825: \uac19\uc774 \ubc25 \uba39\uc744\ub798\uc694?\n",
      "\ucd9c\ub825: \uc774\uc81c \uc77c\uc5b4\ub0a0 \uc2dc\uac04\uc774\uc5d0\uc694 .\n",
      "\n",
      "\uc785\ub825: \uc694\uc998 \uc544\uce68\uc5d0 \uc6b4\ub3d9\uc744 \ud558\uace0 \uc788\uc5b4.\n",
      "\ucd9c\ub825: \ub9ce\uc774 \uc9c0\ucce4\ub098\ubd10\uc694 .\n",
      "\n",
      "\uc785\ub825: \uc9c0\uae08 \uce58\ud0a8\uc744 \uc2dc\ucf1c\ub3c4 \ub420\uae4c?\n",
      "\ucd9c\ub825: \uc9c1\uc811 \uc8fc\ub294 \uac8c \ub354 \uc88b\uc744 \uac83 \uac19\uc544\uc694 .\n",
      "\n",
      "\uc785\ub825: \uafc8\uc744 \uafe8\uc5b4\uc694.\n",
      "\ucd9c\ub825: \uadf8\ub7f0 \uc0ac\ub78c \ub9cc\ub098\uae38 \ubc14\ub784\uac8c\uc694 .\n",
      "\n",
      "\uc785\ub825: \uafc8\uc740 \ub3c4\ub9dd\uac00\uc9c0 \uc54a\uc544\n",
      "\ucd9c\ub825: \uc774\uc81c \uc77c\uc5b4\ub0a0 \uc2dc\uac04\uc774\uc5d0\uc694 .\n",
      "\n",
      "\uc785\ub825: \ucee4\ud53c \ud55c\uc794 \ud560\ub798\uc694?\n",
      "\ucd9c\ub825: \ub2e4\ub978 \uacf3\uc5d0 \uc4f0\ub824\uace0 \uc6b4\uc744 \uc544\uaef4\ub480\ub098\ubd10\uc694 .\n",
      "\n"
     ]
    }
   ],
   "source": [
    "for test in test_input:\n",
    "    none = sentence_generation(test)\n",
    "    print()"
   ]
  },
  {
   "cell_type": "markdown",
   "id": "0d1ec0d9",
   "metadata": {},
   "source": [
    "1. 3\uc810 / 2. 0\uc810 / 3. 0\uc810 / 4. 0\uc810 / 5. 0\uc810 / 6. 0\uc810 / 7. 0\uc810 / 8. 0\uc810 / 9. 0\uc810 / 10. 0\uc810\n",
    "\n",
    "\ucd1d\uc810: 3\uc810(/30\uc810)"
   ]
  },
  {
   "cell_type": "code",
   "execution_count": 48,
   "id": "6e9a75a2",
   "metadata": {},
   "outputs": [
    {
     "name": "stdout",
     "output_type": "stream",
     "text": [
      "Model: \"transformer\"\n",
      "__________________________________________________________________________________________________\n",
      "Layer (type)                    Output Shape         Param #     Connected to                     \n",
      "==================================================================================================\n",
      "inputs (InputLayer)             [(None, None)]       0                                            \n",
      "__________________________________________________________________________________________________\n",
      "dec_inputs (InputLayer)         [(None, None)]       0                                            \n",
      "__________________________________________________________________________________________________\n",
      "enc_padding_mask (Lambda)       (None, 1, 1, None)   0           inputs[0][0]                     \n",
      "__________________________________________________________________________________________________\n",
      "encoder (Functional)            (None, None, 512)    14786048    inputs[0][0]                     \n",
      "                                                                 enc_padding_mask[0][0]           \n",
      "__________________________________________________________________________________________________\n",
      "look_ahead_mask (Lambda)        (None, 1, None, None 0           dec_inputs[0][0]                 \n",
      "__________________________________________________________________________________________________\n",
      "dec_padding_mask (Lambda)       (None, 1, 1, None)   0           inputs[0][0]                     \n",
      "__________________________________________________________________________________________________\n",
      "decoder (Functional)            (None, None, 512)    21097984    dec_inputs[0][0]                 \n",
      "                                                                 encoder[0][0]                    \n",
      "                                                                 look_ahead_mask[0][0]            \n",
      "                                                                 dec_padding_mask[0][0]           \n",
      "__________________________________________________________________________________________________\n",
      "outputs (Dense)                 (None, None, 8327)   4271751     decoder[0][0]                    \n",
      "==================================================================================================\n",
      "Total params: 40,155,783\n",
      "Trainable params: 40,155,783\n",
      "Non-trainable params: 0\n",
      "__________________________________________________________________________________________________\n",
      "Epoch 1/30\n",
      "175/175 [==============================] - 38s 115ms/step - loss: 4.2080 - accuracy: 0.0697\n",
      "Epoch 2/30\n",
      "175/175 [==============================] - 20s 115ms/step - loss: 3.4154 - accuracy: 0.1301\n",
      "Epoch 3/30\n",
      "175/175 [==============================] - 20s 115ms/step - loss: 3.0632 - accuracy: 0.1630\n",
      "Epoch 4/30\n",
      "175/175 [==============================] - 20s 114ms/step - loss: 2.9007 - accuracy: 0.1672\n",
      "Epoch 5/30\n",
      "175/175 [==============================] - 20s 114ms/step - loss: 2.8080 - accuracy: 0.1722\n",
      "Epoch 6/30\n",
      "175/175 [==============================] - 20s 115ms/step - loss: 2.7462 - accuracy: 0.1744\n",
      "Epoch 7/30\n",
      "175/175 [==============================] - 20s 114ms/step - loss: 2.6856 - accuracy: 0.1763\n",
      "Epoch 8/30\n",
      "175/175 [==============================] - 20s 114ms/step - loss: 2.6147 - accuracy: 0.1791\n",
      "Epoch 9/30\n",
      "175/175 [==============================] - 20s 114ms/step - loss: 2.5222 - accuracy: 0.1842\n",
      "Epoch 10/30\n",
      "175/175 [==============================] - 20s 114ms/step - loss: 2.4315 - accuracy: 0.1893\n",
      "Epoch 11/30\n",
      "175/175 [==============================] - 20s 114ms/step - loss: 2.3331 - accuracy: 0.1943\n",
      "Epoch 12/30\n",
      "175/175 [==============================] - 20s 114ms/step - loss: 2.2291 - accuracy: 0.2006\n",
      "Epoch 13/30\n",
      "175/175 [==============================] - 20s 114ms/step - loss: 2.1394 - accuracy: 0.2046\n",
      "Epoch 14/30\n",
      "175/175 [==============================] - 20s 114ms/step - loss: 2.0473 - accuracy: 0.2103\n",
      "Epoch 15/30\n",
      "175/175 [==============================] - 20s 114ms/step - loss: 1.9505 - accuracy: 0.2173\n",
      "Epoch 16/30\n",
      "175/175 [==============================] - 20s 114ms/step - loss: 1.8616 - accuracy: 0.2236\n",
      "Epoch 17/30\n",
      "175/175 [==============================] - 20s 114ms/step - loss: 1.7742 - accuracy: 0.2303\n",
      "Epoch 18/30\n",
      "175/175 [==============================] - 20s 114ms/step - loss: 1.6819 - accuracy: 0.2387\n",
      "Epoch 19/30\n",
      "175/175 [==============================] - 20s 115ms/step - loss: 1.5987 - accuracy: 0.2465\n",
      "Epoch 20/30\n",
      "175/175 [==============================] - 20s 114ms/step - loss: 1.5177 - accuracy: 0.2551\n",
      "Epoch 21/30\n",
      "175/175 [==============================] - 20s 114ms/step - loss: 1.4476 - accuracy: 0.2618\n",
      "Epoch 22/30\n",
      "175/175 [==============================] - 20s 113ms/step - loss: 1.3710 - accuracy: 0.2716\n",
      "Epoch 23/30\n",
      "175/175 [==============================] - 20s 113ms/step - loss: 1.3094 - accuracy: 0.2795\n",
      "Epoch 24/30\n",
      "175/175 [==============================] - 20s 113ms/step - loss: 1.2439 - accuracy: 0.2877\n",
      "Epoch 25/30\n",
      "175/175 [==============================] - 20s 114ms/step - loss: 1.1598 - accuracy: 0.2990\n",
      "Epoch 26/30\n",
      "175/175 [==============================] - 20s 114ms/step - loss: 1.0700 - accuracy: 0.3121\n",
      "Epoch 27/30\n",
      "175/175 [==============================] - 20s 113ms/step - loss: 1.0030 - accuracy: 0.3228\n",
      "Epoch 28/30\n",
      "175/175 [==============================] - 20s 113ms/step - loss: 0.9326 - accuracy: 0.3349\n",
      "Epoch 29/30\n",
      "175/175 [==============================] - 20s 114ms/step - loss: 0.8702 - accuracy: 0.3450\n",
      "Epoch 30/30\n",
      "175/175 [==============================] - 20s 113ms/step - loss: 0.8120 - accuracy: 0.3560\n"
     ]
    },
    {
     "data": {
      "text/plain": [
       "<keras.callbacks.History at 0x7fe871a6a9d0>"
      ]
     },
     "execution_count": 48,
     "metadata": {},
     "output_type": "execute_result"
    }
   ],
   "source": [
    "tf.keras.backend.clear_session()\n",
    "\n",
    "NUM_LAYERS = 8\n",
    "D_MODEL = 512\n",
    "NUM_HEADS = 8\n",
    "UNITS = 512\n",
    "DROPOUT = 0.1\n",
    "\n",
    "learning_rate = CustomSchedule(D_MODEL)\n",
    "\n",
    "optimizer = tf.keras.optimizers.Adam(\n",
    "    learning_rate, beta_1=0.9, beta_2=0.98, epsilon=1e-9\n",
    ")\n",
    "\n",
    "model = transformer(\n",
    "    vocab_size=VOCAB_SIZE,\n",
    "    num_layers=NUM_LAYERS,\n",
    "    units=UNITS,\n",
    "    d_model=D_MODEL,\n",
    "    num_heads=NUM_HEADS,\n",
    "    dropout=DROPOUT,\n",
    ")\n",
    "model.summary()\n",
    "model.compile(optimizer=optimizer, loss=loss_function, metrics=[accuracy])\n",
    "model.fit(dataset, epochs=EPOCHS, verbose=1)"
   ]
  },
  {
   "cell_type": "code",
   "execution_count": 49,
   "id": "beb3cf5f",
   "metadata": {},
   "outputs": [
    {
     "name": "stdout",
     "output_type": "stream",
     "text": [
      "\uc785\ub825: \ubc18\uac00\uc6cc!\n",
      "\ucd9c\ub825: \uc800\ub3c4 \ub370\ub824\uac00\uc138\uc694 .\n",
      "\n",
      "\uc785\ub825: \uc624\ub298 \ub0a0\uc528\uac00 \uc88b\uc544!\n",
      "\ucd9c\ub825: \ub124\n",
      "\n",
      "\uc785\ub825: \uc694\uc998 \uc5b4\ub54c?\n",
      "\ucd9c\ub825: \ud63c\uc790\ub9cc \ud798\ub4e0 \uac70 \uc544\ub2c8\uc5d0\uc694 .\n",
      "\n",
      "\uc785\ub825: \ub9db\uc810\ud574!\n",
      "\ucd9c\ub825: \uc9c0\uae08\ubcf4\ub2e4 \ub354 \uc798 \uc0b4 \uac70\uc608\uc694 .\n",
      "\n",
      "\uc785\ub825: \uac19\uc774 \ubc25 \uba39\uc744\ub798\uc694?\n",
      "\ucd9c\ub825: \uc800\ud55c\ud14c \ub9d0\ud574\ubcf4\uc138\uc694 .\n",
      "\n",
      "\uc785\ub825: \uc694\uc998 \uc544\uce68\uc5d0 \uc6b4\ub3d9\uc744 \ud558\uace0 \uc788\uc5b4.\n",
      "\ucd9c\ub825: \ud798\ub4e4\uaca0\uc5b4\uc694 .\n",
      "\n",
      "\uc785\ub825: \uc9c0\uae08 \uce58\ud0a8\uc744 \uc2dc\ucf1c\ub3c4 \ub420\uae4c?\n",
      "\ucd9c\ub825: \ubcf4\ud1b5 \ub2e4 \uc555\ub2c8\ub2e4 .\n",
      "\n",
      "\uc785\ub825: \uafc8\uc744 \uafe8\uc5b4\uc694.\n",
      "\ucd9c\ub825: \ub0b4 \uc9d1 \ub9c8\ub828\ud55c \uac78\uc74c\uc744 \ud55c \uc9c0\uaca0\ub124\uc694 .\n",
      "\n",
      "\uc785\ub825: \uafc8\uc740 \ub3c4\ub9dd\uac00\uc9c0 \uc54a\uc544\n",
      "\ucd9c\ub825: \ub108\ubb34 \ubb34\ub9ac\ud558\uc9c0 \ub9c8\uc138\uc694 .\n",
      "\n",
      "\uc785\ub825: \ucee4\ud53c \ud55c\uc794 \ud560\ub798\uc694?\n",
      "\ucd9c\ub825: \uc800\ub3c4 \uc88b\uc740 \uc120\ubb3c\uc774 \ub420 \uac70\uc608\uc694 .\n",
      "\n"
     ]
    }
   ],
   "source": [
    "for test in test_input:\n",
    "    none = sentence_generation(test)\n",
    "    print()"
   ]
  },
  {
   "cell_type": "markdown",
   "id": "d33de0a5",
   "metadata": {},
   "source": [
    "1. 0\uc810 / 2. 1\uc810 / 3. 0\uc810 / 4. 0\uc810 / 5. 0\uc810 / 6. 3\uc810 / 7. 0\uc810 / 8. 0\uc810 / 9. 0\uc810 / 10. 0\uc810\n",
    "\n",
    "\ucd1d\uc810: 1 + 3 = 4\uc810(/30\uc810)"
   ]
  },
  {
   "cell_type": "markdown",
   "id": "b8829b08",
   "metadata": {},
   "source": [
    "## \ubaa8\ub378 \ud0d0\uc0c9 \uacb0\uacfc\n",
    "\n",
    "| NUM_LAYERS | D_MODEL | accuracy | \uc810\uc218 |\n",
    "| --- | --- | --- | --- |\n",
    "| 2 | 256 | 53.45% | 9 |\n",
    "| 2 | 512 | **53.61%** | 9 ||\n",
    "| 4 | 256 | 52.45% | **11** |\n",
    "| 4 | 512 | 52.96% | 9 |\n",
    "| 6 | 256 | 33.85% | 3 |\n",
    "| 6 | 512 | 35.60% | 4 |\n",
    "\n",
    "- D_MODEL\uacfc \ubb34\uad00\ud558\uac8c NUM_LAYERS\uac00 6\uc778 \ubaa8\ub378\uc758 \uc815\ud655\ub3c4\ub294 \ub2e4\ub978 \uc124\uc815\uc5d0\uc11c\uc758 \ubaa8\ub378\ubcf4\ub2e4 \uc815\ud655\ub3c4\uac00 \ub9ce\uc774 \ub5a8\uc5b4\uc84c\uace0, \uc774\uc5d0 \ub530\ub77c \uc131\ub2a5 \ud3c9\uac00\uc5d0\uc11c\ub3c4 \ub0ae\uc740 \uc810\uc218\ub97c \ubcf4\uc600\uc2b5\ub2c8\ub2e4.\n",
    "- \uc131\ub2a5 \ud3c9\uac00\ub97c \uc704\ud55c \uc810\uc218\uc640 \uc815\ud655\ub3c4\uac00 \uc5b4\ub290 \uc815\ub3c4 \ube44\ub840\ud55c\ub2e4\ub294 \uac83\uc744 \ud655\uc778\ud560 \uc218 \uc788\uc5c8\uc2b5\ub2c8\ub2e4.\n"
   ]
  },
  {
   "cell_type": "markdown",
   "id": "c3b70e86",
   "metadata": {},
   "source": [
    "## \ucd94\uac00 \ubaa8\ub378 \ud0d0\uc0c9\n",
    "\n",
    "\uc55e\uc120 \ubaa8\ub378 \ud0d0\uc0c9 \uacb0\uacfc\uc5d0\uc11c \uc815\ud655\ub3c4\uc640 \uc810\uc218\uac00 \ube44\ub840 \uad00\uacc4\uc5d0 \uc788\ub2e4\ub294 \uac83\uc744 \ud655\uc778\ud558\uace0, \uc815\ud655\ub3c4\ub97c \uc62c\ub9b4 \uc218 \uc788\ub3c4\ub85d \ucd94\uac00\uc801\uc778 \ubaa8\ub378 \ud0d0\uc0c9\uc744 \uc9c4\ud589\ud569\ub2c8\ub2e4.\n",
    "\n",
    "- NUM_LAYERS\uac00 4\uc778 \uacbd\uc6b0\ubcf4\ub2e4 2\uc778 \uacbd\uc6b0\uc758 \uc815\ud655\ub3c4\uac00 \ubbf8\uc138\ud558\uc9c0\ub9cc \ub192\uc558\uae30\uc5d0, \ub354 \ub0ae\uc740 \uc22b\uc790\ub97c \uc2e4\ud5d8 \uc124\uc815\uc5d0 \ud3ec\ud568\uc2dc\ud0b5\ub2c8\ub2e4.\n",
    "- D_MODEL\uc774 256\uc778 \uacbd\uc6b0\ubcf4\ub2e4 512\uc778 \uacbd\uc6b0\uc758 \uacbd\ud655\ub3c4\uac00 \ub192\uc558\uae30\uc5d0, \ub354 \ud070 \uc22b\uc790\ub97c \uc2e4\ud5d8 \uc124\uc815\uc5d0 \ud3ec\ud568\uc2dc\ud0b5\ub2c8\ub2e4.\n",
    "- \uc774\uc804 \uc2e4\ud5d8\ub4e4\uc740 \ubaa8\ub450 \ub3d9\uc77c\ud558\uac8c 30 epoch\uc73c\ub85c \uc9c4\ud589\ud558\uc600\uc9c0\ub9cc, \ud6c8\ub828 \uc885\ub8cc \uc774\ud6c4 loss\uac00 1\uc5d0 \uac00\uae4c\uc6b4 \uacbd\uc6b0\uac00 \uc874\uc7ac\ud558\uc600\uc2b5\ub2c8\ub2e4. \ud559\uc2b5\uc774 \ucda9\ubd84\ud788 \uc9c4\ud589\ub418\uc9c0 \ubabb\ud55c \uc0c1\ud669\uc774\ub77c \uc0dd\uac01\ub418\uc5b4 epoch\uc744 60\uc73c\ub85c \uc99d\uac00\uc2dc\ucf1c \uc124\uc815\ud558\uc600\uc2b5\ub2c8\ub2e4.\n",
    "\n",
    "1. NUM_LAYERS: 1, 2, 4\n",
    "2. D_MODEL: 512, 1024\n",
    "3. EPOCHS: 60"
   ]
  },
  {
   "cell_type": "code",
   "execution_count": 50,
   "id": "31df8aa7",
   "metadata": {},
   "outputs": [],
   "source": [
    "EPOCHS = 60\n",
    "\n",
    "class EveryFiveEpoch(tf.keras.callbacks.Callback):\n",
    "    def on_epoch_end(self, epoch, logs=None):\n",
    "        if epoch % 10 == 0 or epoch == 1:\n",
    "            print(f\"Epoch {epoch}/{EPOCHS} - loss: {logs['loss']:.4f} - accuracy: {logs['accuracy']:.4f}\")\n",
    "            \n",
    "            \n",
    "everyfive =  EveryFiveEpoch()           "
   ]
  },
  {
   "cell_type": "code",
   "execution_count": 51,
   "id": "98fb0709",
   "metadata": {},
   "outputs": [
    {
     "name": "stdout",
     "output_type": "stream",
     "text": [
      "Model: \"transformer\"\n",
      "__________________________________________________________________________________________________\n",
      "Layer (type)                    Output Shape         Param #     Connected to                     \n",
      "==================================================================================================\n",
      "inputs (InputLayer)             [(None, None)]       0                                            \n",
      "__________________________________________________________________________________________________\n",
      "dec_inputs (InputLayer)         [(None, None)]       0                                            \n",
      "__________________________________________________________________________________________________\n",
      "enc_padding_mask (Lambda)       (None, 1, 1, None)   0           inputs[0][0]                     \n",
      "__________________________________________________________________________________________________\n",
      "encoder (Functional)            (None, None, 512)    5578752     inputs[0][0]                     \n",
      "                                                                 enc_padding_mask[0][0]           \n",
      "__________________________________________________________________________________________________\n",
      "look_ahead_mask (Lambda)        (None, 1, None, None 0           dec_inputs[0][0]                 \n",
      "__________________________________________________________________________________________________\n",
      "dec_padding_mask (Lambda)       (None, 1, 1, None)   0           inputs[0][0]                     \n",
      "__________________________________________________________________________________________________\n",
      "decoder (Functional)            (None, None, 512)    6367744     dec_inputs[0][0]                 \n",
      "                                                                 encoder[0][0]                    \n",
      "                                                                 look_ahead_mask[0][0]            \n",
      "                                                                 dec_padding_mask[0][0]           \n",
      "__________________________________________________________________________________________________\n",
      "outputs (Dense)                 (None, None, 8327)   4271751     decoder[0][0]                    \n",
      "==================================================================================================\n",
      "Total params: 16,218,247\n",
      "Trainable params: 16,218,247\n",
      "Non-trainable params: 0\n",
      "__________________________________________________________________________________________________\n",
      "Epoch 0/60 - loss: 4.3569 - accuracy: 0.0956\n",
      "Epoch 1/60 - loss: 3.3097 - accuracy: 0.1613\n",
      "Epoch 10/60 - loss: 0.9274 - accuracy: 0.3859\n",
      "Epoch 20/60 - loss: 0.0413 - accuracy: 0.5348\n",
      "Epoch 30/60 - loss: 0.0210 - accuracy: 0.5389\n",
      "Epoch 40/60 - loss: 0.0124 - accuracy: 0.5407\n",
      "Epoch 50/60 - loss: 0.0080 - accuracy: 0.5412\n",
      "\n",
      "loss: 0.0060 - accuracy: 0.5414\n",
      "\n",
      "\uc785\ub825: \ubc18\uac00\uc6cc!\n",
      "\ucd9c\ub825: \ubc18\uac11\uc2b5\ub2c8\ub2e4 .\n",
      "\n",
      "\uc785\ub825: \uc624\ub298 \ub0a0\uc528\uac00 \uc88b\uc544!\n",
      "\ucd9c\ub825: \uadf8\ub798\ub3c4 \uad6c\ubc15\ud558\uc9c0\ub294 \ub9c8\uc138\uc694 .\n",
      "\n",
      "\uc785\ub825: \uc694\uc998 \uc5b4\ub54c?\n",
      "\ucd9c\ub825: \uad1c\ucc2e\uc740 \uc0ac\ub78c\uc774\uc5d0\uc694 .\n",
      "\n",
      "\uc785\ub825: \ub9db\uc810\ud574!\n",
      "\ucd9c\ub825: \uc778\uc0dd\uc740 \ud0c0\uc774\ubc0d\uc774\uc5d0\uc694 .\n",
      "\n",
      "\uc785\ub825: \uac19\uc774 \ubc25 \uba39\uc744\ub798\uc694?\n",
      "\ucd9c\ub825: \ub4e4\uc5b4\ub4dc\ub9b4\uac8c\uc694 .\n",
      "\n",
      "\uc785\ub825: \uc694\uc998 \uc544\uce68\uc5d0 \uc6b4\ub3d9\uc744 \ud558\uace0 \uc788\uc5b4.\n",
      "\ucd9c\ub825: \uace0\uc0dd\ud588\uc5b4\uc694 .\n",
      "\n",
      "\uc785\ub825: \uc9c0\uae08 \uce58\ud0a8\uc744 \uc2dc\ucf1c\ub3c4 \ub420\uae4c?\n",
      "\ucd9c\ub825: \uc0dd\uac01\ubcf4\ub2e4 \ud798\ub4e0 \uc77c\ub3c4 \ub9ce\uc744 \uac83 \uac19\uc544\uc694 .\n",
      "\n",
      "\uc785\ub825: \uafc8\uc744 \uafe8\uc5b4\uc694.\n",
      "\ucd9c\ub825: \uafc8\uc740 \ud604\uc2e4\uc758 \ubc18\ub300\ub798\uc694 .\n",
      "\n",
      "\uc785\ub825: \uafc8\uc740 \ub3c4\ub9dd\uac00\uc9c0 \uc54a\uc544\n",
      "\ucd9c\ub825: \ucc28\uadfc\ucc28\uadfc \uc774\ub904\ubcf4\uc544\uc694 .\n",
      "\n",
      "\uc785\ub825: \ucee4\ud53c \ud55c\uc794 \ud560\ub798\uc694?\n",
      "\ucd9c\ub825: \uad1c\ucc2e\uc740 \uc120\ud0dd\uc774\uae38 \ubc14\ub77c\uc694 .\n",
      "\n"
     ]
    }
   ],
   "source": [
    "tf.keras.backend.clear_session()\n",
    "\n",
    "NUM_LAYERS = 1\n",
    "D_MODEL = 512\n",
    "NUM_HEADS = 8\n",
    "UNITS = 512\n",
    "DROPOUT = 0.1\n",
    "\n",
    "learning_rate = CustomSchedule(D_MODEL)\n",
    "\n",
    "optimizer = tf.keras.optimizers.Adam(\n",
    "    learning_rate, beta_1=0.9, beta_2=0.98, epsilon=1e-9\n",
    ")\n",
    "\n",
    "model = transformer(\n",
    "    vocab_size=VOCAB_SIZE,\n",
    "    num_layers=NUM_LAYERS,\n",
    "    units=UNITS,\n",
    "    d_model=D_MODEL,\n",
    "    num_heads=NUM_HEADS,\n",
    "    dropout=DROPOUT,\n",
    ")\n",
    "model.summary()\n",
    "model.compile(optimizer=optimizer, loss=loss_function, metrics=[accuracy])\n",
    "hist = model.fit(dataset, epochs=EPOCHS, verbose=0, callbacks=[everyfive])\n",
    "\n",
    "print()\n",
    "print(f\"loss: {hist.history['loss'][-1]:.4f} - accuracy: {hist.history['accuracy'][-1]:.4f}\")\n",
    "print()\n",
    "\n",
    "for test in test_input:\n",
    "    none = sentence_generation(test)\n",
    "    print()"
   ]
  },
  {
   "cell_type": "markdown",
   "id": "47189b33",
   "metadata": {},
   "source": [
    "1. 3\uc810 / 2. 0\uc810 / 3. 0\uc810 / 4. 0\uc810 / 5. 0\uc810 / 6. 1\uc810 / 7. 0\uc810 / 8. 3\uc810 / 9. 3\uc810 / 10. 0\uc810\n",
    "\n",
    "\ucd1d\uc810: 3 + 1 + 3 + 3 = 10\uc810(/30\uc810)"
   ]
  },
  {
   "cell_type": "code",
   "execution_count": 52,
   "id": "b05754d2",
   "metadata": {},
   "outputs": [
    {
     "name": "stdout",
     "output_type": "stream",
     "text": [
      "Model: \"transformer\"\n",
      "__________________________________________________________________________________________________\n",
      "Layer (type)                    Output Shape         Param #     Connected to                     \n",
      "==================================================================================================\n",
      "inputs (InputLayer)             [(None, None)]       0                                            \n",
      "__________________________________________________________________________________________________\n",
      "dec_inputs (InputLayer)         [(None, None)]       0                                            \n",
      "__________________________________________________________________________________________________\n",
      "enc_padding_mask (Lambda)       (None, 1, 1, None)   0           inputs[0][0]                     \n",
      "__________________________________________________________________________________________________\n",
      "encoder (Functional)            (None, None, 1024)   12729856    inputs[0][0]                     \n",
      "                                                                 enc_padding_mask[0][0]           \n",
      "__________________________________________________________________________________________________\n",
      "look_ahead_mask (Lambda)        (None, 1, None, None 0           dec_inputs[0][0]                 \n",
      "__________________________________________________________________________________________________\n",
      "dec_padding_mask (Lambda)       (None, 1, 1, None)   0           inputs[0][0]                     \n",
      "__________________________________________________________________________________________________\n",
      "decoder (Functional)            (None, None, 1024)   15880704    dec_inputs[0][0]                 \n",
      "                                                                 encoder[0][0]                    \n",
      "                                                                 look_ahead_mask[0][0]            \n",
      "                                                                 dec_padding_mask[0][0]           \n",
      "__________________________________________________________________________________________________\n",
      "outputs (Dense)                 (None, None, 8327)   8535175     decoder[0][0]                    \n",
      "==================================================================================================\n",
      "Total params: 37,145,735\n",
      "Trainable params: 37,145,735\n",
      "Non-trainable params: 0\n",
      "__________________________________________________________________________________________________\n",
      "Epoch 0/60 - loss: 4.0921 - accuracy: 0.1064\n",
      "Epoch 1/60 - loss: 3.1146 - accuracy: 0.1649\n",
      "Epoch 10/60 - loss: 0.5314 - accuracy: 0.4603\n",
      "Epoch 20/60 - loss: 0.0380 - accuracy: 0.5358\n",
      "Epoch 30/60 - loss: 0.0241 - accuracy: 0.5383\n",
      "Epoch 40/60 - loss: 0.0146 - accuracy: 0.5402\n",
      "Epoch 50/60 - loss: 0.0108 - accuracy: 0.5408\n",
      "\n",
      "loss: 0.0078 - accuracy: 0.5409\n",
      "\n",
      "\uc785\ub825: \ubc18\uac00\uc6cc!\n",
      "\ucd9c\ub825: \ubc18\uac11\uc2b5\ub2c8\ub2e4 .\n",
      "\n",
      "\uc785\ub825: \uc624\ub298 \ub0a0\uc528\uac00 \uc88b\uc544!\n",
      "\ucd9c\ub825: \ub9c8\uc74c\ub3c4 \ucd94\uc6b4\uac00\uc694 .\n",
      "\n",
      "\uc785\ub825: \uc694\uc998 \uc5b4\ub54c?\n",
      "\ucd9c\ub825: \uad1c\ucc2e\uc740 \uc0ac\ub78c\uc774\uc5d0\uc694 .\n",
      "\n",
      "\uc785\ub825: \ub9db\uc810\ud574!\n",
      "\ucd9c\ub825: \uc990\uac70\uc6b4 \uc8fc\ub9d0 \ubcf4\ub0b4\uc2e4 \uac83 \uac19\ub124\uc694 .\n",
      "\n",
      "\uc785\ub825: \uac19\uc774 \ubc25 \uba39\uc744\ub798\uc694?\n",
      "\ucd9c\ub825: \uc990\uac70\uc6b4 \uc2dc\uac04 \ubcf4\ub0b4\uace0 \uc624\uc138\uc694 !\n",
      "\n",
      "\uc785\ub825: \uc694\uc998 \uc544\uce68\uc5d0 \uc6b4\ub3d9\uc744 \ud558\uace0 \uc788\uc5b4.\n",
      "\ucd9c\ub825: \uace0\uc0dd\ud588\uc5b4\uc694 .\n",
      "\n",
      "\uc785\ub825: \uc9c0\uae08 \uce58\ud0a8\uc744 \uc2dc\ucf1c\ub3c4 \ub420\uae4c?\n",
      "\ucd9c\ub825: \uadf8\uac74 \uc880 \ud798\ub4e4 \uac83 \uac19\uc544\uc694 .\n",
      "\n",
      "\uc785\ub825: \uafc8\uc744 \uafe8\uc5b4\uc694.\n",
      "\ucd9c\ub825: \uafc8\uc740 \ud604\uc2e4\uc758 \ubc18\ub300\ub798\uc694 .\n",
      "\n",
      "\uc785\ub825: \uafc8\uc740 \ub3c4\ub9dd\uac00\uc9c0 \uc54a\uc544\n",
      "\ucd9c\ub825: \ucc28\uadfc\ucc28\uadfc \uc774\ub904\ubcf4\uc544\uc694 .\n",
      "\n",
      "\uc785\ub825: \ucee4\ud53c \ud55c\uc794 \ud560\ub798\uc694?\n",
      "\ucd9c\ub825: \uc88b\uc740 \ub0a0\uc774\ub124\uc694 .\n",
      "\n"
     ]
    }
   ],
   "source": [
    "tf.keras.backend.clear_session()\n",
    "\n",
    "NUM_LAYERS = 1\n",
    "D_MODEL = 1024\n",
    "NUM_HEADS = 8\n",
    "UNITS = 512\n",
    "DROPOUT = 0.1\n",
    "\n",
    "learning_rate = CustomSchedule(D_MODEL)\n",
    "\n",
    "optimizer = tf.keras.optimizers.Adam(\n",
    "    learning_rate, beta_1=0.9, beta_2=0.98, epsilon=1e-9\n",
    ")\n",
    "\n",
    "model = transformer(\n",
    "    vocab_size=VOCAB_SIZE,\n",
    "    num_layers=NUM_LAYERS,\n",
    "    units=UNITS,\n",
    "    d_model=D_MODEL,\n",
    "    num_heads=NUM_HEADS,\n",
    "    dropout=DROPOUT,\n",
    ")\n",
    "model.summary()\n",
    "model.compile(optimizer=optimizer, loss=loss_function, metrics=[accuracy])\n",
    "hist = model.fit(dataset, epochs=EPOCHS, verbose=0, callbacks=[everyfive])\n",
    "\n",
    "print()\n",
    "print(f\"loss: {hist.history['loss'][-1]:.4f} - accuracy: {hist.history['accuracy'][-1]:.4f}\")\n",
    "print()\n",
    "\n",
    "for test in test_input:\n",
    "    none = sentence_generation(test)\n",
    "    print()"
   ]
  },
  {
   "cell_type": "markdown",
   "id": "9f4e893d",
   "metadata": {},
   "source": [
    "1. 3\uc810 / 2. 0\uc810 / 3. 0\uc810 / 4. 0\uc810 / 5. 0\uc810 / 6. 1\uc810 / 7. 1\uc810 / 8. 3\uc810 / 9. 3\uc810 / 10. 0\uc810\n",
    "\n",
    "\ucd1d\uc810: 3 + 1 + 1 + 3 + 3 = 11\uc810(/30\uc810)"
   ]
  },
  {
   "cell_type": "code",
   "execution_count": 53,
   "id": "96ea3282",
   "metadata": {
    "scrolled": false
   },
   "outputs": [
    {
     "name": "stdout",
     "output_type": "stream",
     "text": [
      "Model: \"transformer\"\n",
      "__________________________________________________________________________________________________\n",
      "Layer (type)                    Output Shape         Param #     Connected to                     \n",
      "==================================================================================================\n",
      "inputs (InputLayer)             [(None, None)]       0                                            \n",
      "__________________________________________________________________________________________________\n",
      "dec_inputs (InputLayer)         [(None, None)]       0                                            \n",
      "__________________________________________________________________________________________________\n",
      "enc_padding_mask (Lambda)       (None, 1, 1, None)   0           inputs[0][0]                     \n",
      "__________________________________________________________________________________________________\n",
      "encoder (Functional)            (None, None, 512)    6894080     inputs[0][0]                     \n",
      "                                                                 enc_padding_mask[0][0]           \n",
      "__________________________________________________________________________________________________\n",
      "look_ahead_mask (Lambda)        (None, 1, None, None 0           dec_inputs[0][0]                 \n",
      "__________________________________________________________________________________________________\n",
      "dec_padding_mask (Lambda)       (None, 1, 1, None)   0           inputs[0][0]                     \n",
      "__________________________________________________________________________________________________\n",
      "decoder (Functional)            (None, None, 512)    8472064     dec_inputs[0][0]                 \n",
      "                                                                 encoder[0][0]                    \n",
      "                                                                 look_ahead_mask[0][0]            \n",
      "                                                                 dec_padding_mask[0][0]           \n",
      "__________________________________________________________________________________________________\n",
      "outputs (Dense)                 (None, None, 8327)   4271751     decoder[0][0]                    \n",
      "==================================================================================================\n",
      "Total params: 19,637,895\n",
      "Trainable params: 19,637,895\n",
      "Non-trainable params: 0\n",
      "__________________________________________________________________________________________________\n",
      "Epoch 0/60 - loss: 4.2983 - accuracy: 0.0889\n",
      "Epoch 1/60 - loss: 3.2919 - accuracy: 0.1610\n",
      "Epoch 10/60 - loss: 0.9575 - accuracy: 0.3854\n",
      "Epoch 20/60 - loss: 0.0636 - accuracy: 0.5295\n",
      "Epoch 30/60 - loss: 0.0302 - accuracy: 0.5366\n",
      "Epoch 40/60 - loss: 0.0169 - accuracy: 0.5397\n",
      "Epoch 50/60 - loss: 0.0121 - accuracy: 0.5404\n",
      "\n",
      "loss: 0.0081 - accuracy: 0.5410\n",
      "\n",
      "\uc785\ub825: \ubc18\uac00\uc6cc!\n",
      "\ucd9c\ub825: \ubc18\uac11\uc2b5\ub2c8\ub2e4 .\n",
      "\n",
      "\uc785\ub825: \uc624\ub298 \ub0a0\uc528\uac00 \uc88b\uc544!\n",
      "\ucd9c\ub825: \uc9d1\ubc16\uc5d0 \ub098\uac00\uae30\uac00 \ud798\ub4e4\uac83 \uac19\uc544\uc694 .\n",
      "\n",
      "\uc785\ub825: \uc694\uc998 \uc5b4\ub54c?\n",
      "\ucd9c\ub825: \uc800\ub3c4 \ub4e3\uace0 \uc2f6\uc5b4\uc694 .\n",
      "\n",
      "\uc785\ub825: \ub9db\uc810\ud574!\n",
      "\ucd9c\ub825: \ub9db\uc788\ub294 \uac70 \ub4dc\uc138\uc694 .\n",
      "\n",
      "\uc785\ub825: \uac19\uc774 \ubc25 \uba39\uc744\ub798\uc694?\n",
      "\ucd9c\ub825: \uc190\uc218\uac74 \uc900\ube44\ud560\uac8c\uc694 .\n",
      "\n",
      "\uc785\ub825: \uc694\uc998 \uc544\uce68\uc5d0 \uc6b4\ub3d9\uc744 \ud558\uace0 \uc788\uc5b4.\n",
      "\ucd9c\ub825: \uace0\uc0dd\ud588\uc5b4\uc694 .\n",
      "\n",
      "\uc785\ub825: \uc9c0\uae08 \uce58\ud0a8\uc744 \uc2dc\ucf1c\ub3c4 \ub420\uae4c?\n",
      "\ucd9c\ub825: \uac19\uc774 \uc0b4\uc790\uace0 \ud504\ub85c\ud3ec\uc988 \ud574\ubcf4\uc138\uc694 .\n",
      "\n",
      "\uc785\ub825: \uafc8\uc744 \uafe8\uc5b4\uc694.\n",
      "\ucd9c\ub825: \ub9ce\uc774 \uc0dd\uac01\ud588\ub098\ubd10\uc694 .\n",
      "\n",
      "\uc785\ub825: \uafc8\uc740 \ub3c4\ub9dd\uac00\uc9c0 \uc54a\uc544\n",
      "\ucd9c\ub825: \ucc28\uadfc\ucc28\uadfc \uc774\ub904\ubcf4\uc544\uc694 .\n",
      "\n",
      "\uc785\ub825: \ucee4\ud53c \ud55c\uc794 \ud560\ub798\uc694?\n",
      "\ucd9c\ub825: \ucee4\ud53c\ub294 \uc140\ud504\uc600\uc73c\uba74 \uc88b\uaca0\uc5b4\uc694 .\n",
      "\n"
     ]
    }
   ],
   "source": [
    "tf.keras.backend.clear_session()\n",
    "\n",
    "NUM_LAYERS = 2\n",
    "D_MODEL = 512\n",
    "NUM_HEADS = 8\n",
    "UNITS = 512\n",
    "DROPOUT = 0.1\n",
    "\n",
    "learning_rate = CustomSchedule(D_MODEL)\n",
    "\n",
    "optimizer = tf.keras.optimizers.Adam(\n",
    "    learning_rate, beta_1=0.9, beta_2=0.98, epsilon=1e-9\n",
    ")\n",
    "\n",
    "model = transformer(\n",
    "    vocab_size=VOCAB_SIZE,\n",
    "    num_layers=NUM_LAYERS,\n",
    "    units=UNITS,\n",
    "    d_model=D_MODEL,\n",
    "    num_heads=NUM_HEADS,\n",
    "    dropout=DROPOUT,\n",
    ")\n",
    "model.summary()\n",
    "model.compile(optimizer=optimizer, loss=loss_function, metrics=[accuracy])\n",
    "hist = model.fit(dataset, epochs=EPOCHS, verbose=0, callbacks=[everyfive])\n",
    "\n",
    "print()\n",
    "print(f\"loss: {hist.history['loss'][-1]:.4f} - accuracy: {hist.history['accuracy'][-1]:.4f}\")\n",
    "print()\n",
    "\n",
    "for test in test_input:\n",
    "    none = sentence_generation(test)\n",
    "    print()"
   ]
  },
  {
   "cell_type": "markdown",
   "id": "bda30e0b",
   "metadata": {},
   "source": [
    "1. 3\uc810 / 2. 1\uc810 / 3. 1\uc810 / 4. 3\uc810 / 5. 0\uc810 / 6. 1\uc810 / 7. 0\uc810 / 8. 3\uc810 / 9. 3\uc810 / 10. 0\uc810\n",
    "\n",
    "\ucd1d\uc810: 3 + 1 + 1 + 3 + 1 + 3 + 3 = 15\uc810(/30\uc810)"
   ]
  },
  {
   "cell_type": "code",
   "execution_count": 54,
   "id": "96822ce5",
   "metadata": {},
   "outputs": [
    {
     "name": "stdout",
     "output_type": "stream",
     "text": [
      "Model: \"transformer\"\n",
      "__________________________________________________________________________________________________\n",
      "Layer (type)                    Output Shape         Param #     Connected to                     \n",
      "==================================================================================================\n",
      "inputs (InputLayer)             [(None, None)]       0                                            \n",
      "__________________________________________________________________________________________________\n",
      "dec_inputs (InputLayer)         [(None, None)]       0                                            \n",
      "__________________________________________________________________________________________________\n",
      "enc_padding_mask (Lambda)       (None, 1, 1, None)   0           inputs[0][0]                     \n",
      "__________________________________________________________________________________________________\n",
      "encoder (Functional)            (None, None, 1024)   16932864    inputs[0][0]                     \n",
      "                                                                 enc_padding_mask[0][0]           \n",
      "__________________________________________________________________________________________________\n",
      "look_ahead_mask (Lambda)        (None, 1, None, None 0           dec_inputs[0][0]                 \n",
      "__________________________________________________________________________________________________\n",
      "dec_padding_mask (Lambda)       (None, 1, 1, None)   0           inputs[0][0]                     \n",
      "__________________________________________________________________________________________________\n",
      "decoder (Functional)            (None, None, 1024)   23234560    dec_inputs[0][0]                 \n",
      "                                                                 encoder[0][0]                    \n",
      "                                                                 look_ahead_mask[0][0]            \n",
      "                                                                 dec_padding_mask[0][0]           \n",
      "__________________________________________________________________________________________________\n",
      "outputs (Dense)                 (None, None, 8327)   8535175     decoder[0][0]                    \n",
      "==================================================================================================\n",
      "Total params: 48,702,599\n",
      "Trainable params: 48,702,599\n",
      "Non-trainable params: 0\n",
      "__________________________________________________________________________________________________\n",
      "Epoch 0/60 - loss: 3.9328 - accuracy: 0.1166\n",
      "Epoch 1/60 - loss: 3.1161 - accuracy: 0.1638\n",
      "Epoch 10/60 - loss: 0.4956 - accuracy: 0.4690\n",
      "Epoch 20/60 - loss: 0.0590 - accuracy: 0.5306\n",
      "Epoch 30/60 - loss: 0.0344 - accuracy: 0.5358\n",
      "Epoch 40/60 - loss: 0.0203 - accuracy: 0.5390\n",
      "Epoch 50/60 - loss: 0.0131 - accuracy: 0.5403\n",
      "\n",
      "loss: 0.0098 - accuracy: 0.5406\n",
      "\n",
      "\uc785\ub825: \ubc18\uac00\uc6cc!\n",
      "\ucd9c\ub825: \ubc18\uac11\uc2b5\ub2c8\ub2e4 .\n",
      "\n",
      "\uc785\ub825: \uc624\ub298 \ub0a0\uc528\uac00 \uc88b\uc544!\n",
      "\ucd9c\ub825: \ub9db\ub098\uac8c \ub4dc\uc138\uc694 .\n",
      "\n",
      "\uc785\ub825: \uc694\uc998 \uc5b4\ub54c?\n",
      "\ucd9c\ub825: \ub9c8\uc74c\uc774 \ub530\ub73b\ud560 \uac83 \uac19\uc544\uc694 .\n",
      "\n",
      "\uc785\ub825: \ub9db\uc810\ud574!\n",
      "\ucd9c\ub825: \uc7a0\uc2dc \uc26c\uc5c8\ub2e4 \uac00\uc138\uc694 .\n",
      "\n",
      "\uc785\ub825: \uac19\uc774 \ubc25 \uba39\uc744\ub798\uc694?\n",
      "\ucd9c\ub825: \uc0dd\uac01\uc744 \ube44\uc6cc\ubcf4\uc138\uc694 .\n",
      "\n",
      "\uc785\ub825: \uc694\uc998 \uc544\uce68\uc5d0 \uc6b4\ub3d9\uc744 \ud558\uace0 \uc788\uc5b4.\n",
      "\ucd9c\ub825: \ub9c8\uc74c\uc744 \uc5f4 \ub54c\uae4c\uc9c0 \uc124\ub4dd\ud574\ubcf4\uc138\uc694 .\n",
      "\n",
      "\uc785\ub825: \uc9c0\uae08 \uce58\ud0a8\uc744 \uc2dc\ucf1c\ub3c4 \ub420\uae4c?\n",
      "\ucd9c\ub825: \uc77c\uc744 \ubab0\ub77c\uc11c \uadf8\ub7f0\uac00\ubd10\uc694 .\n",
      "\n",
      "\uc785\ub825: \uafc8\uc744 \uafe8\uc5b4\uc694.\n",
      "\ucd9c\ub825: \ub9ce\uc774 \uc0dd\uac01\ud588\ub098\ubd10\uc694 .\n",
      "\n",
      "\uc785\ub825: \uafc8\uc740 \ub3c4\ub9dd\uac00\uc9c0 \uc54a\uc544\n",
      "\ucd9c\ub825: \ucc28\uadfc\ucc28\uadfc \uc774\ub904\ubcf4\uc544\uc694 .\n",
      "\n",
      "\uc785\ub825: \ucee4\ud53c \ud55c\uc794 \ud560\ub798\uc694?\n",
      "\ucd9c\ub825: \ud55c \ubc88 \ub9d0\ud574\ubcf4\uc138\uc694 .\n",
      "\n"
     ]
    }
   ],
   "source": [
    "tf.keras.backend.clear_session()\n",
    "\n",
    "NUM_LAYERS = 2\n",
    "D_MODEL = 1024\n",
    "NUM_HEADS = 8\n",
    "UNITS = 512\n",
    "DROPOUT = 0.1\n",
    "\n",
    "learning_rate = CustomSchedule(D_MODEL)\n",
    "\n",
    "optimizer = tf.keras.optimizers.Adam(\n",
    "    learning_rate, beta_1=0.9, beta_2=0.98, epsilon=1e-9\n",
    ")\n",
    "\n",
    "model = transformer(\n",
    "    vocab_size=VOCAB_SIZE,\n",
    "    num_layers=NUM_LAYERS,\n",
    "    units=UNITS,\n",
    "    d_model=D_MODEL,\n",
    "    num_heads=NUM_HEADS,\n",
    "    dropout=DROPOUT,\n",
    ")\n",
    "model.summary()\n",
    "model.compile(optimizer=optimizer, loss=loss_function, metrics=[accuracy])\n",
    "hist = model.fit(dataset, epochs=EPOCHS, verbose=0, callbacks=[everyfive])\n",
    "\n",
    "print()\n",
    "print(f\"loss: {hist.history['loss'][-1]:.4f} - accuracy: {hist.history['accuracy'][-1]:.4f}\")\n",
    "print()\n",
    "\n",
    "for test in test_input:\n",
    "    none = sentence_generation(test)\n",
    "    print()"
   ]
  },
  {
   "cell_type": "markdown",
   "id": "5fbfed42",
   "metadata": {},
   "source": [
    "1. 3\uc810 / 2. 0\uc810 / 3. 0\uc810 / 4. 0\uc810 / 5. 0\uc810 / 6. 0\uc810 / 7. 0\uc810 / 8. 3\uc810 / 9. 3\uc810 / 10. 0\uc810\n",
    "\n",
    "\ucd1d\uc810: 3 + 3 + 3 = 9\uc810(/30\uc810)"
   ]
  },
  {
   "cell_type": "code",
   "execution_count": 55,
   "id": "094baccf",
   "metadata": {},
   "outputs": [
    {
     "name": "stdout",
     "output_type": "stream",
     "text": [
      "Model: \"transformer\"\n",
      "__________________________________________________________________________________________________\n",
      "Layer (type)                    Output Shape         Param #     Connected to                     \n",
      "==================================================================================================\n",
      "inputs (InputLayer)             [(None, None)]       0                                            \n",
      "__________________________________________________________________________________________________\n",
      "dec_inputs (InputLayer)         [(None, None)]       0                                            \n",
      "__________________________________________________________________________________________________\n",
      "enc_padding_mask (Lambda)       (None, 1, 1, None)   0           inputs[0][0]                     \n",
      "__________________________________________________________________________________________________\n",
      "encoder (Functional)            (None, None, 512)    9524736     inputs[0][0]                     \n",
      "                                                                 enc_padding_mask[0][0]           \n",
      "__________________________________________________________________________________________________\n",
      "look_ahead_mask (Lambda)        (None, 1, None, None 0           dec_inputs[0][0]                 \n",
      "__________________________________________________________________________________________________\n",
      "dec_padding_mask (Lambda)       (None, 1, 1, None)   0           inputs[0][0]                     \n",
      "__________________________________________________________________________________________________\n",
      "decoder (Functional)            (None, None, 512)    12680704    dec_inputs[0][0]                 \n",
      "                                                                 encoder[0][0]                    \n",
      "                                                                 look_ahead_mask[0][0]            \n",
      "                                                                 dec_padding_mask[0][0]           \n",
      "__________________________________________________________________________________________________\n",
      "outputs (Dense)                 (None, None, 8327)   4271751     decoder[0][0]                    \n",
      "==================================================================================================\n",
      "Total params: 26,477,191\n",
      "Trainable params: 26,477,191\n",
      "Non-trainable params: 0\n",
      "__________________________________________________________________________________________________\n",
      "Epoch 0/60 - loss: 4.2640 - accuracy: 0.0798\n",
      "Epoch 1/60 - loss: 3.3068 - accuracy: 0.1612\n",
      "Epoch 10/60 - loss: 1.2172 - accuracy: 0.3451\n",
      "Epoch 20/60 - loss: 0.1275 - accuracy: 0.5133\n",
      "Epoch 30/60 - loss: 0.0538 - accuracy: 0.5301\n",
      "Epoch 40/60 - loss: 0.0268 - accuracy: 0.5373\n",
      "Epoch 50/60 - loss: 0.0191 - accuracy: 0.5389\n",
      "\n",
      "loss: 0.0141 - accuracy: 0.5399\n",
      "\n",
      "\uc785\ub825: \ubc18\uac00\uc6cc!\n",
      "\ucd9c\ub825: \ubc18\uac11\uc2b5\ub2c8\ub2e4 .\n",
      "\n",
      "\uc785\ub825: \uc624\ub298 \ub0a0\uc528\uac00 \uc88b\uc544!\n",
      "\ucd9c\ub825: \ub9c8\uc74c\ub3c4 \ucd94\uc6b4\uac00\uc694 .\n",
      "\n",
      "\uc785\ub825: \uc694\uc998 \uc5b4\ub54c?\n",
      "\ucd9c\ub825: \ub124 \ub9d0\ud574\uc8fc\uc138\uc694 .\n",
      "\n",
      "\uc785\ub825: \ub9db\uc810\ud574!\n",
      "\ucd9c\ub825: \ud589\ubcf5\ud574 \ubcf4\uc5ec\uc11c \ubcf4\uae30 \uc88b\uc544\uc694 .\n",
      "\n",
      "\uc785\ub825: \uac19\uc774 \ubc25 \uba39\uc744\ub798\uc694?\n",
      "\ucd9c\ub825: \ub4e4\uc5b4\ub4dc\ub9b4\uac8c\uc694 .\n",
      "\n",
      "\uc785\ub825: \uc694\uc998 \uc544\uce68\uc5d0 \uc6b4\ub3d9\uc744 \ud558\uace0 \uc788\uc5b4.\n",
      "\ucd9c\ub825: \ub9ce\uc740 \uc0dd\uac01\uc774 \ub098\uaca0\ub124\uc694 .\n",
      "\n",
      "\uc785\ub825: \uc9c0\uae08 \uce58\ud0a8\uc744 \uc2dc\ucf1c\ub3c4 \ub420\uae4c?\n",
      "\ucd9c\ub825: \uc9c8\ud22c\ub09c\ub2e4\uace0 \uc0b4\uc9dd \ub9d0\ud574\ubd10\uc694 .\n",
      "\n",
      "\uc785\ub825: \uafc8\uc744 \uafe8\uc5b4\uc694.\n",
      "\ucd9c\ub825: \uafc8\uc740 \ud604\uc2e4\uc758 \ubc18\ub300\ub798\uc694 .\n",
      "\n",
      "\uc785\ub825: \uafc8\uc740 \ub3c4\ub9dd\uac00\uc9c0 \uc54a\uc544\n",
      "\ucd9c\ub825: \ucc28\uadfc\ucc28\uadfc \uc774\ub904\ubcf4\uc544\uc694 .\n",
      "\n",
      "\uc785\ub825: \ucee4\ud53c \ud55c\uc794 \ud560\ub798\uc694?\n",
      "\ucd9c\ub825: \uc800\ub294 \uc704\ub85c\ubd07\uc785\ub2c8\ub2e4 .\n",
      "\n"
     ]
    }
   ],
   "source": [
    "tf.keras.backend.clear_session()\n",
    "\n",
    "NUM_LAYERS = 4\n",
    "D_MODEL = 512\n",
    "NUM_HEADS = 8\n",
    "UNITS = 512\n",
    "DROPOUT = 0.1\n",
    "\n",
    "learning_rate = CustomSchedule(D_MODEL)\n",
    "\n",
    "optimizer = tf.keras.optimizers.Adam(\n",
    "    learning_rate, beta_1=0.9, beta_2=0.98, epsilon=1e-9\n",
    ")\n",
    "\n",
    "model = transformer(\n",
    "    vocab_size=VOCAB_SIZE,\n",
    "    num_layers=NUM_LAYERS,\n",
    "    units=UNITS,\n",
    "    d_model=D_MODEL,\n",
    "    num_heads=NUM_HEADS,\n",
    "    dropout=DROPOUT,\n",
    ")\n",
    "model.summary()\n",
    "model.compile(optimizer=optimizer, loss=loss_function, metrics=[accuracy])\n",
    "hist = model.fit(dataset, epochs=EPOCHS, verbose=0, callbacks=[everyfive])\n",
    "\n",
    "print()\n",
    "print(f\"loss: {hist.history['loss'][-1]:.4f} - accuracy: {hist.history['accuracy'][-1]:.4f}\")\n",
    "print()\n",
    "\n",
    "for test in test_input:\n",
    "    none = sentence_generation(test)\n",
    "    print()"
   ]
  },
  {
   "cell_type": "markdown",
   "id": "5fd0bf9c",
   "metadata": {},
   "source": [
    "1. 3\uc810 / 2. 0\uc810 / 3. 0\uc810 / 4. 0\uc810 / 5. 0\uc810 / 6. 0\uc810 / 7. 0\uc810 / 8. 3\uc810 / 9. 3\uc810 / 10. 0\uc810\n",
    "\n",
    "\ucd1d\uc810: 3 + 3 + 3 = 9\uc810(/30\uc810)"
   ]
  },
  {
   "cell_type": "code",
   "execution_count": 56,
   "id": "a2ba71be",
   "metadata": {},
   "outputs": [
    {
     "name": "stdout",
     "output_type": "stream",
     "text": [
      "Model: \"transformer\"\n",
      "__________________________________________________________________________________________________\n",
      "Layer (type)                    Output Shape         Param #     Connected to                     \n",
      "==================================================================================================\n",
      "inputs (InputLayer)             [(None, None)]       0                                            \n",
      "__________________________________________________________________________________________________\n",
      "dec_inputs (InputLayer)         [(None, None)]       0                                            \n",
      "__________________________________________________________________________________________________\n",
      "enc_padding_mask (Lambda)       (None, 1, 1, None)   0           inputs[0][0]                     \n",
      "__________________________________________________________________________________________________\n",
      "encoder (Functional)            (None, None, 1024)   25338880    inputs[0][0]                     \n",
      "                                                                 enc_padding_mask[0][0]           \n",
      "__________________________________________________________________________________________________\n",
      "look_ahead_mask (Lambda)        (None, 1, None, None 0           dec_inputs[0][0]                 \n",
      "__________________________________________________________________________________________________\n",
      "dec_padding_mask (Lambda)       (None, 1, 1, None)   0           inputs[0][0]                     \n",
      "__________________________________________________________________________________________________\n",
      "decoder (Functional)            (None, None, 1024)   37942272    dec_inputs[0][0]                 \n",
      "                                                                 encoder[0][0]                    \n",
      "                                                                 look_ahead_mask[0][0]            \n",
      "                                                                 dec_padding_mask[0][0]           \n",
      "__________________________________________________________________________________________________\n",
      "outputs (Dense)                 (None, None, 8327)   8535175     decoder[0][0]                    \n",
      "==================================================================================================\n",
      "Total params: 71,816,327\n",
      "Trainable params: 71,816,327\n",
      "Non-trainable params: 0\n",
      "__________________________________________________________________________________________________\n",
      "Epoch 0/60 - loss: 3.9417 - accuracy: 0.1057\n",
      "Epoch 1/60 - loss: 3.1227 - accuracy: 0.1627\n",
      "Epoch 10/60 - loss: 0.7132 - accuracy: 0.4275\n",
      "Epoch 20/60 - loss: 0.1074 - accuracy: 0.5184\n",
      "Epoch 30/60 - loss: 0.0548 - accuracy: 0.5304\n",
      "Epoch 40/60 - loss: 0.0316 - accuracy: 0.5363\n",
      "Epoch 50/60 - loss: 0.0232 - accuracy: 0.5382\n",
      "\n",
      "loss: 0.0160 - accuracy: 0.5396\n",
      "\n",
      "\uc785\ub825: \ubc18\uac00\uc6cc!\n",
      "\ucd9c\ub825: \ubc18\uac11\uc2b5\ub2c8\ub2e4 .\n",
      "\n",
      "\uc785\ub825: \uc624\ub298 \ub0a0\uc528\uac00 \uc88b\uc544!\n",
      "\ucd9c\ub825: \uc800\ub3c4  !\n",
      "\n",
      "\uc785\ub825: \uc694\uc998 \uc5b4\ub54c?\n",
      "\ucd9c\ub825: \ub9c8\uc74c\uc774 \ub530\ub73b\ud560 \uac83 \uac19\uc544\uc694 .\n",
      "\n",
      "\uc785\ub825: \ub9db\uc810\ud574!\n",
      "\ucd9c\ub825: \ubaa8\ub4e0 \ud568\uaed8\ud560 \uc218 \uc788\ub294 \uac8c \uc88b\uc8e0 .\n",
      "\n",
      "\uc785\ub825: \uac19\uc774 \ubc25 \uba39\uc744\ub798\uc694?\n",
      "\ucd9c\ub825: \ub4e4\uc5b4\ub4dc\ub9b4\uac8c\uc694 .\n",
      "\n",
      "\uc785\ub825: \uc694\uc998 \uc544\uce68\uc5d0 \uc6b4\ub3d9\uc744 \ud558\uace0 \uc788\uc5b4.\n",
      "\ucd9c\ub825: \uac19\uc774 \uc6b4\ub3d9\ud558\uc790\uace0 \ud574\ub3c4 \uad1c\ucc2e\uc744 \uac70 \uac19\uc544\uc694 .\n",
      "\n",
      "\uc785\ub825: \uc9c0\uae08 \uce58\ud0a8\uc744 \uc2dc\ucf1c\ub3c4 \ub420\uae4c?\n",
      "\ucd9c\ub825: \ub9c8\uc74c\uc758 \uc815\ub9ac\ub97c \ud574\uc57c\ud558\ub294 \uc2dc\uae30\uac00 \uc62c\uc9c0\ub3c4 \ubaa8\ub974\uaca0\uc5b4\uc694 .\n",
      "\n",
      "\uc785\ub825: \uafc8\uc744 \uafe8\uc5b4\uc694.\n",
      "\ucd9c\ub825: \ub9ce\uc774 \uc0dd\uac01\ud588\ub098\ubd10\uc694 .\n",
      "\n",
      "\uc785\ub825: \uafc8\uc740 \ub3c4\ub9dd\uac00\uc9c0 \uc54a\uc544\n",
      "\ucd9c\ub825: \ucc28\uadfc\ucc28\uadfc \uc774\ub904\ubcf4\uc544\uc694 .\n",
      "\n",
      "\uc785\ub825: \ucee4\ud53c \ud55c\uc794 \ud560\ub798\uc694?\n",
      "\ucd9c\ub825: \uc88b\uc740 \uc2dc\uac04 \ubcf4\ub0b4\uc2dc\uae38 \ubc14\ub77c\uc694 .\n",
      "\n"
     ]
    }
   ],
   "source": [
    "tf.keras.backend.clear_session()\n",
    "\n",
    "NUM_LAYERS = 4\n",
    "D_MODEL = 1024\n",
    "NUM_HEADS = 8\n",
    "UNITS = 512\n",
    "DROPOUT = 0.1\n",
    "\n",
    "learning_rate = CustomSchedule(D_MODEL)\n",
    "\n",
    "optimizer = tf.keras.optimizers.Adam(\n",
    "    learning_rate, beta_1=0.9, beta_2=0.98, epsilon=1e-9\n",
    ")\n",
    "\n",
    "model = transformer(\n",
    "    vocab_size=VOCAB_SIZE,\n",
    "    num_layers=NUM_LAYERS,\n",
    "    units=UNITS,\n",
    "    d_model=D_MODEL,\n",
    "    num_heads=NUM_HEADS,\n",
    "    dropout=DROPOUT,\n",
    ")\n",
    "model.summary()\n",
    "model.compile(optimizer=optimizer, loss=loss_function, metrics=[accuracy])\n",
    "hist = model.fit(dataset, epochs=EPOCHS, verbose=0, callbacks=[everyfive])\n",
    "\n",
    "print()\n",
    "print(f\"loss: {hist.history['loss'][-1]:.4f} - accuracy: {hist.history['accuracy'][-1]:.4f}\")\n",
    "print()\n",
    "\n",
    "for test in test_input:\n",
    "    none = sentence_generation(test)\n",
    "    print()"
   ]
  },
  {
   "cell_type": "markdown",
   "id": "0d5bd8da",
   "metadata": {},
   "source": [
    "1. 3\uc810 / 2. 0\uc810 / 3. 0\uc810 / 4. 0\uc810 / 5. 0\uc810 / 6. 1\uc810 / 7. 0\uc810 / 8. 3\uc810 / 9. 3\uc810 / 10. 0\uc810\n",
    "\n",
    "\ucd1d\uc810: 3 + 1 + 3 + 3 = 10\uc810(/30\uc810)"
   ]
  },
  {
   "cell_type": "markdown",
   "id": "3ad4c48e",
   "metadata": {},
   "source": [
    "### \ucd94\uac00 \ubaa8\ub378 \ud0d0\uc0c9 \uacb0\uacfc\n",
    "\n",
    "| NUM_LAYERS | D_MODEL | accuracy | \uc810\uc218 |\n",
    "| --- | --- | --- | --- |\n",
    "| 1 | 512 | **54.14%** | 10 |\n",
    "| 1 | 1024 | 54.09% | 11 ||\n",
    "| 2 | 512 | 54.10% | **15** |\n",
    "| 2 | 1024 | 54.06% | 9 |\n",
    "| 4 | 512 | 53.99% | 9 |\n",
    "| 4 | 1024 | 53.96% | 10 |\n",
    "\n",
    "- NUM_LAYERS\ub97c 2\ub85c, D_MODEL\uc744 512\ub85c \uc124\uc815\ud55c \ubaa8\ub378\uc740 \uc815\ud655\ub3c4\uac00 \uac00\uc7a5 \ub192\uc9c0\ub294 \uc54a\uc558\uc9c0\ub9cc \uc810\uc218\uac00 \uac00\uc7a5 \ub192\uc558\uc2b5\ub2c8\ub2e4."
   ]
  },
  {
   "cell_type": "markdown",
   "id": "480e43ef",
   "metadata": {},
   "source": [
    "## \uacb0\ub860\n",
    "\n",
    "```\n",
    "\uc785\ub825: \ubc18\uac00\uc6cc!\n",
    "\ucd9c\ub825: \ubc18\uac11\uc2b5\ub2c8\ub2e4 .\n",
    "\n",
    "\uc785\ub825: \uc624\ub298 \ub0a0\uc528\uac00 \uc88b\uc544!\n",
    "\ucd9c\ub825: \uc9d1\ubc16\uc5d0 \ub098\uac00\uae30\uac00 \ud798\ub4e4\uac83 \uac19\uc544\uc694 .\n",
    "\n",
    "\uc785\ub825: \uc694\uc998 \uc5b4\ub54c?\n",
    "\ucd9c\ub825: \uc800\ub3c4 \ub4e3\uace0 \uc2f6\uc5b4\uc694 .\n",
    "\n",
    "\uc785\ub825: \ub9db\uc810\ud574!\n",
    "\ucd9c\ub825: \ub9db\uc788\ub294 \uac70 \ub4dc\uc138\uc694 .\n",
    "\n",
    "\uc785\ub825: \uac19\uc774 \ubc25 \uba39\uc744\ub798\uc694?\n",
    "\ucd9c\ub825: \uc190\uc218\uac74 \uc900\ube44\ud560\uac8c\uc694 .\n",
    "\n",
    "\uc785\ub825: \uc694\uc998 \uc544\uce68\uc5d0 \uc6b4\ub3d9\uc744 \ud558\uace0 \uc788\uc5b4.\n",
    "\ucd9c\ub825: \uace0\uc0dd\ud588\uc5b4\uc694 .\n",
    "\n",
    "\uc785\ub825: \uc9c0\uae08 \uce58\ud0a8\uc744 \uc2dc\ucf1c\ub3c4 \ub420\uae4c?\n",
    "\ucd9c\ub825: \uac19\uc774 \uc0b4\uc790\uace0 \ud504\ub85c\ud3ec\uc988 \ud574\ubcf4\uc138\uc694 .\n",
    "\n",
    "\uc785\ub825: \uafc8\uc744 \uafe8\uc5b4\uc694.\n",
    "\ucd9c\ub825: \ub9ce\uc774 \uc0dd\uac01\ud588\ub098\ubd10\uc694 .\n",
    "\n",
    "\uc785\ub825: \uafc8\uc740 \ub3c4\ub9dd\uac00\uc9c0 \uc54a\uc544\n",
    "\ucd9c\ub825: \ucc28\uadfc\ucc28\uadfc \uc774\ub904\ubcf4\uc544\uc694 .\n",
    "\n",
    "\uc785\ub825: \ucee4\ud53c \ud55c\uc794 \ud560\ub798\uc694?\n",
    "\ucd9c\ub825: \ucee4\ud53c\ub294 \uc140\ud504\uc600\uc73c\uba74 \uc88b\uaca0\uc5b4\uc694 .\n",
    "```\n",
    "\n",
    "- \ud14c\uc2a4\ud2b8\ub97c \uc704\ud574 \uc900\ube44\ud55c \ubaa8\ub4e0 \ubb38\uc7a5\uc5d0 \ub300\ud574 \uc801\uc808\ud55c \ub2f5\ubcc0\uc744 \uc608\uce21\ud558\uc9c0\ub294 \ubabb\ud588\uc9c0\ub9cc, \uc77c\ubd80 \ubb38\uc7a5\uc5d0 \ub300\ud574 \uc88b\uc740 \ub2f5\ubcc0\uc744 \uc608\uce21\ud558\uc600\uc73c\uba70 \ubb38\uc7a5\uc774 \uc5b4\uc0c9\ud55c \uacbd\uc6b0\ub294 \uc5c6\uc5c8\uc2b5\ub2c8\ub2e4.\n",
    "- \uc131\ub2a5 \ud3c9\uac00\ub97c \uc704\ud574 \uc8fc\uad00\uc801\uc778 \ud310\ub2e8\uc774 \ud3ec\ud568\ub41c \ud3c9\uac00 \uae30\uc900\uc744 \ub9cc\ub4e4\uc5b4 \ubaa8\ub378\uc744 \ud3c9\uac00\ud558\uace0 \uc88b\uc740 \uc131\ub2a5\uc758 \ubaa8\ub378\uc744 \ud0d0\uc0c9\ud560 \uc218 \uc788\uc5c8\uc2b5\ub2c8\ub2e4.\n",
    "- \ud559\uc2b5 \ub370\uc774\ud130\uac00 \uc57d 12,000\uac1c\ub85c \ub300\ub7c9\uc758 \ub370\uc774\ud130\ub294 \uc544\ub2c8\uc5c8\uae30\uc5d0 \ub370\uc774\ud130 \ubd80\uc871\uc73c\ub85c \uc778\ud55c \uc131\ub2a5\uc758 \ud55c\uacc4\ub3c4 \uc608\uc0c1\ud560 \uc218 \uc788\uc2b5\ub2c8\ub2e4.\n",
    "- \uc131\ub2a5 \ud3c9\uac00\ub97c \uc704\ud574 \uc8fc\uad00\uc801\uc778 \ud310\ub2e8\uc774 \ud3ec\ud568\ub41c \ud3c9\uac00 \uae30\uc900\uc744 \ub9cc\ub4e4\uc5c8\uc9c0\ub9cc, \ubaa8\ub378\uc758 \uc131\ub2a5\uc744 \uac1d\uad00\uc801\uc73c\ub85c \ud3c9\uac00\ud560 \uc9c0\ud45c\uac00 \uc5c6\ub2e4\ub294 \uc810\uc5d0 \ub300\ud574\uc11c\ub294 \ucd94\uac00\uc801\uc778 \uace0\ucc30\uc774 \ud544\uc694\ud569\ub2c8\ub2e4.\n",
    "    - \ub370\uc774\ud130\ub97c 1\uc778\uc774 \uc218\uc9d1\ud558\uc5ec \uac00\uacf5\ud55c \uac83\uc73c\ub85c \uac1c\uc778\uc758 \uc8fc\uad00\uc774 \ub9ce\uc774 \ub4e4\uc5b4\uac00 \uc788\uc744 \uac83\uc73c\ub85c \uc0dd\uac01\ub429\ub2c8\ub2e4. \ub530\ub77c\uc11c \ubaa8\ub378\uc758 \uc608\uce21 \uacbd\ud5a5\uc774 \ub370\uc774\ud130 \uc218\uc9d1 \uc8fc\uccb4\uc758 \uc8fc\uad00\uc744 \ub530\ub77c\uac00\ub294 \uacbd\ud5a5\uc774 \uc788\uc744 \uac00\ub2a5\uc131\uc774 \ub192\uc2b5\ub2c8\ub2e4. \n",
    "    - \uc131\ub2a5 \ud3c9\uac00\ub97c \uc704\ud574 \uc124\uc815\ud55c \uc810\uc218 \uc5ed\uc2dc \ubcf8\uc778\uc758 \uc8fc\uad00\uc774 \ub9ce\uc774 \ubc18\uc601\ub418\uc5b4 \uc788\uc2b5\ub2c8\ub2e4.\n",
    "    - \uc774\ub7ec\ud55c \uac1c\uac1c\uc778\uc758 \uc8fc\uad00\uc774\ub098 \uacbd\ud5a5\uc774 \ubbf8\uce58\ub294 \uc601\ud5a5\uc744 \uc904\uc774\uae30 \uc704\ud574\uc11c\ub294 \ub2e4\uc591\ud55c \ucd9c\ucc98\uc5d0\uc11c \ud68d\ub4dd\ud55c \ub300\ub7c9\uc758 \ub370\uc774\ud130\uc14b\uc744 \uc0ac\uc6a9\ud558\uace0, \ub9ce\uc740 \uc0ac\ub78c\ub4e4\uc758 \uc8fc\uad00\uc801\uc778 \uc131\ub2a5 \ud3c9\uac00\ub97c \ud1b5\ud574 \uac1d\uad00\uc131\uc744 \ud655\ubcf4\ud574\uc57c \ud569\ub2c8\ub2e4."
   ]
  },
  {
   "cell_type": "markdown",
   "id": "7e9e5846",
   "metadata": {},
   "source": [
    "## \ub8e8\ube0c\ub9ad\n",
    "\n",
    "|\ud3c9\uac00\ubb38\ud56d|\uc0c1\uc138\uae30\uc900|\n",
    "|---|---|\n",
    "|1. \ud55c\uad6d\uc5b4 \uc804\ucc98\ub9ac\ub97c \ud1b5\ud574 \ud559\uc2b5 \ub370\uc774\ud130\uc14b\uc744 \uad6c\ucd95\ud558\uc600\ub2e4.|\uacf5\ubc31\uacfc \ud2b9\uc218\ubb38\uc790 \ucc98\ub9ac, \ud1a0\ud06c\ub098\uc774\uc9d5, \ubcd1\ub82c\ub370\uc774\ud130 \uad6c\ucd95\uc758 \uacfc\uc815\uc774 \uc801\uc808\ud788 \uc9c4\ud589\ub418\uc5c8\ub2e4.|\n",
    "|2. \ud2b8\ub79c\uc2a4\ud3ec\uba38 \ubaa8\ub378\uc744 \uad6c\ud604\ud558\uc5ec \ud55c\uad6d\uc5b4 \ucc57\ubd07 \ubaa8\ub378 \ud559\uc2b5\uc744 \uc815\uc0c1\uc801\uc73c\ub85c \uc9c4\ud589\ud558\uc600\ub2e4.|\uad6c\ud604\ud55c \ud2b8\ub79c\uc2a4\ud3ec\uba38 \ubaa8\ub378\uc774 \ud55c\uad6d\uc5b4 \ubcd1\ub82c \ub370\uc774\ud130 \ud559\uc2b5 \uc2dc \uc548\uc815\uc801\uc73c\ub85c \uc218\ub834\ud558\uc600\ub2e4.|\n",
    "|3. \ud55c\uad6d\uc5b4 \uc785\ub825\ubb38\uc7a5\uc5d0 \ub300\ud574 \ud55c\uad6d\uc5b4\ub85c \ub2f5\ubcc0\ud558\ub294 \ud568\uc218\ub97c \uad6c\ud604\ud558\uc600\ub2e4.|\ud55c\uad6d\uc5b4 \uc785\ub825\ubb38\uc7a5\uc5d0 \uadf8\ub7f4\ub4ef\ud55c \ud55c\uad6d\uc5b4\ub85c \ub2f5\ubcc0\uc744 \ub9ac\ud134\ud558\uc600\ub2e4.|"
   ]
  },
  {
   "cell_type": "markdown",
   "id": "2c04b047",
   "metadata": {},
   "source": [
    "### \ub8e8\ube0c\ub9ad \uc790\uccb4\ud3c9\uac00"
   ]
  },
  {
   "cell_type": "markdown",
   "id": "b23c6c74",
   "metadata": {},
   "source": [
    "1. \uacf5\ubc31\uacfc \ubb38\uc7a5 \uae30\ud638\uc758 \uc804\ucc98\ub9ac, \ud1a0\ud070\ud654\uc758 \uacfc\uc815\uc744 \uc218\ud589\ud558\uc600\ub2e4.\n",
    "2. \ud2b8\ub79c\uc2a4\ud3ec\uba38 \ubaa8\ub378\uc758 \ud559\uc2b5\uc774 \uc131\uacf5\uc801\uc73c\ub85c \uc9c4\ud589\ub418\uc5c8\ub2e4.\n",
    "3. \ud55c\uad6d\uc5b4 \uc785\ub825 \ubb38\uc7a5\uc5d0 \uc801\uc808\ud55c \ub2f5\ubcc0\uc744 \uc608\uce21\ud558\uc600\ub2e4."
   ]
  }
 ],
 "metadata": {
  "kernelspec": {
   "display_name": "Python 3 (ipykernel)",
   "language": "python",
   "name": "python3"
  },
  "language_info": {
   "codemirror_mode": {
    "name": "ipython",
    "version": 3
   },
   "file_extension": ".py",
   "mimetype": "text/x-python",
   "name": "python",
   "nbconvert_exporter": "python",
   "pygments_lexer": "ipython3",
   "version": "3.9.7"
  }
 },
 "nbformat": 4,
 "nbformat_minor": 5
}