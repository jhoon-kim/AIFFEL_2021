{
 "cells": [
  {
   "cell_type": "markdown",
   "metadata": {},
   "source": [
    "# 8.뉴스 요약봇 만들기"
   ]
  },
  {
   "cell_type": "code",
   "execution_count": 1,
   "metadata": {},
   "outputs": [
    {
     "name": "stdout",
     "output_type": "stream",
     "text": [
      "Requirement already satisfied: keras-tuner in /opt/conda/lib/python3.9/site-packages (1.1.0)\n",
      "Requirement already satisfied: kt-legacy in /opt/conda/lib/python3.9/site-packages (from keras-tuner) (1.0.4)\n",
      "Requirement already satisfied: scipy in /opt/conda/lib/python3.9/site-packages (from keras-tuner) (1.7.1)\n",
      "Requirement already satisfied: numpy in /opt/conda/lib/python3.9/site-packages (from keras-tuner) (1.21.4)\n",
      "Requirement already satisfied: packaging in /opt/conda/lib/python3.9/site-packages (from keras-tuner) (21.3)\n",
      "Requirement already satisfied: requests in /opt/conda/lib/python3.9/site-packages (from keras-tuner) (2.26.0)\n",
      "Requirement already satisfied: ipython in /opt/conda/lib/python3.9/site-packages (from keras-tuner) (7.28.0)\n",
      "Requirement already satisfied: tensorboard in /opt/conda/lib/python3.9/site-packages (from keras-tuner) (2.7.0)\n",
      "Requirement already satisfied: backcall in /opt/conda/lib/python3.9/site-packages (from ipython->keras-tuner) (0.2.0)\n",
      "Requirement already satisfied: prompt-toolkit!=3.0.0,!=3.0.1,<3.1.0,>=2.0.0 in /opt/conda/lib/python3.9/site-packages (from ipython->keras-tuner) (3.0.22)\n",
      "Requirement already satisfied: pygments in /opt/conda/lib/python3.9/site-packages (from ipython->keras-tuner) (2.10.0)\n",
      "Requirement already satisfied: jedi>=0.16 in /opt/conda/lib/python3.9/site-packages (from ipython->keras-tuner) (0.18.1)\n",
      "Requirement already satisfied: setuptools>=18.5 in /opt/conda/lib/python3.9/site-packages (from ipython->keras-tuner) (59.4.0)\n",
      "Requirement already satisfied: pickleshare in /opt/conda/lib/python3.9/site-packages (from ipython->keras-tuner) (0.7.5)\n",
      "Requirement already satisfied: decorator in /opt/conda/lib/python3.9/site-packages (from ipython->keras-tuner) (4.4.2)\n",
      "Requirement already satisfied: traitlets>=4.2 in /opt/conda/lib/python3.9/site-packages (from ipython->keras-tuner) (5.1.1)\n",
      "Requirement already satisfied: matplotlib-inline in /opt/conda/lib/python3.9/site-packages (from ipython->keras-tuner) (0.1.3)\n",
      "Requirement already satisfied: pexpect>4.3 in /opt/conda/lib/python3.9/site-packages (from ipython->keras-tuner) (4.8.0)\n",
      "Requirement already satisfied: pyparsing!=3.0.5,>=2.0.2 in /opt/conda/lib/python3.9/site-packages (from packaging->keras-tuner) (3.0.6)\n",
      "Requirement already satisfied: certifi>=2017.4.17 in /opt/conda/lib/python3.9/site-packages (from requests->keras-tuner) (2021.10.8)\n",
      "Requirement already satisfied: idna<4,>=2.5 in /opt/conda/lib/python3.9/site-packages (from requests->keras-tuner) (2.10)\n",
      "Requirement already satisfied: urllib3<1.27,>=1.21.1 in /opt/conda/lib/python3.9/site-packages (from requests->keras-tuner) (1.26.7)\n",
      "Requirement already satisfied: charset-normalizer~=2.0.0 in /opt/conda/lib/python3.9/site-packages (from requests->keras-tuner) (2.0.8)\n",
      "Requirement already satisfied: grpcio>=1.24.3 in /opt/conda/lib/python3.9/site-packages (from tensorboard->keras-tuner) (1.42.0)\n",
      "Requirement already satisfied: tensorboard-plugin-wit>=1.6.0 in /opt/conda/lib/python3.9/site-packages (from tensorboard->keras-tuner) (1.8.0)\n",
      "Requirement already satisfied: google-auth<3,>=1.6.3 in /opt/conda/lib/python3.9/site-packages (from tensorboard->keras-tuner) (2.3.3)\n",
      "Requirement already satisfied: wheel>=0.26 in /opt/conda/lib/python3.9/site-packages (from tensorboard->keras-tuner) (0.37.0)\n",
      "Requirement already satisfied: protobuf>=3.6.0 in /opt/conda/lib/python3.9/site-packages (from tensorboard->keras-tuner) (3.19.1)\n",
      "Requirement already satisfied: werkzeug>=0.11.15 in /opt/conda/lib/python3.9/site-packages (from tensorboard->keras-tuner) (2.0.2)\n",
      "Requirement already satisfied: absl-py>=0.4 in /opt/conda/lib/python3.9/site-packages (from tensorboard->keras-tuner) (0.12.0)\n",
      "Requirement already satisfied: markdown>=2.6.8 in /opt/conda/lib/python3.9/site-packages (from tensorboard->keras-tuner) (3.3.6)\n",
      "Requirement already satisfied: tensorboard-data-server<0.7.0,>=0.6.0 in /opt/conda/lib/python3.9/site-packages (from tensorboard->keras-tuner) (0.6.1)\n",
      "Requirement already satisfied: google-auth-oauthlib<0.5,>=0.4.1 in /opt/conda/lib/python3.9/site-packages (from tensorboard->keras-tuner) (0.4.6)\n",
      "Requirement already satisfied: six in /opt/conda/lib/python3.9/site-packages (from absl-py>=0.4->tensorboard->keras-tuner) (1.16.0)\n",
      "Requirement already satisfied: rsa<5,>=3.1.4 in /opt/conda/lib/python3.9/site-packages (from google-auth<3,>=1.6.3->tensorboard->keras-tuner) (4.8)\n",
      "Requirement already satisfied: pyasn1-modules>=0.2.1 in /opt/conda/lib/python3.9/site-packages (from google-auth<3,>=1.6.3->tensorboard->keras-tuner) (0.2.8)\n",
      "Requirement already satisfied: cachetools<5.0,>=2.0.0 in /opt/conda/lib/python3.9/site-packages (from google-auth<3,>=1.6.3->tensorboard->keras-tuner) (4.2.4)\n",
      "Requirement already satisfied: requests-oauthlib>=0.7.0 in /opt/conda/lib/python3.9/site-packages (from google-auth-oauthlib<0.5,>=0.4.1->tensorboard->keras-tuner) (1.3.0)\n",
      "Requirement already satisfied: parso<0.9.0,>=0.8.0 in /opt/conda/lib/python3.9/site-packages (from jedi>=0.16->ipython->keras-tuner) (0.8.3)\n",
      "Requirement already satisfied: importlib-metadata>=4.4 in /opt/conda/lib/python3.9/site-packages (from markdown>=2.6.8->tensorboard->keras-tuner) (4.8.2)\n",
      "Requirement already satisfied: ptyprocess>=0.5 in /opt/conda/lib/python3.9/site-packages (from pexpect>4.3->ipython->keras-tuner) (0.7.0)\n",
      "Requirement already satisfied: wcwidth in /opt/conda/lib/python3.9/site-packages (from prompt-toolkit!=3.0.0,!=3.0.1,<3.1.0,>=2.0.0->ipython->keras-tuner) (0.2.5)\n",
      "Requirement already satisfied: zipp>=0.5 in /opt/conda/lib/python3.9/site-packages (from importlib-metadata>=4.4->markdown>=2.6.8->tensorboard->keras-tuner) (3.6.0)\n",
      "Requirement already satisfied: pyasn1<0.5.0,>=0.4.6 in /opt/conda/lib/python3.9/site-packages (from pyasn1-modules>=0.2.1->google-auth<3,>=1.6.3->tensorboard->keras-tuner) (0.4.8)\n",
      "Requirement already satisfied: oauthlib>=3.0.0 in /opt/conda/lib/python3.9/site-packages (from requests-oauthlib>=0.7.0->google-auth-oauthlib<0.5,>=0.4.1->tensorboard->keras-tuner) (3.1.1)\n",
      "\u001b[33mWARNING: Running pip as the 'root' user can result in broken permissions and conflicting behaviour with the system package manager. It is recommended to use a virtual environment instead: https://pip.pypa.io/warnings/venv\u001b[0m\n"
     ]
    }
   ],
   "source": [
    "! pip install keras-tuner"
   ]
  },
  {
   "cell_type": "markdown",
   "metadata": {},
   "source": [
    "## 데이터 준비\n",
    "뉴스 요약에 사용하고자 하는 [데이터](https://github.com/sunnysai12345/News_Summary)는 2017년 2월부터 8월 사이에 `The Hindu`, `Indiantimes`와 `Guardian`지에 실린 기사를 수집한 것입니다.  \n",
    "데이터의 출처가 인도 언론임을 감안하고 데이터를 사용해야 할 것으로 보입니다.\n"
   ]
  },
  {
   "cell_type": "code",
   "execution_count": 2,
   "metadata": {},
   "outputs": [],
   "source": [
    "import pandas as pd\n",
    "import urllib.request\n",
    "\n",
    "\n",
    "urllib.request.urlretrieve(\n",
    "    \"https://raw.githubusercontent.com/sunnysai12345/News_Summary/master/news_summary_more.csv\",\n",
    "    filename=\"news_summary_more.csv\",\n",
    ")\n",
    "data = pd.read_csv(\"news_summary_more.csv\", encoding=\"iso-8859-1\")"
   ]
  },
  {
   "cell_type": "code",
   "execution_count": 3,
   "metadata": {},
   "outputs": [
    {
     "name": "stdout",
     "output_type": "stream",
     "text": [
      "98401\n"
     ]
    },
    {
     "data": {
      "text/html": [
       "<div>\n",
       "<style scoped>\n",
       "    .dataframe tbody tr th:only-of-type {\n",
       "        vertical-align: middle;\n",
       "    }\n",
       "\n",
       "    .dataframe tbody tr th {\n",
       "        vertical-align: top;\n",
       "    }\n",
       "\n",
       "    .dataframe thead th {\n",
       "        text-align: right;\n",
       "    }\n",
       "</style>\n",
       "<table border=\"1\" class=\"dataframe\">\n",
       "  <thead>\n",
       "    <tr style=\"text-align: right;\">\n",
       "      <th></th>\n",
       "      <th>headlines</th>\n",
       "      <th>text</th>\n",
       "    </tr>\n",
       "  </thead>\n",
       "  <tbody>\n",
       "    <tr>\n",
       "      <th>85878</th>\n",
       "      <td>CEATÃ¢ÂÂs new witty videos can help you save...</td>\n",
       "      <td>CEAT Tyres has released a new range of light-h...</td>\n",
       "    </tr>\n",
       "    <tr>\n",
       "      <th>9189</th>\n",
       "      <td>RBI board's decisions will be positive for eco...</td>\n",
       "      <td>Kotak Mahindra Bank's MD and CEO Uday Kotak we...</td>\n",
       "    </tr>\n",
       "    <tr>\n",
       "      <th>77495</th>\n",
       "      <td>Wells Fargo cuts 69 top executive jobs post ac...</td>\n",
       "      <td>US bank Wells Fargo, recently hit by a fraudul...</td>\n",
       "    </tr>\n",
       "    <tr>\n",
       "      <th>51516</th>\n",
       "      <td>In the end, truth wins: Delhi CM on 'office of...</td>\n",
       "      <td>Delhi Chief Minister Arvind Kejriwal on Friday...</td>\n",
       "    </tr>\n",
       "    <tr>\n",
       "      <th>6147</th>\n",
       "      <td>Made my peace with her: Deepika on Katrina att...</td>\n",
       "      <td>Talking about her relationship with Katrina Ka...</td>\n",
       "    </tr>\n",
       "    <tr>\n",
       "      <th>56751</th>\n",
       "      <td>Do not enjoy dealing with Pakistan: US State Secy</td>\n",
       "      <td>US State Secretary Rex Tillerson has said that...</td>\n",
       "    </tr>\n",
       "    <tr>\n",
       "      <th>52254</th>\n",
       "      <td>FBI once sent letter to Martin Luther urging h...</td>\n",
       "      <td>American civil rights activist Martin Luther K...</td>\n",
       "    </tr>\n",
       "    <tr>\n",
       "      <th>84847</th>\n",
       "      <td>Waves hit journo reporting about 'destructive'...</td>\n",
       "      <td>A Kerala journalist was hit by waves from the ...</td>\n",
       "    </tr>\n",
       "    <tr>\n",
       "      <th>60802</th>\n",
       "      <td>Pakistan fired 500 missiles in our territory: ...</td>\n",
       "      <td>Afghanistan on Wednesday said Pakistan fired o...</td>\n",
       "    </tr>\n",
       "    <tr>\n",
       "      <th>72120</th>\n",
       "      <td>CPI-M chooses CM of 19 years as candidate for ...</td>\n",
       "      <td>The Communist Party of India-Marxist (CPI-M) h...</td>\n",
       "    </tr>\n",
       "  </tbody>\n",
       "</table>\n",
       "</div>"
      ],
      "text/plain": [
       "                                               headlines  \\\n",
       "85878  CEATÃ¢ÂÂs new witty videos can help you save...   \n",
       "9189   RBI board's decisions will be positive for eco...   \n",
       "77495  Wells Fargo cuts 69 top executive jobs post ac...   \n",
       "51516  In the end, truth wins: Delhi CM on 'office of...   \n",
       "6147   Made my peace with her: Deepika on Katrina att...   \n",
       "56751  Do not enjoy dealing with Pakistan: US State Secy   \n",
       "52254  FBI once sent letter to Martin Luther urging h...   \n",
       "84847  Waves hit journo reporting about 'destructive'...   \n",
       "60802  Pakistan fired 500 missiles in our territory: ...   \n",
       "72120  CPI-M chooses CM of 19 years as candidate for ...   \n",
       "\n",
       "                                                    text  \n",
       "85878  CEAT Tyres has released a new range of light-h...  \n",
       "9189   Kotak Mahindra Bank's MD and CEO Uday Kotak we...  \n",
       "77495  US bank Wells Fargo, recently hit by a fraudul...  \n",
       "51516  Delhi Chief Minister Arvind Kejriwal on Friday...  \n",
       "6147   Talking about her relationship with Katrina Ka...  \n",
       "56751  US State Secretary Rex Tillerson has said that...  \n",
       "52254  American civil rights activist Martin Luther K...  \n",
       "84847  A Kerala journalist was hit by waves from the ...  \n",
       "60802  Afghanistan on Wednesday said Pakistan fired o...  \n",
       "72120  The Communist Party of India-Marxist (CPI-M) h...  "
      ]
     },
     "execution_count": 3,
     "metadata": {},
     "output_type": "execute_result"
    }
   ],
   "source": [
    "print(len(data))\n",
    "data.sample(10, random_state=2049)"
   ]
  },
  {
   "cell_type": "markdown",
   "metadata": {},
   "source": [
    "데이터는 총 98401개의 헤드라인과 본문으로 구성되어 있습니다.  \n",
    "인코딩 문제로 정상적으로 출력되지 않는 글자들이 보입니다. 또한 문장 부호와 숫자들이 존재합니다.  \n",
    "해당 데이터에 대해 추후 전처리가 필요합니다."
   ]
  },
  {
   "cell_type": "code",
   "execution_count": 4,
   "metadata": {},
   "outputs": [
    {
     "name": "stdout",
     "output_type": "stream",
     "text": [
      "Tabu, who played dark characters in films like 'Maachis', 'Haider' and 'AndhaDhun', said, \"Playing dark characters has become a thing now for female actors. When I was doing it, no one else was.\" \"It was not that I was trying to break the glass ceiling. Ye sab bas hota gaya and female characters ke liye base banta gaya,\" she added.\n",
      "\n",
      "Following Atal Bihari Vajpayee's demise, Sachin Tendulkar tweeted, \"India is at a great loss today.Shri #AtalBihariVajpayee ji's contributions to our nation have been innumerable.\" \"Asaman ko choo gaya, jo asmaan sa vishal tha, dharti mein simat gaya, jo mitti jaisa narm tha. Kaun hai jo Atal reh paya zindagi bhar, Atal banke wo zindagi ko paa gaya,\" Virender Sehwag tweeted.\n",
      "\n"
     ]
    }
   ],
   "source": [
    "for i in [1188, 21325]:  # 1193\n",
    "    print(data[\"text\"][i])\n",
    "    print()"
   ]
  },
  {
   "cell_type": "markdown",
   "metadata": {},
   "source": [
    "많은 단어들이 영어로 되어있지만, 문장이나 발언을 인용하는 경우 힌디어와 영어가 합성된 \"[Hinglish](https://en.wikipedia.org/wiki/Hinglish)\"가 발견됩니다.\n",
    "해당 언어에 대한 불용어 처리도 필요하다고 판단됩니다."
   ]
  },
  {
   "cell_type": "code",
   "execution_count": 5,
   "metadata": {},
   "outputs": [
    {
     "name": "stdout",
     "output_type": "stream",
     "text": [
      "98280\n",
      "98360\n"
     ]
    }
   ],
   "source": [
    "print(data[\"headlines\"].nunique())\n",
    "print(data[\"text\"].nunique())"
   ]
  },
  {
   "cell_type": "markdown",
   "metadata": {},
   "source": [
    "헤드라인에 대해서는 중복이 존재할 수 있으나, 본문에 대한 중복은 피하는 편이 좋으니 제거합니다."
   ]
  },
  {
   "cell_type": "code",
   "execution_count": 6,
   "metadata": {},
   "outputs": [
    {
     "name": "stdout",
     "output_type": "stream",
     "text": [
      "98360\n"
     ]
    }
   ],
   "source": [
    "data.drop_duplicates(subset=[\"text\"], inplace=True)\n",
    "print(len(data))"
   ]
  },
  {
   "cell_type": "code",
   "execution_count": 7,
   "metadata": {
    "scrolled": true
   },
   "outputs": [
    {
     "name": "stdout",
     "output_type": "stream",
     "text": [
      "headlines    0\n",
      "text         0\n",
      "dtype: int64\n"
     ]
    }
   ],
   "source": [
    "print(data.isnull().sum())"
   ]
  },
  {
   "cell_type": "markdown",
   "metadata": {},
   "source": [
    "데이터셋에 null 샘플은 존재하지 않아 별도의 처리가 필요하지 않습니다."
   ]
  },
  {
   "cell_type": "markdown",
   "metadata": {},
   "source": [
    "## 데이터 전처리"
   ]
  },
  {
   "cell_type": "markdown",
   "metadata": {},
   "source": [
    "동일한 의미를 나타내는 단어들을 동일한 형태로 변환시켜주는 텍스트 정규화를 준비합니다."
   ]
  },
  {
   "cell_type": "code",
   "execution_count": 8,
   "metadata": {},
   "outputs": [
    {
     "name": "stdout",
     "output_type": "stream",
     "text": [
      "정규화 사전의 수:  120\n"
     ]
    }
   ],
   "source": [
    "contractions = {\n",
    "    \"ain't\": \"is not\",\n",
    "    \"aren't\": \"are not\",\n",
    "    \"can't\": \"cannot\",\n",
    "    \"'cause\": \"because\",\n",
    "    \"could've\": \"could have\",\n",
    "    \"couldn't\": \"could not\",\n",
    "    \"didn't\": \"did not\",\n",
    "    \"doesn't\": \"does not\",\n",
    "    \"don't\": \"do not\",\n",
    "    \"hadn't\": \"had not\",\n",
    "    \"hasn't\": \"has not\",\n",
    "    \"haven't\": \"have not\",\n",
    "    \"he'd\": \"he would\",\n",
    "    \"he'll\": \"he will\",\n",
    "    \"he's\": \"he is\",\n",
    "    \"how'd\": \"how did\",\n",
    "    \"how'd'y\": \"how do you\",\n",
    "    \"how'll\": \"how will\",\n",
    "    \"how's\": \"how is\",\n",
    "    \"I'd\": \"I would\",\n",
    "    \"I'd've\": \"I would have\",\n",
    "    \"I'll\": \"I will\",\n",
    "    \"I'll've\": \"I will have\",\n",
    "    \"I'm\": \"I am\",\n",
    "    \"I've\": \"I have\",\n",
    "    \"i'd\": \"i would\",\n",
    "    \"i'd've\": \"i would have\",\n",
    "    \"i'll\": \"i will\",\n",
    "    \"i'll've\": \"i will have\",\n",
    "    \"i'm\": \"i am\",\n",
    "    \"i've\": \"i have\",\n",
    "    \"isn't\": \"is not\",\n",
    "    \"it'd\": \"it would\",\n",
    "    \"it'd've\": \"it would have\",\n",
    "    \"it'll\": \"it will\",\n",
    "    \"it'll've\": \"it will have\",\n",
    "    \"it's\": \"it is\",\n",
    "    \"let's\": \"let us\",\n",
    "    \"ma'am\": \"madam\",\n",
    "    \"mayn't\": \"may not\",\n",
    "    \"might've\": \"might have\",\n",
    "    \"mightn't\": \"might not\",\n",
    "    \"mightn't've\": \"might not have\",\n",
    "    \"must've\": \"must have\",\n",
    "    \"mustn't\": \"must not\",\n",
    "    \"mustn't've\": \"must not have\",\n",
    "    \"needn't\": \"need not\",\n",
    "    \"needn't've\": \"need not have\",\n",
    "    \"o'clock\": \"of the clock\",\n",
    "    \"oughtn't\": \"ought not\",\n",
    "    \"oughtn't've\": \"ought not have\",\n",
    "    \"shan't\": \"shall not\",\n",
    "    \"sha'n't\": \"shall not\",\n",
    "    \"shan't've\": \"shall not have\",\n",
    "    \"she'd\": \"she would\",\n",
    "    \"she'd've\": \"she would have\",\n",
    "    \"she'll\": \"she will\",\n",
    "    \"she'll've\": \"she will have\",\n",
    "    \"she's\": \"she is\",\n",
    "    \"should've\": \"should have\",\n",
    "    \"shouldn't\": \"should not\",\n",
    "    \"shouldn't've\": \"should not have\",\n",
    "    \"so've\": \"so have\",\n",
    "    \"so's\": \"so as\",\n",
    "    \"this's\": \"this is\",\n",
    "    \"that'd\": \"that would\",\n",
    "    \"that'd've\": \"that would have\",\n",
    "    \"that's\": \"that is\",\n",
    "    \"there'd\": \"there would\",\n",
    "    \"there'd've\": \"there would have\",\n",
    "    \"there's\": \"there is\",\n",
    "    \"here's\": \"here is\",\n",
    "    \"they'd\": \"they would\",\n",
    "    \"they'd've\": \"they would have\",\n",
    "    \"they'll\": \"they will\",\n",
    "    \"they'll've\": \"they will have\",\n",
    "    \"they're\": \"they are\",\n",
    "    \"they've\": \"they have\",\n",
    "    \"to've\": \"to have\",\n",
    "    \"wasn't\": \"was not\",\n",
    "    \"we'd\": \"we would\",\n",
    "    \"we'd've\": \"we would have\",\n",
    "    \"we'll\": \"we will\",\n",
    "    \"we'll've\": \"we will have\",\n",
    "    \"we're\": \"we are\",\n",
    "    \"we've\": \"we have\",\n",
    "    \"weren't\": \"were not\",\n",
    "    \"what'll\": \"what will\",\n",
    "    \"what'll've\": \"what will have\",\n",
    "    \"what're\": \"what are\",\n",
    "    \"what's\": \"what is\",\n",
    "    \"what've\": \"what have\",\n",
    "    \"when's\": \"when is\",\n",
    "    \"when've\": \"when have\",\n",
    "    \"where'd\": \"where did\",\n",
    "    \"where's\": \"where is\",\n",
    "    \"where've\": \"where have\",\n",
    "    \"who'll\": \"who will\",\n",
    "    \"who'll've\": \"who will have\",\n",
    "    \"who's\": \"who is\",\n",
    "    \"who've\": \"who have\",\n",
    "    \"why's\": \"why is\",\n",
    "    \"why've\": \"why have\",\n",
    "    \"will've\": \"will have\",\n",
    "    \"won't\": \"will not\",\n",
    "    \"won't've\": \"will not have\",\n",
    "    \"would've\": \"would have\",\n",
    "    \"wouldn't\": \"would not\",\n",
    "    \"wouldn't've\": \"would not have\",\n",
    "    \"y'all\": \"you all\",\n",
    "    \"y'all'd\": \"you all would\",\n",
    "    \"y'all'd've\": \"you all would have\",\n",
    "    \"y'all're\": \"you all are\",\n",
    "    \"y'all've\": \"you all have\",\n",
    "    \"you'd\": \"you would\",\n",
    "    \"you'd've\": \"you would have\",\n",
    "    \"you'll\": \"you will\",\n",
    "    \"you'll've\": \"you will have\",\n",
    "    \"you're\": \"you are\",\n",
    "    \"you've\": \"you have\",\n",
    "}\n",
    "\n",
    "print(\"정규화 사전의 수: \", len(contractions))"
   ]
  },
  {
   "cell_type": "markdown",
   "metadata": {},
   "source": [
    "불용어는 일반적으로 자연어 처리에 도움이 되지 않습니다. nltk에서 제공하는 정보를 사용하여 전처리 과정에서 불용어 제거를 적용합니다.  \n",
    "앞서 확인한 바와 같이 Hinglish에 대한 불용어 처리도 준비합니다. [(Hinglish 불용어 출처)](https://github.com/TrigonaMinima/HinglishNLP)"
   ]
  },
  {
   "cell_type": "code",
   "execution_count": 9,
   "metadata": {},
   "outputs": [
    {
     "name": "stdout",
     "output_type": "stream",
     "text": [
      "영어 불용어 개수 : 179\n",
      "['i', 'me', 'my', 'myself', 'we', 'our', 'ours', 'ourselves', 'you', \"you're\", \"you've\", \"you'll\", \"you'd\", 'your', 'yours', 'yourself', 'yourselves', 'he', 'him', 'his', 'himself', 'she', \"she's\", 'her', 'hers', 'herself', 'it', \"it's\", 'its', 'itself', 'they', 'them', 'their', 'theirs', 'themselves', 'what', 'which', 'who', 'whom', 'this', 'that', \"that'll\", 'these', 'those', 'am', 'is', 'are', 'was', 'were', 'be', 'been', 'being', 'have', 'has', 'had', 'having', 'do', 'does', 'did', 'doing', 'a', 'an', 'the', 'and', 'but', 'if', 'or', 'because', 'as', 'until', 'while', 'of', 'at', 'by', 'for', 'with', 'about', 'against', 'between', 'into', 'through', 'during', 'before', 'after', 'above', 'below', 'to', 'from', 'up', 'down', 'in', 'out', 'on', 'off', 'over', 'under', 'again', 'further', 'then', 'once']\n",
      "\n",
      "Hinglish 불용어 개수: 1036\n",
      "['a', 'aadi', 'aaj', 'aap', 'aapne', 'aata', 'aati', 'aaya', 'aaye', 'ab', 'abbe', 'abbey', 'abe', 'abhi', 'able', 'about', 'above', 'accha', 'according', 'accordingly', 'acha', 'achcha', 'across', 'actually', 'after', 'afterwards', 'again', 'against', 'agar', 'ain', 'aint', \"ain't\", 'aisa', 'aise', 'aisi', 'alag', 'all', 'allow', 'allows', 'almost', 'alone', 'along', 'already', 'also', 'although', 'always', 'am', 'among', 'amongst', 'an', 'and', 'andar', 'another', 'any', 'anybody', 'anyhow', 'anyone', 'anything', 'anyway', 'anyways', 'anywhere', 'ap', 'apan', 'apart', 'apna', 'apnaa', 'apne', 'apni', 'appear', 'are', 'aren', 'arent', \"aren't\", 'around', 'arre', 'as', 'aside', 'ask', 'asking', 'at', 'aur', 'avum', 'aya', 'aye', 'baad', 'baar', 'bad', 'bahut', 'bana', 'banae', 'banai', 'banao', 'banaya', 'banaye', 'banayi', 'banda', 'bande', 'bandi', 'bane', 'bani']\n",
      "\n",
      "합쳐진 불용어 개수: 1038\n",
      "['new', 'tu', 'inse', 'onto', 'through', 'oh', 'hereby', 'karenge', 'after', 'si', 'waala', 'k', 'to', 'kiska', \"couldn't\", 'o', 'kiski', 'becoming', 'such', 'keh', 'rather', 'where', 'di', 'my', \"weren't\", 'certainly', 'jinhi', 'several', 'went', 'hun', 'yahin', 'an', 'abe', 'inward', 'maane', 'ne', 'jyada', 'anyhow', 'iske', 'yourselves', 'kehte', 'toh', 'good', 'took', \"we'd\", 'should', 'kisko', 'was', 'kitni', 'mil', 'kino', 'causes', 'saara', 'nearly', 'seeing', 'none', 'using', 'waisa', 'both', 'ask', 'whereafter', \"didn't\", 'just', 'dunga', 'magar', \"ain't\", 'come', 'karega', 'other', 'secondly', \"where's\", 'honi', 'kam', 'kahan', 'later', 'therefore', 'doesn', 'nevertheless', 'get', 'between', 'kyu', 'via', 'first', 'however', 'rahe', 'up', 'inhe', 'below', 'bad', 'karu', 'hopefully', 'taken', \"hasn't\", 'upar', \"doesn't\", 'ex', \"i'll\", 'keeps', 'de', 'aisa']\n"
     ]
    },
    {
     "name": "stderr",
     "output_type": "stream",
     "text": [
      "[nltk_data] Downloading package stopwords to /aiffel/nltk_data...\n",
      "[nltk_data]   Package stopwords is already up-to-date!\n"
     ]
    }
   ],
   "source": [
    "import nltk\n",
    "from nltk.corpus import stopwords\n",
    "import re\n",
    "import numpy as np\n",
    "\n",
    "\n",
    "nltk.download(\"stopwords\")\n",
    "print(\"영어 불용어 개수 :\", len(stopwords.words(\"english\")))\n",
    "print(stopwords.words(\"english\")[:100])\n",
    "print()\n",
    "\n",
    "with open(\"hingl.txt\") as f:\n",
    "    hinglish = f.read().splitlines()\n",
    "print(\"Hinglish 불용어 개수:\", len(hinglish))\n",
    "print(hinglish[:100])\n",
    "print()\n",
    "\n",
    "stopwords_ext = list(set(stopwords.words(\"english\") + hinglish))\n",
    "print(\"합쳐진 불용어 개수:\", len(stopwords_ext))\n",
    "print(stopwords_ext[:100])"
   ]
  },
  {
   "cell_type": "markdown",
   "metadata": {},
   "source": [
    "데이터 전처리를 수행하는 함수를 선언합니다.\n",
    "1. 모든 문자를 소문자로 치환\n",
    "2. 괄호로 감싸진 문자열 제거\n",
    "3. 큰따옴표 제거\n",
    "4. 축약어 제거\n",
    "5. 소유격 제거\n",
    "6. 영어 외 문자 공백으로 치환\n",
    "7. 불용어 제거\n"
   ]
  },
  {
   "cell_type": "code",
   "execution_count": 10,
   "metadata": {},
   "outputs": [],
   "source": [
    "def preprocess_sentence(sentence, remove_stopwords=True):\n",
    "    sentence = sentence.lower()\n",
    "    sentence = re.sub(r\"\\([^)]*\\)\", \"\", sentence)\n",
    "    sentence = re.sub('\"', \"\", sentence)\n",
    "    sentence = \" \".join(\n",
    "        [contractions[t] if t in contractions else t for t in sentence.split(\" \")]\n",
    "    )\n",
    "    sentence = re.sub(r\"'s\\b\", \"\", sentence)\n",
    "    sentence = re.sub(\"[^a-zA-Z]\", \" \", sentence)\n",
    "\n",
    "    if remove_stopwords:\n",
    "        tokens = \" \".join(\n",
    "            word\n",
    "            for word in sentence.split()\n",
    "            if not word in stopwords_ext\n",
    "            if len(word) > 1\n",
    "        )\n",
    "    else:\n",
    "        tokens = \" \".join(word for word in sentence.split() if len(word) > 1)\n",
    "    return tokens"
   ]
  },
  {
   "cell_type": "markdown",
   "metadata": {},
   "source": [
    "전처리 함수를 테스트합니다.  "
   ]
  },
  {
   "cell_type": "code",
   "execution_count": 11,
   "metadata": {},
   "outputs": [
    {
     "name": "stdout",
     "output_type": "stream",
     "text": [
      "text (orig)    : A London zoo is offering people to name a cockroach after their exes on Valentine's Day for ÃÂ£1.50 (nearly Ã¢ÂÂ¹140). \"For those that don't quite require revenge, there's another way to make you feel better about getting back at your ex,\" the zoo said in a statement. The names will appear on zoo's 'roach board' on February 14. \n",
      "text           : london zoo offering cockroach exes valentine day require revenge make feel back zoo statement names zoo roach board february\n",
      "headline (orig): UK zoo offers people to name cockroach after their ex on Valentine's\n",
      "headline       : uk zoo offers people to name cockroach after their ex on valentine\n"
     ]
    }
   ],
   "source": [
    "idx = 26\n",
    "temp_text = data[\"text\"][idx]\n",
    "temp_headline = data[\"headlines\"][idx]\n",
    "\n",
    "print(\"text (orig)    :\", temp_text)\n",
    "print(\"text           :\", preprocess_sentence(temp_text))\n",
    "print(\"headline (orig):\", temp_headline)\n",
    "print(\"headline       :\", preprocess_sentence(temp_headline, False))"
   ]
  },
  {
   "cell_type": "markdown",
   "metadata": {},
   "source": [
    "전처리 함수에 선언되어 있는 내용과 같이 소문자 변환, 문장부호 제거 등이 적용되었음을 확인할 수 있습니다. 또한 앞서 확인했던 인코딩 문제로 정상적이지 않은 문자 역시 제거되었습니다.  \n",
    "요약에 대해서는 불용어 제거를 수행하지 않아 \"to\"와 같은 단어들이 남아있습니다."
   ]
  },
  {
   "cell_type": "markdown",
   "metadata": {},
   "source": [
    "전체 `text` 데이터에 대해서 전처리를 적용합니다."
   ]
  },
  {
   "cell_type": "code",
   "execution_count": 12,
   "metadata": {},
   "outputs": [
    {
     "name": "stdout",
     "output_type": "stream",
     "text": [
      "text 전처리 후 결과:  ['saurav kant alumnus upgrad iiit pg program machine learning artificial intelligence sr systems engineer infosys years work experience program upgrad degree career support helped transition data scientist tech mahindra salary hike upgrad online power learning powered lakh careers', 'kunal shah credit card bill payment platform cred gave users chance win free food swiggy year pranav kaushik delhi techie bagged reward spending cred coins users cred coin rupee bill paid avail rewards brands ixigo bookmyshow ubereats cult fit', 'zealand defeated india wickets fourth odi hamilton thursday win match match odi series india lost international match rohit sharma captaincy consecutive victories dating back march match witnessed india seventh lowest total odi cricket history', 'aegon life iterm insurance plan customers enjoy tax benefits premiums paid save taxes plan life cover age years customers options insure critical illnesses disability accidental death benefit rider life cover age years', 'speaking sexual harassment allegations rajkumar hirani sonam kapoor hirani years metoo movement derailed metoo movement believe woman case reserve judgment added hirani accused assistant worked sanju']\n"
     ]
    }
   ],
   "source": [
    "clean_text = []\n",
    "for s in data[\"text\"]:\n",
    "    clean_text.append(preprocess_sentence(s))\n",
    "\n",
    "print(\"text 전처리 후 결과: \", clean_text[:5])"
   ]
  },
  {
   "cell_type": "markdown",
   "metadata": {},
   "source": [
    "`headlines` 데이터에 대해 전처리를 적용하지만 불용어 제거는 수행하지 않습니다."
   ]
  },
  {
   "cell_type": "code",
   "execution_count": 13,
   "metadata": {},
   "outputs": [
    {
     "name": "stdout",
     "output_type": "stream",
     "text": [
      "headlines 전처리 후 결과:  ['upgrad learner switches to career in ml al with salary hike', 'delhi techie wins free food from swiggy for one year on cred', 'new zealand end rohit sharma led india match winning streak', 'aegon life iterm insurance plan helps customers save tax', 'have known hirani for yrs what if metoo claims are not true sonam']\n"
     ]
    }
   ],
   "source": [
    "clean_summary = []\n",
    "for s in data[\"headlines\"]:\n",
    "    clean_summary.append(preprocess_sentence(s, False))\n",
    "\n",
    "print(\"headlines 전처리 후 결과: \", clean_summary[:5])"
   ]
  },
  {
   "cell_type": "markdown",
   "metadata": {},
   "source": [
    "전처리의 결과로 문자열에 아무것도 없는 경우가 생길 수 있고, 비어있는 문자열이 존재하는지 확인합니다."
   ]
  },
  {
   "cell_type": "code",
   "execution_count": 14,
   "metadata": {},
   "outputs": [
    {
     "data": {
      "text/plain": [
       "headlines    0\n",
       "text         0\n",
       "dtype: int64"
      ]
     },
     "execution_count": 14,
     "metadata": {},
     "output_type": "execute_result"
    }
   ],
   "source": [
    "data[\"text\"] = clean_text\n",
    "data[\"headlines\"] = clean_summary\n",
    "\n",
    "data.replace(\"\", np.nan, inplace=True)\n",
    "data.isnull().sum()"
   ]
  },
  {
   "cell_type": "code",
   "execution_count": 15,
   "metadata": {},
   "outputs": [
    {
     "name": "stdout",
     "output_type": "stream",
     "text": [
      "전체 샘플수 : 98360\n"
     ]
    }
   ],
   "source": [
    "data.dropna(axis=0, inplace=True)\n",
    "print(\"전체 샘플수 :\", (len(data)))"
   ]
  },
  {
   "cell_type": "markdown",
   "metadata": {},
   "source": [
    "최대 길이 제한을 정하기 위해 본문과 요약에 대한 통계를 확인합니다."
   ]
  },
  {
   "cell_type": "code",
   "execution_count": 16,
   "metadata": {},
   "outputs": [
    {
     "name": "stdout",
     "output_type": "stream",
     "text": [
      "텍스트의 최소 길이 : 1\n",
      "텍스트의 최대 길이 : 49\n",
      "텍스트의 평균 길이 : 30.859414396095975\n",
      "요약의 최소 길이 : 1\n",
      "요약의 최대 길이 : 16\n",
      "요약의 평균 길이 : 9.299532330215534\n"
     ]
    },
    {
     "data": {
      "image/png": "[encoded data removed]",
      "text/plain": [
       "<Figure size 432x288 with 2 Axes>"
      ]
     },
     "metadata": {
      "needs_background": "light"
     },
     "output_type": "display_data"
    },
    {
     "data": {
      "image/png": "[encoded data removed]",
      "text/plain": [
       "<Figure size 432x288 with 1 Axes>"
      ]
     },
     "metadata": {
      "needs_background": "light"
     },
     "output_type": "display_data"
    },
    {
     "data": {
      "image/png": "[encoded data removed]",
      "text/plain": [
       "<Figure size 432x288 with 1 Axes>"
      ]
     },
     "metadata": {
      "needs_background": "light"
     },
     "output_type": "display_data"
    }
   ],
   "source": [
    "import matplotlib.pyplot as plt\n",
    "\n",
    "\n",
    "text_len = [len(s.split()) for s in data[\"text\"]]\n",
    "summary_len = [len(s.split()) for s in data[\"headlines\"]]\n",
    "\n",
    "print(\"텍스트의 최소 길이 : {}\".format(np.min(text_len)))\n",
    "print(\"텍스트의 최대 길이 : {}\".format(np.max(text_len)))\n",
    "print(\"텍스트의 평균 길이 : {}\".format(np.mean(text_len)))\n",
    "print(\"요약의 최소 길이 : {}\".format(np.min(summary_len)))\n",
    "print(\"요약의 최대 길이 : {}\".format(np.max(summary_len)))\n",
    "print(\"요약의 평균 길이 : {}\".format(np.mean(summary_len)))\n",
    "\n",
    "plt.subplot(1, 2, 1)\n",
    "plt.boxplot(text_len)\n",
    "plt.title(\"text\")\n",
    "plt.subplot(1, 2, 2)\n",
    "plt.boxplot(summary_len)\n",
    "plt.title(\"headlines\")\n",
    "plt.tight_layout()\n",
    "plt.show()\n",
    "\n",
    "plt.title(\"text\")\n",
    "plt.hist(text_len, bins=40)\n",
    "plt.xlabel(\"length of samples\")\n",
    "plt.ylabel(\"number of samples\")\n",
    "plt.show()\n",
    "\n",
    "plt.title(\"headlines\")\n",
    "plt.hist(summary_len, bins=40)\n",
    "plt.xlabel(\"length of samples\")\n",
    "plt.ylabel(\"number of samples\")\n",
    "plt.show()"
   ]
  },
  {
   "cell_type": "markdown",
   "metadata": {},
   "source": [
    "텍스트는 평균 길이가 30 이지만 값이 분포하는 범위가 넓은 것으로 확인됩니다.  \n",
    "텍스트 데이터의 최대 길이 제한은 49 보다 작은 40 으로 정합니다.  \n",
    "요약 데이터의 최대 길이 제한은 16 보다 작은 12 로 정합니다.  \n",
    "(각각은 약 80%의 비율로 임의로 설정한 수치입니다.)"
   ]
  },
  {
   "cell_type": "code",
   "execution_count": 17,
   "metadata": {},
   "outputs": [],
   "source": [
    "text_max_len = 40\n",
    "summary_max_len = 12"
   ]
  },
  {
   "cell_type": "markdown",
   "metadata": {},
   "source": [
    "지정한 최대 길이보다 짧은 데이터의 비율이 얼마나 되는지 확인합니다."
   ]
  },
  {
   "cell_type": "code",
   "execution_count": 18,
   "metadata": {},
   "outputs": [
    {
     "name": "stdout",
     "output_type": "stream",
     "text": [
      "전체 샘플 중 길이가 40 이하인 샘플의 비율: 0.9915209434729565\n",
      "전체 샘플 중 길이가 12 이하인 샘플의 비율: 0.9880337535583571\n"
     ]
    }
   ],
   "source": [
    "def below_threshold_len(max_len, nested_list):\n",
    "    cnt = 0\n",
    "    for s in nested_list:\n",
    "        if len(s.split()) <= max_len:\n",
    "            cnt = cnt + 1\n",
    "    print(\"전체 샘플 중 길이가 %s 이하인 샘플의 비율: %s\" % (max_len, (cnt / len(nested_list))))\n",
    "\n",
    "\n",
    "below_threshold_len(text_max_len, data[\"text\"])\n",
    "below_threshold_len(summary_max_len, data[\"headlines\"])"
   ]
  },
  {
   "cell_type": "markdown",
   "metadata": {},
   "source": [
    "텍스트 데이터는 길이가 40 이하인 샘플의 비율이 99.15%로 대부분의 샘플이 40 이하의 길이를 가지고 있습니다.  \n",
    "요약 데이터의 경우 길이가 12 이하인 샘플은 98.80%입니다."
   ]
  },
  {
   "cell_type": "markdown",
   "metadata": {},
   "source": [
    "패딩 과정에서 시퀀스(문장)을 자르면 불완전한 문장이 될 가능성이 높기에, 길이 조건을 만족하지 못하는 문장 자체를 데이터에서 제외합니다."
   ]
  },
  {
   "cell_type": "code",
   "execution_count": 19,
   "metadata": {},
   "outputs": [
    {
     "name": "stdout",
     "output_type": "stream",
     "text": [
      "전체 샘플수 : 96354\n"
     ]
    }
   ],
   "source": [
    "data = data[data[\"text\"].apply(lambda x: len(x.split()) <= text_max_len)]\n",
    "data = data[data[\"headlines\"].apply(lambda x: len(x.split()) <= summary_max_len)]\n",
    "print(\"전체 샘플수 :\", (len(data)))"
   ]
  },
  {
   "cell_type": "markdown",
   "metadata": {},
   "source": [
    "요약 데이터에 문장 시작과 끝을 알려주는 토큰(`sostoken`, `eostoken`)을 추가합니다."
   ]
  },
  {
   "cell_type": "code",
   "execution_count": 20,
   "metadata": {},
   "outputs": [
    {
     "data": {
      "text/html": [
       "<div>\n",
       "<style scoped>\n",
       "    .dataframe tbody tr th:only-of-type {\n",
       "        vertical-align: middle;\n",
       "    }\n",
       "\n",
       "    .dataframe tbody tr th {\n",
       "        vertical-align: top;\n",
       "    }\n",
       "\n",
       "    .dataframe thead th {\n",
       "        text-align: right;\n",
       "    }\n",
       "</style>\n",
       "<table border=\"1\" class=\"dataframe\">\n",
       "  <thead>\n",
       "    <tr style=\"text-align: right;\">\n",
       "      <th></th>\n",
       "      <th>headlines</th>\n",
       "      <th>text</th>\n",
       "      <th>decoder_input</th>\n",
       "      <th>decoder_target</th>\n",
       "    </tr>\n",
       "  </thead>\n",
       "  <tbody>\n",
       "    <tr>\n",
       "      <th>0</th>\n",
       "      <td>upgrad learner switches to career in ml al wit...</td>\n",
       "      <td>saurav kant alumnus upgrad iiit pg program mac...</td>\n",
       "      <td>sostoken upgrad learner switches to career in ...</td>\n",
       "      <td>upgrad learner switches to career in ml al wit...</td>\n",
       "    </tr>\n",
       "    <tr>\n",
       "      <th>1</th>\n",
       "      <td>delhi techie wins free food from swiggy for on...</td>\n",
       "      <td>kunal shah credit card bill payment platform c...</td>\n",
       "      <td>sostoken delhi techie wins free food from swig...</td>\n",
       "      <td>delhi techie wins free food from swiggy for on...</td>\n",
       "    </tr>\n",
       "    <tr>\n",
       "      <th>2</th>\n",
       "      <td>new zealand end rohit sharma led india match w...</td>\n",
       "      <td>zealand defeated india wickets fourth odi hami...</td>\n",
       "      <td>sostoken new zealand end rohit sharma led indi...</td>\n",
       "      <td>new zealand end rohit sharma led india match w...</td>\n",
       "    </tr>\n",
       "    <tr>\n",
       "      <th>3</th>\n",
       "      <td>aegon life iterm insurance plan helps customer...</td>\n",
       "      <td>aegon life iterm insurance plan customers enjo...</td>\n",
       "      <td>sostoken aegon life iterm insurance plan helps...</td>\n",
       "      <td>aegon life iterm insurance plan helps customer...</td>\n",
       "    </tr>\n",
       "    <tr>\n",
       "      <th>5</th>\n",
       "      <td>rahat fateh ali khan denies getting notice for...</td>\n",
       "      <td>pakistani singer rahat fateh ali khan denied r...</td>\n",
       "      <td>sostoken rahat fateh ali khan denies getting n...</td>\n",
       "      <td>rahat fateh ali khan denies getting notice for...</td>\n",
       "    </tr>\n",
       "  </tbody>\n",
       "</table>\n",
       "</div>"
      ],
      "text/plain": [
       "                                           headlines  \\\n",
       "0  upgrad learner switches to career in ml al wit...   \n",
       "1  delhi techie wins free food from swiggy for on...   \n",
       "2  new zealand end rohit sharma led india match w...   \n",
       "3  aegon life iterm insurance plan helps customer...   \n",
       "5  rahat fateh ali khan denies getting notice for...   \n",
       "\n",
       "                                                text  \\\n",
       "0  saurav kant alumnus upgrad iiit pg program mac...   \n",
       "1  kunal shah credit card bill payment platform c...   \n",
       "2  zealand defeated india wickets fourth odi hami...   \n",
       "3  aegon life iterm insurance plan customers enjo...   \n",
       "5  pakistani singer rahat fateh ali khan denied r...   \n",
       "\n",
       "                                       decoder_input  \\\n",
       "0  sostoken upgrad learner switches to career in ...   \n",
       "1  sostoken delhi techie wins free food from swig...   \n",
       "2  sostoken new zealand end rohit sharma led indi...   \n",
       "3  sostoken aegon life iterm insurance plan helps...   \n",
       "5  sostoken rahat fateh ali khan denies getting n...   \n",
       "\n",
       "                                      decoder_target  \n",
       "0  upgrad learner switches to career in ml al wit...  \n",
       "1  delhi techie wins free food from swiggy for on...  \n",
       "2  new zealand end rohit sharma led india match w...  \n",
       "3  aegon life iterm insurance plan helps customer...  \n",
       "5  rahat fateh ali khan denies getting notice for...  "
      ]
     },
     "execution_count": 20,
     "metadata": {},
     "output_type": "execute_result"
    }
   ],
   "source": [
    "data[\"decoder_input\"] = data[\"headlines\"].apply(lambda x: \"sostoken \" + x)\n",
    "data[\"decoder_target\"] = data[\"headlines\"].apply(lambda x: x + \" eostoken\")\n",
    "data.head()"
   ]
  },
  {
   "cell_type": "markdown",
   "metadata": {},
   "source": [
    "인코더에서 사용할 데이터와 디코더에서 사용할 데이터를 준비합니다."
   ]
  },
  {
   "cell_type": "code",
   "execution_count": 21,
   "metadata": {},
   "outputs": [],
   "source": [
    "encoder_input = np.array(data[\"text\"])\n",
    "decoder_input = np.array(data[\"decoder_input\"])\n",
    "decoder_target = np.array(data[\"decoder_target\"])"
   ]
  },
  {
   "cell_type": "markdown",
   "metadata": {},
   "source": [
    "## 훈련 데이터와 검증 데이터 분리\n",
    "검증 데이터 준비를 위해 훈련 데이터의 인덱스를 임의로 섞고, 20%를 분리합니다."
   ]
  },
  {
   "cell_type": "code",
   "execution_count": 22,
   "metadata": {},
   "outputs": [
    {
     "name": "stdout",
     "output_type": "stream",
     "text": [
      "[87613 17800 31548 ...  7693 44779 18762]\n"
     ]
    }
   ],
   "source": [
    "indices = np.arange(encoder_input.shape[0])\n",
    "np.random.shuffle(indices)\n",
    "print(indices)"
   ]
  },
  {
   "cell_type": "code",
   "execution_count": 23,
   "metadata": {},
   "outputs": [],
   "source": [
    "encoder_input = encoder_input[indices]\n",
    "decoder_input = decoder_input[indices]\n",
    "decoder_target = decoder_target[indices]"
   ]
  },
  {
   "cell_type": "code",
   "execution_count": 24,
   "metadata": {},
   "outputs": [
    {
     "name": "stdout",
     "output_type": "stream",
     "text": [
      "훈련 데이터의 개수 : 77084\n",
      "훈련 레이블의 개수 : 77084\n",
      "테스트 데이터의 개수 : 19270\n",
      "테스트 레이블의 개수 : 19270\n"
     ]
    }
   ],
   "source": [
    "n_of_val = int(len(encoder_input) * 0.2)\n",
    "\n",
    "encoder_input_train = encoder_input[:-n_of_val]\n",
    "decoder_input_train = decoder_input[:-n_of_val]\n",
    "decoder_target_train = decoder_target[:-n_of_val]\n",
    "\n",
    "encoder_input_test = encoder_input[-n_of_val:]\n",
    "decoder_input_test = decoder_input[-n_of_val:]\n",
    "decoder_target_test = decoder_target[-n_of_val:]\n",
    "\n",
    "print(\"훈련 데이터의 개수 :\", len(encoder_input_train))\n",
    "print(\"훈련 레이블의 개수 :\", len(decoder_input_train))\n",
    "print(\"테스트 데이터의 개수 :\", len(encoder_input_test))\n",
    "print(\"테스트 레이블의 개수 :\", len(decoder_input_test))"
   ]
  },
  {
   "cell_type": "markdown",
   "metadata": {},
   "source": [
    "## 정수 인코딩\n",
    "준비된 훈련 데이터를 위한 단어 집합을 생성합니다."
   ]
  },
  {
   "cell_type": "code",
   "execution_count": 25,
   "metadata": {},
   "outputs": [],
   "source": [
    "from tensorflow.keras.preprocessing.text import Tokenizer\n",
    "from tensorflow.keras.preprocessing.sequence import pad_sequences\n",
    "\n",
    "\n",
    "src_tokenizer = Tokenizer()\n",
    "src_tokenizer.fit_on_texts(encoder_input_train)"
   ]
  },
  {
   "cell_type": "markdown",
   "metadata": {},
   "source": [
    "등장 빈도가 낮은 단어를 훈련 데이터에서 제외시키기 위해 각 단어의 등장 빈도를 확인합니다."
   ]
  },
  {
   "cell_type": "code",
   "execution_count": 26,
   "metadata": {},
   "outputs": [
    {
     "name": "stdout",
     "output_type": "stream",
     "text": [
      "단어 집합(vocabulary)의 크기 : 68188\n",
      "등장 빈도가 6번 이하인 희귀 단어의 수: 46706\n",
      "단어 집합에서 희귀 단어를 제외시킬 경우의 단어 집합의 크기:  21482\n",
      "단어 집합에서 희귀 단어의 비율: 68.49592303631138\n",
      "전체 등장 빈도에서 희귀 단어 등장 빈도 비율: 3.9887887341272394\n"
     ]
    }
   ],
   "source": [
    "threshold = 7\n",
    "total_cnt = len(src_tokenizer.word_index)\n",
    "rare_cnt = 0\n",
    "total_freq = 0\n",
    "rare_freq = 0\n",
    "\n",
    "for key, value in src_tokenizer.word_counts.items():\n",
    "    total_freq = total_freq + value\n",
    "    if value < threshold:\n",
    "        rare_cnt = rare_cnt + 1\n",
    "        rare_freq = rare_freq + value\n",
    "\n",
    "print(\"단어 집합(vocabulary)의 크기 :\", total_cnt)\n",
    "print(f\"등장 빈도가 {threshold - 1}번 이하인 희귀 단어의 수: {rare_cnt}\")\n",
    "print(\"단어 집합에서 희귀 단어를 제외시킬 경우의 단어 집합의 크기: \", (total_cnt - rare_cnt))\n",
    "print(\"단어 집합에서 희귀 단어의 비율:\", (rare_cnt / total_cnt) * 100)\n",
    "print(\"전체 등장 빈도에서 희귀 단어 등장 빈도 비율:\", (rare_freq / total_freq) * 100)"
   ]
  },
  {
   "cell_type": "markdown",
   "metadata": {},
   "source": [
    "희귀 단어를 제외한 경우 단어 집합의 크기가 22,095이 되고, 근사한 값인 20,000으로 단어 집합의 크기를 제한합니다."
   ]
  },
  {
   "cell_type": "code",
   "execution_count": 27,
   "metadata": {},
   "outputs": [],
   "source": [
    "src_vocab = 20000\n",
    "src_tokenizer = Tokenizer(num_words=src_vocab)\n",
    "src_tokenizer.fit_on_texts(encoder_input_train)"
   ]
  },
  {
   "cell_type": "markdown",
   "metadata": {},
   "source": [
    "크기가 제한된 단어 집합을 사용하여 텍스트 시퀀스를 변환합니다."
   ]
  },
  {
   "cell_type": "code",
   "execution_count": 28,
   "metadata": {},
   "outputs": [
    {
     "name": "stdout",
     "output_type": "stream",
     "text": [
      "[[794, 14245, 6943, 8391, 4266, 3785, 9372, 10504, 6943, 41, 79, 1141, 1168, 12038, 1, 1088, 1141, 755, 439, 18824, 84, 111, 1473, 3599, 83, 1141, 218, 1678, 18825, 91, 1, 11013, 3], [122, 11, 54, 11014, 1716, 7458, 2101, 5988, 1396, 6, 6744, 1269, 14246, 8251, 2342, 691, 402, 1397, 4441, 1716, 728, 2123, 2789, 33, 501, 3630, 2861, 2465, 652, 8671, 305, 1396, 383], [2962, 2041, 267, 100, 3529, 8856, 5479, 8392, 1063, 2188, 4671, 3529, 197, 1339, 147, 293, 315, 1, 320, 5479, 4198, 2789, 1353, 1689, 185, 137, 67]]\n"
     ]
    }
   ],
   "source": [
    "encoder_input_train = src_tokenizer.texts_to_sequences(encoder_input_train)\n",
    "encoder_input_test = src_tokenizer.texts_to_sequences(encoder_input_test)\n",
    "\n",
    "print(encoder_input_train[:3])"
   ]
  },
  {
   "cell_type": "markdown",
   "metadata": {},
   "source": [
    "디코더 입력 데이터에 대해서도 희귀 단어를 확인하고 단어장의 크기를 결정하는 과정을 진행합니다."
   ]
  },
  {
   "cell_type": "code",
   "execution_count": 29,
   "metadata": {},
   "outputs": [],
   "source": [
    "tar_tokenizer = Tokenizer()\n",
    "tar_tokenizer.fit_on_texts(decoder_input_train)"
   ]
  },
  {
   "cell_type": "code",
   "execution_count": 30,
   "metadata": {},
   "outputs": [
    {
     "name": "stdout",
     "output_type": "stream",
     "text": [
      "단어 집합(vocabulary)의 크기 : 29923\n",
      "등장 빈도가 6번 이하인 희귀 단어의 수: 20521\n",
      "단어 집합에서 희귀 단어를 제외시킬 경우의 단어 집합의 크기:  9402\n",
      "단어 집합에서 희귀 단어의 비율: 68.57935367443105\n",
      "전체 등장 빈도에서 희귀 단어 등장 빈도 비율: 5.445860114282245\n"
     ]
    }
   ],
   "source": [
    "threshold = 7\n",
    "total_cnt = len(tar_tokenizer.word_index)\n",
    "rare_cnt = 0\n",
    "total_freq = 0\n",
    "rare_freq = 0\n",
    "\n",
    "for key, value in tar_tokenizer.word_counts.items():\n",
    "    total_freq = total_freq + value\n",
    "    if value < threshold:\n",
    "        rare_cnt = rare_cnt + 1\n",
    "        rare_freq = rare_freq + value\n",
    "\n",
    "print(\"단어 집합(vocabulary)의 크기 :\", total_cnt)\n",
    "print(f\"등장 빈도가 {threshold - 1}번 이하인 희귀 단어의 수: {rare_cnt}\")\n",
    "print(\"단어 집합에서 희귀 단어를 제외시킬 경우의 단어 집합의 크기: \", (total_cnt - rare_cnt))\n",
    "print(\"단어 집합에서 희귀 단어의 비율:\", (rare_cnt / total_cnt) * 100)\n",
    "print(\"전체 등장 빈도에서 희귀 단어 등장 빈도 비율:\", (rare_freq / total_freq) * 100)"
   ]
  },
  {
   "cell_type": "markdown",
   "metadata": {},
   "source": [
    "디코더 입력 데이터에 대해서는 단어 집합의 크기를 9,000으로 정했습니다."
   ]
  },
  {
   "cell_type": "code",
   "execution_count": 31,
   "metadata": {},
   "outputs": [
    {
     "name": "stdout",
     "output_type": "stream",
     "text": [
      "input  [[1, 559, 2499, 5, 8, 6778, 890, 5569], [1, 963, 121, 3, 2500, 6403, 7, 2811, 4084], [1, 349, 563, 2168, 257, 25, 8676, 7148, 5817], [1, 105, 1225, 187, 6122, 3740, 9, 1315], [1, 279, 5149, 1685, 4948, 4, 347, 1015]]\n",
      "decoder  [[559, 2499, 5, 8, 6778, 890, 5569, 2], [963, 121, 3, 2500, 6403, 7, 2811, 4084, 2], [349, 563, 2168, 257, 25, 8676, 7148, 5817, 2], [105, 1225, 187, 6122, 3740, 9, 1315, 2], [279, 5149, 1685, 4948, 4, 347, 1015, 2]]\n"
     ]
    }
   ],
   "source": [
    "tar_vocab = 9000\n",
    "\n",
    "tar_tokenizer = Tokenizer(num_words=tar_vocab)\n",
    "tar_tokenizer.fit_on_texts(decoder_input_train)\n",
    "tar_tokenizer.fit_on_texts(decoder_target_train)\n",
    "\n",
    "decoder_input_train = tar_tokenizer.texts_to_sequences(decoder_input_train)\n",
    "decoder_target_train = tar_tokenizer.texts_to_sequences(decoder_target_train)\n",
    "decoder_input_test = tar_tokenizer.texts_to_sequences(decoder_input_test)\n",
    "decoder_target_test = tar_tokenizer.texts_to_sequences(decoder_target_test)\n",
    "\n",
    "print(\"input \", decoder_input_train[:5])\n",
    "print(\"decoder \", decoder_target_train[:5])"
   ]
  },
  {
   "cell_type": "markdown",
   "metadata": {},
   "source": [
    "등장 빈도가 낮은 단어들을 제외시켰기 때문에, 해당 단어들로만 구성된 문장은 길이가 0이 되었을 것입니다.  \n",
    "따라서 길이가 0(`sostoken` 또는 `eostoken`을 제외)인 데이터를 제거합니다."
   ]
  },
  {
   "cell_type": "code",
   "execution_count": 32,
   "metadata": {},
   "outputs": [
    {
     "name": "stdout",
     "output_type": "stream",
     "text": [
      "삭제할 훈련 데이터의 개수 : 0\n",
      "삭제할 테스트 데이터의 개수 : 0\n",
      "훈련 데이터의 개수 : 77084\n",
      "훈련 레이블의 개수 : 77084\n",
      "테스트 데이터의 개수 : 19270\n",
      "테스트 레이블의 개수 : 19270\n"
     ]
    }
   ],
   "source": [
    "drop_train = [\n",
    "    index for index, sentence in enumerate(decoder_input_train) if len(sentence) == 1\n",
    "]\n",
    "drop_test = [\n",
    "    index for index, sentence in enumerate(decoder_input_test) if len(sentence) == 1\n",
    "]\n",
    "\n",
    "print(\"삭제할 훈련 데이터의 개수 :\", len(drop_train))\n",
    "print(\"삭제할 테스트 데이터의 개수 :\", len(drop_test))\n",
    "\n",
    "encoder_input_train = [\n",
    "    sentence\n",
    "    for index, sentence in enumerate(encoder_input_train)\n",
    "    if index not in drop_train\n",
    "]\n",
    "decoder_input_train = [\n",
    "    sentence\n",
    "    for index, sentence in enumerate(decoder_input_train)\n",
    "    if index not in drop_train\n",
    "]\n",
    "decoder_target_train = [\n",
    "    sentence\n",
    "    for index, sentence in enumerate(decoder_target_train)\n",
    "    if index not in drop_train\n",
    "]\n",
    "\n",
    "encoder_input_test = [\n",
    "    sentence\n",
    "    for index, sentence in enumerate(encoder_input_test)\n",
    "    if index not in drop_test\n",
    "]\n",
    "decoder_input_test = [\n",
    "    sentence\n",
    "    for index, sentence in enumerate(decoder_input_test)\n",
    "    if index not in drop_test\n",
    "]\n",
    "decoder_target_test = [\n",
    "    sentence\n",
    "    for index, sentence in enumerate(decoder_target_test)\n",
    "    if index not in drop_test\n",
    "]\n",
    "\n",
    "print(\"훈련 데이터의 개수 :\", len(encoder_input_train))\n",
    "print(\"훈련 레이블의 개수 :\", len(decoder_input_train))\n",
    "print(\"테스트 데이터의 개수 :\", len(encoder_input_test))\n",
    "print(\"테스트 레이블의 개수 :\", len(decoder_input_test))"
   ]
  },
  {
   "cell_type": "markdown",
   "metadata": {},
   "source": [
    "시퀀스의 최대 길이를 제한하며, 길이가 부족한 시퀀스에 대해서는 패딩을 수행합니다."
   ]
  },
  {
   "cell_type": "code",
   "execution_count": 33,
   "metadata": {},
   "outputs": [],
   "source": [
    "encoder_input_train = pad_sequences(\n",
    "    encoder_input_train, maxlen=text_max_len, padding=\"post\"\n",
    ")\n",
    "encoder_input_test = pad_sequences(\n",
    "    encoder_input_test, maxlen=text_max_len, padding=\"post\"\n",
    ")\n",
    "decoder_input_train = pad_sequences(\n",
    "    decoder_input_train, maxlen=summary_max_len, padding=\"post\"\n",
    ")\n",
    "decoder_target_train = pad_sequences(\n",
    "    decoder_target_train, maxlen=summary_max_len, padding=\"post\"\n",
    ")\n",
    "decoder_input_test = pad_sequences(\n",
    "    decoder_input_test, maxlen=summary_max_len, padding=\"post\"\n",
    ")\n",
    "decoder_target_test = pad_sequences(\n",
    "    decoder_target_test, maxlen=summary_max_len, padding=\"post\"\n",
    ")"
   ]
  },
  {
   "cell_type": "markdown",
   "metadata": {},
   "source": [
    "## 모델 설계\n",
    "모델의 인코더를 설계합니다.  \n",
    "- seq2seq 구조에 attention을 추가한 구조를 사용하겠습니다.  \n",
    "- 인코더에서 LSTM은 3개의 층을 사용하였습니다."
   ]
  },
  {
   "cell_type": "code",
   "execution_count": 34,
   "metadata": {},
   "outputs": [],
   "source": [
    "from tensorflow.keras.layers import (\n",
    "    Input,\n",
    "    Embedding,\n",
    "    LSTM,\n",
    "    Dense,\n",
    "    AdditiveAttention,\n",
    "    Concatenate,\n",
    ")\n",
    "from tensorflow.keras.models import Model\n",
    "from tensorflow.keras.callbacks import EarlyStopping\n",
    "\n",
    "\n",
    "embedding_dim = 128\n",
    "hidden_size = 256\n",
    "\n",
    "encoder_inputs = Input(shape=(text_max_len,))\n",
    "enc_emb = Embedding(src_vocab, embedding_dim)(encoder_inputs)\n",
    "\n",
    "encoder_lstm1 = LSTM(\n",
    "    hidden_size,\n",
    "    return_sequences=True,\n",
    "    return_state=True,\n",
    "    dropout=0.4,\n",
    ")\n",
    "encoder_output1, state_h1, state_c1 = encoder_lstm1(enc_emb)\n",
    "\n",
    "encoder_lstm2 = LSTM(\n",
    "    hidden_size,\n",
    "    return_sequences=True,\n",
    "    return_state=True,\n",
    "    dropout=0.4,\n",
    ")\n",
    "encoder_output2, state_h2, state_c2 = encoder_lstm2(encoder_output1)\n",
    "\n",
    "encoder_lstm3 = LSTM(\n",
    "    hidden_size,\n",
    "    return_state=True,\n",
    "    return_sequences=True,\n",
    "    dropout=0.4,\n",
    ")\n",
    "encoder_outputs, state_h, state_c = encoder_lstm3(encoder_output2)"
   ]
  },
  {
   "cell_type": "markdown",
   "metadata": {},
   "source": [
    "모델의 디코더를 설계합니다.  \n",
    "- 성능 향상을 위해서 attention 기법을 사용합니다."
   ]
  },
  {
   "cell_type": "code",
   "execution_count": 35,
   "metadata": {},
   "outputs": [
    {
     "name": "stdout",
     "output_type": "stream",
     "text": [
      "Model: \"model\"\n",
      "__________________________________________________________________________________________________\n",
      "Layer (type)                    Output Shape         Param #     Connected to                     \n",
      "==================================================================================================\n",
      "input_1 (InputLayer)            [(None, 40)]         0                                            \n",
      "__________________________________________________________________________________________________\n",
      "embedding (Embedding)           (None, 40, 128)      2560000     input_1[0][0]                    \n",
      "__________________________________________________________________________________________________\n",
      "lstm (LSTM)                     [(None, 40, 256), (N 394240      embedding[0][0]                  \n",
      "__________________________________________________________________________________________________\n",
      "input_2 (InputLayer)            [(None, None)]       0                                            \n",
      "__________________________________________________________________________________________________\n",
      "lstm_1 (LSTM)                   [(None, 40, 256), (N 525312      lstm[0][0]                       \n",
      "__________________________________________________________________________________________________\n",
      "embedding_1 (Embedding)         (None, None, 128)    1152000     input_2[0][0]                    \n",
      "__________________________________________________________________________________________________\n",
      "lstm_2 (LSTM)                   [(None, 40, 256), (N 525312      lstm_1[0][0]                     \n",
      "__________________________________________________________________________________________________\n",
      "lstm_3 (LSTM)                   [(None, None, 256),  394240      embedding_1[0][0]                \n",
      "                                                                 lstm_2[0][1]                     \n",
      "                                                                 lstm_2[0][2]                     \n",
      "__________________________________________________________________________________________________\n",
      "attention_layer (AdditiveAttent (None, None, 256)    256         lstm_3[0][0]                     \n",
      "                                                                 lstm_2[0][0]                     \n",
      "__________________________________________________________________________________________________\n",
      "concat_layer (Concatenate)      (None, None, 512)    0           lstm_3[0][0]                     \n",
      "                                                                 attention_layer[0][0]            \n",
      "__________________________________________________________________________________________________\n",
      "dense (Dense)                   (None, None, 9000)   4617000     concat_layer[0][0]               \n",
      "==================================================================================================\n",
      "Total params: 10,168,360\n",
      "Trainable params: 10,168,360\n",
      "Non-trainable params: 0\n",
      "__________________________________________________________________________________________________\n"
     ]
    }
   ],
   "source": [
    "decoder_inputs = Input(shape=(None,))\n",
    "dec_emb_layer = Embedding(tar_vocab, embedding_dim)\n",
    "dec_emb = dec_emb_layer(decoder_inputs)\n",
    "\n",
    "decoder_lstm = LSTM(\n",
    "    hidden_size,\n",
    "    return_sequences=True,\n",
    "    return_state=True,\n",
    "    dropout=0.4,\n",
    ")\n",
    "decoder_outputs, _, _ = decoder_lstm(dec_emb, initial_state=[state_h, state_c])\n",
    "\n",
    "attn_layer = AdditiveAttention(name=\"attention_layer\")\n",
    "attn_out = attn_layer([decoder_outputs, encoder_outputs])\n",
    "\n",
    "decoder_concat_input = Concatenate(axis=-1, name=\"concat_layer\")(\n",
    "    [decoder_outputs, attn_out]\n",
    ")\n",
    "decoder_softmax_layer = Dense(tar_vocab, activation=\"softmax\")\n",
    "decoder_softmax_outputs = decoder_softmax_layer(decoder_concat_input)\n",
    "\n",
    "model = Model([encoder_inputs, decoder_inputs], decoder_softmax_outputs)\n",
    "model.summary()"
   ]
  },
  {
   "cell_type": "markdown",
   "metadata": {},
   "source": [
    "## 모델 훈련"
   ]
  },
  {
   "cell_type": "code",
   "execution_count": 36,
   "metadata": {},
   "outputs": [
    {
     "name": "stdout",
     "output_type": "stream",
     "text": [
      "Epoch 1/50\n",
      "302/302 [==============================] - 34s 90ms/step - loss: 5.5325 - val_loss: 5.1157\n",
      "Epoch 2/50\n",
      "302/302 [==============================] - 26s 88ms/step - loss: 4.9627 - val_loss: 4.7924\n",
      "Epoch 3/50\n",
      "302/302 [==============================] - 27s 90ms/step - loss: 4.6200 - val_loss: 4.5193\n",
      "Epoch 4/50\n",
      "302/302 [==============================] - 27s 89ms/step - loss: 4.3543 - val_loss: 4.3321\n",
      "Epoch 5/50\n",
      "302/302 [==============================] - 27s 89ms/step - loss: 4.1500 - val_loss: 4.1938\n",
      "Epoch 6/50\n",
      "302/302 [==============================] - 27s 90ms/step - loss: 3.9830 - val_loss: 4.0980\n",
      "Epoch 7/50\n",
      "302/302 [==============================] - 27s 90ms/step - loss: 3.8398 - val_loss: 3.9919\n",
      "Epoch 8/50\n",
      "302/302 [==============================] - 27s 91ms/step - loss: 3.7141 - val_loss: 3.9111\n",
      "Epoch 9/50\n",
      "302/302 [==============================] - 27s 91ms/step - loss: 3.6048 - val_loss: 3.8587\n",
      "Epoch 10/50\n",
      "302/302 [==============================] - 27s 91ms/step - loss: 3.5068 - val_loss: 3.8099\n",
      "Epoch 11/50\n",
      "302/302 [==============================] - 28s 91ms/step - loss: 3.4189 - val_loss: 3.7689\n",
      "Epoch 12/50\n",
      "302/302 [==============================] - 28s 91ms/step - loss: 3.3369 - val_loss: 3.7416\n",
      "Epoch 13/50\n",
      "302/302 [==============================] - 28s 91ms/step - loss: 3.2630 - val_loss: 3.7069\n",
      "Epoch 14/50\n",
      "302/302 [==============================] - 28s 91ms/step - loss: 3.1960 - val_loss: 3.6903\n",
      "Epoch 15/50\n",
      "302/302 [==============================] - 28s 91ms/step - loss: 3.1332 - val_loss: 3.6717\n",
      "Epoch 16/50\n",
      "302/302 [==============================] - 28s 92ms/step - loss: 3.0761 - val_loss: 3.6621\n",
      "Epoch 17/50\n",
      "302/302 [==============================] - 29s 95ms/step - loss: 3.0211 - val_loss: 3.6466\n",
      "Epoch 18/50\n",
      "302/302 [==============================] - 28s 93ms/step - loss: 2.9694 - val_loss: 3.6517\n",
      "Epoch 19/50\n",
      "302/302 [==============================] - 28s 93ms/step - loss: 2.9197 - val_loss: 3.6290\n",
      "Epoch 20/50\n",
      "302/302 [==============================] - 28s 94ms/step - loss: 2.8751 - val_loss: 3.6216\n",
      "Epoch 21/50\n",
      "302/302 [==============================] - 28s 93ms/step - loss: 2.8336 - val_loss: 3.6123\n",
      "Epoch 22/50\n",
      "302/302 [==============================] - 28s 93ms/step - loss: 2.7932 - val_loss: 3.6112\n",
      "Epoch 23/50\n",
      "302/302 [==============================] - 28s 94ms/step - loss: 2.7555 - val_loss: 3.6098\n",
      "Epoch 24/50\n",
      "302/302 [==============================] - 28s 93ms/step - loss: 2.7195 - val_loss: 3.6106\n",
      "Epoch 25/50\n",
      "302/302 [==============================] - 28s 94ms/step - loss: 2.6857 - val_loss: 3.6150\n",
      "Epoch 00025: early stopping\n"
     ]
    }
   ],
   "source": [
    "model.compile(optimizer=\"rmsprop\", loss=\"sparse_categorical_crossentropy\")\n",
    "es = EarlyStopping(monitor=\"val_loss\", patience=2, verbose=1)\n",
    "\n",
    "history = model.fit(\n",
    "    x=[encoder_input_train, decoder_input_train],\n",
    "    y=decoder_target_train,\n",
    "    validation_data=([encoder_input_test, decoder_input_test], decoder_target_test),\n",
    "    batch_size=256,\n",
    "    callbacks=[es],\n",
    "    epochs=50,\n",
    ")"
   ]
  },
  {
   "cell_type": "markdown",
   "metadata": {},
   "source": [
    "훈련 결과를 그래프로 확인합니다"
   ]
  },
  {
   "cell_type": "code",
   "execution_count": 37,
   "metadata": {
    "scrolled": true
   },
   "outputs": [
    {
     "data": {
      "image/png": "[encoded data removed]",
      "text/plain": [
       "<Figure size 432x288 with 1 Axes>"
      ]
     },
     "metadata": {
      "needs_background": "light"
     },
     "output_type": "display_data"
    }
   ],
   "source": [
    "import matplotlib.pyplot as plt\n",
    "\n",
    "\n",
    "plt.plot(history.history[\"loss\"], label=\"train loss\")\n",
    "plt.plot(history.history[\"val_loss\"], label=\"valid loss\")\n",
    "plt.legend()\n",
    "plt.show()"
   ]
  },
  {
   "cell_type": "markdown",
   "metadata": {},
   "source": [
    "총 50 epoch 중 25 epoch 이후 훈련을 중단하였습니다.(validation loss가 2 epoch 동안 감소하지 않음)    \n",
    "그래프를 보면 5 epoch 부근을 기준으로 학습이 진행되면서 validation loss와 train loss의 차이가 점점 벌어짐을 확인할 수 있습니다.(과적합 양상으로 판단됩니다.)  \n",
    "최종 validation loss는 3.62으로 첫 epoch 이후 얻었던 5.12과 비교하여 약 1.50 정도 감소하였습니다."
   ]
  },
  {
   "cell_type": "markdown",
   "metadata": {},
   "source": [
    "## 모델 테스트"
   ]
  },
  {
   "cell_type": "markdown",
   "metadata": {},
   "source": [
    "테스트를 위해 아래의 3가지 항목을 준비합니다.\n",
    "1. 텍스트 원문 단어 집합을 참고하여 숫자를 단어로 변환하는 사전\n",
    "2. 요약문 단어 집합을 참고하여 단어를 숫자로 변환하는 사전\n",
    "3. 요약문 단어 집합을 참고하여 숫자를 단어로 변환하는 사전\n"
   ]
  },
  {
   "cell_type": "code",
   "execution_count": 38,
   "metadata": {},
   "outputs": [],
   "source": [
    "src_index_to_word = src_tokenizer.index_word\n",
    "tar_word_to_index = tar_tokenizer.word_index\n",
    "tar_index_to_word = tar_tokenizer.index_word"
   ]
  },
  {
   "cell_type": "markdown",
   "metadata": {},
   "source": [
    "테스트를 위한 인코더 설계"
   ]
  },
  {
   "cell_type": "code",
   "execution_count": 39,
   "metadata": {},
   "outputs": [],
   "source": [
    "encoder_model = Model(\n",
    "    inputs=encoder_inputs, outputs=[encoder_outputs, state_h, state_c]\n",
    ")"
   ]
  },
  {
   "cell_type": "markdown",
   "metadata": {},
   "source": [
    "테스트를 위한 디코더 설계"
   ]
  },
  {
   "cell_type": "code",
   "execution_count": 40,
   "metadata": {},
   "outputs": [],
   "source": [
    "# 이전 시점의 상태들을 저장하는 텐서\n",
    "decoder_state_input_h = Input(shape=(hidden_size,))\n",
    "decoder_state_input_c = Input(shape=(hidden_size,))\n",
    "\n",
    "dec_emb2 = dec_emb_layer(decoder_inputs)\n",
    "# 문장의 다음 단어를 예측하기 위해서 초기 상태(initial_state)를 이전 시점의 상태로 사용. 이는 뒤의 함수 decode_sequence()에 구현\n",
    "# 훈련 과정에서와 달리 LSTM의 리턴하는 은닉 상태와 셀 상태인 state_h와 state_c를 버리지 않음.\n",
    "decoder_outputs2, state_h2, state_c2 = decoder_lstm(\n",
    "    dec_emb2, initial_state=[decoder_state_input_h, decoder_state_input_c]\n",
    ")\n",
    "# 어텐션 함수\n",
    "decoder_hidden_state_input = Input(shape=(text_max_len, hidden_size))\n",
    "attn_out_inf = attn_layer([decoder_outputs2, decoder_hidden_state_input])\n",
    "decoder_inf_concat = Concatenate(axis=-1, name=\"concat\")(\n",
    "    [decoder_outputs2, attn_out_inf]\n",
    ")\n",
    "\n",
    "# 디코더의 출력층\n",
    "decoder_outputs2 = decoder_softmax_layer(decoder_inf_concat)\n",
    "\n",
    "# 최종 디코더 모델\n",
    "decoder_model = Model(\n",
    "    [decoder_inputs]\n",
    "    + [decoder_hidden_state_input, decoder_state_input_h, decoder_state_input_c],\n",
    "    [decoder_outputs2] + [state_h2, state_c2],\n",
    ")"
   ]
  },
  {
   "cell_type": "markdown",
   "metadata": {},
   "source": [
    "모델의 테스트를 위해 디코딩 함수를 작성합니다.  \n",
    "- `target_seq`에 `sostoken`에 해당하는 토큰을 입력합니다.\n",
    "- 입력 데이터에 대한 모델의 출력 결과를 모델에 다시 입력으로 사용하여 문장을 생성합니다."
   ]
  },
  {
   "cell_type": "code",
   "execution_count": 41,
   "metadata": {},
   "outputs": [],
   "source": [
    "def decode_sequence(input_seq):\n",
    "    e_out, e_h, e_c = encoder_model.predict(input_seq)\n",
    "    target_seq = np.zeros((1, 1))\n",
    "    target_seq[0, 0] = tar_word_to_index[\"sostoken\"]\n",
    "\n",
    "    stop_condition = False\n",
    "    decoded_sentence = \"\"\n",
    "    while not stop_condition:\n",
    "        output_tokens, h, c = decoder_model.predict([target_seq] + [e_out, e_h, e_c])\n",
    "        sampled_token_index = np.argmax(output_tokens[0, -1, :])\n",
    "        sampled_token = tar_index_to_word[sampled_token_index]\n",
    "\n",
    "        if sampled_token != \"eostoken\":\n",
    "            decoded_sentence += \" \" + sampled_token\n",
    "        if sampled_token == \"eostoken\" or len(decoded_sentence.split()) >= (\n",
    "            summary_max_len - 1\n",
    "        ):\n",
    "            stop_condition = True\n",
    "\n",
    "        target_seq = np.zeros((1, 1))\n",
    "        target_seq[0, 0] = sampled_token_index\n",
    "\n",
    "        e_h, e_c = h, c\n",
    "\n",
    "    return decoded_sentence"
   ]
  },
  {
   "cell_type": "markdown",
   "metadata": {},
   "source": [
    "## 실제 결과와 요약문 비교하기\n",
    "모델을 통해서 얻은 결과와 실제 데이터를 비교하기 위한 함수를 작성합니다.\n",
    "1. (원문) 정수로 표현된 데이터를 텍스트로 변환하는 함수\n",
    "2. (요약) 정수로 표현된 데이터를 요약문으로 변환하는 함수"
   ]
  },
  {
   "cell_type": "code",
   "execution_count": 42,
   "metadata": {},
   "outputs": [],
   "source": [
    "def seq2text(input_seq):\n",
    "    temp = \"\"\n",
    "    for i in input_seq:\n",
    "        if i != 0:\n",
    "            temp = temp + src_index_to_word[i] + \" \"\n",
    "    return temp\n",
    "\n",
    "\n",
    "def seq2summary(input_seq):\n",
    "    temp = \"\"\n",
    "    for i in input_seq:\n",
    "        if (i != 0 and i != tar_word_to_index[\"sostoken\"]) and i != tar_word_to_index[\n",
    "            \"eostoken\"\n",
    "        ]:\n",
    "            temp = temp + tar_index_to_word[i] + \" \"\n",
    "    return temp"
   ]
  },
  {
   "cell_type": "code",
   "execution_count": 43,
   "metadata": {
    "scrolled": true
   },
   "outputs": [
    {
     "name": "stdout",
     "output_type": "stream",
     "text": [
      "원문      : comedian turned actor andy dick fired movies accused sexual misconduct harassment sets andy accused groping consensual kissing kissed cheek bye funny \n",
      "실제 요약 : comedian andy fired from films post sexual misconduct claims \n",
      "예측 요약 :  am not my friend weinstein on sexual harassment\n",
      "\n",
      "\n",
      "원문      : janhvi kapoor talking school days school days make stories remember calling friend secret agent spy school believe added \n",
      "실제 요약 : in school days people thought was janhvi \n",
      "예측 요약 :  have been to be for the class of kids janhvi\n",
      "\n",
      "\n",
      "원문      : england ended day fourth test innings trailing india runs india cheteshwar pujara scored maiden test ton england pujara scored registered run run stand ninth tenth wickets respectively england moeen ali picked indian wickets runs \n",
      "실제 요약 : england trail by runs after pujara scores st ton in eng \n",
      "예측 요약 :  pujara end day as england end day at home\n",
      "\n",
      "\n",
      "원문      : virat kohli playing test captain south africa johannesburg fielded different playing xi tests kohli different players matches ravichandran ashwin featuring tests player kohli captaincy kohli captaincy \n",
      "실제 요약 : india has played unique teams in all tests under kohli \n",
      "예측 요약 :  kohli will lead to play in test series kohli\n",
      "\n",
      "\n",
      "원문      : north korea estimated nuclear weapons south korea unification minister cho informed country parliament cited information intelligence authorities south korea maintained accept north korea nuclear state continue achieve denuclearisation korean peninsula \n",
      "실제 요약 : korea to have up to nuclear weapons korea \n",
      "예측 요약 :  north korea to be world most powerful north korea\n",
      "\n",
      "\n"
     ]
    }
   ],
   "source": [
    "for i in range(78, 83):\n",
    "    print(\"원문      :\", seq2text(encoder_input_test[i]))\n",
    "    print(\"실제 요약 :\", seq2summary(decoder_input_test[i]))\n",
    "    print(\"예측 요약 :\", decode_sequence(encoder_input_test[i].reshape(1, text_max_len)))\n",
    "    print(\"\\n\")"
   ]
  },
  {
   "cell_type": "markdown",
   "metadata": {},
   "source": [
    "validation loss가 3.62인 모델의 출력 결과는 요약문에 포함되어 있는 핵심 단어를 포함하는 경우도 있었으나, 전하고자 하는 내용을 전달하지 못하는 경우가 많았습니다.  \n",
    "더 낮은 validation loss를 달성한 모델의 요약 결과는 어떤지 확인하기 위해 모델 탐색을 수행합니다."
   ]
  },
  {
   "cell_type": "markdown",
   "metadata": {},
   "source": [
    "## 모델 탐색"
   ]
  },
  {
   "cell_type": "code",
   "execution_count": 44,
   "metadata": {},
   "outputs": [],
   "source": [
    "import tensorflow as tf\n",
    "import keras_tuner as kt\n",
    "import IPython\n",
    "\n",
    "\n",
    "trials = 24\n",
    "\n",
    "\n",
    "def model_builder(hp):\n",
    "    n_layers = hp.Choice(\"n_layers\", [1, 2, 3])\n",
    "    embedding_dim = hp.Choice(\"embedding_dim\", [128, 256])\n",
    "    hidden_size = hp.Choice(\"hidden_size\", [256, 512])\n",
    "    optim = hp.Choice(\"optim\", [\"rmsprop\", \"adam\"])\n",
    "\n",
    "    encoder_inputs = Input(shape=(text_max_len,))\n",
    "    enc_emb = Embedding(src_vocab, embedding_dim)(encoder_inputs)\n",
    "\n",
    "    if n_layers >= 1:\n",
    "        encoder_lstm1 = LSTM(\n",
    "            hidden_size, return_sequences=True, return_state=True, dropout=0.4\n",
    "        )\n",
    "        encoder_outputs, state_h, state_c = encoder_lstm1(enc_emb)\n",
    "    if n_layers >= 2:\n",
    "        encoder_lstm2 = LSTM(\n",
    "            hidden_size, return_sequences=True, return_state=True, dropout=0.4\n",
    "        )\n",
    "        encoder_outputs, state_h, state_c = encoder_lstm2(encoder_outputs)\n",
    "    if n_layers >= 3:\n",
    "        encoder_lstm3 = LSTM(\n",
    "            hidden_size, return_state=True, return_sequences=True, dropout=0.4\n",
    "        )\n",
    "        encoder_outputs, state_h, state_c = encoder_lstm3(encoder_outputs)\n",
    "\n",
    "    decoder_inputs = Input(shape=(None,))\n",
    "    dec_emb_layer = Embedding(tar_vocab, embedding_dim)\n",
    "    dec_emb = dec_emb_layer(decoder_inputs)\n",
    "\n",
    "    decoder_lstm = LSTM(\n",
    "        hidden_size, return_sequences=True, return_state=True, dropout=0.4\n",
    "    )\n",
    "    decoder_outputs, _, _ = decoder_lstm(dec_emb, initial_state=[state_h, state_c])\n",
    "\n",
    "    attn_layer = AdditiveAttention(name=\"attention_layer\")\n",
    "    attn_out = attn_layer([decoder_outputs, encoder_outputs])\n",
    "\n",
    "    decoder_concat_input = Concatenate(axis=-1, name=\"concat_layer\")(\n",
    "        [decoder_outputs, attn_out]\n",
    "    )\n",
    "    decoder_softmax_layer = Dense(tar_vocab, activation=\"softmax\")\n",
    "    decoder_softmax_outputs = decoder_softmax_layer(decoder_concat_input)\n",
    "\n",
    "    model = Model([encoder_inputs, decoder_inputs], decoder_softmax_outputs)\n",
    "    model.compile(optimizer=optim, loss=\"sparse_categorical_crossentropy\")\n",
    "    return model\n",
    "\n",
    "\n",
    "tuner = kt.RandomSearch(\n",
    "    model_builder,\n",
    "    objective=\"val_loss\",\n",
    "    max_trials=trials,\n",
    "    executions_per_trial=1,\n",
    "    directory=\"log_exp\",\n",
    "    overwrite=True,\n",
    ")\n",
    "\n",
    "\n",
    "class ClearTrainingOutput(tf.keras.callbacks.Callback):\n",
    "    def on_train_end(*args, **kwargs):\n",
    "        IPython.display.clear_output(wait=True)"
   ]
  },
  {
   "cell_type": "markdown",
   "metadata": {},
   "source": [
    "이전에 훈련한 모델이 5 epoch 부근에서 validation loss가 train loss보다 커지기 시작하였기에, 5 epoch 동안 훈련한 성능을 기준으로 최적의 모델을 찾습니다."
   ]
  },
  {
   "cell_type": "code",
   "execution_count": 45,
   "metadata": {},
   "outputs": [
    {
     "name": "stdout",
     "output_type": "stream",
     "text": [
      "Trial 18 Complete [00h 02m 12s]\n",
      "val_loss: 3.9114990234375\n",
      "\n",
      "Best val_loss So Far: 3.8376500606536865\n",
      "Total elapsed time: 01h 02m 03s\n",
      "INFO:tensorflow:Oracle triggered exit\n",
      "\n",
      "The hyperparameter search is complete.\n",
      "n_layer: 1\n",
      "embedding_dim: 256\n",
      "hidden_size: 512\n",
      "optim: adam\n",
      "\n"
     ]
    }
   ],
   "source": [
    "tuner.search(\n",
    "    x=[encoder_input_train, decoder_input_train],\n",
    "    y=decoder_target_train,\n",
    "    validation_data=([encoder_input_test, decoder_input_test], decoder_target_test),\n",
    "    callbacks=[ClearTrainingOutput()],\n",
    "    batch_size=256,\n",
    "    epochs=5,\n",
    ")\n",
    "\n",
    "best_hps = tuner.get_best_hyperparameters(num_trials=1)[0]\n",
    "\n",
    "print(\n",
    "    f\"\"\"\n",
    "The hyperparameter search is complete.\n",
    "n_layer: {best_hps.get('n_layers')}\n",
    "embedding_dim: {best_hps.get('embedding_dim')}\n",
    "hidden_size: {best_hps.get('hidden_size')}\n",
    "optim: {best_hps.get('optim')}\n",
    "\"\"\"\n",
    ")"
   ]
  },
  {
   "cell_type": "markdown",
   "metadata": {},
   "source": [
    "탐색 결과 LSTM은 1개의 계층을 사용하고, 임베딩 크기와 히든 유닛은 각각 256, 512로 설정한 모델의 validation loss가 가장 낮았습니다."
   ]
  },
  {
   "cell_type": "markdown",
   "metadata": {},
   "source": [
    "## 최적 모델 훈련\n",
    "앞서 탐색한 하이퍼파라미터를 적용한 모델을 훈련합니다."
   ]
  },
  {
   "cell_type": "code",
   "execution_count": 46,
   "metadata": {
    "scrolled": true
   },
   "outputs": [
    {
     "name": "stdout",
     "output_type": "stream",
     "text": [
      "Epoch 1/50\n",
      "302/302 [==============================] - 44s 134ms/step - loss: 5.6064 - val_loss: 5.2544\n",
      "Epoch 2/50\n",
      "302/302 [==============================] - 40s 133ms/step - loss: 5.1251 - val_loss: 4.8751\n",
      "Epoch 3/50\n",
      "302/302 [==============================] - 40s 133ms/step - loss: 4.6064 - val_loss: 4.3588\n",
      "Epoch 4/50\n",
      "302/302 [==============================] - 40s 133ms/step - loss: 4.0972 - val_loss: 3.9812\n",
      "Epoch 5/50\n",
      "302/302 [==============================] - 40s 133ms/step - loss: 3.6712 - val_loss: 3.7257\n",
      "Epoch 6/50\n",
      "302/302 [==============================] - 40s 133ms/step - loss: 3.3096 - val_loss: 3.5638\n",
      "Epoch 7/50\n",
      "302/302 [==============================] - 40s 133ms/step - loss: 3.0041 - val_loss: 3.4639\n",
      "Epoch 8/50\n",
      "302/302 [==============================] - 40s 133ms/step - loss: 2.7366 - val_loss: 3.4118\n",
      "Epoch 9/50\n",
      "302/302 [==============================] - 40s 133ms/step - loss: 2.5004 - val_loss: 3.3904\n",
      "Epoch 10/50\n",
      "302/302 [==============================] - 40s 133ms/step - loss: 2.2909 - val_loss: 3.3910\n",
      "Epoch 11/50\n",
      "302/302 [==============================] - 40s 133ms/step - loss: 2.1071 - val_loss: 3.4009\n",
      "Epoch 00011: early stopping\n"
     ]
    }
   ],
   "source": [
    "n_layers = best_hps.get(\"n_layers\")\n",
    "embedding_dim = best_hps.get(\"embedding_dim\")\n",
    "hidden_size = best_hps.get(\"hidden_size\")\n",
    "optim = best_hps.get(\"optim\")\n",
    "\n",
    "encoder_inputs = Input(shape=(text_max_len,))\n",
    "enc_emb = Embedding(src_vocab, embedding_dim)(encoder_inputs)\n",
    "\n",
    "if n_layers >= 1:\n",
    "    encoder_lstm1 = LSTM(\n",
    "        hidden_size, return_sequences=True, return_state=True, dropout=0.4\n",
    "    )\n",
    "    encoder_outputs, state_h, state_c = encoder_lstm1(enc_emb)\n",
    "if n_layers >= 2:\n",
    "    encoder_lstm2 = LSTM(\n",
    "        hidden_size, return_sequences=True, return_state=True, dropout=0.4\n",
    "    )\n",
    "    encoder_outputs, state_h, state_c = encoder_lstm2(encoder_outputs)\n",
    "if n_layers >= 3:\n",
    "    encoder_lstm3 = LSTM(\n",
    "        hidden_size, return_state=True, return_sequences=True, dropout=0.4\n",
    "    )\n",
    "    encoder_outputs, state_h, state_c = encoder_lstm3(encoder_outputs)\n",
    "\n",
    "decoder_inputs = Input(shape=(None,))\n",
    "dec_emb_layer = Embedding(tar_vocab, embedding_dim)\n",
    "dec_emb = dec_emb_layer(decoder_inputs)\n",
    "\n",
    "decoder_lstm = LSTM(hidden_size, return_sequences=True, return_state=True, dropout=0.4)\n",
    "decoder_outputs, _, _ = decoder_lstm(dec_emb, initial_state=[state_h, state_c])\n",
    "\n",
    "attn_layer = AdditiveAttention(name=\"attention_layer\")\n",
    "attn_out = attn_layer([decoder_outputs, encoder_outputs])\n",
    "\n",
    "decoder_concat_input = Concatenate(axis=-1, name=\"concat_layer\")(\n",
    "    [decoder_outputs, attn_out]\n",
    ")\n",
    "decoder_softmax_layer = Dense(tar_vocab, activation=\"softmax\")\n",
    "decoder_softmax_outputs = decoder_softmax_layer(decoder_concat_input)\n",
    "\n",
    "model = Model([encoder_inputs, decoder_inputs], decoder_softmax_outputs)\n",
    "\n",
    "model.compile(optimizer=optim, loss=\"sparse_categorical_crossentropy\")\n",
    "history = model.fit(\n",
    "    x=[encoder_input_train, decoder_input_train],\n",
    "    y=decoder_target_train,\n",
    "    validation_data=([encoder_input_test, decoder_input_test], decoder_target_test),\n",
    "    batch_size=256,\n",
    "    callbacks=[es],\n",
    "    epochs=50,\n",
    ")"
   ]
  },
  {
   "cell_type": "markdown",
   "metadata": {},
   "source": [
    "11 epoch으로 훈련이 종료되었으며, 3.40의 validation loss를 달성하였습니다."
   ]
  },
  {
   "cell_type": "markdown",
   "metadata": {},
   "source": [
    "테스트를 위한 모델 설계"
   ]
  },
  {
   "cell_type": "code",
   "execution_count": 47,
   "metadata": {},
   "outputs": [],
   "source": [
    "encoder_model = Model(\n",
    "    inputs=encoder_inputs, outputs=[encoder_outputs, state_h, state_c]\n",
    ")\n",
    "\n",
    "decoder_state_input_h = Input(shape=(hidden_size,))\n",
    "decoder_state_input_c = Input(shape=(hidden_size,))\n",
    "\n",
    "dec_emb2 = dec_emb_layer(decoder_inputs)\n",
    "decoder_outputs2, state_h2, state_c2 = decoder_lstm(\n",
    "    dec_emb2, initial_state=[decoder_state_input_h, decoder_state_input_c]\n",
    ")\n",
    "decoder_hidden_state_input = Input(shape=(text_max_len, hidden_size))\n",
    "attn_out_inf = attn_layer([decoder_outputs2, decoder_hidden_state_input])\n",
    "decoder_inf_concat = Concatenate(axis=-1, name=\"concat\")(\n",
    "    [decoder_outputs2, attn_out_inf]\n",
    ")\n",
    "\n",
    "decoder_outputs2 = decoder_softmax_layer(decoder_inf_concat)\n",
    "\n",
    "decoder_model = Model(\n",
    "    [decoder_inputs]\n",
    "    + [decoder_hidden_state_input, decoder_state_input_h, decoder_state_input_c],\n",
    "    [decoder_outputs2] + [state_h2, state_c2],\n",
    ")"
   ]
  },
  {
   "cell_type": "markdown",
   "metadata": {},
   "source": [
    "## 최적 모델 예측 결과 비교"
   ]
  },
  {
   "cell_type": "code",
   "execution_count": 48,
   "metadata": {
    "scrolled": true
   },
   "outputs": [
    {
     "name": "stdout",
     "output_type": "stream",
     "text": [
      "원문      : comedian turned actor andy dick fired movies accused sexual misconduct harassment sets andy accused groping consensual kissing kissed cheek bye funny \n",
      "실제 요약 : comedian andy fired from films post sexual misconduct claims \n",
      "예측 요약 :  comedian fired for sexual assault allegation\n",
      "\n",
      "\n",
      "원문      : janhvi kapoor talking school days school days make stories remember calling friend secret agent spy school believe added \n",
      "실제 요약 : in school days people thought was janhvi \n",
      "예측 요약 :  am not going to be called for kids janhvi on soty\n",
      "\n",
      "\n",
      "원문      : england ended day fourth test innings trailing india runs india cheteshwar pujara scored maiden test ton england pujara scored registered run run stand ninth tenth wickets respectively england moeen ali picked indian wickets runs \n",
      "실제 요약 : england trail by runs after pujara scores st ton in eng \n",
      "예측 요약 :  pujara pujara ton on runs in australia end day\n",
      "\n",
      "\n",
      "원문      : virat kohli playing test captain south africa johannesburg fielded different playing xi tests kohli different players matches ravichandran ashwin featuring tests player kohli captaincy kohli captaincy \n",
      "실제 요약 : india has played unique teams in all tests under kohli \n",
      "예측 요약 :  kohli st captain to be catches in test series\n",
      "\n",
      "\n",
      "원문      : north korea estimated nuclear weapons south korea unification minister cho informed country parliament cited information intelligence authorities south korea maintained accept north korea nuclear state continue achieve denuclearisation korean peninsula \n",
      "실제 요약 : korea to have up to nuclear weapons korea \n",
      "예측 요약 :  korea sanctions against korea over nuke talks\n",
      "\n",
      "\n"
     ]
    }
   ],
   "source": [
    "for i in range(78, 83):\n",
    "    print(\"원문      :\", seq2text(encoder_input_test[i]))\n",
    "    print(\"실제 요약 :\", seq2summary(decoder_input_test[i]))\n",
    "    print(\"예측 요약 :\", decode_sequence(encoder_input_test[i].reshape(1, text_max_len)))\n",
    "    print(\"\\n\")"
   ]
  },
  {
   "cell_type": "markdown",
   "metadata": {},
   "source": [
    "샘플로 확인한 데이터에 대해서 실제 요약에 근접한 결과는 아니지만, validation loss가 3.62인 모델과 비교하여 실제 요약에 포함되어 있는 단어를 예측하는 비율이 높아졌습니다."
   ]
  },
  {
   "cell_type": "markdown",
   "metadata": {},
   "source": [
    "## Summa을 이용한 추출적 요약\n",
    "[Summa](https://github.com/summanlp/textrank) 라이브러리를 사용하여 동일한 데이터에 대해 추출적 요약을 시도합니다."
   ]
  },
  {
   "cell_type": "code",
   "execution_count": 49,
   "metadata": {},
   "outputs": [],
   "source": [
    "from summa.summarizer import summarize\n",
    "\n",
    "\n",
    "data = pd.read_csv(\"news_summary_more.csv\", encoding=\"iso-8859-1\")"
   ]
  },
  {
   "cell_type": "code",
   "execution_count": 50,
   "metadata": {},
   "outputs": [
    {
     "name": "stdout",
     "output_type": "stream",
     "text": [
      "Text    : North Korea is \"unlikely to completely give up its nuclear weapons and production capabilities\", Director of US' National Intelligence, Daniel Coats, said. \"North Korean leaders view nuclear arms as critical to regime survival,\" he added. His statements come despite North Korea's agreement with the US at the Singapore summit last year to denuclearise the Korean Peninsula. \n",
      "Headline: N Korea unlikely to give up nuclear weapons: US intelligence chief\n",
      "Summa   : \"North Korean leaders view nuclear arms as critical to regime survival,\" he added.\n",
      "\n",
      "Text    : Jet Airways on Wednesday denied it was directed by GE Capital Aviation Services to ground its aircraft due to non-payment of dues. The airline said it's in the process of delivering three aircraft to lessors due to the expiry of lease terms. Further, three aircraft have been temporarily grounded to carry out an engine normalisation exercise, it added.\n",
      "Headline: Jet Airways denies being told to ground aircraft\n",
      "Summa   : Further, three aircraft have been temporarily grounded to carry out an engine normalisation exercise, it added.\n",
      "\n",
      "Text    : Retired Justice Srikrishna's enquiry panel has found that ex-CEO Chanda Kochhar violated ICICI Bank's code of conduct. The bank said it'll treat Kochhar's exit as termination and will take back all bonuses paid to her from April 2009 until March 2018. The CBI recently filed a case against Kochhar, her husband, and Videocon MD in the ICICI-Videocon loan case.\n",
      "Headline: ICICI fires Chanda Kochhar, to take back bonuses paid in last 9 yrs\n",
      "Summa   : Retired Justice Srikrishna's enquiry panel has found that ex-CEO Chanda Kochhar violated ICICI Bank's code of conduct.\n",
      "\n",
      "Text    : Ex-India cricketer Jacob Martin has been shifted to general ward from the ICU after being on a ventilator for nearly a month following a road accident, wherein he severely injured his lungs. Martin's wife Khyati mentioned there are chances that Jacob will be in hospital for two more months. BCCI, CSK and various cricketers provided financial assistance for Martin's treatment.\n",
      "Headline: Ex-cricketer Martin out of ICU after being on ventilator for a month\n",
      "Summa   : Ex-India cricketer Jacob Martin has been shifted to general ward from the ICU after being on a ventilator for nearly a month following a road accident, wherein he severely injured his lungs.\n",
      "\n",
      "Text    : Sri Lanka all-rounder Thisara Perera has written to Sri Lanka Cricket CEO Ashley de Silva, asking the board to intervene after ODI captain Lasith Malinga's wife Tanya targeted him on Facebook. Tanya accused Perera of meeting country's Sports Minister to secure his place in the team. \"We've become laughing stock of whole country...because of one person's personal vendetta,\" Perera wrote.\n",
      "Headline: Malinga's wife targets Perera on Facebook, he seeks board's help\n",
      "Summa   : Tanya accused Perera of meeting country's Sports Minister to secure his place in the team.\n",
      "\n"
     ]
    }
   ],
   "source": [
    "for i in range(78, 83):\n",
    "    print(\"Text    :\", data[\"text\"][i])\n",
    "    print(\"Headline:\", data[\"headlines\"][i])\n",
    "    print(\"Summa   :\", summarize(data[\"text\"][i], ratio=0.5))\n",
    "    print()"
   ]
  },
  {
   "cell_type": "code",
   "execution_count": 51,
   "metadata": {},
   "outputs": [
    {
     "name": "stdout",
     "output_type": "stream",
     "text": [
      "Text    : North Korea is \"unlikely to completely give up its nuclear weapons and production capabilities\", Director of US' National Intelligence, Daniel Coats, said. \"North Korean leaders view nuclear arms as critical to regime survival,\" he added. His statements come despite North Korea's agreement with the US at the Singapore summit last year to denuclearise the Korean Peninsula. \n",
      "Headline: N Korea unlikely to give up nuclear weapons: US intelligence chief\n",
      "Summa   : \"North Korean leaders view nuclear arms as critical to regime survival,\" he added.\n",
      "\n",
      "Text    : Jet Airways on Wednesday denied it was directed by GE Capital Aviation Services to ground its aircraft due to non-payment of dues. The airline said it's in the process of delivering three aircraft to lessors due to the expiry of lease terms. Further, three aircraft have been temporarily grounded to carry out an engine normalisation exercise, it added.\n",
      "Headline: Jet Airways denies being told to ground aircraft\n",
      "Summa   : Further, three aircraft have been temporarily grounded to carry out an engine normalisation exercise, it added.\n",
      "\n",
      "Text    : Retired Justice Srikrishna's enquiry panel has found that ex-CEO Chanda Kochhar violated ICICI Bank's code of conduct. The bank said it'll treat Kochhar's exit as termination and will take back all bonuses paid to her from April 2009 until March 2018. The CBI recently filed a case against Kochhar, her husband, and Videocon MD in the ICICI-Videocon loan case.\n",
      "Headline: ICICI fires Chanda Kochhar, to take back bonuses paid in last 9 yrs\n",
      "Summa   : Retired Justice Srikrishna's enquiry panel has found that ex-CEO Chanda Kochhar violated ICICI Bank's code of conduct.\n",
      "\n",
      "Text    : Ex-India cricketer Jacob Martin has been shifted to general ward from the ICU after being on a ventilator for nearly a month following a road accident, wherein he severely injured his lungs. Martin's wife Khyati mentioned there are chances that Jacob will be in hospital for two more months. BCCI, CSK and various cricketers provided financial assistance for Martin's treatment.\n",
      "Headline: Ex-cricketer Martin out of ICU after being on ventilator for a month\n",
      "Summa   : \n",
      "\n",
      "Text    : Sri Lanka all-rounder Thisara Perera has written to Sri Lanka Cricket CEO Ashley de Silva, asking the board to intervene after ODI captain Lasith Malinga's wife Tanya targeted him on Facebook. Tanya accused Perera of meeting country's Sports Minister to secure his place in the team. \"We've become laughing stock of whole country...because of one person's personal vendetta,\" Perera wrote.\n",
      "Headline: Malinga's wife targets Perera on Facebook, he seeks board's help\n",
      "Summa   : Tanya accused Perera of meeting country's Sports Minister to secure his place in the team.\n",
      "\n"
     ]
    }
   ],
   "source": [
    "for i in range(78, 83):\n",
    "    print(\"Text    :\", data[\"text\"][i])\n",
    "    print(\"Headline:\", data[\"headlines\"][i])\n",
    "    print(\"Summa   :\", summarize(data[\"text\"][i], words=10))\n",
    "    print()"
   ]
  },
  {
   "cell_type": "markdown",
   "metadata": {},
   "source": [
    "## 결론\n",
    "\n",
    "### Abstractive 요약 모델\n",
    "\n",
    "- 영어를 기준으로 불용어를 제거하였기에, 데이터셋의 특성을 제대로 반영하지 못하여 모델 훈련에 좋지 않은 영향을 미쳤을 것으로 생각됩니다.\n",
    "- validation loss가 최종 3.40으로 요약 모델이 성공적으로 잘 훈련되었는가에 대해서는 추가적인 고찰이 필요합니다.\n",
    "    - 문장의 요약은 특정한 기준이 존재하는 것이 아니라 데이터셋을 제작한 사람 개인의 주관이 들어가 있어, 절대적인 정답이라고 말할 수 없습니다.\n",
    "    - 또한 모델이 요약한 결과에 대한 평가 역시 개개인에 따라 달라질 수 있습니다. 따라서 다양한 사람들의 평가를 통해 적절한 훈련 목표치를 설정하는 것이 필요합니다.\n",
    "- 사용한 데이터셋에 인도에서 사용되는 고유 명사로 추정되는 단어들이 많이 등장하여 요약 결과를 보고 성능을 평가하기에는 한계가 존재했습니다.\n",
    "    - 그럼에도 주관적인 판단으로 적절한 요약을 한 경우가 존재했습니다.\n",
    "    \n",
    "###  Abstractive 요약 결과와 Extractive 요약 결과 비교\n",
    "\n",
    "- abstractive 요약은 원문에서 등장하지 않았던 단어를 사용하는 경우도 존재하였습니다.\n",
    "- extractive 요약은 기사 속의 문장을 그대로 사용한 결과를 보여주었고, 단어를 조합하기보다는 원문에 존재하는 온전한 문장을 선택하는 경우가 많았습니다.\n",
    "    - 또한 임의로 제시한 50%의 비율과 10개의 단어 제한에 대해서 결과가 출력되지 않는 경우도 존재하였습니다.\n",
    "- 두 요약 결과 모두 원문의 핵심이라고 생각되는 단어들을 포함하는 결과를 얻을 수 있었습니다.\n",
    "- extractive 요약은 원문에 존재하는 문장을 그대로 사용하려는 경향 때문에 자연스러운 문장을 얻을 수 있었지만, abstractive 요약은 문장을 생성해냈기에 상대적으로 어색한 문장을 만들었습니다.\n",
    "- 소설이나 에세이와 다르게 객관적 사실만을 간결하게 작성하는 언론 기사의 특성상 전체적인 내용을 보고 요약하는 abstractive 모델 보다는 extractive 모델의 결과가 더 좋은 것으로 판단됩니다.\n",
    "    - 다만 훈련 데이터의 크기와 최적의 모델을 찾는 과정이 더 확장된 범위에서 진행된다면 조금 다른 결과를 얻을 수도 있을 것으로 생각됩니다.\n",
    "    "
   ]
  },
  {
   "cell_type": "markdown",
   "metadata": {},
   "source": [
    "## 루브릭\n",
    "|평가문항|상세기준|\n",
    "|---|---|\n",
    "|1. Abstractive 모델 구성을 위한 텍스트 전처리 단계가 체계적으로 진행되었다.|분석단계, 정제단계, 정규화와 불용어 제거, 데이터셋 분리, 인코딩 과정이 빠짐없이 체계적으로 진행되었다.|\n",
    "|2. 텍스트 요약모델이 성공적으로 학습되었음을 확인하였다.|모델학습이 안정적으로 수렴되었음을 그래프를 통해 확인하였으며, 실제 요약문과 유사한 요약문장을 얻을 수 있었다.|\n",
    "|3. Extractive 요약을 시도해 보고 Abstractive 요약 결과과 함께 비교해 보았다.|두 요약 결과를 문법완성도 측면과 핵심단어 포함 측면으로 나누어 비교분석 결과를 제시하였다.|"
   ]
  },
  {
   "cell_type": "markdown",
   "metadata": {},
   "source": [
    "### 루브릭 자체평가\n",
    "1. 데이터를 확인하고 전처리 함수를 적용하였다.\n",
    "2. 요약 모델의 학습이 정상적으로 이루어졌으며, 모델을 통하여 요약 문장을 얻을 수 있었다.\n",
    "3. Summa 라이브러리를 사용하여 extractive 요약을 시도하였고, 직접 훈련한 모델을 사용한 abstractive 요약과 결과를 비교하였다."
   ]
  }
 ],
 "metadata": {
  "interpreter": {
   "hash": "904ec598f04e298c1da61f59e80a1ebe13847a2b41a30c6e501ecbe66c56a42c"
  },
  "kernelspec": {
   "display_name": "Python 3 (ipykernel)",
   "language": "python",
   "name": "python3"
  },
  "language_info": {
   "codemirror_mode": {
    "name": "ipython",
    "version": 3
   },
   "file_extension": ".py",
   "mimetype": "text/x-python",
   "name": "python",
   "nbconvert_exporter": "python",
   "pygments_lexer": "ipython3",
   "version": "3.9.7"
  }
 },
 "nbformat": 4,
 "nbformat_minor": 2
}
