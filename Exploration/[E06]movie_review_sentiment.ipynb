{
 "cells": [
  {
   "cell_type": "markdown",
   "id": "e78c5f15",
   "metadata": {},
   "source": [
    "# 6. 영화리뷰 텍스트 감성분석하기"
   ]
  },
  {
   "cell_type": "code",
   "execution_count": 1,
   "id": "6387e502",
   "metadata": {},
   "outputs": [
    {
     "name": "stdout",
     "output_type": "stream",
     "text": [
      "Requirement already satisfied: gensim==3.8.3 in /opt/conda/lib/python3.9/site-packages (3.8.3)\n",
      "Requirement already satisfied: nb_black in /opt/conda/lib/python3.9/site-packages (1.0.7)\n",
      "Requirement already satisfied: smart-open>=1.8.1 in /opt/conda/lib/python3.9/site-packages (from gensim==3.8.3) (5.2.1)\n",
      "Requirement already satisfied: six>=1.5.0 in /opt/conda/lib/python3.9/site-packages (from gensim==3.8.3) (1.16.0)\n",
      "Requirement already satisfied: scipy>=0.18.1 in /opt/conda/lib/python3.9/site-packages (from gensim==3.8.3) (1.7.1)\n",
      "Requirement already satisfied: numpy>=1.11.3 in /opt/conda/lib/python3.9/site-packages (from gensim==3.8.3) (1.21.4)\n",
      "Requirement already satisfied: ipython in /opt/conda/lib/python3.9/site-packages (from nb_black) (7.28.0)\n",
      "Requirement already satisfied: black>='19.3' in /opt/conda/lib/python3.9/site-packages (from nb_black) (21.12b0)\n",
      "Requirement already satisfied: click>=7.1.2 in /opt/conda/lib/python3.9/site-packages (from black>='19.3'->nb_black) (8.0.3)\n",
      "Requirement already satisfied: platformdirs>=2 in /opt/conda/lib/python3.9/site-packages (from black>='19.3'->nb_black) (2.4.0)\n",
      "Requirement already satisfied: tomli<2.0.0,>=0.2.6 in /opt/conda/lib/python3.9/site-packages (from black>='19.3'->nb_black) (1.2.2)\n",
      "Requirement already satisfied: pathspec<1,>=0.9.0 in /opt/conda/lib/python3.9/site-packages (from black>='19.3'->nb_black) (0.9.0)\n",
      "Requirement already satisfied: typing-extensions>=3.10.0.0 in /opt/conda/lib/python3.9/site-packages (from black>='19.3'->nb_black) (4.0.1)\n",
      "Requirement already satisfied: mypy-extensions>=0.4.3 in /opt/conda/lib/python3.9/site-packages (from black>='19.3'->nb_black) (0.4.3)\n",
      "Requirement already satisfied: prompt-toolkit!=3.0.0,!=3.0.1,<3.1.0,>=2.0.0 in /opt/conda/lib/python3.9/site-packages (from ipython->nb_black) (3.0.22)\n",
      "Requirement already satisfied: decorator in /opt/conda/lib/python3.9/site-packages (from ipython->nb_black) (4.4.2)\n",
      "Requirement already satisfied: pexpect>4.3 in /opt/conda/lib/python3.9/site-packages (from ipython->nb_black) (4.8.0)\n",
      "Requirement already satisfied: traitlets>=4.2 in /opt/conda/lib/python3.9/site-packages (from ipython->nb_black) (5.1.1)\n",
      "Requirement already satisfied: matplotlib-inline in /opt/conda/lib/python3.9/site-packages (from ipython->nb_black) (0.1.3)\n",
      "Requirement already satisfied: pickleshare in /opt/conda/lib/python3.9/site-packages (from ipython->nb_black) (0.7.5)\n",
      "Requirement already satisfied: backcall in /opt/conda/lib/python3.9/site-packages (from ipython->nb_black) (0.2.0)\n",
      "Requirement already satisfied: jedi>=0.16 in /opt/conda/lib/python3.9/site-packages (from ipython->nb_black) (0.18.1)\n",
      "Requirement already satisfied: setuptools>=18.5 in /opt/conda/lib/python3.9/site-packages (from ipython->nb_black) (59.4.0)\n",
      "Requirement already satisfied: pygments in /opt/conda/lib/python3.9/site-packages (from ipython->nb_black) (2.10.0)\n",
      "Requirement already satisfied: parso<0.9.0,>=0.8.0 in /opt/conda/lib/python3.9/site-packages (from jedi>=0.16->ipython->nb_black) (0.8.3)\n",
      "Requirement already satisfied: ptyprocess>=0.5 in /opt/conda/lib/python3.9/site-packages (from pexpect>4.3->ipython->nb_black) (0.7.0)\n",
      "Requirement already satisfied: wcwidth in /opt/conda/lib/python3.9/site-packages (from prompt-toolkit!=3.0.0,!=3.0.1,<3.1.0,>=2.0.0->ipython->nb_black) (0.2.5)\n",
      "\u001b[33mWARNING: Running pip as the 'root' user can result in broken permissions and conflicting behaviour with the system package manager. It is recommended to use a virtual environment instead: https://pip.pypa.io/warnings/venv\u001b[0m\n"
     ]
    }
   ],
   "source": [
    "! pip install gensim==3.8.3 nb_black"
   ]
  },
  {
   "cell_type": "code",
   "execution_count": 2,
   "id": "43e7344d",
   "metadata": {},
   "outputs": [
    {
     "data": {
      "application/javascript": "\n            setTimeout(function() {\n                var nbb_cell_id = 2;\n                var nbb_unformatted_code = \"%matplotlib inline\\n%load_ext nb_black\";\n                var nbb_formatted_code = \"%matplotlib inline\\n%load_ext nb_black\";\n                var nbb_cells = Jupyter.notebook.get_cells();\n                for (var i = 0; i < nbb_cells.length; ++i) {\n                    if (nbb_cells[i].input_prompt_number == nbb_cell_id) {\n                        if (nbb_cells[i].get_text() == nbb_unformatted_code) {\n                             nbb_cells[i].set_text(nbb_formatted_code);\n                        }\n                        break;\n                    }\n                }\n            }, 500);\n            ",
      "text/plain": [
       "<IPython.core.display.Javascript object>"
      ]
     },
     "metadata": {},
     "output_type": "display_data"
    }
   ],
   "source": [
    "%matplotlib inline\n",
    "%load_ext nb_black"
   ]
  },
  {
   "cell_type": "markdown",
   "id": "95de3409",
   "metadata": {},
   "source": [
    "## 데이터 준비\n",
    "네이버 영화 포털에 등록된 댓글들을 모아 구성된 데이터셋을 준비합니다."
   ]
  },
  {
   "cell_type": "code",
   "execution_count": 3,
   "id": "a4dcb142",
   "metadata": {
    "scrolled": true
   },
   "outputs": [
    {
     "data": {
      "text/html": [
       "<div>\n",
       "<style scoped>\n",
       "    .dataframe tbody tr th:only-of-type {\n",
       "        vertical-align: middle;\n",
       "    }\n",
       "\n",
       "    .dataframe tbody tr th {\n",
       "        vertical-align: top;\n",
       "    }\n",
       "\n",
       "    .dataframe thead th {\n",
       "        text-align: right;\n",
       "    }\n",
       "</style>\n",
       "<table border=\"1\" class=\"dataframe\">\n",
       "  <thead>\n",
       "    <tr style=\"text-align: right;\">\n",
       "      <th></th>\n",
       "      <th>id</th>\n",
       "      <th>document</th>\n",
       "      <th>label</th>\n",
       "    </tr>\n",
       "  </thead>\n",
       "  <tbody>\n",
       "    <tr>\n",
       "      <th>0</th>\n",
       "      <td>9976970</td>\n",
       "      <td>아 더빙.. 진짜 짜증나네요 목소리</td>\n",
       "      <td>0</td>\n",
       "    </tr>\n",
       "    <tr>\n",
       "      <th>1</th>\n",
       "      <td>3819312</td>\n",
       "      <td>흠...포스터보고 초딩영화줄....오버연기조차 가볍지 않구나</td>\n",
       "      <td>1</td>\n",
       "    </tr>\n",
       "    <tr>\n",
       "      <th>2</th>\n",
       "      <td>10265843</td>\n",
       "      <td>너무재밓었다그래서보는것을추천한다</td>\n",
       "      <td>0</td>\n",
       "    </tr>\n",
       "    <tr>\n",
       "      <th>3</th>\n",
       "      <td>9045019</td>\n",
       "      <td>교도소 이야기구먼 ..솔직히 재미는 없다..평점 조정</td>\n",
       "      <td>0</td>\n",
       "    </tr>\n",
       "    <tr>\n",
       "      <th>4</th>\n",
       "      <td>6483659</td>\n",
       "      <td>사이몬페그의 익살스런 연기가 돋보였던 영화!스파이더맨에서 늙어보이기만 했던 커스틴 ...</td>\n",
       "      <td>1</td>\n",
       "    </tr>\n",
       "  </tbody>\n",
       "</table>\n",
       "</div>"
      ],
      "text/plain": [
       "         id                                           document  label\n",
       "0   9976970                                아 더빙.. 진짜 짜증나네요 목소리      0\n",
       "1   3819312                  흠...포스터보고 초딩영화줄....오버연기조차 가볍지 않구나      1\n",
       "2  10265843                                  너무재밓었다그래서보는것을추천한다      0\n",
       "3   9045019                      교도소 이야기구먼 ..솔직히 재미는 없다..평점 조정      0\n",
       "4   6483659  사이몬페그의 익살스런 연기가 돋보였던 영화!스파이더맨에서 늙어보이기만 했던 커스틴 ...      1"
      ]
     },
     "execution_count": 3,
     "metadata": {},
     "output_type": "execute_result"
    },
    {
     "data": {
      "application/javascript": "\n            setTimeout(function() {\n                var nbb_cell_id = 3;\n                var nbb_unformatted_code = \"import pandas as pd\\n\\ntrain_data = pd.read_table(\\\"~/aiffel/sentiment_classification/data/ratings_train.txt\\\")\\ntest_data = pd.read_table(\\\"~/aiffel/sentiment_classification/data/ratings_test.txt\\\")\\n\\ntrain_data.head()\";\n                var nbb_formatted_code = \"import pandas as pd\\n\\ntrain_data = pd.read_table(\\\"~/aiffel/sentiment_classification/data/ratings_train.txt\\\")\\ntest_data = pd.read_table(\\\"~/aiffel/sentiment_classification/data/ratings_test.txt\\\")\\n\\ntrain_data.head()\";\n                var nbb_cells = Jupyter.notebook.get_cells();\n                for (var i = 0; i < nbb_cells.length; ++i) {\n                    if (nbb_cells[i].input_prompt_number == nbb_cell_id) {\n                        if (nbb_cells[i].get_text() == nbb_unformatted_code) {\n                             nbb_cells[i].set_text(nbb_formatted_code);\n                        }\n                        break;\n                    }\n                }\n            }, 500);\n            ",
      "text/plain": [
       "<IPython.core.display.Javascript object>"
      ]
     },
     "metadata": {},
     "output_type": "display_data"
    }
   ],
   "source": [
    "import pandas as pd\n",
    "\n",
    "train_data = pd.read_table(\"~/aiffel/sentiment_classification/data/ratings_train.txt\")\n",
    "test_data = pd.read_table(\"~/aiffel/sentiment_classification/data/ratings_test.txt\")\n",
    "\n",
    "train_data.head()"
   ]
  },
  {
   "cell_type": "markdown",
   "id": "67bde3e6",
   "metadata": {},
   "source": [
    "데이터셋은 데이터 구분을 위한 `id`와 텍스트가 담겨 있는 `document`, 그리고 `label`로 구성되어 있습니다."
   ]
  },
  {
   "cell_type": "markdown",
   "id": "c28f0e8c",
   "metadata": {},
   "source": [
    "텍스트의 토큰화를 위해 한국어 형태소 분석을 도와주는 Mecab을 사용합니다.  \n",
    "표준어가 아니거나 분석에 도움이 되지 않는다고 판단되는 단어들을 제외하고 훈련 데이터를 구성합니다."
   ]
  },
  {
   "cell_type": "code",
   "execution_count": 4,
   "id": "daf7ae15",
   "metadata": {},
   "outputs": [
    {
     "data": {
      "application/javascript": "\n            setTimeout(function() {\n                var nbb_cell_id = 4;\n                var nbb_unformatted_code = \"from konlpy.tag import Mecab\\nimport numpy as np\\nfrom collections import Counter\\nimport re\\n\\ntokenizer = Mecab()\\nstopwords = [\\n    \\\"\\uc758\\\",\\n    \\\"\\uac00\\\",\\n    \\\"\\uc774\\\",\\n    \\\"\\uc740\\\",\\n    \\\"\\ub4e4\\\",\\n    \\\"\\ub294\\\",\\n    \\\"\\uc880\\\",\\n    \\\"\\uc798\\\",\\n    \\\"\\uac4d\\\",\\n    \\\"\\uacfc\\\",\\n    \\\"\\ub3c4\\\",\\n    \\\"\\ub97c\\\",\\n    \\\"\\uc73c\\ub85c\\\",\\n    \\\"\\uc790\\\",\\n    \\\"\\uc5d0\\\",\\n    \\\"\\uc640\\\",\\n    \\\"\\ud55c\\\",\\n    \\\"\\ud558\\ub2e4\\\",\\n]\\n\\n\\n# def preprocess_sent(sent):\\n#     sent = re.sub(r\\\"[0-9,.?!]\\\", \\\" \\\", sent)\\n#     sent = re.sub(r'[\\\" \\\"]+', \\\" \\\", sent)\\n#     sent = sent.strip()\\n#     return sent\\n\\n\\ndef load_data(train_data, test_data, num_words=10000):\\n    train_data.drop_duplicates(subset=[\\\"document\\\"], inplace=True)\\n    train_data = train_data.dropna(how=\\\"any\\\")\\n    test_data.drop_duplicates(subset=[\\\"document\\\"], inplace=True)\\n    test_data = test_data.dropna(how=\\\"any\\\")\\n\\n    x_train = []\\n    for sentence in train_data[\\\"document\\\"]:\\n#         sentence = preprocess_sent(sentence)\\n        temp_X = tokenizer.morphs(sentence)  \\n        temp_X = [word for word in temp_X if not word in stopwords]\\n        x_train.append(temp_X)\\n\\n    x_test = []\\n    for sentence in test_data[\\\"document\\\"]:\\n#         sentence = preprocess_sent(sentence)\\n        temp_X = tokenizer.morphs(sentence) \\n        temp_X = [word for word in temp_X if not word in stopwords]\\n        x_test.append(temp_X)\\n\\n    words = np.concatenate(x_train).tolist()\\n    counter = Counter(words)\\n    counter = counter.most_common(num_words - 4)\\n    vocab = [\\\"\\\", \\\"\\\", \\\"\\\", \\\"\\\"] + [key for key, _ in counter]\\n    word_to_index = {word: index for index, word in enumerate(vocab)}\\n\\n    def wordlist_to_indexlist(wordlist):\\n        return [\\n            word_to_index[word] if word in word_to_index else word_to_index[\\\"\\\"]\\n            for word in wordlist\\n        ]\\n\\n    x_train = list(map(wordlist_to_indexlist, x_train))\\n    x_test = list(map(wordlist_to_indexlist, x_test))\\n\\n    return (\\n        x_train,\\n        np.array(list(train_data[\\\"label\\\"])),\\n        x_test,\\n        np.array(list(test_data[\\\"label\\\"])),\\n        word_to_index,\\n    )\\n\\nx_train, y_train, x_test, y_test, word_to_index = load_data(train_data, test_data)\";\n                var nbb_formatted_code = \"from konlpy.tag import Mecab\\nimport numpy as np\\nfrom collections import Counter\\nimport re\\n\\ntokenizer = Mecab()\\nstopwords = [\\n    \\\"\\uc758\\\",\\n    \\\"\\uac00\\\",\\n    \\\"\\uc774\\\",\\n    \\\"\\uc740\\\",\\n    \\\"\\ub4e4\\\",\\n    \\\"\\ub294\\\",\\n    \\\"\\uc880\\\",\\n    \\\"\\uc798\\\",\\n    \\\"\\uac4d\\\",\\n    \\\"\\uacfc\\\",\\n    \\\"\\ub3c4\\\",\\n    \\\"\\ub97c\\\",\\n    \\\"\\uc73c\\ub85c\\\",\\n    \\\"\\uc790\\\",\\n    \\\"\\uc5d0\\\",\\n    \\\"\\uc640\\\",\\n    \\\"\\ud55c\\\",\\n    \\\"\\ud558\\ub2e4\\\",\\n]\\n\\n\\n# def preprocess_sent(sent):\\n#     sent = re.sub(r\\\"[0-9,.?!]\\\", \\\" \\\", sent)\\n#     sent = re.sub(r'[\\\" \\\"]+', \\\" \\\", sent)\\n#     sent = sent.strip()\\n#     return sent\\n\\n\\ndef load_data(train_data, test_data, num_words=10000):\\n    train_data.drop_duplicates(subset=[\\\"document\\\"], inplace=True)\\n    train_data = train_data.dropna(how=\\\"any\\\")\\n    test_data.drop_duplicates(subset=[\\\"document\\\"], inplace=True)\\n    test_data = test_data.dropna(how=\\\"any\\\")\\n\\n    x_train = []\\n    for sentence in train_data[\\\"document\\\"]:\\n        #         sentence = preprocess_sent(sentence)\\n        temp_X = tokenizer.morphs(sentence)\\n        temp_X = [word for word in temp_X if not word in stopwords]\\n        x_train.append(temp_X)\\n\\n    x_test = []\\n    for sentence in test_data[\\\"document\\\"]:\\n        #         sentence = preprocess_sent(sentence)\\n        temp_X = tokenizer.morphs(sentence)\\n        temp_X = [word for word in temp_X if not word in stopwords]\\n        x_test.append(temp_X)\\n\\n    words = np.concatenate(x_train).tolist()\\n    counter = Counter(words)\\n    counter = counter.most_common(num_words - 4)\\n    vocab = [\\\"\\\", \\\"\\\", \\\"\\\", \\\"\\\"] + [key for key, _ in counter]\\n    word_to_index = {word: index for index, word in enumerate(vocab)}\\n\\n    def wordlist_to_indexlist(wordlist):\\n        return [\\n            word_to_index[word] if word in word_to_index else word_to_index[\\\"\\\"]\\n            for word in wordlist\\n        ]\\n\\n    x_train = list(map(wordlist_to_indexlist, x_train))\\n    x_test = list(map(wordlist_to_indexlist, x_test))\\n\\n    return (\\n        x_train,\\n        np.array(list(train_data[\\\"label\\\"])),\\n        x_test,\\n        np.array(list(test_data[\\\"label\\\"])),\\n        word_to_index,\\n    )\\n\\n\\nx_train, y_train, x_test, y_test, word_to_index = load_data(train_data, test_data)\";\n                var nbb_cells = Jupyter.notebook.get_cells();\n                for (var i = 0; i < nbb_cells.length; ++i) {\n                    if (nbb_cells[i].input_prompt_number == nbb_cell_id) {\n                        if (nbb_cells[i].get_text() == nbb_unformatted_code) {\n                             nbb_cells[i].set_text(nbb_formatted_code);\n                        }\n                        break;\n                    }\n                }\n            }, 500);\n            ",
      "text/plain": [
       "<IPython.core.display.Javascript object>"
      ]
     },
     "metadata": {},
     "output_type": "display_data"
    }
   ],
   "source": [
    "from konlpy.tag import Mecab\n",
    "import numpy as np\n",
    "from collections import Counter\n",
    "\n",
    "\n",
    "tokenizer = Mecab()\n",
    "stopwords = [\n",
    "    \"의\",\n",
    "    \"가\",\n",
    "    \"이\",\n",
    "    \"은\",\n",
    "    \"들\",\n",
    "    \"는\",\n",
    "    \"좀\",\n",
    "    \"잘\",\n",
    "    \"걍\",\n",
    "    \"과\",\n",
    "    \"도\",\n",
    "    \"를\",\n",
    "    \"으로\",\n",
    "    \"자\",\n",
    "    \"에\",\n",
    "    \"와\",\n",
    "    \"한\",\n",
    "    \"하다\",\n",
    "]\n",
    "\n",
    "\n",
    "def load_data(train_data, test_data, num_words=10000):\n",
    "    train_data.drop_duplicates(subset=[\"document\"], inplace=True)\n",
    "    train_data = train_data.dropna(how=\"any\")\n",
    "    test_data.drop_duplicates(subset=[\"document\"], inplace=True)\n",
    "    test_data = test_data.dropna(how=\"any\")\n",
    "\n",
    "    x_train = []\n",
    "    for sentence in train_data[\"document\"]:\n",
    "        temp_X = tokenizer.morphs(sentence)  \n",
    "        temp_X = [word for word in temp_X if not word in stopwords]\n",
    "        x_train.append(temp_X)\n",
    "\n",
    "    x_test = []\n",
    "    for sentence in test_data[\"document\"]:\n",
    "        temp_X = tokenizer.morphs(sentence) \n",
    "        temp_X = [word for word in temp_X if not word in stopwords]\n",
    "        x_test.append(temp_X)\n",
    "\n",
    "    words = np.concatenate(x_train).tolist()\n",
    "    counter = Counter(words)\n",
    "    counter = counter.most_common(num_words - 4)\n",
    "    vocab = [\"\", \"\", \"\", \"\"] + [key for key, _ in counter]\n",
    "    word_to_index = {word: index for index, word in enumerate(vocab)}\n",
    "\n",
    "    def wordlist_to_indexlist(wordlist):\n",
    "        return [\n",
    "            word_to_index[word] if word in word_to_index else word_to_index[\"\"]\n",
    "            for word in wordlist\n",
    "        ]\n",
    "\n",
    "    x_train = list(map(wordlist_to_indexlist, x_train))\n",
    "    x_test = list(map(wordlist_to_indexlist, x_test))\n",
    "\n",
    "    return (\n",
    "        x_train,\n",
    "        np.array(list(train_data[\"label\"])),\n",
    "        x_test,\n",
    "        np.array(list(test_data[\"label\"])),\n",
    "        word_to_index,\n",
    "    )\n",
    "\n",
    "x_train, y_train, x_test, y_test, word_to_index = load_data(train_data, test_data)"
   ]
  },
  {
   "cell_type": "code",
   "execution_count": 5,
   "id": "fe5923d0",
   "metadata": {},
   "outputs": [
    {
     "name": "stdout",
     "output_type": "stream",
     "text": [
      "[32, 74, 919, 4, 4, 39, 228, 20, 33, 748]\n",
      "0\n",
      "[1028, 4, 11, 519, 549, 687, 5, 120, 4, 70, 1639, 52, 925, 1006, 15, 44, 391]\n",
      "1\n"
     ]
    },
    {
     "data": {
      "application/javascript": "\n            setTimeout(function() {\n                var nbb_cell_id = 5;\n                var nbb_unformatted_code = \"print(x_train[0])\\nprint(y_train[0])\\nprint(x_train[1])\\nprint(y_train[1])\";\n                var nbb_formatted_code = \"print(x_train[0])\\nprint(y_train[0])\\nprint(x_train[1])\\nprint(y_train[1])\";\n                var nbb_cells = Jupyter.notebook.get_cells();\n                for (var i = 0; i < nbb_cells.length; ++i) {\n                    if (nbb_cells[i].input_prompt_number == nbb_cell_id) {\n                        if (nbb_cells[i].get_text() == nbb_unformatted_code) {\n                             nbb_cells[i].set_text(nbb_formatted_code);\n                        }\n                        break;\n                    }\n                }\n            }, 500);\n            ",
      "text/plain": [
       "<IPython.core.display.Javascript object>"
      ]
     },
     "metadata": {},
     "output_type": "display_data"
    }
   ],
   "source": [
    "print(x_train[0])\n",
    "print(y_train[0])\n",
    "print(x_train[1])\n",
    "print(y_train[1])"
   ]
  },
  {
   "cell_type": "code",
   "execution_count": 6,
   "id": "ab8d9ec0",
   "metadata": {},
   "outputs": [
    {
     "data": {
      "application/javascript": "\n            setTimeout(function() {\n                var nbb_cell_id = 6;\n                var nbb_unformatted_code = \"word_to_index[\\\"<PAD>\\\"] = 0\\nword_to_index[\\\"<BOS>\\\"] = 1\\nword_to_index[\\\"<UNK>\\\"] = 2\\nword_to_index[\\\"<UNUSED>\\\"] = 3\\n\\nindex_to_word = {index: word for word, index in word_to_index.items()}\";\n                var nbb_formatted_code = \"word_to_index[\\\"<PAD>\\\"] = 0\\nword_to_index[\\\"<BOS>\\\"] = 1\\nword_to_index[\\\"<UNK>\\\"] = 2\\nword_to_index[\\\"<UNUSED>\\\"] = 3\\n\\nindex_to_word = {index: word for word, index in word_to_index.items()}\";\n                var nbb_cells = Jupyter.notebook.get_cells();\n                for (var i = 0; i < nbb_cells.length; ++i) {\n                    if (nbb_cells[i].input_prompt_number == nbb_cell_id) {\n                        if (nbb_cells[i].get_text() == nbb_unformatted_code) {\n                             nbb_cells[i].set_text(nbb_formatted_code);\n                        }\n                        break;\n                    }\n                }\n            }, 500);\n            ",
      "text/plain": [
       "<IPython.core.display.Javascript object>"
      ]
     },
     "metadata": {},
     "output_type": "display_data"
    }
   ],
   "source": [
    "word_to_index[\"<PAD>\"] = 0\n",
    "word_to_index[\"<BOS>\"] = 1\n",
    "word_to_index[\"<UNK>\"] = 2\n",
    "word_to_index[\"<UNUSED>\"] = 3\n",
    "\n",
    "index_to_word = {index: word for word, index in word_to_index.items()}"
   ]
  },
  {
   "cell_type": "markdown",
   "id": "a08a9dc5",
   "metadata": {},
   "source": [
    "모든 문장은 `<BOS>`로 시작하도록 만들며, word_to_index에 포함되어 있지 않다면 알 수 없는 단어 `<UNK>`로 대체합니다."
   ]
  },
  {
   "cell_type": "code",
   "execution_count": 7,
   "id": "7c44e99d",
   "metadata": {},
   "outputs": [
    {
     "data": {
      "application/javascript": "\n            setTimeout(function() {\n                var nbb_cell_id = 7;\n                var nbb_unformatted_code = \"def get_encoded_sentence(sentence, word_to_index):\\n    return [word_to_index[\\\"<BOS>\\\"]] + [\\n        word_to_index[word] if word in word_to_index else word_to_index[\\\"<UNK>\\\"]\\n        for word in sentence.split()\\n    ]\\n\\n\\ndef get_encoded_sentences(sentences, word_to_index):\\n    return [get_encoded_sentence(sentence, word_to_index) for sentence in sentences]\\n\\n\\ndef get_decoded_sentence(encoded_sentence, index_to_word):\\n    return \\\" \\\".join(\\n        index_to_word[index] if index in index_to_word else \\\"<UNK>\\\"\\n        for index in encoded_sentence[1:]\\n    ) \\n\\n\\ndef get_decoded_sentences(encoded_sentences, index_to_word):\\n    return [\\n        get_decoded_sentence(encoded_sentence, index_to_word)\\n        for encoded_sentence in encoded_sentences\\n    ]\";\n                var nbb_formatted_code = \"def get_encoded_sentence(sentence, word_to_index):\\n    return [word_to_index[\\\"<BOS>\\\"]] + [\\n        word_to_index[word] if word in word_to_index else word_to_index[\\\"<UNK>\\\"]\\n        for word in sentence.split()\\n    ]\\n\\n\\ndef get_encoded_sentences(sentences, word_to_index):\\n    return [get_encoded_sentence(sentence, word_to_index) for sentence in sentences]\\n\\n\\ndef get_decoded_sentence(encoded_sentence, index_to_word):\\n    return \\\" \\\".join(\\n        index_to_word[index] if index in index_to_word else \\\"<UNK>\\\"\\n        for index in encoded_sentence[1:]\\n    )\\n\\n\\ndef get_decoded_sentences(encoded_sentences, index_to_word):\\n    return [\\n        get_decoded_sentence(encoded_sentence, index_to_word)\\n        for encoded_sentence in encoded_sentences\\n    ]\";\n                var nbb_cells = Jupyter.notebook.get_cells();\n                for (var i = 0; i < nbb_cells.length; ++i) {\n                    if (nbb_cells[i].input_prompt_number == nbb_cell_id) {\n                        if (nbb_cells[i].get_text() == nbb_unformatted_code) {\n                             nbb_cells[i].set_text(nbb_formatted_code);\n                        }\n                        break;\n                    }\n                }\n            }, 500);\n            ",
      "text/plain": [
       "<IPython.core.display.Javascript object>"
      ]
     },
     "metadata": {},
     "output_type": "display_data"
    }
   ],
   "source": [
    "def get_encoded_sentence(sentence, word_to_index):\n",
    "    return [word_to_index[\"<BOS>\"]] + [\n",
    "        word_to_index[word] if word in word_to_index else word_to_index[\"<UNK>\"]\n",
    "        for word in sentence.split()\n",
    "    ]\n",
    "\n",
    "\n",
    "def get_encoded_sentences(sentences, word_to_index):\n",
    "    return [get_encoded_sentence(sentence, word_to_index) for sentence in sentences]\n",
    "\n",
    "\n",
    "def get_decoded_sentence(encoded_sentence, index_to_word):\n",
    "    return \" \".join(\n",
    "        index_to_word[index] if index in index_to_word else \"<UNK>\"\n",
    "        for index in encoded_sentence[1:]\n",
    "    ) \n",
    "\n",
    "\n",
    "def get_decoded_sentences(encoded_sentences, index_to_word):\n",
    "    return [\n",
    "        get_decoded_sentence(encoded_sentence, index_to_word)\n",
    "        for encoded_sentence in encoded_sentences\n",
    "    ]"
   ]
  },
  {
   "cell_type": "markdown",
   "id": "f1ae0997",
   "metadata": {},
   "source": [
    "문장의 최대 길이를 정하기 위해 평균과 표준편차를 사용합니다.  \n",
    "평균에서 표준편차의 두 배가 더해진 길이를 기준으로 합니다."
   ]
  },
  {
   "cell_type": "code",
   "execution_count": 8,
   "id": "d0750e60",
   "metadata": {
    "scrolled": true
   },
   "outputs": [
    {
     "name": "stdout",
     "output_type": "stream",
     "text": [
      "문장길이 평균 :  15.96940191154864\n",
      "문장길이 최대 :  116\n",
      "문장길이 표준편차 :  12.843571191092\n",
      "pad_sequences maxlen :  41\n",
      "전체 문장의 93.430%가 maxlen 설정값 이내에 포함됩니다.\n"
     ]
    },
    {
     "data": {
      "application/javascript": "\n            setTimeout(function() {\n                var nbb_cell_id = 8;\n                var nbb_unformatted_code = \"total_data_text = list(x_train) + list(x_test)\\nnum_tokens = [len(tokens) for tokens in total_data_text]\\nnum_tokens = np.array(num_tokens)\\n\\nprint(\\\"\\ubb38\\uc7a5\\uae38\\uc774 \\ud3c9\\uade0 : \\\", np.mean(num_tokens))\\nprint(\\\"\\ubb38\\uc7a5\\uae38\\uc774 \\ucd5c\\ub300 : \\\", np.max(num_tokens))\\nprint(\\\"\\ubb38\\uc7a5\\uae38\\uc774 \\ud45c\\uc900\\ud3b8\\ucc28 : \\\", np.std(num_tokens))\\n\\nmax_tokens = np.mean(num_tokens) + 2 * np.std(num_tokens)\\nmaxlen = int(max_tokens)\\nmaxlen_ratio = np.sum(num_tokens < max_tokens) / len(num_tokens) * 100\\nprint(\\\"pad_sequences maxlen : \\\", maxlen)\\nprint(\\n    f\\\"\\uc804\\uccb4 \\ubb38\\uc7a5\\uc758 {maxlen_ratio:.3f}%\\uac00 maxlen \\uc124\\uc815\\uac12 \\uc774\\ub0b4\\uc5d0 \\ud3ec\\ud568\\ub429\\ub2c8\\ub2e4.\\\"\\n)\";\n                var nbb_formatted_code = \"total_data_text = list(x_train) + list(x_test)\\nnum_tokens = [len(tokens) for tokens in total_data_text]\\nnum_tokens = np.array(num_tokens)\\n\\nprint(\\\"\\ubb38\\uc7a5\\uae38\\uc774 \\ud3c9\\uade0 : \\\", np.mean(num_tokens))\\nprint(\\\"\\ubb38\\uc7a5\\uae38\\uc774 \\ucd5c\\ub300 : \\\", np.max(num_tokens))\\nprint(\\\"\\ubb38\\uc7a5\\uae38\\uc774 \\ud45c\\uc900\\ud3b8\\ucc28 : \\\", np.std(num_tokens))\\n\\nmax_tokens = np.mean(num_tokens) + 2 * np.std(num_tokens)\\nmaxlen = int(max_tokens)\\nmaxlen_ratio = np.sum(num_tokens < max_tokens) / len(num_tokens) * 100\\nprint(\\\"pad_sequences maxlen : \\\", maxlen)\\nprint(f\\\"\\uc804\\uccb4 \\ubb38\\uc7a5\\uc758 {maxlen_ratio:.3f}%\\uac00 maxlen \\uc124\\uc815\\uac12 \\uc774\\ub0b4\\uc5d0 \\ud3ec\\ud568\\ub429\\ub2c8\\ub2e4.\\\")\";\n                var nbb_cells = Jupyter.notebook.get_cells();\n                for (var i = 0; i < nbb_cells.length; ++i) {\n                    if (nbb_cells[i].input_prompt_number == nbb_cell_id) {\n                        if (nbb_cells[i].get_text() == nbb_unformatted_code) {\n                             nbb_cells[i].set_text(nbb_formatted_code);\n                        }\n                        break;\n                    }\n                }\n            }, 500);\n            ",
      "text/plain": [
       "<IPython.core.display.Javascript object>"
      ]
     },
     "metadata": {},
     "output_type": "display_data"
    }
   ],
   "source": [
    "total_data_text = list(x_train) + list(x_test)\n",
    "num_tokens = [len(tokens) for tokens in total_data_text]\n",
    "num_tokens = np.array(num_tokens)\n",
    "\n",
    "print(\"문장길이 평균 : \", np.mean(num_tokens))\n",
    "print(\"문장길이 최대 : \", np.max(num_tokens))\n",
    "print(\"문장길이 표준편차 : \", np.std(num_tokens))\n",
    "\n",
    "max_tokens = np.mean(num_tokens) + 2 * np.std(num_tokens)\n",
    "maxlen = int(max_tokens)\n",
    "maxlen_ratio = np.sum(num_tokens < max_tokens) / len(num_tokens) * 100\n",
    "print(\"pad_sequences maxlen : \", maxlen)\n",
    "print(\n",
    "    f\"전체 문장의 {maxlen_ratio:.3f}%가 maxlen 설정값 이내에 포함됩니다.\"\n",
    ")"
   ]
  },
  {
   "cell_type": "markdown",
   "id": "defcefd8",
   "metadata": {},
   "source": [
    "앞서 구한 문장의 최대 길이를 `pad_sequences`에 적용하여 패딩을 진행합니다."
   ]
  },
  {
   "cell_type": "code",
   "execution_count": 9,
   "id": "af2a6c89",
   "metadata": {},
   "outputs": [
    {
     "name": "stdout",
     "output_type": "stream",
     "text": [
      "(146182, 41)\n"
     ]
    },
    {
     "data": {
      "application/javascript": "\n            setTimeout(function() {\n                var nbb_cell_id = 9;\n                var nbb_unformatted_code = \"import tensorflow as tf\\n\\n\\nx_train = tf.keras.preprocessing.sequence.pad_sequences(\\n    x_train, value=word_to_index[\\\"<PAD>\\\"], maxlen=maxlen\\n)\\n\\nx_test = tf.keras.preprocessing.sequence.pad_sequences(\\n    x_test, value=word_to_index[\\\"<PAD>\\\"], maxlen=maxlen\\n)\\n\\nprint(x_train.shape)\";\n                var nbb_formatted_code = \"import tensorflow as tf\\n\\n\\nx_train = tf.keras.preprocessing.sequence.pad_sequences(\\n    x_train, value=word_to_index[\\\"<PAD>\\\"], maxlen=maxlen\\n)\\n\\nx_test = tf.keras.preprocessing.sequence.pad_sequences(\\n    x_test, value=word_to_index[\\\"<PAD>\\\"], maxlen=maxlen\\n)\\n\\nprint(x_train.shape)\";\n                var nbb_cells = Jupyter.notebook.get_cells();\n                for (var i = 0; i < nbb_cells.length; ++i) {\n                    if (nbb_cells[i].input_prompt_number == nbb_cell_id) {\n                        if (nbb_cells[i].get_text() == nbb_unformatted_code) {\n                             nbb_cells[i].set_text(nbb_formatted_code);\n                        }\n                        break;\n                    }\n                }\n            }, 500);\n            ",
      "text/plain": [
       "<IPython.core.display.Javascript object>"
      ]
     },
     "metadata": {},
     "output_type": "display_data"
    }
   ],
   "source": [
    "import tensorflow as tf\n",
    "\n",
    "\n",
    "x_train = tf.keras.preprocessing.sequence.pad_sequences(\n",
    "    x_train, value=word_to_index[\"<PAD>\"], maxlen=maxlen\n",
    ")\n",
    "\n",
    "x_test = tf.keras.preprocessing.sequence.pad_sequences(\n",
    "    x_test, value=word_to_index[\"<PAD>\"], maxlen=maxlen\n",
    ")\n",
    "\n",
    "print(x_train.shape)"
   ]
  },
  {
   "cell_type": "markdown",
   "id": "27e5984e",
   "metadata": {},
   "source": [
    "## 모델 설계\n",
    "\n",
    "훈련 가능한 파라미터의 수가 비슷한 모델 3개를 설계합니다.\n",
    "\n",
    "1. LSTM 레이어 1개와 2개의 FC레이어로 구성된 네트워크(LSTM)\n",
    "2. 1개의 Global Max Pooling 레이어와 2개의 FC레이어로 구성된 네트워크(GMP)\n",
    "3. 2개의 1D Convolution 레이어와 2개의 FC레이어로 구성된 네트워크(1D-CNN)  \n",
    "\n",
    "이후에는 편의를 위해 각 모델에 대해 괄호 내부의 명칭을 사용하겠습니다."
   ]
  },
  {
   "cell_type": "code",
   "execution_count": 10,
   "id": "cd4771b2",
   "metadata": {},
   "outputs": [
    {
     "name": "stdout",
     "output_type": "stream",
     "text": [
      "Model: \"sequential\"\n",
      "_________________________________________________________________\n",
      "Layer (type)                 Output Shape              Param #   \n",
      "=================================================================\n",
      "embedding (Embedding)        (None, None, 16)          160000    \n",
      "_________________________________________________________________\n",
      "lstm (LSTM)                  (None, 8)                 800       \n",
      "_________________________________________________________________\n",
      "dense (Dense)                (None, 10)                90        \n",
      "_________________________________________________________________\n",
      "dense_1 (Dense)              (None, 1)                 11        \n",
      "=================================================================\n",
      "Total params: 160,901\n",
      "Trainable params: 160,901\n",
      "Non-trainable params: 0\n",
      "_________________________________________________________________\n"
     ]
    },
    {
     "data": {
      "application/javascript": "\n            setTimeout(function() {\n                var nbb_cell_id = 10;\n                var nbb_unformatted_code = \"vocab_size = 10000    \\nword_vector_dim = 16  \\n\\nembed_layer = tf.keras.layers.Embedding(vocab_size, word_vector_dim, input_shape=(None,))\\n\\ndef my_lstm(embed_layer):\\n    model = tf.keras.Sequential()\\n    model.add(embed_layer)\\n    model.add(tf.keras.layers.LSTM(8))\\n    model.add(tf.keras.layers.Dense(10, activation='relu'))\\n    model.add(tf.keras.layers.Dense(1, activation='sigmoid'))\\n    return model\\n\\nmodel = my_lstm(embed_layer)\\nmodel.summary()\";\n                var nbb_formatted_code = \"vocab_size = 10000\\nword_vector_dim = 16\\n\\nembed_layer = tf.keras.layers.Embedding(\\n    vocab_size, word_vector_dim, input_shape=(None,)\\n)\\n\\n\\ndef my_lstm(embed_layer):\\n    model = tf.keras.Sequential()\\n    model.add(embed_layer)\\n    model.add(tf.keras.layers.LSTM(8))\\n    model.add(tf.keras.layers.Dense(10, activation=\\\"relu\\\"))\\n    model.add(tf.keras.layers.Dense(1, activation=\\\"sigmoid\\\"))\\n    return model\\n\\n\\nmodel = my_lstm(embed_layer)\\nmodel.summary()\";\n                var nbb_cells = Jupyter.notebook.get_cells();\n                for (var i = 0; i < nbb_cells.length; ++i) {\n                    if (nbb_cells[i].input_prompt_number == nbb_cell_id) {\n                        if (nbb_cells[i].get_text() == nbb_unformatted_code) {\n                             nbb_cells[i].set_text(nbb_formatted_code);\n                        }\n                        break;\n                    }\n                }\n            }, 500);\n            ",
      "text/plain": [
       "<IPython.core.display.Javascript object>"
      ]
     },
     "metadata": {},
     "output_type": "display_data"
    }
   ],
   "source": [
    "vocab_size = 10000    \n",
    "word_vector_dim = 16  \n",
    "\n",
    "embed_layer = tf.keras.layers.Embedding(vocab_size, word_vector_dim, input_shape=(None,))\n",
    "\n",
    "\n",
    "def my_lstm(embed_layer):\n",
    "    model = tf.keras.Sequential()\n",
    "    model.add(embed_layer)\n",
    "    model.add(tf.keras.layers.LSTM(8))\n",
    "    model.add(tf.keras.layers.Dense(10, activation='relu'))\n",
    "    model.add(tf.keras.layers.Dense(1, activation='sigmoid'))\n",
    "    return model\n",
    "\n",
    "\n",
    "model = my_lstm(embed_layer)\n",
    "model.summary()"
   ]
  },
  {
   "cell_type": "code",
   "execution_count": 11,
   "id": "fab2759c",
   "metadata": {},
   "outputs": [
    {
     "name": "stdout",
     "output_type": "stream",
     "text": [
      "Model: \"sequential_1\"\n",
      "_________________________________________________________________\n",
      "Layer (type)                 Output Shape              Param #   \n",
      "=================================================================\n",
      "embedding (Embedding)        (None, None, 16)          160000    \n",
      "_________________________________________________________________\n",
      "global_max_pooling1d (Global (None, 16)                0         \n",
      "_________________________________________________________________\n",
      "dense_2 (Dense)              (None, 10)                170       \n",
      "_________________________________________________________________\n",
      "dense_3 (Dense)              (None, 1)                 11        \n",
      "=================================================================\n",
      "Total params: 160,181\n",
      "Trainable params: 160,181\n",
      "Non-trainable params: 0\n",
      "_________________________________________________________________\n"
     ]
    },
    {
     "data": {
      "application/javascript": "\n            setTimeout(function() {\n                var nbb_cell_id = 11;\n                var nbb_unformatted_code = \"def my_gmp(embed_layer):\\n    model = tf.keras.Sequential()\\n    model.add(embed_layer)\\n    model.add(tf.keras.layers.GlobalMaxPooling1D())\\n    model.add(tf.keras.layers.Dense(10, activation='relu'))\\n    model.add(tf.keras.layers.Dense(1, activation='sigmoid'))\\n    return model\\n\\n\\nmodel = my_gmp(embed_layer)\\nmodel.summary()\";\n                var nbb_formatted_code = \"def my_gmp(embed_layer):\\n    model = tf.keras.Sequential()\\n    model.add(embed_layer)\\n    model.add(tf.keras.layers.GlobalMaxPooling1D())\\n    model.add(tf.keras.layers.Dense(10, activation=\\\"relu\\\"))\\n    model.add(tf.keras.layers.Dense(1, activation=\\\"sigmoid\\\"))\\n    return model\\n\\n\\nmodel = my_gmp(embed_layer)\\nmodel.summary()\";\n                var nbb_cells = Jupyter.notebook.get_cells();\n                for (var i = 0; i < nbb_cells.length; ++i) {\n                    if (nbb_cells[i].input_prompt_number == nbb_cell_id) {\n                        if (nbb_cells[i].get_text() == nbb_unformatted_code) {\n                             nbb_cells[i].set_text(nbb_formatted_code);\n                        }\n                        break;\n                    }\n                }\n            }, 500);\n            ",
      "text/plain": [
       "<IPython.core.display.Javascript object>"
      ]
     },
     "metadata": {},
     "output_type": "display_data"
    }
   ],
   "source": [
    "def my_gmp(embed_layer):\n",
    "    model = tf.keras.Sequential()\n",
    "    model.add(embed_layer)\n",
    "    model.add(tf.keras.layers.GlobalMaxPooling1D())\n",
    "    model.add(tf.keras.layers.Dense(10, activation='relu'))\n",
    "    model.add(tf.keras.layers.Dense(1, activation='sigmoid'))\n",
    "    return model\n",
    "\n",
    "\n",
    "model = my_gmp(embed_layer)\n",
    "model.summary()"
   ]
  },
  {
   "cell_type": "code",
   "execution_count": 12,
   "id": "5455cbac",
   "metadata": {},
   "outputs": [
    {
     "name": "stdout",
     "output_type": "stream",
     "text": [
      "Model: \"sequential_2\"\n",
      "_________________________________________________________________\n",
      "Layer (type)                 Output Shape              Param #   \n",
      "=================================================================\n",
      "embedding (Embedding)        (None, None, 16)          160000    \n",
      "_________________________________________________________________\n",
      "conv1d (Conv1D)              (None, None, 16)          1808      \n",
      "_________________________________________________________________\n",
      "max_pooling1d (MaxPooling1D) (None, None, 16)          0         \n",
      "_________________________________________________________________\n",
      "conv1d_1 (Conv1D)            (None, None, 16)          1808      \n",
      "_________________________________________________________________\n",
      "global_max_pooling1d_1 (Glob (None, 16)                0         \n",
      "_________________________________________________________________\n",
      "dense_4 (Dense)              (None, 10)                170       \n",
      "_________________________________________________________________\n",
      "dense_5 (Dense)              (None, 1)                 11        \n",
      "=================================================================\n",
      "Total params: 163,797\n",
      "Trainable params: 163,797\n",
      "Non-trainable params: 0\n",
      "_________________________________________________________________\n"
     ]
    },
    {
     "data": {
      "application/javascript": "\n            setTimeout(function() {\n                var nbb_cell_id = 12;\n                var nbb_unformatted_code = \"def my_cnn(embed_layer):\\n    model = tf.keras.Sequential()\\n    model.add(embed_layer)\\n    model.add(tf.keras.layers.Conv1D(16, 7, activation=\\\"relu\\\"))\\n    model.add(tf.keras.layers.MaxPooling1D(5))\\n    model.add(tf.keras.layers.Conv1D(16, 7, activation=\\\"relu\\\"))\\n    model.add(tf.keras.layers.GlobalMaxPooling1D())\\n    model.add(tf.keras.layers.Dense(10, activation=\\\"relu\\\"))\\n    model.add(tf.keras.layers.Dense(1, activation=\\\"sigmoid\\\"))\\n    return model\\n\\n\\nmodel = my_cnn(embed_layer)\\nmodel.summary()\";\n                var nbb_formatted_code = \"def my_cnn(embed_layer):\\n    model = tf.keras.Sequential()\\n    model.add(embed_layer)\\n    model.add(tf.keras.layers.Conv1D(16, 7, activation=\\\"relu\\\"))\\n    model.add(tf.keras.layers.MaxPooling1D(5))\\n    model.add(tf.keras.layers.Conv1D(16, 7, activation=\\\"relu\\\"))\\n    model.add(tf.keras.layers.GlobalMaxPooling1D())\\n    model.add(tf.keras.layers.Dense(10, activation=\\\"relu\\\"))\\n    model.add(tf.keras.layers.Dense(1, activation=\\\"sigmoid\\\"))\\n    return model\\n\\n\\nmodel = my_cnn(embed_layer)\\nmodel.summary()\";\n                var nbb_cells = Jupyter.notebook.get_cells();\n                for (var i = 0; i < nbb_cells.length; ++i) {\n                    if (nbb_cells[i].input_prompt_number == nbb_cell_id) {\n                        if (nbb_cells[i].get_text() == nbb_unformatted_code) {\n                             nbb_cells[i].set_text(nbb_formatted_code);\n                        }\n                        break;\n                    }\n                }\n            }, 500);\n            ",
      "text/plain": [
       "<IPython.core.display.Javascript object>"
      ]
     },
     "metadata": {},
     "output_type": "display_data"
    }
   ],
   "source": [
    "def my_cnn(embed_layer):\n",
    "    model = tf.keras.Sequential()\n",
    "    model.add(embed_layer)\n",
    "    model.add(tf.keras.layers.Conv1D(16, 7, activation=\"relu\"))\n",
    "    model.add(tf.keras.layers.MaxPooling1D(5))\n",
    "    model.add(tf.keras.layers.Conv1D(16, 7, activation=\"relu\"))\n",
    "    model.add(tf.keras.layers.GlobalMaxPooling1D())\n",
    "    model.add(tf.keras.layers.Dense(10, activation=\"relu\"))\n",
    "    model.add(tf.keras.layers.Dense(1, activation=\"sigmoid\"))\n",
    "    return model\n",
    "\n",
    "\n",
    "model = my_cnn(embed_layer)\n",
    "model.summary()"
   ]
  },
  {
   "cell_type": "markdown",
   "id": "4fd64bba",
   "metadata": {},
   "source": [
    "검증을 위해 훈련용 데이터에서 10000개의 데이터를 분리합니다."
   ]
  },
  {
   "cell_type": "code",
   "execution_count": 13,
   "id": "d50c3003",
   "metadata": {},
   "outputs": [
    {
     "name": "stdout",
     "output_type": "stream",
     "text": [
      "(136182, 41)\n",
      "(136182,)\n",
      "(10000, 41)\n",
      "(10000,)\n"
     ]
    },
    {
     "data": {
      "application/javascript": "\n            setTimeout(function() {\n                var nbb_cell_id = 13;\n                var nbb_unformatted_code = \"n_valid = 10000\\nx_val = x_train[:n_valid]\\ny_val = y_train[:n_valid]\\n\\npartial_x_train = x_train[n_valid:]\\npartial_y_train = y_train[n_valid:]\\n\\nprint(partial_x_train.shape)\\nprint(partial_y_train.shape)\\nprint(x_val.shape)\\nprint(y_val.shape)\";\n                var nbb_formatted_code = \"n_valid = 10000\\nx_val = x_train[:n_valid]\\ny_val = y_train[:n_valid]\\n\\npartial_x_train = x_train[n_valid:]\\npartial_y_train = y_train[n_valid:]\\n\\nprint(partial_x_train.shape)\\nprint(partial_y_train.shape)\\nprint(x_val.shape)\\nprint(y_val.shape)\";\n                var nbb_cells = Jupyter.notebook.get_cells();\n                for (var i = 0; i < nbb_cells.length; ++i) {\n                    if (nbb_cells[i].input_prompt_number == nbb_cell_id) {\n                        if (nbb_cells[i].get_text() == nbb_unformatted_code) {\n                             nbb_cells[i].set_text(nbb_formatted_code);\n                        }\n                        break;\n                    }\n                }\n            }, 500);\n            ",
      "text/plain": [
       "<IPython.core.display.Javascript object>"
      ]
     },
     "metadata": {},
     "output_type": "display_data"
    }
   ],
   "source": [
    "n_valid = 10000\n",
    "x_val = x_train[:n_valid]\n",
    "y_val = y_train[:n_valid]\n",
    "\n",
    "partial_x_train = x_train[n_valid:]\n",
    "partial_y_train = y_train[n_valid:]\n",
    "\n",
    "print(partial_x_train.shape)\n",
    "print(partial_y_train.shape)\n",
    "print(x_val.shape)\n",
    "print(y_val.shape)"
   ]
  },
  {
   "cell_type": "markdown",
   "id": "14651fb4",
   "metadata": {},
   "source": [
    "### 훈련 준비\n",
    "총 20 epoch동안 훈련을 진행하며, 과적합이 관측되면 훈련 진행을 막기 위해 `keras`의 `EarlyStopping`을 사용합니다.  \n",
    "전체 epoch의 20% 동안 validation loss의 개선이 없다면 훈련을 중단하도록 설정합니다."
   ]
  },
  {
   "cell_type": "code",
   "execution_count": 14,
   "id": "099d06e3",
   "metadata": {},
   "outputs": [
    {
     "data": {
      "application/javascript": "\n            setTimeout(function() {\n                var nbb_cell_id = 14;\n                var nbb_unformatted_code = \"from tensorflow.keras.callbacks import EarlyStopping\\n\\n\\nepochs = 20\\nstopper = EarlyStopping(monitor=\\\"val_loss\\\", patience=epochs//5)\\n\\n\\ndef train_m(model):\\n    model.compile(optimizer=\\\"adam\\\", loss=\\\"binary_crossentropy\\\", metrics=[\\\"accuracy\\\"])\\n    history = model.fit(\\n        partial_x_train,\\n        partial_y_train,\\n        epochs=epochs,\\n        batch_size=512,\\n        validation_data=(x_val, y_val),\\n        callbacks=[stopper],\\n        verbose=0,\\n    )\\n    return history\";\n                var nbb_formatted_code = \"from tensorflow.keras.callbacks import EarlyStopping\\n\\n\\nepochs = 20\\nstopper = EarlyStopping(monitor=\\\"val_loss\\\", patience=epochs // 5)\\n\\n\\ndef train_m(model):\\n    model.compile(optimizer=\\\"adam\\\", loss=\\\"binary_crossentropy\\\", metrics=[\\\"accuracy\\\"])\\n    history = model.fit(\\n        partial_x_train,\\n        partial_y_train,\\n        epochs=epochs,\\n        batch_size=512,\\n        validation_data=(x_val, y_val),\\n        callbacks=[stopper],\\n        verbose=0,\\n    )\\n    return history\";\n                var nbb_cells = Jupyter.notebook.get_cells();\n                for (var i = 0; i < nbb_cells.length; ++i) {\n                    if (nbb_cells[i].input_prompt_number == nbb_cell_id) {\n                        if (nbb_cells[i].get_text() == nbb_unformatted_code) {\n                             nbb_cells[i].set_text(nbb_formatted_code);\n                        }\n                        break;\n                    }\n                }\n            }, 500);\n            ",
      "text/plain": [
       "<IPython.core.display.Javascript object>"
      ]
     },
     "metadata": {},
     "output_type": "display_data"
    }
   ],
   "source": [
    "from tensorflow.keras.callbacks import EarlyStopping\n",
    "\n",
    "\n",
    "epochs = 20\n",
    "stopper = EarlyStopping(monitor=\"val_loss\", patience=epochs // 5)\n",
    "\n",
    "\n",
    "def train_m(model):\n",
    "    model.compile(optimizer=\"adam\", loss=\"binary_crossentropy\", metrics=[\"accuracy\"])\n",
    "    history = model.fit(\n",
    "        partial_x_train,\n",
    "        partial_y_train,\n",
    "        epochs=epochs,\n",
    "        batch_size=512,\n",
    "        validation_data=(x_val, y_val),\n",
    "        callbacks=[stopper],\n",
    "        verbose=0,\n",
    "    )\n",
    "    return history"
   ]
  },
  {
   "cell_type": "markdown",
   "id": "e6aebe39",
   "metadata": {},
   "source": [
    "훈련 데이터에 대한 loss와 검증 데이터에 대한 loss 그리고 각각의 데이터에 대한 정확도를 그래프로 표현하는 함수를 선언합니다."
   ]
  },
  {
   "cell_type": "code",
   "execution_count": 15,
   "id": "98319341",
   "metadata": {},
   "outputs": [
    {
     "data": {
      "application/javascript": "\n            setTimeout(function() {\n                var nbb_cell_id = 15;\n                var nbb_unformatted_code = \"import matplotlib.pyplot as plt\\n\\n\\ndef plot_history(history):\\n    history_dict = history.history\\n    acc = history_dict[\\\"accuracy\\\"]\\n    val_acc = history_dict[\\\"val_accuracy\\\"]\\n    loss = history_dict[\\\"loss\\\"]\\n    val_loss = history_dict[\\\"val_loss\\\"]\\n\\n    epochs = range(1, len(acc) + 1)\\n\\n    plt.figure(figsize=(12, 5))\\n    plt.subplot(1, 2, 1)\\n    plt.plot(epochs, loss, \\\"orange\\\", label=\\\"Training loss\\\")\\n    plt.plot(epochs, val_loss, \\\"b\\\", label=\\\"Validation loss\\\")\\n    plt.title(\\\"Training and validation loss\\\")\\n    plt.xlabel(\\\"Epochs\\\")\\n    plt.ylabel(\\\"Loss\\\")\\n    plt.legend()\\n\\n    plt.subplot(1, 2, 2)\\n    plt.plot(epochs, acc, \\\"orange\\\", label=\\\"Training acc\\\")\\n    plt.plot(epochs, val_acc, \\\"b\\\", label=\\\"Validation acc\\\")\\n    plt.title(\\\"Training and validation accuracy\\\")\\n    plt.xlabel(\\\"Epochs\\\")\\n    plt.ylabel(\\\"Accuracy\\\")\\n    plt.legend()\\n\\n    plt.show()\";\n                var nbb_formatted_code = \"import matplotlib.pyplot as plt\\n\\n\\ndef plot_history(history):\\n    history_dict = history.history\\n    acc = history_dict[\\\"accuracy\\\"]\\n    val_acc = history_dict[\\\"val_accuracy\\\"]\\n    loss = history_dict[\\\"loss\\\"]\\n    val_loss = history_dict[\\\"val_loss\\\"]\\n\\n    epochs = range(1, len(acc) + 1)\\n\\n    plt.figure(figsize=(12, 5))\\n    plt.subplot(1, 2, 1)\\n    plt.plot(epochs, loss, \\\"orange\\\", label=\\\"Training loss\\\")\\n    plt.plot(epochs, val_loss, \\\"b\\\", label=\\\"Validation loss\\\")\\n    plt.title(\\\"Training and validation loss\\\")\\n    plt.xlabel(\\\"Epochs\\\")\\n    plt.ylabel(\\\"Loss\\\")\\n    plt.legend()\\n\\n    plt.subplot(1, 2, 2)\\n    plt.plot(epochs, acc, \\\"orange\\\", label=\\\"Training acc\\\")\\n    plt.plot(epochs, val_acc, \\\"b\\\", label=\\\"Validation acc\\\")\\n    plt.title(\\\"Training and validation accuracy\\\")\\n    plt.xlabel(\\\"Epochs\\\")\\n    plt.ylabel(\\\"Accuracy\\\")\\n    plt.legend()\\n\\n    plt.show()\";\n                var nbb_cells = Jupyter.notebook.get_cells();\n                for (var i = 0; i < nbb_cells.length; ++i) {\n                    if (nbb_cells[i].input_prompt_number == nbb_cell_id) {\n                        if (nbb_cells[i].get_text() == nbb_unformatted_code) {\n                             nbb_cells[i].set_text(nbb_formatted_code);\n                        }\n                        break;\n                    }\n                }\n            }, 500);\n            ",
      "text/plain": [
       "<IPython.core.display.Javascript object>"
      ]
     },
     "metadata": {},
     "output_type": "display_data"
    }
   ],
   "source": [
    "import matplotlib.pyplot as plt\n",
    "\n",
    "\n",
    "def plot_history(history):\n",
    "    history_dict = history.history\n",
    "    acc = history_dict[\"accuracy\"]\n",
    "    val_acc = history_dict[\"val_accuracy\"]\n",
    "    loss = history_dict[\"loss\"]\n",
    "    val_loss = history_dict[\"val_loss\"]\n",
    "\n",
    "    epochs = range(1, len(acc) + 1)\n",
    "\n",
    "    plt.figure(figsize=(12, 5))\n",
    "    plt.subplot(1, 2, 1)\n",
    "    plt.plot(epochs, loss, \"orange\", label=\"Training loss\")\n",
    "    plt.plot(epochs, val_loss, \"b\", label=\"Validation loss\")\n",
    "    plt.title(\"Training and validation loss\")\n",
    "    plt.xlabel(\"Epochs\")\n",
    "    plt.ylabel(\"Loss\")\n",
    "    plt.legend()\n",
    "\n",
    "    plt.subplot(1, 2, 2)\n",
    "    plt.plot(epochs, acc, \"orange\", label=\"Training acc\")\n",
    "    plt.plot(epochs, val_acc, \"b\", label=\"Validation acc\")\n",
    "    plt.title(\"Training and validation accuracy\")\n",
    "    plt.xlabel(\"Epochs\")\n",
    "    plt.ylabel(\"Accuracy\")\n",
    "    plt.legend()\n",
    "\n",
    "    plt.show()"
   ]
  },
  {
   "cell_type": "markdown",
   "id": "b639cee8",
   "metadata": {},
   "source": [
    "## 훈련 진행\n",
    "설계된 3개의 모델에 대한 훈련을 진행하며 각 모델의 validation accuracy를 저장합니다"
   ]
  },
  {
   "cell_type": "code",
   "execution_count": 16,
   "id": "f5216e93",
   "metadata": {},
   "outputs": [
    {
     "data": {
      "application/javascript": "\n            setTimeout(function() {\n                var nbb_cell_id = 16;\n                var nbb_unformatted_code = \"result_list = []\";\n                var nbb_formatted_code = \"result_list = []\";\n                var nbb_cells = Jupyter.notebook.get_cells();\n                for (var i = 0; i < nbb_cells.length; ++i) {\n                    if (nbb_cells[i].input_prompt_number == nbb_cell_id) {\n                        if (nbb_cells[i].get_text() == nbb_unformatted_code) {\n                             nbb_cells[i].set_text(nbb_formatted_code);\n                        }\n                        break;\n                    }\n                }\n            }, 500);\n            ",
      "text/plain": [
       "<IPython.core.display.Javascript object>"
      ]
     },
     "metadata": {},
     "output_type": "display_data"
    }
   ],
   "source": [
    "result_list = []"
   ]
  },
  {
   "cell_type": "code",
   "execution_count": 17,
   "id": "21ad15f6",
   "metadata": {
    "scrolled": true
   },
   "outputs": [
    {
     "name": "stdout",
     "output_type": "stream",
     "text": [
      "1537/1537 - 3s - loss: 0.3624 - accuracy: 0.8500\n"
     ]
    },
    {
     "data": {
      "application/javascript": "\n            setTimeout(function() {\n                var nbb_cell_id = 17;\n                var nbb_unformatted_code = \"model = my_lstm(embed_layer)\\nhistory = train_m(model)\\nresults = model.evaluate(x_test, y_test, verbose=2)\\n# print(results)\\nresult_list.append([model, results[1]])\";\n                var nbb_formatted_code = \"model = my_lstm(embed_layer)\\nhistory = train_m(model)\\nresults = model.evaluate(x_test, y_test, verbose=2)\\n# print(results)\\nresult_list.append([model, results[1]])\";\n                var nbb_cells = Jupyter.notebook.get_cells();\n                for (var i = 0; i < nbb_cells.length; ++i) {\n                    if (nbb_cells[i].input_prompt_number == nbb_cell_id) {\n                        if (nbb_cells[i].get_text() == nbb_unformatted_code) {\n                             nbb_cells[i].set_text(nbb_formatted_code);\n                        }\n                        break;\n                    }\n                }\n            }, 500);\n            ",
      "text/plain": [
       "<IPython.core.display.Javascript object>"
      ]
     },
     "metadata": {},
     "output_type": "display_data"
    }
   ],
   "source": [
    "model = my_lstm(embed_layer)\n",
    "history = train_m(model)\n",
    "results = model.evaluate(x_test, y_test, verbose=2)\n",
    "# print(results)\n",
    "result_list.append([model, results[1]])"
   ]
  },
  {
   "cell_type": "code",
   "execution_count": 18,
   "id": "e2954de7",
   "metadata": {},
   "outputs": [
    {
     "data": {
      "image/png": "[encoded data removed]",
      "text/plain": [
       "<Figure size 864x360 with 2 Axes>"
      ]
     },
     "metadata": {
      "needs_background": "light"
     },
     "output_type": "display_data"
    },
    {
     "data": {
      "application/javascript": "\n            setTimeout(function() {\n                var nbb_cell_id = 18;\n                var nbb_unformatted_code = \"plot_history(history)\";\n                var nbb_formatted_code = \"plot_history(history)\";\n                var nbb_cells = Jupyter.notebook.get_cells();\n                for (var i = 0; i < nbb_cells.length; ++i) {\n                    if (nbb_cells[i].input_prompt_number == nbb_cell_id) {\n                        if (nbb_cells[i].get_text() == nbb_unformatted_code) {\n                             nbb_cells[i].set_text(nbb_formatted_code);\n                        }\n                        break;\n                    }\n                }\n            }, 500);\n            ",
      "text/plain": [
       "<IPython.core.display.Javascript object>"
      ]
     },
     "metadata": {},
     "output_type": "display_data"
    }
   ],
   "source": [
    "plot_history(history)"
   ]
  },
  {
   "cell_type": "code",
   "execution_count": 19,
   "id": "6be3d369",
   "metadata": {
    "scrolled": true
   },
   "outputs": [
    {
     "name": "stdout",
     "output_type": "stream",
     "text": [
      "1537/1537 - 2s - loss: 0.3857 - accuracy: 0.8390\n"
     ]
    },
    {
     "data": {
      "application/javascript": "\n            setTimeout(function() {\n                var nbb_cell_id = 19;\n                var nbb_unformatted_code = \"model = my_gmp(embed_layer)\\nhistory = train_m(model)\\nresults = model.evaluate(x_test, y_test, verbose=2)\\n# print(results)\\nresult_list.append([model, results[1]])\";\n                var nbb_formatted_code = \"model = my_gmp(embed_layer)\\nhistory = train_m(model)\\nresults = model.evaluate(x_test, y_test, verbose=2)\\n# print(results)\\nresult_list.append([model, results[1]])\";\n                var nbb_cells = Jupyter.notebook.get_cells();\n                for (var i = 0; i < nbb_cells.length; ++i) {\n                    if (nbb_cells[i].input_prompt_number == nbb_cell_id) {\n                        if (nbb_cells[i].get_text() == nbb_unformatted_code) {\n                             nbb_cells[i].set_text(nbb_formatted_code);\n                        }\n                        break;\n                    }\n                }\n            }, 500);\n            ",
      "text/plain": [
       "<IPython.core.display.Javascript object>"
      ]
     },
     "metadata": {},
     "output_type": "display_data"
    }
   ],
   "source": [
    "model = my_gmp(embed_layer)\n",
    "history = train_m(model)\n",
    "results = model.evaluate(x_test, y_test, verbose=2)\n",
    "# print(results)\n",
    "result_list.append([model, results[1]])"
   ]
  },
  {
   "cell_type": "code",
   "execution_count": 20,
   "id": "c6620168",
   "metadata": {},
   "outputs": [
    {
     "data": {
      "image/png": "[encoded data removed]",
      "text/plain": [
       "<Figure size 864x360 with 2 Axes>"
      ]
     },
     "metadata": {
      "needs_background": "light"
     },
     "output_type": "display_data"
    },
    {
     "data": {
      "application/javascript": "\n            setTimeout(function() {\n                var nbb_cell_id = 20;\n                var nbb_unformatted_code = \"plot_history(history)\";\n                var nbb_formatted_code = \"plot_history(history)\";\n                var nbb_cells = Jupyter.notebook.get_cells();\n                for (var i = 0; i < nbb_cells.length; ++i) {\n                    if (nbb_cells[i].input_prompt_number == nbb_cell_id) {\n                        if (nbb_cells[i].get_text() == nbb_unformatted_code) {\n                             nbb_cells[i].set_text(nbb_formatted_code);\n                        }\n                        break;\n                    }\n                }\n            }, 500);\n            ",
      "text/plain": [
       "<IPython.core.display.Javascript object>"
      ]
     },
     "metadata": {},
     "output_type": "display_data"
    }
   ],
   "source": [
    "plot_history(history)"
   ]
  },
  {
   "cell_type": "code",
   "execution_count": 21,
   "id": "65d72450",
   "metadata": {},
   "outputs": [
    {
     "name": "stdout",
     "output_type": "stream",
     "text": [
      "1537/1537 - 2s - loss: 0.3809 - accuracy: 0.8494\n"
     ]
    },
    {
     "data": {
      "application/javascript": "\n            setTimeout(function() {\n                var nbb_cell_id = 21;\n                var nbb_unformatted_code = \"model = my_cnn(embed_layer)\\nhistory = train_m(model)\\nresults = model.evaluate(x_test, y_test, verbose=2)\\n# print(results)\\nresult_list.append([model, results[1]])\";\n                var nbb_formatted_code = \"model = my_cnn(embed_layer)\\nhistory = train_m(model)\\nresults = model.evaluate(x_test, y_test, verbose=2)\\n# print(results)\\nresult_list.append([model, results[1]])\";\n                var nbb_cells = Jupyter.notebook.get_cells();\n                for (var i = 0; i < nbb_cells.length; ++i) {\n                    if (nbb_cells[i].input_prompt_number == nbb_cell_id) {\n                        if (nbb_cells[i].get_text() == nbb_unformatted_code) {\n                             nbb_cells[i].set_text(nbb_formatted_code);\n                        }\n                        break;\n                    }\n                }\n            }, 500);\n            ",
      "text/plain": [
       "<IPython.core.display.Javascript object>"
      ]
     },
     "metadata": {},
     "output_type": "display_data"
    }
   ],
   "source": [
    "model = my_cnn(embed_layer)\n",
    "history = train_m(model)\n",
    "results = model.evaluate(x_test, y_test, verbose=2)\n",
    "# print(results)\n",
    "result_list.append([model, results[1]])"
   ]
  },
  {
   "cell_type": "code",
   "execution_count": 22,
   "id": "d93a621f",
   "metadata": {
    "scrolled": true
   },
   "outputs": [
    {
     "data": {
      "image/png": "[encoded data removed]",
      "text/plain": [
       "<Figure size 864x360 with 2 Axes>"
      ]
     },
     "metadata": {
      "needs_background": "light"
     },
     "output_type": "display_data"
    },
    {
     "data": {
      "application/javascript": "\n            setTimeout(function() {\n                var nbb_cell_id = 22;\n                var nbb_unformatted_code = \"plot_history(history)\";\n                var nbb_formatted_code = \"plot_history(history)\";\n                var nbb_cells = Jupyter.notebook.get_cells();\n                for (var i = 0; i < nbb_cells.length; ++i) {\n                    if (nbb_cells[i].input_prompt_number == nbb_cell_id) {\n                        if (nbb_cells[i].get_text() == nbb_unformatted_code) {\n                             nbb_cells[i].set_text(nbb_formatted_code);\n                        }\n                        break;\n                    }\n                }\n            }, 500);\n            ",
      "text/plain": [
       "<IPython.core.display.Javascript object>"
      ]
     },
     "metadata": {},
     "output_type": "display_data"
    }
   ],
   "source": [
    "plot_history(history)"
   ]
  },
  {
   "cell_type": "markdown",
   "id": "7fc006d2",
   "metadata": {},
   "source": [
    "## 훈련 결과"
   ]
  },
  {
   "cell_type": "markdown",
   "id": "56940670",
   "metadata": {},
   "source": [
    "| model | validation acc |\n",
    "| --- | --- |\n",
    "| LSTM | 85.00% |\n",
    "| GMP | 83.90% |\n",
    "| 1D-CNN | 84.94% |\n",
    "\n",
    "3개의 모델의 훈련 결과는 위의 표와 같습니다.  \n",
    "별도의 학습 파라미터가 존재하지 않는 Global Max Pooling가 포함되어 있는 모델의 경우도 다른 두 모델에 비해 정확도는 떨어지지만 좋은 결과가 나왔습니다.  \n",
    "모든 모델들은 5 epoch 이전에 validation loss가 상승하는 과적합 양상을 보였고, 그에 따라 10 epoch 이전에 훈련이 종료되었습니다."
   ]
  },
  {
   "cell_type": "markdown",
   "id": "09cf50c7",
   "metadata": {},
   "source": [
    "## 임베딩 레이어 성능 확인"
   ]
  },
  {
   "cell_type": "markdown",
   "id": "478eeaa1",
   "metadata": {},
   "source": [
    "훈련한 3개의 네트워크 중 validation accuracy가 가장 높은 모델의 임베딩 레이어의 가중치를 불러옵니다."
   ]
  },
  {
   "cell_type": "code",
   "execution_count": 23,
   "id": "15148341",
   "metadata": {
    "scrolled": true
   },
   "outputs": [
    {
     "name": "stdout",
     "output_type": "stream",
     "text": [
      "(10000, 16)\n"
     ]
    },
    {
     "data": {
      "application/javascript": "\n            setTimeout(function() {\n                var nbb_cell_id = 23;\n                var nbb_unformatted_code = \"result_list.sort(key=lambda x: x[1])\\nmodel = result_list[0][0]\\nembedding_layer = model.layers[0]\\nweights = embedding_layer.get_weights()[0]\\nprint(weights.shape)\";\n                var nbb_formatted_code = \"result_list.sort(key=lambda x: x[1])\\nmodel = result_list[0][0]\\nembedding_layer = model.layers[0]\\nweights = embedding_layer.get_weights()[0]\\nprint(weights.shape)\";\n                var nbb_cells = Jupyter.notebook.get_cells();\n                for (var i = 0; i < nbb_cells.length; ++i) {\n                    if (nbb_cells[i].input_prompt_number == nbb_cell_id) {\n                        if (nbb_cells[i].get_text() == nbb_unformatted_code) {\n                             nbb_cells[i].set_text(nbb_formatted_code);\n                        }\n                        break;\n                    }\n                }\n            }, 500);\n            ",
      "text/plain": [
       "<IPython.core.display.Javascript object>"
      ]
     },
     "metadata": {},
     "output_type": "display_data"
    }
   ],
   "source": [
    "result_list.sort(key=lambda x: x[1])\n",
    "model = result_list[0][0]\n",
    "embedding_layer = model.layers[0]\n",
    "weights = embedding_layer.get_weights()[0]\n",
    "print(weights.shape)"
   ]
  },
  {
   "cell_type": "markdown",
   "id": "061a8d8a",
   "metadata": {},
   "source": [
    "임베딩 레이어의 가중치를 파일 형태로 저장하고, 주어진 단어와 유사한 단어를 찾도록하여 어떠한 결과가 나오는지 확인합니다."
   ]
  },
  {
   "cell_type": "code",
   "execution_count": 24,
   "id": "251bb348",
   "metadata": {},
   "outputs": [
    {
     "data": {
      "application/javascript": "\n            setTimeout(function() {\n                var nbb_cell_id = 24;\n                var nbb_unformatted_code = \"import os\\n\\n\\nword2vec_file_path = (\\n    os.getenv(\\\"HOME\\\") + \\\"/aiffel/sentiment_classification/data/word2vec.txt\\\"\\n)\\nf = open(word2vec_file_path, \\\"w\\\")\\nf.write(\\\"{} {}\\\\n\\\".format(vocab_size - 4, word_vector_dim))\\n\\nvectors = model.get_weights()[0]\\nfor i in range(4, vocab_size):\\n    f.write(\\\"{} {}\\\\n\\\".format(index_to_word[i], \\\" \\\".join(map(str, list(vectors[i, :])))))\\nf.close()\";\n                var nbb_formatted_code = \"import os\\n\\n\\nword2vec_file_path = (\\n    os.getenv(\\\"HOME\\\") + \\\"/aiffel/sentiment_classification/data/word2vec.txt\\\"\\n)\\nf = open(word2vec_file_path, \\\"w\\\")\\nf.write(\\\"{} {}\\\\n\\\".format(vocab_size - 4, word_vector_dim))\\n\\nvectors = model.get_weights()[0]\\nfor i in range(4, vocab_size):\\n    f.write(\\\"{} {}\\\\n\\\".format(index_to_word[i], \\\" \\\".join(map(str, list(vectors[i, :])))))\\nf.close()\";\n                var nbb_cells = Jupyter.notebook.get_cells();\n                for (var i = 0; i < nbb_cells.length; ++i) {\n                    if (nbb_cells[i].input_prompt_number == nbb_cell_id) {\n                        if (nbb_cells[i].get_text() == nbb_unformatted_code) {\n                             nbb_cells[i].set_text(nbb_formatted_code);\n                        }\n                        break;\n                    }\n                }\n            }, 500);\n            ",
      "text/plain": [
       "<IPython.core.display.Javascript object>"
      ]
     },
     "metadata": {},
     "output_type": "display_data"
    }
   ],
   "source": [
    "import os\n",
    "\n",
    "\n",
    "word2vec_file_path = (\n",
    "    os.getenv(\"HOME\") + \"/aiffel/sentiment_classification/data/word2vec.txt\"\n",
    ")\n",
    "f = open(word2vec_file_path, \"w\")\n",
    "f.write(\"{} {}\\n\".format(vocab_size - 4, word_vector_dim))\n",
    "\n",
    "vectors = model.get_weights()[0]\n",
    "for i in range(4, vocab_size):\n",
    "    f.write(\"{} {}\\n\".format(index_to_word[i], \" \".join(map(str, list(vectors[i, :])))))\n",
    "f.close()"
   ]
  },
  {
   "cell_type": "code",
   "execution_count": 25,
   "id": "bc4df732",
   "metadata": {},
   "outputs": [
    {
     "data": {
      "text/plain": [
       "[('참', 0.8432246446609497),\n",
       " ('믹', 0.8340432047843933),\n",
       " ('남주', 0.8175192475318909),\n",
       " ('3', 0.8152365684509277),\n",
       " ('김지영', 0.802465558052063),\n",
       " ('폭소', 0.7990982532501221),\n",
       " ('종합', 0.7951544523239136),\n",
       " ('이제껏', 0.7950364351272583),\n",
       " ('객관적으로', 0.7783843874931335),\n",
       " ('힘든', 0.7717720866203308)]"
      ]
     },
     "execution_count": 25,
     "metadata": {},
     "output_type": "execute_result"
    },
    {
     "data": {
      "application/javascript": "\n            setTimeout(function() {\n                var nbb_cell_id = 25;\n                var nbb_unformatted_code = \"from gensim.models.keyedvectors import Word2VecKeyedVectors\\n\\n\\nword_vectors = Word2VecKeyedVectors.load_word2vec_format(\\n    word2vec_file_path, binary=False\\n)\\nword_vectors.similar_by_word(\\\"\\ub098\\ubb34\\\")\";\n                var nbb_formatted_code = \"from gensim.models.keyedvectors import Word2VecKeyedVectors\\n\\n\\nword_vectors = Word2VecKeyedVectors.load_word2vec_format(\\n    word2vec_file_path, binary=False\\n)\\nword_vectors.similar_by_word(\\\"\\ub098\\ubb34\\\")\";\n                var nbb_cells = Jupyter.notebook.get_cells();\n                for (var i = 0; i < nbb_cells.length; ++i) {\n                    if (nbb_cells[i].input_prompt_number == nbb_cell_id) {\n                        if (nbb_cells[i].get_text() == nbb_unformatted_code) {\n                             nbb_cells[i].set_text(nbb_formatted_code);\n                        }\n                        break;\n                    }\n                }\n            }, 500);\n            ",
      "text/plain": [
       "<IPython.core.display.Javascript object>"
      ]
     },
     "metadata": {},
     "output_type": "display_data"
    }
   ],
   "source": [
    "from gensim.models.keyedvectors import Word2VecKeyedVectors\n",
    "\n",
    "\n",
    "word_vectors = Word2VecKeyedVectors.load_word2vec_format(\n",
    "    word2vec_file_path, binary=False\n",
    ")\n",
    "word_vectors.similar_by_word(\"나무\")"
   ]
  },
  {
   "cell_type": "markdown",
   "id": "285ff9d0",
   "metadata": {},
   "source": [
    "\"나무\"라는 단어와 유사한 단어를 찾도록 하면, 영화 감상평에 쓰일 확률이 낮아서인지 연관성을 찾기 힘든 단어들이 출력됩니다."
   ]
  },
  {
   "cell_type": "code",
   "execution_count": 26,
   "id": "f5fae5d6",
   "metadata": {
    "scrolled": true
   },
   "outputs": [
    {
     "data": {
      "text/plain": [
       "[('괜찮', 0.931977391242981),\n",
       " ('서편제', 0.9138933420181274),\n",
       " ('명작', 0.9084169268608093),\n",
       " ('대부', 0.9039289951324463),\n",
       " ('각종', 0.899904727935791),\n",
       " ('굿', 0.8883476853370667),\n",
       " ('좋', 0.8880492448806763),\n",
       " ('재밌', 0.8878347277641296),\n",
       " ('☆', 0.8809769749641418),\n",
       " ('최고', 0.8797017335891724)]"
      ]
     },
     "execution_count": 26,
     "metadata": {},
     "output_type": "execute_result"
    },
    {
     "data": {
      "application/javascript": "\n            setTimeout(function() {\n                var nbb_cell_id = 26;\n                var nbb_unformatted_code = \"word_vectors.similar_by_word(\\\"\\uc0ac\\ub791\\\")\";\n                var nbb_formatted_code = \"word_vectors.similar_by_word(\\\"\\uc0ac\\ub791\\\")\";\n                var nbb_cells = Jupyter.notebook.get_cells();\n                for (var i = 0; i < nbb_cells.length; ++i) {\n                    if (nbb_cells[i].input_prompt_number == nbb_cell_id) {\n                        if (nbb_cells[i].get_text() == nbb_unformatted_code) {\n                             nbb_cells[i].set_text(nbb_formatted_code);\n                        }\n                        break;\n                    }\n                }\n            }, 500);\n            ",
      "text/plain": [
       "<IPython.core.display.Javascript object>"
      ]
     },
     "metadata": {},
     "output_type": "display_data"
    }
   ],
   "source": [
    "word_vectors.similar_by_word(\"사랑\")"
   ]
  },
  {
   "cell_type": "markdown",
   "id": "3e2c8b07",
   "metadata": {},
   "source": [
    "\"사랑\"이라는 단어에 대해서는 \"재밌\"이나 \"최고\"와 같이 긍정적인 의미를 나타내는 단어들이 출력됩니다.  \n",
    "흥미로운 점은 별도로 한글 이외의 문자를 제거하거나 대체하는 전처리를 진행하지 않아 \"☆\"이라는 특수 문자가 포함되어 있는 사실입니다.  \n",
    "일반적으로 긍정의 의미를 담고 있으니, 학습은 잘 되었다고 생각됩니다."
   ]
  },
  {
   "cell_type": "markdown",
   "id": "1b1f38eb",
   "metadata": {},
   "source": [
    "## Pre-trained word vector 적용\n",
    "사전학습되지 않은 임베딩 레이어를 훈련한 결과를 확인하였으니, 사전학습된 임베딩 레이어를 사용하여 훈련하면 결과가 어떻게 나올지 확인합니다.  \n",
    "다음의 [출처](https://github.com/Kyubyong/wordvectors)에서 pre-trained 된 워드 벡터를 다운로드하여 불러옵니다."
   ]
  },
  {
   "cell_type": "code",
   "execution_count": 27,
   "id": "d0b351e0",
   "metadata": {
    "scrolled": false
   },
   "outputs": [
    {
     "data": {
      "text/plain": [
       "[('소나무', 0.7991706132888794),\n",
       " ('대나무', 0.7613740563392639),\n",
       " ('버드나무', 0.7342588305473328),\n",
       " ('참나무', 0.7181689739227295),\n",
       " ('나뭇가지', 0.7110863924026489),\n",
       " ('갈대', 0.6910358667373657),\n",
       " ('바위', 0.6636906862258911),\n",
       " ('매화', 0.6627185344696045),\n",
       " ('느티나무', 0.6549824476242065),\n",
       " ('팽나무', 0.6547843217849731)]"
      ]
     },
     "execution_count": 27,
     "metadata": {},
     "output_type": "execute_result"
    },
    {
     "data": {
      "application/javascript": "\n            setTimeout(function() {\n                var nbb_cell_id = 27;\n                var nbb_unformatted_code = \"from gensim.models import Word2Vec\\n\\nword2vec_path = os.getenv(\\\"HOME\\\") + \\\"/aiffel/sentiment_classification/data/ko.bin\\\"\\nword2vec = Word2Vec.load(word2vec_path)\\nword2vec.wv.similar_by_word(\\\"\\ub098\\ubb34\\\")\";\n                var nbb_formatted_code = \"from gensim.models import Word2Vec\\n\\nword2vec_path = os.getenv(\\\"HOME\\\") + \\\"/aiffel/sentiment_classification/data/ko.bin\\\"\\nword2vec = Word2Vec.load(word2vec_path)\\nword2vec.wv.similar_by_word(\\\"\\ub098\\ubb34\\\")\";\n                var nbb_cells = Jupyter.notebook.get_cells();\n                for (var i = 0; i < nbb_cells.length; ++i) {\n                    if (nbb_cells[i].input_prompt_number == nbb_cell_id) {\n                        if (nbb_cells[i].get_text() == nbb_unformatted_code) {\n                             nbb_cells[i].set_text(nbb_formatted_code);\n                        }\n                        break;\n                    }\n                }\n            }, 500);\n            ",
      "text/plain": [
       "<IPython.core.display.Javascript object>"
      ]
     },
     "metadata": {},
     "output_type": "display_data"
    }
   ],
   "source": [
    "from gensim.models import Word2Vec\n",
    "\n",
    "\n",
    "word2vec_path = os.getenv(\"HOME\") + \"/aiffel/sentiment_classification/data/ko.bin\"\n",
    "word2vec = Word2Vec.load(word2vec_path)\n",
    "word2vec.wv.similar_by_word(\"나무\")"
   ]
  },
  {
   "cell_type": "markdown",
   "id": "9fd3ae59",
   "metadata": {},
   "source": [
    "사전 학습된 워드 벡터가 한국어 위키피디아 내용을 기반으로 해서인지, 사전적인 정의로 \"나무\"와 관련된 단어들이 출력됩니다."
   ]
  },
  {
   "cell_type": "code",
   "execution_count": 28,
   "id": "3e572a74",
   "metadata": {
    "scrolled": true
   },
   "outputs": [
    {
     "data": {
      "text/plain": [
       "[('슬픔', 0.7216662764549255),\n",
       " ('행복', 0.6759077310562134),\n",
       " ('절망', 0.6468985080718994),\n",
       " ('기쁨', 0.6458414196968079),\n",
       " ('이별', 0.6334798336029053),\n",
       " ('추억', 0.6320937275886536),\n",
       " ('인생', 0.6216273307800293),\n",
       " ('애정', 0.6206069588661194),\n",
       " ('연인', 0.6186063289642334),\n",
       " ('유혹', 0.5965287685394287)]"
      ]
     },
     "execution_count": 28,
     "metadata": {},
     "output_type": "execute_result"
    },
    {
     "data": {
      "application/javascript": "\n            setTimeout(function() {\n                var nbb_cell_id = 28;\n                var nbb_unformatted_code = \"word2vec.wv.similar_by_word(\\\"\\uc0ac\\ub791\\\")\";\n                var nbb_formatted_code = \"word2vec.wv.similar_by_word(\\\"\\uc0ac\\ub791\\\")\";\n                var nbb_cells = Jupyter.notebook.get_cells();\n                for (var i = 0; i < nbb_cells.length; ++i) {\n                    if (nbb_cells[i].input_prompt_number == nbb_cell_id) {\n                        if (nbb_cells[i].get_text() == nbb_unformatted_code) {\n                             nbb_cells[i].set_text(nbb_formatted_code);\n                        }\n                        break;\n                    }\n                }\n            }, 500);\n            ",
      "text/plain": [
       "<IPython.core.display.Javascript object>"
      ]
     },
     "metadata": {},
     "output_type": "display_data"
    }
   ],
   "source": [
    "word2vec.wv.similar_by_word(\"사랑\")"
   ]
  },
  {
   "cell_type": "markdown",
   "id": "f287cfbf",
   "metadata": {},
   "source": [
    "\"사랑\"이라는 단어에 대해서는 유사한 감정 또는 상황을 나타내는 단어들이 등장합니다."
   ]
  },
  {
   "cell_type": "code",
   "execution_count": 29,
   "id": "050cac32",
   "metadata": {
    "scrolled": false
   },
   "outputs": [
    {
     "data": {
      "text/plain": [
       "dict_keys(['vectors', 'vocab', 'vector_size', 'index2word', 'vectors_norm'])"
      ]
     },
     "execution_count": 29,
     "metadata": {},
     "output_type": "execute_result"
    },
    {
     "data": {
      "application/javascript": "\n            setTimeout(function() {\n                var nbb_cell_id = 29;\n                var nbb_unformatted_code = \"word2vec.wv.__dict__.keys()\";\n                var nbb_formatted_code = \"word2vec.wv.__dict__.keys()\";\n                var nbb_cells = Jupyter.notebook.get_cells();\n                for (var i = 0; i < nbb_cells.length; ++i) {\n                    if (nbb_cells[i].input_prompt_number == nbb_cell_id) {\n                        if (nbb_cells[i].get_text() == nbb_unformatted_code) {\n                             nbb_cells[i].set_text(nbb_formatted_code);\n                        }\n                        break;\n                    }\n                }\n            }, 500);\n            ",
      "text/plain": [
       "<IPython.core.display.Javascript object>"
      ]
     },
     "metadata": {},
     "output_type": "display_data"
    }
   ],
   "source": [
    "word2vec.wv.__dict__.keys()"
   ]
  },
  {
   "cell_type": "markdown",
   "id": "499d59ed",
   "metadata": {},
   "source": [
    "사전 학습된 워드 벡터의 shape을 확인합니다."
   ]
  },
  {
   "cell_type": "code",
   "execution_count": 30,
   "id": "6f165e9e",
   "metadata": {
    "scrolled": true
   },
   "outputs": [
    {
     "name": "stdout",
     "output_type": "stream",
     "text": [
      "(30185, 200)\n"
     ]
    },
    {
     "data": {
      "application/javascript": "\n            setTimeout(function() {\n                var nbb_cell_id = 30;\n                var nbb_unformatted_code = \"print(word2vec.wv.vectors.shape)\";\n                var nbb_formatted_code = \"print(word2vec.wv.vectors.shape)\";\n                var nbb_cells = Jupyter.notebook.get_cells();\n                for (var i = 0; i < nbb_cells.length; ++i) {\n                    if (nbb_cells[i].input_prompt_number == nbb_cell_id) {\n                        if (nbb_cells[i].get_text() == nbb_unformatted_code) {\n                             nbb_cells[i].set_text(nbb_formatted_code);\n                        }\n                        break;\n                    }\n                }\n            }, 500);\n            ",
      "text/plain": [
       "<IPython.core.display.Javascript object>"
      ]
     },
     "metadata": {},
     "output_type": "display_data"
    }
   ],
   "source": [
    "print(word2vec.wv.vectors.shape)"
   ]
  },
  {
   "cell_type": "markdown",
   "id": "4b2ba10d",
   "metadata": {},
   "source": [
    "vocabulary 중 10000개의 단어들을 사용하기 위해 임의의 값으로 채워진 배열을 생성하고 `word2vec`으로부터 값을 불러와 저장합니다."
   ]
  },
  {
   "cell_type": "code",
   "execution_count": 31,
   "id": "a1452638",
   "metadata": {
    "scrolled": true
   },
   "outputs": [
    {
     "data": {
      "application/javascript": "\n            setTimeout(function() {\n                var nbb_cell_id = 31;\n                var nbb_unformatted_code = \"vocab_size = 10000\\nword_vector_dim = 200\\nembedding_matrix = np.random.rand(vocab_size, word_vector_dim)\\n\\nfor i in range(4, vocab_size):\\n    if index_to_word[i] in word2vec.wv:\\n        embedding_matrix[i] = word2vec.wv[index_to_word[i]]\";\n                var nbb_formatted_code = \"vocab_size = 10000\\nword_vector_dim = 200\\nembedding_matrix = np.random.rand(vocab_size, word_vector_dim)\\n\\nfor i in range(4, vocab_size):\\n    if index_to_word[i] in word2vec.wv:\\n        embedding_matrix[i] = word2vec.wv[index_to_word[i]]\";\n                var nbb_cells = Jupyter.notebook.get_cells();\n                for (var i = 0; i < nbb_cells.length; ++i) {\n                    if (nbb_cells[i].input_prompt_number == nbb_cell_id) {\n                        if (nbb_cells[i].get_text() == nbb_unformatted_code) {\n                             nbb_cells[i].set_text(nbb_formatted_code);\n                        }\n                        break;\n                    }\n                }\n            }, 500);\n            ",
      "text/plain": [
       "<IPython.core.display.Javascript object>"
      ]
     },
     "metadata": {},
     "output_type": "display_data"
    }
   ],
   "source": [
    "vocab_size = 10000\n",
    "word_vector_dim = 200\n",
    "embedding_matrix = np.random.rand(vocab_size, word_vector_dim)\n",
    "\n",
    "for i in range(4, vocab_size):\n",
    "    if index_to_word[i] in word2vec.wv:\n",
    "        embedding_matrix[i] = word2vec.wv[index_to_word[i]]"
   ]
  },
  {
   "cell_type": "markdown",
   "id": "4db493cf",
   "metadata": {},
   "source": [
    "사전 학습된 정보를 `Embedding` 레이어의 초기화에 사용합니다."
   ]
  },
  {
   "cell_type": "code",
   "execution_count": 32,
   "id": "3d3edca1",
   "metadata": {
    "scrolled": true
   },
   "outputs": [
    {
     "data": {
      "application/javascript": "\n            setTimeout(function() {\n                var nbb_cell_id = 32;\n                var nbb_unformatted_code = \"from tensorflow.keras.initializers import Constant\\n\\nvocab_size = 10000\\nword_vector_dim = 200\\n\\nembed_layer_pre = tf.keras.layers.Embedding(\\n    vocab_size,\\n    word_vector_dim,\\n    embeddings_initializer=Constant(embedding_matrix),\\n    input_length=maxlen,\\n    trainable=True,\\n)\";\n                var nbb_formatted_code = \"from tensorflow.keras.initializers import Constant\\n\\nvocab_size = 10000\\nword_vector_dim = 200\\n\\nembed_layer_pre = tf.keras.layers.Embedding(\\n    vocab_size,\\n    word_vector_dim,\\n    embeddings_initializer=Constant(embedding_matrix),\\n    input_length=maxlen,\\n    trainable=True,\\n)\";\n                var nbb_cells = Jupyter.notebook.get_cells();\n                for (var i = 0; i < nbb_cells.length; ++i) {\n                    if (nbb_cells[i].input_prompt_number == nbb_cell_id) {\n                        if (nbb_cells[i].get_text() == nbb_unformatted_code) {\n                             nbb_cells[i].set_text(nbb_formatted_code);\n                        }\n                        break;\n                    }\n                }\n            }, 500);\n            ",
      "text/plain": [
       "<IPython.core.display.Javascript object>"
      ]
     },
     "metadata": {},
     "output_type": "display_data"
    }
   ],
   "source": [
    "from tensorflow.keras.initializers import Constant\n",
    "\n",
    "vocab_size = 10000\n",
    "word_vector_dim = 200\n",
    "\n",
    "embed_layer_pre = tf.keras.layers.Embedding(\n",
    "    vocab_size,\n",
    "    word_vector_dim,\n",
    "    embeddings_initializer=Constant(embedding_matrix),\n",
    "    input_length=maxlen,\n",
    "    trainable=True,\n",
    ")"
   ]
  },
  {
   "cell_type": "markdown",
   "id": "6f881824",
   "metadata": {},
   "source": [
    "사전 학습된 정보를 이용하여 초기화한 `Embedding` 레이어를 3개의 모델에 적용하여 훈련을 진행하고 성능을 평가합니다."
   ]
  },
  {
   "cell_type": "code",
   "execution_count": 33,
   "id": "f46df677",
   "metadata": {
    "scrolled": true
   },
   "outputs": [
    {
     "name": "stdout",
     "output_type": "stream",
     "text": [
      "1537/1537 - 3s - loss: 0.3728 - accuracy: 0.8486\n",
      "[0.3727807104587555, 0.8486278653144836]\n"
     ]
    },
    {
     "data": {
      "application/javascript": "\n            setTimeout(function() {\n                var nbb_cell_id = 33;\n                var nbb_unformatted_code = \"model = my_lstm(embed_layer_pre)\\nhistory = train_m(model)\\nresults = model.evaluate(x_test, y_test, verbose=2)\\nprint(results)\";\n                var nbb_formatted_code = \"model = my_lstm(embed_layer_pre)\\nhistory = train_m(model)\\nresults = model.evaluate(x_test, y_test, verbose=2)\\nprint(results)\";\n                var nbb_cells = Jupyter.notebook.get_cells();\n                for (var i = 0; i < nbb_cells.length; ++i) {\n                    if (nbb_cells[i].input_prompt_number == nbb_cell_id) {\n                        if (nbb_cells[i].get_text() == nbb_unformatted_code) {\n                             nbb_cells[i].set_text(nbb_formatted_code);\n                        }\n                        break;\n                    }\n                }\n            }, 500);\n            ",
      "text/plain": [
       "<IPython.core.display.Javascript object>"
      ]
     },
     "metadata": {},
     "output_type": "display_data"
    }
   ],
   "source": [
    "model = my_lstm(embed_layer_pre)\n",
    "history = train_m(model)\n",
    "results = model.evaluate(x_test, y_test, verbose=2)\n",
    "print(results)"
   ]
  },
  {
   "cell_type": "code",
   "execution_count": 34,
   "id": "0858fa54",
   "metadata": {},
   "outputs": [
    {
     "data": {
      "image/png": "[encoded data removed]",
      "text/plain": [
       "<Figure size 864x360 with 2 Axes>"
      ]
     },
     "metadata": {
      "needs_background": "light"
     },
     "output_type": "display_data"
    },
    {
     "data": {
      "application/javascript": "\n            setTimeout(function() {\n                var nbb_cell_id = 34;\n                var nbb_unformatted_code = \"plot_history(history)\";\n                var nbb_formatted_code = \"plot_history(history)\";\n                var nbb_cells = Jupyter.notebook.get_cells();\n                for (var i = 0; i < nbb_cells.length; ++i) {\n                    if (nbb_cells[i].input_prompt_number == nbb_cell_id) {\n                        if (nbb_cells[i].get_text() == nbb_unformatted_code) {\n                             nbb_cells[i].set_text(nbb_formatted_code);\n                        }\n                        break;\n                    }\n                }\n            }, 500);\n            ",
      "text/plain": [
       "<IPython.core.display.Javascript object>"
      ]
     },
     "metadata": {},
     "output_type": "display_data"
    }
   ],
   "source": [
    "plot_history(history)"
   ]
  },
  {
   "cell_type": "code",
   "execution_count": 35,
   "id": "956de291",
   "metadata": {},
   "outputs": [
    {
     "name": "stdout",
     "output_type": "stream",
     "text": [
      "1537/1537 - 2s - loss: 0.3983 - accuracy: 0.8280\n",
      "[0.3983437418937683, 0.8280000686645508]\n"
     ]
    },
    {
     "data": {
      "application/javascript": "\n            setTimeout(function() {\n                var nbb_cell_id = 35;\n                var nbb_unformatted_code = \"model = my_gmp(embed_layer_pre)\\nhistory = train_m(model)\\nresults = model.evaluate(x_test, y_test, verbose=2)\\nprint(results)\";\n                var nbb_formatted_code = \"model = my_gmp(embed_layer_pre)\\nhistory = train_m(model)\\nresults = model.evaluate(x_test, y_test, verbose=2)\\nprint(results)\";\n                var nbb_cells = Jupyter.notebook.get_cells();\n                for (var i = 0; i < nbb_cells.length; ++i) {\n                    if (nbb_cells[i].input_prompt_number == nbb_cell_id) {\n                        if (nbb_cells[i].get_text() == nbb_unformatted_code) {\n                             nbb_cells[i].set_text(nbb_formatted_code);\n                        }\n                        break;\n                    }\n                }\n            }, 500);\n            ",
      "text/plain": [
       "<IPython.core.display.Javascript object>"
      ]
     },
     "metadata": {},
     "output_type": "display_data"
    }
   ],
   "source": [
    "model = my_gmp(embed_layer_pre)\n",
    "history = train_m(model)\n",
    "results = model.evaluate(x_test, y_test, verbose=2)\n",
    "print(results)"
   ]
  },
  {
   "cell_type": "code",
   "execution_count": 36,
   "id": "a74623a5",
   "metadata": {},
   "outputs": [
    {
     "data": {
      "image/png": "[encoded data removed]",
      "text/plain": [
       "<Figure size 864x360 with 2 Axes>"
      ]
     },
     "metadata": {
      "needs_background": "light"
     },
     "output_type": "display_data"
    },
    {
     "data": {
      "application/javascript": "\n            setTimeout(function() {\n                var nbb_cell_id = 36;\n                var nbb_unformatted_code = \"plot_history(history)\";\n                var nbb_formatted_code = \"plot_history(history)\";\n                var nbb_cells = Jupyter.notebook.get_cells();\n                for (var i = 0; i < nbb_cells.length; ++i) {\n                    if (nbb_cells[i].input_prompt_number == nbb_cell_id) {\n                        if (nbb_cells[i].get_text() == nbb_unformatted_code) {\n                             nbb_cells[i].set_text(nbb_formatted_code);\n                        }\n                        break;\n                    }\n                }\n            }, 500);\n            ",
      "text/plain": [
       "<IPython.core.display.Javascript object>"
      ]
     },
     "metadata": {},
     "output_type": "display_data"
    }
   ],
   "source": [
    "plot_history(history)"
   ]
  },
  {
   "cell_type": "code",
   "execution_count": 37,
   "id": "49193666",
   "metadata": {},
   "outputs": [
    {
     "name": "stdout",
     "output_type": "stream",
     "text": [
      "1537/1537 - 3s - loss: 0.3979 - accuracy: 0.8454\n",
      "[0.39793428778648376, 0.8454136848449707]\n"
     ]
    },
    {
     "data": {
      "application/javascript": "\n            setTimeout(function() {\n                var nbb_cell_id = 37;\n                var nbb_unformatted_code = \"model = my_cnn(embed_layer_pre)\\nhistory = train_m(model)\\nresults = model.evaluate(x_test, y_test, verbose=2)\\nprint(results)\";\n                var nbb_formatted_code = \"model = my_cnn(embed_layer_pre)\\nhistory = train_m(model)\\nresults = model.evaluate(x_test, y_test, verbose=2)\\nprint(results)\";\n                var nbb_cells = Jupyter.notebook.get_cells();\n                for (var i = 0; i < nbb_cells.length; ++i) {\n                    if (nbb_cells[i].input_prompt_number == nbb_cell_id) {\n                        if (nbb_cells[i].get_text() == nbb_unformatted_code) {\n                             nbb_cells[i].set_text(nbb_formatted_code);\n                        }\n                        break;\n                    }\n                }\n            }, 500);\n            ",
      "text/plain": [
       "<IPython.core.display.Javascript object>"
      ]
     },
     "metadata": {},
     "output_type": "display_data"
    }
   ],
   "source": [
    "model = my_cnn(embed_layer_pre)\n",
    "history = train_m(model)\n",
    "results = model.evaluate(x_test, y_test, verbose=2)\n",
    "print(results)"
   ]
  },
  {
   "cell_type": "code",
   "execution_count": 38,
   "id": "dd17c5cb",
   "metadata": {
    "scrolled": true
   },
   "outputs": [
    {
     "data": {
      "image/png": "[encoded data removed]",
      "text/plain": [
       "<Figure size 864x360 with 2 Axes>"
      ]
     },
     "metadata": {
      "needs_background": "light"
     },
     "output_type": "display_data"
    },
    {
     "data": {
      "application/javascript": "\n            setTimeout(function() {\n                var nbb_cell_id = 38;\n                var nbb_unformatted_code = \"plot_history(history)\";\n                var nbb_formatted_code = \"plot_history(history)\";\n                var nbb_cells = Jupyter.notebook.get_cells();\n                for (var i = 0; i < nbb_cells.length; ++i) {\n                    if (nbb_cells[i].input_prompt_number == nbb_cell_id) {\n                        if (nbb_cells[i].get_text() == nbb_unformatted_code) {\n                             nbb_cells[i].set_text(nbb_formatted_code);\n                        }\n                        break;\n                    }\n                }\n            }, 500);\n            ",
      "text/plain": [
       "<IPython.core.display.Javascript object>"
      ]
     },
     "metadata": {},
     "output_type": "display_data"
    }
   ],
   "source": [
    "plot_history(history)"
   ]
  },
  {
   "cell_type": "markdown",
   "id": "62522e60",
   "metadata": {},
   "source": [
    "## 훈련 결과\n",
    "| model | validation acc |\n",
    "| --- | --- |\n",
    "| LSTM | 84.86% |\n",
    "| GMP | 82.80% |\n",
    "| 1D-CNN | 84.54% |\n",
    "\n",
    "사전 학습된 임베딩 정보를 적용한 3개의 모델의 훈련 결과는 위의 표와 같습니다. 사전 학습된 임베딩 정보를 적용하지 않은 모델들과 마찬가지로 GMP의 성능이 가장 낮습니다.\n",
    "\n",
    "| model | validation acc | model (pre-trained) | validation acc |\n",
    "| --- | --- | --- | --- |\n",
    "| LSTM | 85.00% | LSTM | 84.86% |\n",
    "| GMP | 83.90% | GMP | 82.80% |\n",
    "| 1D-CNN | 84.94% | 1D-CNN | 84.54% |\n",
    "\n",
    "사전 학습된 임베딩 정보를 적용하지 않은 모델들과 적용한 모델들의 훈련 결과는 위의 표와 같습니다. 소폭이긴 하지만 모든 모델들의 성능이 떨어졌습니다. 오차 범위라고 생각되지만 일반적으로 pre-trained 모델을 사용하여 fine-tuning을 진행하면 성능이 향상되는 경우가 많다는 점을 생각하면 고찰이 필요한 부분입니다.  \n",
    "워드 벡터를 사용하여 주어진 단어와 유사한 단어를 찾은 결과를 바탕으로 생각하면, 단순히 단어의 사전적인 의미나 정의를 기반으로 긍정 또는 부정을 파악하기에는 상대적으로 불리하다는 결론입니다.  \n",
    "사전 학습되지 않은 모델은 오히려 영화 감상평에 많이 사용되는 단어들에 대해서만 학습을 진행하였기에 어떤 것을 정의하거나 설명할 때에 많이 사용되는 단어들로 학습된 모델보다 유리하다고 생각됩니다."
   ]
  },
  {
   "cell_type": "markdown",
   "id": "7d7486a4",
   "metadata": {},
   "source": [
    "## 결론\n",
    "- 일반적으로 사전 학습된 정보를 사용하면 빠르게 수렴이 가능하거나, 성능이 향상되는 경우가 많지만 현재 실험에서 주어진 문제에 대해서는 성능에서 큰 차이를 보이지 못했습니다.\n",
    "    - 사전 학습된 정보를 사용한 모델은 워드 벡터의 크기가 200으로 해당 정보를 사용하지 않은 모델의 16보다 훨씬 크지만 유사한 성능을 보였습니다.\n",
    "- 예측하고자 하는 데이터(영화에 대한 짧은 리뷰)가 감정을 배제하고 객관적으로 서술되어야 하는 백과사전(사전 학습된 레이어가 사용한 데이터)과 성격이 달라 이러한 결과가 나온 것으로 생각됩니다.\n",
    "- 따라서 사용하고자 하는 데이터와 해결하고자 하는 문제에 따라 사전 학습된 정보의 적용 여부를 고민해야 합니다."
   ]
  },
  {
   "cell_type": "markdown",
   "id": "c8eafa91",
   "metadata": {},
   "source": [
    "## 루브릭\n",
    "| 평가문항 | 상세기준 | \n",
    "| --- | --- |\n",
    "| 1. 다양한 방법으로 Text Classification 태스크를 성공적으로 구현하였다. | 3가지 이상의 모델이 성공적으로 시도됨 |\n",
    "| 2. gensim을 활용하여 자체학습된 혹은 사전학습된 임베딩 레이어를 분석하였다. | gensim의 유사단어 찾기를 활용하여 자체학습한 임베딩과 사전학습 임베딩을 적절히 분석함 |\n",
    "| 3. 한국어 Word2Vec을 활용하여 가시적인 성능향상을 달성했다. | 네이버 영화리뷰 데이터 감성분석 정확도를 85% 이상 달성함"
   ]
  },
  {
   "cell_type": "markdown",
   "id": "8baa48b7",
   "metadata": {},
   "source": [
    "### 루브릭 자체평가\n",
    "1. LSTM을 사용한 모델, GlobalMaxPooilng을 적용한 모델, 1D Convolution을 사용한 모델, 총 3개의 모델을 사용하여 실험을 진행함\n",
    "2. 직접 훈련한 모델의 임베딩 레이어와 사전 학습된 임베딩 레이어의 유사 단어 찾기 결과를 비교함\n",
    "3. 감성분석 정확도는 검증 데이터를 기준으로 85%를 달성하였으나, 한국어 Word2Vec을 활용하여 달성하지 않음"
   ]
  }
 ],
 "metadata": {
  "kernelspec": {
   "display_name": "Python 3 (ipykernel)",
   "language": "python",
   "name": "python3"
  },
  "language_info": {
   "codemirror_mode": {
    "name": "ipython",
    "version": 3
   },
   "file_extension": ".py",
   "mimetype": "text/x-python",
   "name": "python",
   "nbconvert_exporter": "python",
   "pygments_lexer": "ipython3",
   "version": "3.9.7"
  }
 },
 "nbformat": 4,
 "nbformat_minor": 5
}
