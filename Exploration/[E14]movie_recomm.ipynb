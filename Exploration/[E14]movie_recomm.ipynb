{
 "cells": [
  {
   "cell_type": "markdown",
   "id": "190ed800",
   "metadata": {},
   "source": [
    "# 14. Movielens 영화 추천 실습"
   ]
  },
  {
   "cell_type": "markdown",
   "id": "81a9b641",
   "metadata": {},
   "source": [
    "## 데이터 준비 및 전처리\n",
    "\n",
    "2000년 당시 MovieLens 가입자 6,040명의 약 3,900편의 영화에 대한 1,000,209개의 평가를 포함하고 있는 [MovieLens 1M Dataset](https://grouplens.org/datasets/movielens/1m/)을 사용합니다."
   ]
  },
  {
   "cell_type": "code",
   "execution_count": 1,
   "id": "ef43bfb3",
   "metadata": {
    "scrolled": false
   },
   "outputs": [
    {
     "data": {
      "text/html": [
       "<div>\n",
       "<style scoped>\n",
       "    .dataframe tbody tr th:only-of-type {\n",
       "        vertical-align: middle;\n",
       "    }\n",
       "\n",
       "    .dataframe tbody tr th {\n",
       "        vertical-align: top;\n",
       "    }\n",
       "\n",
       "    .dataframe thead th {\n",
       "        text-align: right;\n",
       "    }\n",
       "</style>\n",
       "<table border=\"1\" class=\"dataframe\">\n",
       "  <thead>\n",
       "    <tr style=\"text-align: right;\">\n",
       "      <th></th>\n",
       "      <th>user_id</th>\n",
       "      <th>movie_id</th>\n",
       "      <th>ratings</th>\n",
       "      <th>timestamp</th>\n",
       "    </tr>\n",
       "  </thead>\n",
       "  <tbody>\n",
       "    <tr>\n",
       "      <th>0</th>\n",
       "      <td>1</td>\n",
       "      <td>1193</td>\n",
       "      <td>5</td>\n",
       "      <td>978300760</td>\n",
       "    </tr>\n",
       "    <tr>\n",
       "      <th>1</th>\n",
       "      <td>1</td>\n",
       "      <td>661</td>\n",
       "      <td>3</td>\n",
       "      <td>978302109</td>\n",
       "    </tr>\n",
       "    <tr>\n",
       "      <th>2</th>\n",
       "      <td>1</td>\n",
       "      <td>914</td>\n",
       "      <td>3</td>\n",
       "      <td>978301968</td>\n",
       "    </tr>\n",
       "    <tr>\n",
       "      <th>3</th>\n",
       "      <td>1</td>\n",
       "      <td>3408</td>\n",
       "      <td>4</td>\n",
       "      <td>978300275</td>\n",
       "    </tr>\n",
       "    <tr>\n",
       "      <th>4</th>\n",
       "      <td>1</td>\n",
       "      <td>2355</td>\n",
       "      <td>5</td>\n",
       "      <td>978824291</td>\n",
       "    </tr>\n",
       "  </tbody>\n",
       "</table>\n",
       "</div>"
      ],
      "text/plain": [
       "   user_id  movie_id  ratings  timestamp\n",
       "0        1      1193        5  978300760\n",
       "1        1       661        3  978302109\n",
       "2        1       914        3  978301968\n",
       "3        1      3408        4  978300275\n",
       "4        1      2355        5  978824291"
      ]
     },
     "execution_count": 1,
     "metadata": {},
     "output_type": "execute_result"
    }
   ],
   "source": [
    "import pandas as pd\n",
    "import os\n",
    "\n",
    "rating_file_path = os.getenv(\"HOME\") + \"/aiffel/recommendata_iu/data/ml-1m/ratings.dat\"\n",
    "ratings_cols = [\"user_id\", \"movie_id\", \"ratings\", \"timestamp\"]\n",
    "ratings = pd.read_csv(\n",
    "    rating_file_path,\n",
    "    sep=\"::\",\n",
    "    names=ratings_cols,\n",
    "    engine=\"python\",\n",
    "    encoding=\"ISO-8859-1\",\n",
    ")\n",
    "orginal_data_size = len(ratings)\n",
    "ratings.head()"
   ]
  },
  {
   "cell_type": "markdown",
   "id": "5bc6ab4d",
   "metadata": {},
   "source": [
    "영화 추천에 사용하지 않을 `timestamp` column을 제거합니다."
   ]
  },
  {
   "cell_type": "code",
   "execution_count": 2,
   "id": "c02f61d9",
   "metadata": {},
   "outputs": [
    {
     "data": {
      "text/html": [
       "<div>\n",
       "<style scoped>\n",
       "    .dataframe tbody tr th:only-of-type {\n",
       "        vertical-align: middle;\n",
       "    }\n",
       "\n",
       "    .dataframe tbody tr th {\n",
       "        vertical-align: top;\n",
       "    }\n",
       "\n",
       "    .dataframe thead th {\n",
       "        text-align: right;\n",
       "    }\n",
       "</style>\n",
       "<table border=\"1\" class=\"dataframe\">\n",
       "  <thead>\n",
       "    <tr style=\"text-align: right;\">\n",
       "      <th></th>\n",
       "      <th>user_id</th>\n",
       "      <th>movie_id</th>\n",
       "      <th>ratings</th>\n",
       "    </tr>\n",
       "  </thead>\n",
       "  <tbody>\n",
       "    <tr>\n",
       "      <th>0</th>\n",
       "      <td>1</td>\n",
       "      <td>1193</td>\n",
       "      <td>5</td>\n",
       "    </tr>\n",
       "    <tr>\n",
       "      <th>1</th>\n",
       "      <td>1</td>\n",
       "      <td>661</td>\n",
       "      <td>3</td>\n",
       "    </tr>\n",
       "    <tr>\n",
       "      <th>2</th>\n",
       "      <td>1</td>\n",
       "      <td>914</td>\n",
       "      <td>3</td>\n",
       "    </tr>\n",
       "    <tr>\n",
       "      <th>3</th>\n",
       "      <td>1</td>\n",
       "      <td>3408</td>\n",
       "      <td>4</td>\n",
       "    </tr>\n",
       "    <tr>\n",
       "      <th>4</th>\n",
       "      <td>1</td>\n",
       "      <td>2355</td>\n",
       "      <td>5</td>\n",
       "    </tr>\n",
       "  </tbody>\n",
       "</table>\n",
       "</div>"
      ],
      "text/plain": [
       "   user_id  movie_id  ratings\n",
       "0        1      1193        5\n",
       "1        1       661        3\n",
       "2        1       914        3\n",
       "3        1      3408        4\n",
       "4        1      2355        5"
      ]
     },
     "execution_count": 2,
     "metadata": {},
     "output_type": "execute_result"
    }
   ],
   "source": [
    "ratings = ratings.drop(\"timestamp\", axis=1)\n",
    "ratings.head()"
   ]
  },
  {
   "cell_type": "markdown",
   "id": "851e1549",
   "metadata": {},
   "source": [
    "3점 미만의 영화는 선호하지 않는 영화로 판단, 추천 항목에 포함되지 않는 것이 바람직하여 데이터에서 제거합니다."
   ]
  },
  {
   "cell_type": "code",
   "execution_count": 3,
   "id": "3207aa7a",
   "metadata": {},
   "outputs": [
    {
     "name": "stdout",
     "output_type": "stream",
     "text": [
      "orginal_data_size: 1000209, filtered_data_size: 836478\n",
      "Ratio of Remaining Data is 83.63%\n"
     ]
    }
   ],
   "source": [
    "ratings = ratings[ratings[\"ratings\"] >= 3]\n",
    "filtered_data_size = len(ratings)\n",
    "\n",
    "print(\n",
    "    f\"orginal_data_size: {orginal_data_size}, filtered_data_size: {filtered_data_size}\"\n",
    ")\n",
    "print(f\"Ratio of Remaining Data is {filtered_data_size / orginal_data_size:.2%}\")"
   ]
  },
  {
   "cell_type": "markdown",
   "id": "7addb15f",
   "metadata": {},
   "source": [
    "여기서는 평점을 시청 횟수로 치환하여 많이 시청하였다는 것은 선호도가 높다는 것으로 간주합니다."
   ]
  },
  {
   "cell_type": "code",
   "execution_count": 4,
   "id": "dd8fbc80",
   "metadata": {},
   "outputs": [
    {
     "data": {
      "text/html": [
       "<div>\n",
       "<style scoped>\n",
       "    .dataframe tbody tr th:only-of-type {\n",
       "        vertical-align: middle;\n",
       "    }\n",
       "\n",
       "    .dataframe tbody tr th {\n",
       "        vertical-align: top;\n",
       "    }\n",
       "\n",
       "    .dataframe thead th {\n",
       "        text-align: right;\n",
       "    }\n",
       "</style>\n",
       "<table border=\"1\" class=\"dataframe\">\n",
       "  <thead>\n",
       "    <tr style=\"text-align: right;\">\n",
       "      <th></th>\n",
       "      <th>user_id</th>\n",
       "      <th>movie_id</th>\n",
       "      <th>counts</th>\n",
       "    </tr>\n",
       "  </thead>\n",
       "  <tbody>\n",
       "    <tr>\n",
       "      <th>0</th>\n",
       "      <td>1</td>\n",
       "      <td>1193</td>\n",
       "      <td>5</td>\n",
       "    </tr>\n",
       "    <tr>\n",
       "      <th>1</th>\n",
       "      <td>1</td>\n",
       "      <td>661</td>\n",
       "      <td>3</td>\n",
       "    </tr>\n",
       "    <tr>\n",
       "      <th>2</th>\n",
       "      <td>1</td>\n",
       "      <td>914</td>\n",
       "      <td>3</td>\n",
       "    </tr>\n",
       "    <tr>\n",
       "      <th>3</th>\n",
       "      <td>1</td>\n",
       "      <td>3408</td>\n",
       "      <td>4</td>\n",
       "    </tr>\n",
       "    <tr>\n",
       "      <th>4</th>\n",
       "      <td>1</td>\n",
       "      <td>2355</td>\n",
       "      <td>5</td>\n",
       "    </tr>\n",
       "  </tbody>\n",
       "</table>\n",
       "</div>"
      ],
      "text/plain": [
       "   user_id  movie_id  counts\n",
       "0        1      1193       5\n",
       "1        1       661       3\n",
       "2        1       914       3\n",
       "3        1      3408       4\n",
       "4        1      2355       5"
      ]
     },
     "execution_count": 4,
     "metadata": {},
     "output_type": "execute_result"
    }
   ],
   "source": [
    "ratings.rename(columns={\"ratings\": \"counts\"}, inplace=True)\n",
    "ratings[\"counts\"]\n",
    "ratings.head()"
   ]
  },
  {
   "cell_type": "markdown",
   "id": "9705c289",
   "metadata": {},
   "source": [
    "3점 미만의 영화를 제거한 뒤의 고유한 영화와 고유한 사용자가 얼마나 존재하는지 확인합니다."
   ]
  },
  {
   "cell_type": "code",
   "execution_count": 5,
   "id": "ca5b6f42",
   "metadata": {
    "scrolled": true
   },
   "outputs": [
    {
     "name": "stdout",
     "output_type": "stream",
     "text": [
      "# of movie_id: 3628\n",
      "# of user_id : 6039\n"
     ]
    }
   ],
   "source": [
    "print(\"# of movie_id:\", ratings[\"movie_id\"].nunique())\n",
    "print(\"# of user_id :\", ratings[\"user_id\"].nunique())"
   ]
  },
  {
   "cell_type": "markdown",
   "id": "af6e36ba",
   "metadata": {},
   "source": [
    "현재 사용하고 있는 데이터셋은 영화의 제목을 문자열이 아니라 인덱스로 나타내고 있음으로, 문자열로된 제목 정보를 가지고 있는 데이터를 불러옵니다."
   ]
  },
  {
   "cell_type": "code",
   "execution_count": 6,
   "id": "1827f454",
   "metadata": {},
   "outputs": [
    {
     "data": {
      "text/html": [
       "<div>\n",
       "<style scoped>\n",
       "    .dataframe tbody tr th:only-of-type {\n",
       "        vertical-align: middle;\n",
       "    }\n",
       "\n",
       "    .dataframe tbody tr th {\n",
       "        vertical-align: top;\n",
       "    }\n",
       "\n",
       "    .dataframe thead th {\n",
       "        text-align: right;\n",
       "    }\n",
       "</style>\n",
       "<table border=\"1\" class=\"dataframe\">\n",
       "  <thead>\n",
       "    <tr style=\"text-align: right;\">\n",
       "      <th></th>\n",
       "      <th>movie_id</th>\n",
       "      <th>title</th>\n",
       "      <th>genre</th>\n",
       "    </tr>\n",
       "  </thead>\n",
       "  <tbody>\n",
       "    <tr>\n",
       "      <th>0</th>\n",
       "      <td>1</td>\n",
       "      <td>Toy Story (1995)</td>\n",
       "      <td>Animation|Children's|Comedy</td>\n",
       "    </tr>\n",
       "    <tr>\n",
       "      <th>1</th>\n",
       "      <td>2</td>\n",
       "      <td>Jumanji (1995)</td>\n",
       "      <td>Adventure|Children's|Fantasy</td>\n",
       "    </tr>\n",
       "    <tr>\n",
       "      <th>2</th>\n",
       "      <td>3</td>\n",
       "      <td>Grumpier Old Men (1995)</td>\n",
       "      <td>Comedy|Romance</td>\n",
       "    </tr>\n",
       "    <tr>\n",
       "      <th>3</th>\n",
       "      <td>4</td>\n",
       "      <td>Waiting to Exhale (1995)</td>\n",
       "      <td>Comedy|Drama</td>\n",
       "    </tr>\n",
       "    <tr>\n",
       "      <th>4</th>\n",
       "      <td>5</td>\n",
       "      <td>Father of the Bride Part II (1995)</td>\n",
       "      <td>Comedy</td>\n",
       "    </tr>\n",
       "  </tbody>\n",
       "</table>\n",
       "</div>"
      ],
      "text/plain": [
       "   movie_id                               title                         genre\n",
       "0         1                    Toy Story (1995)   Animation|Children's|Comedy\n",
       "1         2                      Jumanji (1995)  Adventure|Children's|Fantasy\n",
       "2         3             Grumpier Old Men (1995)                Comedy|Romance\n",
       "3         4            Waiting to Exhale (1995)                  Comedy|Drama\n",
       "4         5  Father of the Bride Part II (1995)                        Comedy"
      ]
     },
     "execution_count": 6,
     "metadata": {},
     "output_type": "execute_result"
    }
   ],
   "source": [
    "movie_file_path = os.getenv(\"HOME\") + \"/aiffel/recommendata_iu/data/ml-1m/movies.dat\"\n",
    "cols = [\"movie_id\", \"title\", \"genre\"]\n",
    "movies = pd.read_csv(\n",
    "    movie_file_path, sep=\"::\", names=cols, engine=\"python\", encoding=\"ISO-8859-1\"\n",
    ")\n",
    "movies.head()"
   ]
  },
  {
   "cell_type": "markdown",
   "id": "88164722",
   "metadata": {},
   "source": [
    "문자열로 된 제목을 가지고 있는 데이터프레임과 시청 횟수가 담겨있는 데이터프레임을 합칩니다."
   ]
  },
  {
   "cell_type": "code",
   "execution_count": 7,
   "id": "38802b82",
   "metadata": {},
   "outputs": [
    {
     "data": {
      "text/html": [
       "<div>\n",
       "<style scoped>\n",
       "    .dataframe tbody tr th:only-of-type {\n",
       "        vertical-align: middle;\n",
       "    }\n",
       "\n",
       "    .dataframe tbody tr th {\n",
       "        vertical-align: top;\n",
       "    }\n",
       "\n",
       "    .dataframe thead th {\n",
       "        text-align: right;\n",
       "    }\n",
       "</style>\n",
       "<table border=\"1\" class=\"dataframe\">\n",
       "  <thead>\n",
       "    <tr style=\"text-align: right;\">\n",
       "      <th></th>\n",
       "      <th>user_id</th>\n",
       "      <th>movie_id</th>\n",
       "      <th>counts</th>\n",
       "      <th>title</th>\n",
       "      <th>genre</th>\n",
       "    </tr>\n",
       "  </thead>\n",
       "  <tbody>\n",
       "    <tr>\n",
       "      <th>0</th>\n",
       "      <td>1</td>\n",
       "      <td>1193</td>\n",
       "      <td>5</td>\n",
       "      <td>One Flew Over the Cuckoo's Nest (1975)</td>\n",
       "      <td>Drama</td>\n",
       "    </tr>\n",
       "    <tr>\n",
       "      <th>1</th>\n",
       "      <td>1</td>\n",
       "      <td>661</td>\n",
       "      <td>3</td>\n",
       "      <td>James and the Giant Peach (1996)</td>\n",
       "      <td>Animation|Children's|Musical</td>\n",
       "    </tr>\n",
       "    <tr>\n",
       "      <th>2</th>\n",
       "      <td>1</td>\n",
       "      <td>914</td>\n",
       "      <td>3</td>\n",
       "      <td>My Fair Lady (1964)</td>\n",
       "      <td>Musical|Romance</td>\n",
       "    </tr>\n",
       "    <tr>\n",
       "      <th>3</th>\n",
       "      <td>1</td>\n",
       "      <td>3408</td>\n",
       "      <td>4</td>\n",
       "      <td>Erin Brockovich (2000)</td>\n",
       "      <td>Drama</td>\n",
       "    </tr>\n",
       "    <tr>\n",
       "      <th>4</th>\n",
       "      <td>1</td>\n",
       "      <td>2355</td>\n",
       "      <td>5</td>\n",
       "      <td>Bug's Life, A (1998)</td>\n",
       "      <td>Animation|Children's|Comedy</td>\n",
       "    </tr>\n",
       "  </tbody>\n",
       "</table>\n",
       "</div>"
      ],
      "text/plain": [
       "   user_id  movie_id  counts                                   title  \\\n",
       "0        1      1193       5  One Flew Over the Cuckoo's Nest (1975)   \n",
       "1        1       661       3        James and the Giant Peach (1996)   \n",
       "2        1       914       3                     My Fair Lady (1964)   \n",
       "3        1      3408       4                  Erin Brockovich (2000)   \n",
       "4        1      2355       5                    Bug's Life, A (1998)   \n",
       "\n",
       "                          genre  \n",
       "0                         Drama  \n",
       "1  Animation|Children's|Musical  \n",
       "2               Musical|Romance  \n",
       "3                         Drama  \n",
       "4   Animation|Children's|Comedy  "
      ]
     },
     "execution_count": 7,
     "metadata": {},
     "output_type": "execute_result"
    }
   ],
   "source": [
    "ratings = ratings.join(movies.set_index(\"movie_id\"), on=\"movie_id\")\n",
    "ratings.head()"
   ]
  },
  {
   "cell_type": "markdown",
   "id": "e3cd6578",
   "metadata": {},
   "source": [
    "문자열로 된 제목 정보를 가지고 있기에 불필요해진 `movie_id`와 추천에 필요하지 않은 정보 `genre`를 제거합니다."
   ]
  },
  {
   "cell_type": "code",
   "execution_count": 8,
   "id": "6003036d",
   "metadata": {},
   "outputs": [
    {
     "data": {
      "text/html": [
       "<div>\n",
       "<style scoped>\n",
       "    .dataframe tbody tr th:only-of-type {\n",
       "        vertical-align: middle;\n",
       "    }\n",
       "\n",
       "    .dataframe tbody tr th {\n",
       "        vertical-align: top;\n",
       "    }\n",
       "\n",
       "    .dataframe thead th {\n",
       "        text-align: right;\n",
       "    }\n",
       "</style>\n",
       "<table border=\"1\" class=\"dataframe\">\n",
       "  <thead>\n",
       "    <tr style=\"text-align: right;\">\n",
       "      <th></th>\n",
       "      <th>user_id</th>\n",
       "      <th>counts</th>\n",
       "      <th>title</th>\n",
       "    </tr>\n",
       "  </thead>\n",
       "  <tbody>\n",
       "    <tr>\n",
       "      <th>0</th>\n",
       "      <td>1</td>\n",
       "      <td>5</td>\n",
       "      <td>One Flew Over the Cuckoo's Nest (1975)</td>\n",
       "    </tr>\n",
       "    <tr>\n",
       "      <th>1</th>\n",
       "      <td>1</td>\n",
       "      <td>3</td>\n",
       "      <td>James and the Giant Peach (1996)</td>\n",
       "    </tr>\n",
       "    <tr>\n",
       "      <th>2</th>\n",
       "      <td>1</td>\n",
       "      <td>3</td>\n",
       "      <td>My Fair Lady (1964)</td>\n",
       "    </tr>\n",
       "    <tr>\n",
       "      <th>3</th>\n",
       "      <td>1</td>\n",
       "      <td>4</td>\n",
       "      <td>Erin Brockovich (2000)</td>\n",
       "    </tr>\n",
       "    <tr>\n",
       "      <th>4</th>\n",
       "      <td>1</td>\n",
       "      <td>5</td>\n",
       "      <td>Bug's Life, A (1998)</td>\n",
       "    </tr>\n",
       "  </tbody>\n",
       "</table>\n",
       "</div>"
      ],
      "text/plain": [
       "   user_id  counts                                   title\n",
       "0        1       5  One Flew Over the Cuckoo's Nest (1975)\n",
       "1        1       3        James and the Giant Peach (1996)\n",
       "2        1       3                     My Fair Lady (1964)\n",
       "3        1       4                  Erin Brockovich (2000)\n",
       "4        1       5                    Bug's Life, A (1998)"
      ]
     },
     "execution_count": 8,
     "metadata": {},
     "output_type": "execute_result"
    }
   ],
   "source": [
    "ratings = ratings.drop(columns=[\"genre\", \"movie_id\"])\n",
    "ratings.head()"
   ]
  },
  {
   "cell_type": "markdown",
   "id": "89982dd5",
   "metadata": {},
   "source": [
    "전체 이용자에게 가장 인기있는 영화 30개를 확인합니다."
   ]
  },
  {
   "cell_type": "code",
   "execution_count": 9,
   "id": "78c6c113",
   "metadata": {},
   "outputs": [
    {
     "data": {
      "text/plain": [
       "title\n",
       "American Beauty (1999)                                   3211\n",
       "Star Wars: Episode IV - A New Hope (1977)                2910\n",
       "Star Wars: Episode V - The Empire Strikes Back (1980)    2885\n",
       "Star Wars: Episode VI - Return of the Jedi (1983)        2716\n",
       "Saving Private Ryan (1998)                               2561\n",
       "Terminator 2: Judgment Day (1991)                        2509\n",
       "Silence of the Lambs, The (1991)                         2498\n",
       "Raiders of the Lost Ark (1981)                           2473\n",
       "Back to the Future (1985)                                2460\n",
       "Matrix, The (1999)                                       2434\n",
       "Jurassic Park (1993)                                     2413\n",
       "Sixth Sense, The (1999)                                  2385\n",
       "Fargo (1996)                                             2371\n",
       "Braveheart (1995)                                        2314\n",
       "Men in Black (1997)                                      2297\n",
       "Schindler's List (1993)                                  2257\n",
       "Princess Bride, The (1987)                               2252\n",
       "Shakespeare in Love (1998)                               2213\n",
       "L.A. Confidential (1997)                                 2210\n",
       "Shawshank Redemption, The (1994)                         2194\n",
       "Godfather, The (1972)                                    2167\n",
       "Groundhog Day (1993)                                     2121\n",
       "E.T. the Extra-Terrestrial (1982)                        2102\n",
       "Being John Malkovich (1999)                              2066\n",
       "Ghostbusters (1984)                                      2051\n",
       "Pulp Fiction (1994)                                      2030\n",
       "Forrest Gump (1994)                                      2022\n",
       "Terminator, The (1984)                                   2019\n",
       "Toy Story (1995)                                         2000\n",
       "Fugitive, The (1993)                                     1941\n",
       "Name: user_id, dtype: int64"
      ]
     },
     "execution_count": 9,
     "metadata": {},
     "output_type": "execute_result"
    }
   ],
   "source": [
    "movie_count = ratings.groupby(\"title\")[\"user_id\"].count()\n",
    "movie_count.sort_values(ascending=False).head(30)"
   ]
  },
  {
   "cell_type": "markdown",
   "id": "73c10139",
   "metadata": {},
   "source": [
    "사용자별로 영화를 몇 편씩이나 시청하였는지 통계를 확인합니다."
   ]
  },
  {
   "cell_type": "code",
   "execution_count": 10,
   "id": "071ebd1a",
   "metadata": {},
   "outputs": [
    {
     "data": {
      "text/plain": [
       "count    6039.000000\n",
       "mean      138.512668\n",
       "std       156.241599\n",
       "min         1.000000\n",
       "25%        38.000000\n",
       "50%        81.000000\n",
       "75%       177.000000\n",
       "max      1968.000000\n",
       "Name: title, dtype: float64"
      ]
     },
     "execution_count": 10,
     "metadata": {},
     "output_type": "execute_result"
    }
   ],
   "source": [
    "user_count = ratings.groupby(\"user_id\")[\"title\"].count()\n",
    "user_count.describe()"
   ]
  },
  {
   "cell_type": "markdown",
   "id": "daf225f9",
   "metadata": {},
   "source": [
    "사용자별로 한 영화를 몇 번씩 시청하였는지 통계를 확인합니다."
   ]
  },
  {
   "cell_type": "code",
   "execution_count": 11,
   "id": "4a2d3011",
   "metadata": {},
   "outputs": [
    {
     "data": {
      "text/plain": [
       "count    6039.000000\n",
       "mean        4.055970\n",
       "std         0.432143\n",
       "min         3.000000\n",
       "25%         4.000000\n",
       "50%         4.000000\n",
       "75%         4.000000\n",
       "max         5.000000\n",
       "Name: counts, dtype: float64"
      ]
     },
     "execution_count": 11,
     "metadata": {},
     "output_type": "execute_result"
    }
   ],
   "source": [
    "# 유저별 play횟수 중앙값에 대한 통계\n",
    "user_median = ratings.groupby(\"user_id\")[\"counts\"].median()\n",
    "user_median.describe()"
   ]
  },
  {
   "cell_type": "markdown",
   "id": "d9c6c2aa",
   "metadata": {},
   "source": [
    "데이터에 존재하지 않는 임의의 사용자를 만들어 시청 횟수 데이터를 추가하고자 합니다.  \n",
    "우선 추가하고자 하는 영화의 존재 여부를 확인합니다."
   ]
  },
  {
   "cell_type": "code",
   "execution_count": 12,
   "id": "768c0304",
   "metadata": {},
   "outputs": [
    {
     "data": {
      "text/html": [
       "<div>\n",
       "<style scoped>\n",
       "    .dataframe tbody tr th:only-of-type {\n",
       "        vertical-align: middle;\n",
       "    }\n",
       "\n",
       "    .dataframe tbody tr th {\n",
       "        vertical-align: top;\n",
       "    }\n",
       "\n",
       "    .dataframe thead th {\n",
       "        text-align: right;\n",
       "    }\n",
       "</style>\n",
       "<table border=\"1\" class=\"dataframe\">\n",
       "  <thead>\n",
       "    <tr style=\"text-align: right;\">\n",
       "      <th></th>\n",
       "      <th>movie_id</th>\n",
       "      <th>title</th>\n",
       "      <th>genre</th>\n",
       "    </tr>\n",
       "  </thead>\n",
       "  <tbody>\n",
       "    <tr>\n",
       "      <th>352</th>\n",
       "      <td>356</td>\n",
       "      <td>Forrest Gump (1994)</td>\n",
       "      <td>Comedy|Romance|War</td>\n",
       "    </tr>\n",
       "    <tr>\n",
       "      <th>1278</th>\n",
       "      <td>1298</td>\n",
       "      <td>Pink Floyd - The Wall (1982)</td>\n",
       "      <td>Drama|Musical|War</td>\n",
       "    </tr>\n",
       "    <tr>\n",
       "      <th>1860</th>\n",
       "      <td>1929</td>\n",
       "      <td>Grand Hotel (1932)</td>\n",
       "      <td>Drama</td>\n",
       "    </tr>\n",
       "    <tr>\n",
       "      <th>2823</th>\n",
       "      <td>2892</td>\n",
       "      <td>New Rose Hotel (1998)</td>\n",
       "      <td>Action|Drama</td>\n",
       "    </tr>\n",
       "    <tr>\n",
       "      <th>3403</th>\n",
       "      <td>3472</td>\n",
       "      <td>Horror Hotel (a.k.a. The City of the Dead) (1960)</td>\n",
       "      <td>Horror</td>\n",
       "    </tr>\n",
       "    <tr>\n",
       "      <th>3506</th>\n",
       "      <td>3575</td>\n",
       "      <td>Defying Gravity (1997)</td>\n",
       "      <td>Drama</td>\n",
       "    </tr>\n",
       "  </tbody>\n",
       "</table>\n",
       "</div>"
      ],
      "text/plain": [
       "      movie_id                                              title  \\\n",
       "352        356                                Forrest Gump (1994)   \n",
       "1278      1298                       Pink Floyd - The Wall (1982)   \n",
       "1860      1929                                 Grand Hotel (1932)   \n",
       "2823      2892                              New Rose Hotel (1998)   \n",
       "3403      3472  Horror Hotel (a.k.a. The City of the Dead) (1960)   \n",
       "3506      3575                             Defying Gravity (1997)   \n",
       "\n",
       "                   genre  \n",
       "352   Comedy|Romance|War  \n",
       "1278   Drama|Musical|War  \n",
       "1860               Drama  \n",
       "2823        Action|Drama  \n",
       "3403              Horror  \n",
       "3506               Drama  "
      ]
     },
     "execution_count": 12,
     "metadata": {},
     "output_type": "execute_result"
    }
   ],
   "source": [
    "movies[\n",
    "    movies[\"title\"]\n",
    "    .str.lower()\n",
    "    .str.contains(\"forrest | gravity | wall | redemption | hotel\")\n",
    "]"
   ]
  },
  {
   "cell_type": "markdown",
   "id": "5a37a99e",
   "metadata": {},
   "source": [
    "임의의 영화 제목에 포함되어 있는 키워드 5개를 검색하였으나, 일부 영화만 검색이 됩니다.  \n",
    "검색이 되는 영화는 2000년 이전의 영화들입니다."
   ]
  },
  {
   "cell_type": "code",
   "execution_count": 13,
   "id": "a504d407",
   "metadata": {},
   "outputs": [
    {
     "data": {
      "text/plain": [
       "3882    (2000)\n",
       "3528    (2000)\n",
       "3577    (2000)\n",
       "3170    (2000)\n",
       "3555    (2000)\n",
       "Name: title, dtype: object"
      ]
     },
     "execution_count": 13,
     "metadata": {},
     "output_type": "execute_result"
    }
   ],
   "source": [
    "years = movies[\"title\"].str.extract(r\"(\\([0-9]{4}\\))\", expand=False)\n",
    "years.sort_values(ascending=False).head()"
   ]
  },
  {
   "cell_type": "markdown",
   "id": "24294f8d",
   "metadata": {},
   "source": [
    "한국에서는 \"쇼생크 탈출\"이라는 제목으로 알려져 있는 \"Shawshank Redemption\"을 검색합니다."
   ]
  },
  {
   "cell_type": "code",
   "execution_count": 14,
   "id": "3d1eb0b0",
   "metadata": {},
   "outputs": [
    {
     "data": {
      "text/html": [
       "<div>\n",
       "<style scoped>\n",
       "    .dataframe tbody tr th:only-of-type {\n",
       "        vertical-align: middle;\n",
       "    }\n",
       "\n",
       "    .dataframe tbody tr th {\n",
       "        vertical-align: top;\n",
       "    }\n",
       "\n",
       "    .dataframe thead th {\n",
       "        text-align: right;\n",
       "    }\n",
       "</style>\n",
       "<table border=\"1\" class=\"dataframe\">\n",
       "  <thead>\n",
       "    <tr style=\"text-align: right;\">\n",
       "      <th></th>\n",
       "      <th>movie_id</th>\n",
       "      <th>title</th>\n",
       "      <th>genre</th>\n",
       "    </tr>\n",
       "  </thead>\n",
       "  <tbody>\n",
       "    <tr>\n",
       "      <th>315</th>\n",
       "      <td>318</td>\n",
       "      <td>Shawshank Redemption, The (1994)</td>\n",
       "      <td>Drama</td>\n",
       "    </tr>\n",
       "  </tbody>\n",
       "</table>\n",
       "</div>"
      ],
      "text/plain": [
       "     movie_id                             title  genre\n",
       "315       318  Shawshank Redemption, The (1994)  Drama"
      ]
     },
     "execution_count": 14,
     "metadata": {},
     "output_type": "execute_result"
    }
   ],
   "source": [
    "movies[movies[\"title\"].str.lower().str.contains(\"redemption\")]"
   ]
  },
  {
   "cell_type": "markdown",
   "id": "fa2c28cb",
   "metadata": {},
   "source": [
    "브래드 피트와 모건 프리먼 주연의 영화 \"세븐\"을 검색합니다."
   ]
  },
  {
   "cell_type": "code",
   "execution_count": 15,
   "id": "82c5254e",
   "metadata": {},
   "outputs": [
    {
     "data": {
      "text/html": [
       "<div>\n",
       "<style scoped>\n",
       "    .dataframe tbody tr th:only-of-type {\n",
       "        vertical-align: middle;\n",
       "    }\n",
       "\n",
       "    .dataframe tbody tr th {\n",
       "        vertical-align: top;\n",
       "    }\n",
       "\n",
       "    .dataframe thead th {\n",
       "        text-align: right;\n",
       "    }\n",
       "</style>\n",
       "<table border=\"1\" class=\"dataframe\">\n",
       "  <thead>\n",
       "    <tr style=\"text-align: right;\">\n",
       "      <th></th>\n",
       "      <th>movie_id</th>\n",
       "      <th>title</th>\n",
       "      <th>genre</th>\n",
       "    </tr>\n",
       "  </thead>\n",
       "  <tbody>\n",
       "    <tr>\n",
       "      <th>46</th>\n",
       "      <td>47</td>\n",
       "      <td>Seven (Se7en) (1995)</td>\n",
       "      <td>Crime|Thriller</td>\n",
       "    </tr>\n",
       "    <tr>\n",
       "      <th>590</th>\n",
       "      <td>594</td>\n",
       "      <td>Snow White and the Seven Dwarfs (1937)</td>\n",
       "      <td>Animation|Children's|Musical</td>\n",
       "    </tr>\n",
       "    <tr>\n",
       "      <th>1218</th>\n",
       "      <td>1237</td>\n",
       "      <td>Seventh Seal, The (Sjunde inseglet, Det) (1957)</td>\n",
       "      <td>Drama</td>\n",
       "    </tr>\n",
       "    <tr>\n",
       "      <th>1576</th>\n",
       "      <td>1619</td>\n",
       "      <td>Seven Years in Tibet (1997)</td>\n",
       "      <td>Drama|War</td>\n",
       "    </tr>\n",
       "    <tr>\n",
       "      <th>1825</th>\n",
       "      <td>1894</td>\n",
       "      <td>Six Days Seven Nights (1998)</td>\n",
       "      <td>Adventure|Comedy|Romance</td>\n",
       "    </tr>\n",
       "    <tr>\n",
       "      <th>1950</th>\n",
       "      <td>2019</td>\n",
       "      <td>Seven Samurai (The Magnificent Seven) (Shichin...</td>\n",
       "      <td>Action|Drama</td>\n",
       "    </tr>\n",
       "    <tr>\n",
       "      <th>1994</th>\n",
       "      <td>2063</td>\n",
       "      <td>Seventh Heaven (Le Septième ciel) (1997)</td>\n",
       "      <td>Drama|Romance</td>\n",
       "    </tr>\n",
       "    <tr>\n",
       "      <th>2145</th>\n",
       "      <td>2214</td>\n",
       "      <td>Number Seventeen (1932)</td>\n",
       "      <td>Thriller</td>\n",
       "    </tr>\n",
       "    <tr>\n",
       "      <th>2169</th>\n",
       "      <td>2238</td>\n",
       "      <td>Seven Beauties (Pasqualino Settebellezze) (1976)</td>\n",
       "      <td>Comedy|Drama</td>\n",
       "    </tr>\n",
       "    <tr>\n",
       "      <th>2194</th>\n",
       "      <td>2263</td>\n",
       "      <td>Seventh Sign, The (1988)</td>\n",
       "      <td>Thriller</td>\n",
       "    </tr>\n",
       "    <tr>\n",
       "      <th>2375</th>\n",
       "      <td>2444</td>\n",
       "      <td>24 7: Twenty Four Seven (1997)</td>\n",
       "      <td>Comedy|Drama</td>\n",
       "    </tr>\n",
       "    <tr>\n",
       "      <th>2557</th>\n",
       "      <td>2626</td>\n",
       "      <td>Edge of Seventeen (1998)</td>\n",
       "      <td>Comedy|Drama|Romance</td>\n",
       "    </tr>\n",
       "    <tr>\n",
       "      <th>3163</th>\n",
       "      <td>3232</td>\n",
       "      <td>Seven Chances (1925)</td>\n",
       "      <td>Comedy</td>\n",
       "    </tr>\n",
       "    <tr>\n",
       "      <th>3565</th>\n",
       "      <td>3634</td>\n",
       "      <td>Seven Days in May (1964)</td>\n",
       "      <td>Thriller</td>\n",
       "    </tr>\n",
       "  </tbody>\n",
       "</table>\n",
       "</div>"
      ],
      "text/plain": [
       "      movie_id                                              title  \\\n",
       "46          47                               Seven (Se7en) (1995)   \n",
       "590        594             Snow White and the Seven Dwarfs (1937)   \n",
       "1218      1237    Seventh Seal, The (Sjunde inseglet, Det) (1957)   \n",
       "1576      1619                        Seven Years in Tibet (1997)   \n",
       "1825      1894                       Six Days Seven Nights (1998)   \n",
       "1950      2019  Seven Samurai (The Magnificent Seven) (Shichin...   \n",
       "1994      2063           Seventh Heaven (Le Septième ciel) (1997)   \n",
       "2145      2214                            Number Seventeen (1932)   \n",
       "2169      2238   Seven Beauties (Pasqualino Settebellezze) (1976)   \n",
       "2194      2263                           Seventh Sign, The (1988)   \n",
       "2375      2444                     24 7: Twenty Four Seven (1997)   \n",
       "2557      2626                           Edge of Seventeen (1998)   \n",
       "3163      3232                               Seven Chances (1925)   \n",
       "3565      3634                           Seven Days in May (1964)   \n",
       "\n",
       "                             genre  \n",
       "46                  Crime|Thriller  \n",
       "590   Animation|Children's|Musical  \n",
       "1218                         Drama  \n",
       "1576                     Drama|War  \n",
       "1825      Adventure|Comedy|Romance  \n",
       "1950                  Action|Drama  \n",
       "1994                 Drama|Romance  \n",
       "2145                      Thriller  \n",
       "2169                  Comedy|Drama  \n",
       "2194                      Thriller  \n",
       "2375                  Comedy|Drama  \n",
       "2557          Comedy|Drama|Romance  \n",
       "3163                        Comedy  \n",
       "3565                      Thriller  "
      ]
     },
     "execution_count": 15,
     "metadata": {},
     "output_type": "execute_result"
    }
   ],
   "source": [
    "movies[movies[\"title\"].str.lower().str.contains(\"seven\")]"
   ]
  },
  {
   "cell_type": "markdown",
   "id": "7028d567",
   "metadata": {},
   "source": [
    "로빈 윌리엄스가 키팅 선생님으로 주연을 맡은 \"죽은 시인의 사회\"를 검색합니다."
   ]
  },
  {
   "cell_type": "code",
   "execution_count": 16,
   "id": "4b079bee",
   "metadata": {},
   "outputs": [
    {
     "data": {
      "text/html": [
       "<div>\n",
       "<style scoped>\n",
       "    .dataframe tbody tr th:only-of-type {\n",
       "        vertical-align: middle;\n",
       "    }\n",
       "\n",
       "    .dataframe tbody tr th {\n",
       "        vertical-align: top;\n",
       "    }\n",
       "\n",
       "    .dataframe thead th {\n",
       "        text-align: right;\n",
       "    }\n",
       "</style>\n",
       "<table border=\"1\" class=\"dataframe\">\n",
       "  <thead>\n",
       "    <tr style=\"text-align: right;\">\n",
       "      <th></th>\n",
       "      <th>movie_id</th>\n",
       "      <th>title</th>\n",
       "      <th>genre</th>\n",
       "    </tr>\n",
       "  </thead>\n",
       "  <tbody>\n",
       "    <tr>\n",
       "      <th>1226</th>\n",
       "      <td>1246</td>\n",
       "      <td>Dead Poets Society (1989)</td>\n",
       "      <td>Drama</td>\n",
       "    </tr>\n",
       "  </tbody>\n",
       "</table>\n",
       "</div>"
      ],
      "text/plain": [
       "      movie_id                      title  genre\n",
       "1226      1246  Dead Poets Society (1989)  Drama"
      ]
     },
     "execution_count": 16,
     "metadata": {},
     "output_type": "execute_result"
    }
   ],
   "source": [
    "movies[movies[\"title\"].str.lower().str.contains(\"dead poets\")]"
   ]
  },
  {
   "cell_type": "markdown",
   "id": "d3ee4eee",
   "metadata": {},
   "source": [
    "여러 시리즈가 제작되었던 \"인디아나 존스\"를 검색합니다."
   ]
  },
  {
   "cell_type": "code",
   "execution_count": 17,
   "id": "416276ab",
   "metadata": {
    "scrolled": true
   },
   "outputs": [
    {
     "data": {
      "text/html": [
       "<div>\n",
       "<style scoped>\n",
       "    .dataframe tbody tr th:only-of-type {\n",
       "        vertical-align: middle;\n",
       "    }\n",
       "\n",
       "    .dataframe tbody tr th {\n",
       "        vertical-align: top;\n",
       "    }\n",
       "\n",
       "    .dataframe thead th {\n",
       "        text-align: right;\n",
       "    }\n",
       "</style>\n",
       "<table border=\"1\" class=\"dataframe\">\n",
       "  <thead>\n",
       "    <tr style=\"text-align: right;\">\n",
       "      <th></th>\n",
       "      <th>movie_id</th>\n",
       "      <th>title</th>\n",
       "      <th>genre</th>\n",
       "    </tr>\n",
       "  </thead>\n",
       "  <tbody>\n",
       "    <tr>\n",
       "      <th>1271</th>\n",
       "      <td>1291</td>\n",
       "      <td>Indiana Jones and the Last Crusade (1989)</td>\n",
       "      <td>Action|Adventure</td>\n",
       "    </tr>\n",
       "    <tr>\n",
       "      <th>2046</th>\n",
       "      <td>2115</td>\n",
       "      <td>Indiana Jones and the Temple of Doom (1984)</td>\n",
       "      <td>Action|Adventure</td>\n",
       "    </tr>\n",
       "  </tbody>\n",
       "</table>\n",
       "</div>"
      ],
      "text/plain": [
       "      movie_id                                        title             genre\n",
       "1271      1291    Indiana Jones and the Last Crusade (1989)  Action|Adventure\n",
       "2046      2115  Indiana Jones and the Temple of Doom (1984)  Action|Adventure"
      ]
     },
     "execution_count": 17,
     "metadata": {},
     "output_type": "execute_result"
    }
   ],
   "source": [
    "movies[movies[\"title\"].str.lower().str.contains(\"indiana\")]"
   ]
  },
  {
   "cell_type": "markdown",
   "id": "ccaf3410",
   "metadata": {},
   "source": [
    "검색을 통해 데이터셋에 존재함이 확인된 5편의 영화에 대해 임의의 사용자 \"7000\"의 시청 횟수 데이터를 추가합니다."
   ]
  },
  {
   "cell_type": "code",
   "execution_count": 18,
   "id": "e5eb46fb",
   "metadata": {
    "scrolled": false
   },
   "outputs": [
    {
     "data": {
      "text/html": [
       "<div>\n",
       "<style scoped>\n",
       "    .dataframe tbody tr th:only-of-type {\n",
       "        vertical-align: middle;\n",
       "    }\n",
       "\n",
       "    .dataframe tbody tr th {\n",
       "        vertical-align: top;\n",
       "    }\n",
       "\n",
       "    .dataframe thead th {\n",
       "        text-align: right;\n",
       "    }\n",
       "</style>\n",
       "<table border=\"1\" class=\"dataframe\">\n",
       "  <thead>\n",
       "    <tr style=\"text-align: right;\">\n",
       "      <th></th>\n",
       "      <th>user_id</th>\n",
       "      <th>counts</th>\n",
       "      <th>title</th>\n",
       "    </tr>\n",
       "  </thead>\n",
       "  <tbody>\n",
       "    <tr>\n",
       "      <th>0</th>\n",
       "      <td>1</td>\n",
       "      <td>5</td>\n",
       "      <td>One Flew Over the Cuckoo's Nest (1975)</td>\n",
       "    </tr>\n",
       "    <tr>\n",
       "      <th>1</th>\n",
       "      <td>1</td>\n",
       "      <td>3</td>\n",
       "      <td>James and the Giant Peach (1996)</td>\n",
       "    </tr>\n",
       "    <tr>\n",
       "      <th>2</th>\n",
       "      <td>1</td>\n",
       "      <td>3</td>\n",
       "      <td>My Fair Lady (1964)</td>\n",
       "    </tr>\n",
       "    <tr>\n",
       "      <th>3</th>\n",
       "      <td>1</td>\n",
       "      <td>4</td>\n",
       "      <td>Erin Brockovich (2000)</td>\n",
       "    </tr>\n",
       "    <tr>\n",
       "      <th>4</th>\n",
       "      <td>1</td>\n",
       "      <td>5</td>\n",
       "      <td>Bug's Life, A (1998)</td>\n",
       "    </tr>\n",
       "    <tr>\n",
       "      <th>...</th>\n",
       "      <td>...</td>\n",
       "      <td>...</td>\n",
       "      <td>...</td>\n",
       "    </tr>\n",
       "    <tr>\n",
       "      <th>836478</th>\n",
       "      <td>7000</td>\n",
       "      <td>5</td>\n",
       "      <td>Forrest Gump (1994)</td>\n",
       "    </tr>\n",
       "    <tr>\n",
       "      <th>836479</th>\n",
       "      <td>7000</td>\n",
       "      <td>4</td>\n",
       "      <td>Shawshank Redemption, The (1994)</td>\n",
       "    </tr>\n",
       "    <tr>\n",
       "      <th>836480</th>\n",
       "      <td>7000</td>\n",
       "      <td>4</td>\n",
       "      <td>Seven (Se7en) (1995)</td>\n",
       "    </tr>\n",
       "    <tr>\n",
       "      <th>836481</th>\n",
       "      <td>7000</td>\n",
       "      <td>4</td>\n",
       "      <td>Dead Poets Society (1989)</td>\n",
       "    </tr>\n",
       "    <tr>\n",
       "      <th>836482</th>\n",
       "      <td>7000</td>\n",
       "      <td>4</td>\n",
       "      <td>Indiana Jones and the Last Crusade (1989)</td>\n",
       "    </tr>\n",
       "  </tbody>\n",
       "</table>\n",
       "<p>836483 rows × 3 columns</p>\n",
       "</div>"
      ],
      "text/plain": [
       "        user_id  counts                                      title\n",
       "0             1       5     One Flew Over the Cuckoo's Nest (1975)\n",
       "1             1       3           James and the Giant Peach (1996)\n",
       "2             1       3                        My Fair Lady (1964)\n",
       "3             1       4                     Erin Brockovich (2000)\n",
       "4             1       5                       Bug's Life, A (1998)\n",
       "...         ...     ...                                        ...\n",
       "836478     7000       5                        Forrest Gump (1994)\n",
       "836479     7000       4           Shawshank Redemption, The (1994)\n",
       "836480     7000       4                       Seven (Se7en) (1995)\n",
       "836481     7000       4                  Dead Poets Society (1989)\n",
       "836482     7000       4  Indiana Jones and the Last Crusade (1989)\n",
       "\n",
       "[836483 rows x 3 columns]"
      ]
     },
     "execution_count": 18,
     "metadata": {},
     "output_type": "execute_result"
    }
   ],
   "source": [
    "my_ratings = [5, 4, 4, 4, 4]\n",
    "my_titles = [\n",
    "    \"Forrest Gump (1994)\",\n",
    "    \"Shawshank Redemption, The (1994)\",\n",
    "    \"Seven (Se7en) (1995)\",\n",
    "    \"Dead Poets Society (1989)\",\n",
    "    \"Indiana Jones and the Last Crusade (1989)\",\n",
    "]\n",
    "my_counts = pd.DataFrame(\n",
    "    {\n",
    "        \"user_id\": [7000] * 5,\n",
    "        \"counts\": my_ratings,\n",
    "        \"title\": my_titles,\n",
    "    }\n",
    ")\n",
    "\n",
    "if not ratings.isin({\"user_id\": [7000]})[\"user_id\"].any():\n",
    "    ratings = pd.concat([ratings, my_counts], ignore_index=True)\n",
    "\n",
    "ratings"
   ]
  },
  {
   "cell_type": "markdown",
   "id": "ca659b84",
   "metadata": {},
   "source": [
    "`user_id`와 `title`를 정수화하고, 다시 이전 상태로 돌릴 수 있도록 dictionary를 생성합니다."
   ]
  },
  {
   "cell_type": "code",
   "execution_count": 19,
   "id": "dbbb4951",
   "metadata": {},
   "outputs": [],
   "source": [
    "user_unique = ratings[\"user_id\"].unique()\n",
    "movie_unique = ratings[\"title\"].unique()\n",
    "\n",
    "user_to_idx = {v: k for k, v in enumerate(user_unique)}\n",
    "movie_to_idx = {v: k for k, v in enumerate(movie_unique)}"
   ]
  },
  {
   "cell_type": "markdown",
   "id": "518a9cec",
   "metadata": {},
   "source": [
    "`user_id`와 `title`를 정수로 변환합니다."
   ]
  },
  {
   "cell_type": "code",
   "execution_count": 20,
   "id": "d4c7f75a",
   "metadata": {},
   "outputs": [
    {
     "name": "stdout",
     "output_type": "stream",
     "text": [
      "user_id column indexing OK!!\n",
      "movie_id column indexing OK!!\n"
     ]
    },
    {
     "data": {
      "text/html": [
       "<div>\n",
       "<style scoped>\n",
       "    .dataframe tbody tr th:only-of-type {\n",
       "        vertical-align: middle;\n",
       "    }\n",
       "\n",
       "    .dataframe tbody tr th {\n",
       "        vertical-align: top;\n",
       "    }\n",
       "\n",
       "    .dataframe thead th {\n",
       "        text-align: right;\n",
       "    }\n",
       "</style>\n",
       "<table border=\"1\" class=\"dataframe\">\n",
       "  <thead>\n",
       "    <tr style=\"text-align: right;\">\n",
       "      <th></th>\n",
       "      <th>user_id</th>\n",
       "      <th>counts</th>\n",
       "      <th>title</th>\n",
       "    </tr>\n",
       "  </thead>\n",
       "  <tbody>\n",
       "    <tr>\n",
       "      <th>0</th>\n",
       "      <td>0</td>\n",
       "      <td>5</td>\n",
       "      <td>0</td>\n",
       "    </tr>\n",
       "    <tr>\n",
       "      <th>1</th>\n",
       "      <td>0</td>\n",
       "      <td>3</td>\n",
       "      <td>1</td>\n",
       "    </tr>\n",
       "    <tr>\n",
       "      <th>2</th>\n",
       "      <td>0</td>\n",
       "      <td>3</td>\n",
       "      <td>2</td>\n",
       "    </tr>\n",
       "    <tr>\n",
       "      <th>3</th>\n",
       "      <td>0</td>\n",
       "      <td>4</td>\n",
       "      <td>3</td>\n",
       "    </tr>\n",
       "    <tr>\n",
       "      <th>4</th>\n",
       "      <td>0</td>\n",
       "      <td>5</td>\n",
       "      <td>4</td>\n",
       "    </tr>\n",
       "    <tr>\n",
       "      <th>...</th>\n",
       "      <td>...</td>\n",
       "      <td>...</td>\n",
       "      <td>...</td>\n",
       "    </tr>\n",
       "    <tr>\n",
       "      <th>836478</th>\n",
       "      <td>6039</td>\n",
       "      <td>5</td>\n",
       "      <td>160</td>\n",
       "    </tr>\n",
       "    <tr>\n",
       "      <th>836479</th>\n",
       "      <td>6039</td>\n",
       "      <td>4</td>\n",
       "      <td>157</td>\n",
       "    </tr>\n",
       "    <tr>\n",
       "      <th>836480</th>\n",
       "      <td>6039</td>\n",
       "      <td>4</td>\n",
       "      <td>220</td>\n",
       "    </tr>\n",
       "    <tr>\n",
       "      <th>836481</th>\n",
       "      <td>6039</td>\n",
       "      <td>4</td>\n",
       "      <td>52</td>\n",
       "    </tr>\n",
       "    <tr>\n",
       "      <th>836482</th>\n",
       "      <td>6039</td>\n",
       "      <td>4</td>\n",
       "      <td>172</td>\n",
       "    </tr>\n",
       "  </tbody>\n",
       "</table>\n",
       "<p>836483 rows × 3 columns</p>\n",
       "</div>"
      ],
      "text/plain": [
       "        user_id  counts  title\n",
       "0             0       5      0\n",
       "1             0       3      1\n",
       "2             0       3      2\n",
       "3             0       4      3\n",
       "4             0       5      4\n",
       "...         ...     ...    ...\n",
       "836478     6039       5    160\n",
       "836479     6039       4    157\n",
       "836480     6039       4    220\n",
       "836481     6039       4     52\n",
       "836482     6039       4    172\n",
       "\n",
       "[836483 rows x 3 columns]"
      ]
     },
     "execution_count": 20,
     "metadata": {},
     "output_type": "execute_result"
    }
   ],
   "source": [
    "temp_user_data = ratings[\"user_id\"].map(user_to_idx.get).dropna()\n",
    "if len(temp_user_data) == len(ratings):  \n",
    "    print(\"user_id column indexing OK!!\")\n",
    "    ratings[\"user_id\"] = temp_user_data  \n",
    "else:\n",
    "    print(\"user_id column indexing Fail!!\")\n",
    "\n",
    "temp_movie_data = ratings[\"title\"].map(movie_to_idx.get).dropna()\n",
    "if len(temp_movie_data) == len(ratings):\n",
    "    print(\"movie_id column indexing OK!!\")\n",
    "    ratings[\"title\"] = temp_movie_data\n",
    "else:\n",
    "    print(\"movie_id column indexing Fail!!\")\n",
    "\n",
    "ratings"
   ]
  },
  {
   "cell_type": "markdown",
   "id": "8b5b723f",
   "metadata": {},
   "source": [
    "모든 사용자가 모든 영화에 대한 시청 횟수를 기록하지 않았을 것이기에 모든 유저에 대한 모든 영화 시청 횟수를 행렬도 만든다면, 많은 0이 존재할 것입니다. CSR maxtrix로 표현하면 이러한 공간 낭비를 줄일 수 있습니다."
   ]
  },
  {
   "cell_type": "code",
   "execution_count": 21,
   "id": "807e7969",
   "metadata": {},
   "outputs": [
    {
     "data": {
      "text/plain": [
       "<6040x3628 sparse matrix of type '<class 'numpy.int64'>'\n",
       "\twith 836483 stored elements in Compressed Sparse Row format>"
      ]
     },
     "execution_count": 21,
     "metadata": {},
     "output_type": "execute_result"
    }
   ],
   "source": [
    "from scipy.sparse import csr_matrix\n",
    "\n",
    "num_user = ratings[\"user_id\"].nunique()\n",
    "num_movie = ratings[\"title\"].nunique()\n",
    "\n",
    "csr_data = csr_matrix(\n",
    "    (ratings.counts, (ratings.user_id, ratings.title)),\n",
    "    shape=(num_user, num_movie),\n",
    ")\n",
    "csr_data"
   ]
  },
  {
   "cell_type": "markdown",
   "id": "762490de",
   "metadata": {},
   "source": [
    "## 모델 훈련"
   ]
  },
  {
   "cell_type": "code",
   "execution_count": 22,
   "id": "b757442c",
   "metadata": {},
   "outputs": [],
   "source": [
    "from implicit.als import AlternatingLeastSquares\n",
    "import os\n",
    "import numpy as np\n",
    "\n",
    "# implicit 라이브러리에서 권장하고 있는 부분입니다. 학습 내용과는 무관합니다.\n",
    "os.environ[\"OPENBLAS_NUM_THREADS\"] = \"1\"\n",
    "os.environ[\"KMP_DUPLICATE_LIB_OK\"] = \"True\"\n",
    "os.environ[\"MKL_NUM_THREADS\"] = \"1\""
   ]
  },
  {
   "cell_type": "markdown",
   "id": "59caf364",
   "metadata": {},
   "source": [
    "AlternatingLeastSquares 모델을 정의합니다. `factors`는 앞서 각 사용자의 평가 개수 통계를 기반으로 설정합니다. 임의로 75%에 해당하는 값인 177에 가장 가까운 178을 `factors`로 설정합니다."
   ]
  },
  {
   "cell_type": "code",
   "execution_count": 23,
   "id": "2b49e82a",
   "metadata": {},
   "outputs": [],
   "source": [
    "als_model = AlternatingLeastSquares(\n",
    "    factors=178, regularization=0.01, use_gpu=False, iterations=30, dtype=np.float32\n",
    ")"
   ]
  },
  {
   "cell_type": "code",
   "execution_count": 24,
   "id": "083bfed3",
   "metadata": {},
   "outputs": [
    {
     "data": {
      "text/plain": [
       "<3628x6040 sparse matrix of type '<class 'numpy.int64'>'\n",
       "\twith 836483 stored elements in Compressed Sparse Column format>"
      ]
     },
     "execution_count": 24,
     "metadata": {},
     "output_type": "execute_result"
    }
   ],
   "source": [
    "# als 모델은 input으로 (item X user 꼴의 matrix를 받기 때문에 Transpose해줍니다.)\n",
    "csr_data_transpose = csr_data.T\n",
    "csr_data_transpose"
   ]
  },
  {
   "cell_type": "code",
   "execution_count": 25,
   "id": "51c65e98",
   "metadata": {},
   "outputs": [
    {
     "data": {
      "application/vnd.jupyter.widget-view+json": {
       "model_id": "4b29369bb7b546ea9b144173cdcb66de",
       "version_major": 2,
       "version_minor": 0
      },
      "text/plain": [
       "  0%|          | 0/30 [00:00<?, ?it/s]"
      ]
     },
     "metadata": {},
     "output_type": "display_data"
    }
   ],
   "source": [
    "als_model.fit(csr_data_transpose)"
   ]
  },
  {
   "cell_type": "markdown",
   "id": "05e09377",
   "metadata": {},
   "source": [
    "## 모델 성능 평가"
   ]
  },
  {
   "cell_type": "markdown",
   "id": "14f8b1be",
   "metadata": {},
   "source": [
    "모델이 학습을 통해 생성한 벡터들을 확인합니다."
   ]
  },
  {
   "cell_type": "code",
   "execution_count": 26,
   "id": "c032d79b",
   "metadata": {},
   "outputs": [],
   "source": [
    "my_fav, forrest = user_to_idx[7000], movie_to_idx[\"Forrest Gump (1994)\"]\n",
    "my_fav_vec, forrest_vec = (\n",
    "    als_model.user_factors[my_fav],\n",
    "    als_model.item_factors[forrest],\n",
    ")"
   ]
  },
  {
   "cell_type": "code",
   "execution_count": 27,
   "id": "d89ef23d",
   "metadata": {},
   "outputs": [
    {
     "data": {
      "text/plain": [
       "array([ 0.2857044 , -0.8112368 ,  0.04367202, -0.39793256, -0.23452821,\n",
       "        0.27154276,  0.11978065,  0.03302728, -0.5340198 , -0.2860341 ,\n",
       "        0.04272611,  0.28992426, -0.23474805, -0.09641947,  0.03644533,\n",
       "       -0.29689488, -0.03169929,  0.14486495, -0.29955763,  0.05929385,\n",
       "        0.01495621, -0.05609677,  0.67474604,  0.19486804, -0.25230172,\n",
       "       -0.44693518,  0.41012576, -0.39580616,  0.33000332,  0.02629472,\n",
       "        0.09253662,  0.4707257 ,  0.14148118, -0.39073348, -0.01147531,\n",
       "        0.14624582,  0.76657724,  0.42620102, -0.4111344 , -0.36758772,\n",
       "        0.09502622, -0.08665612,  0.65427893,  0.12406337, -0.28151998,\n",
       "       -0.27590784,  0.5742363 ,  0.49495164, -0.06668904,  0.42417654,\n",
       "        0.09881365, -0.37388486, -0.08901964,  0.09766892, -0.07989257,\n",
       "       -0.5167717 ,  0.73983383, -0.26619607, -0.17933248, -0.16898088,\n",
       "       -0.3351637 ,  0.0264889 , -0.51093125, -0.0093144 , -0.3829668 ,\n",
       "        0.3980091 ,  0.20425646, -0.5807848 ,  0.16118461,  0.17306137,\n",
       "       -0.00950394,  0.30036712,  0.21879224,  0.07069682,  0.3547173 ,\n",
       "       -0.46588314, -0.04704789, -0.483762  , -0.8800065 ,  0.11595418,\n",
       "       -0.18570086,  0.5773133 , -0.09545969, -0.14948906, -0.4253435 ,\n",
       "       -0.46288386,  0.25875327,  0.33973566,  0.19847631,  0.5030219 ,\n",
       "       -0.24603558,  0.5526769 ,  0.39708313,  0.22742727,  0.02245542,\n",
       "        0.1527156 , -0.1947438 ,  0.03229047, -0.11945834, -0.06813543,\n",
       "       -0.48074853, -0.2841182 ,  0.27692917, -0.7575481 ,  0.45692483,\n",
       "       -0.17244929,  0.24200326, -0.09175436, -0.09963372, -0.0111374 ,\n",
       "       -0.0675932 ,  0.34785736, -0.2659421 , -0.22582753,  0.21567242,\n",
       "       -0.08199415,  0.4884325 , -0.01080664,  1.1802105 , -0.01832097,\n",
       "       -0.02948194,  0.5543453 ,  0.23583707, -0.3377325 ,  0.8037402 ,\n",
       "       -0.08920309, -0.3372532 ,  0.4081443 ,  0.25631845,  0.2140344 ,\n",
       "        0.11415105,  0.03349483,  0.14139791,  0.00859965,  0.04819401,\n",
       "        0.03969727, -0.4437532 ,  0.2926036 ,  0.33841512,  0.02269612,\n",
       "        0.3696783 , -1.0783465 ,  0.30466402, -0.4114706 ,  0.071704  ,\n",
       "        0.20070508, -0.13112834,  0.16244817, -0.1402973 ,  0.41787347,\n",
       "       -0.08643261, -0.5377499 ,  0.23076543,  0.51897115,  0.18835975,\n",
       "        0.11125949, -0.10024669, -0.06825176,  0.11511825, -0.00406366,\n",
       "       -0.46875656,  0.07088715,  0.07085222, -0.95034224,  0.18338493,\n",
       "        0.02173424, -0.15862271, -0.02481703, -0.34642407,  0.3276972 ,\n",
       "       -0.5104371 ,  0.12057365, -0.21204871, -0.1508292 , -0.2795223 ,\n",
       "        0.09526157,  0.1733514 ,  0.17163083], dtype=float32)"
      ]
     },
     "execution_count": 27,
     "metadata": {},
     "output_type": "execute_result"
    }
   ],
   "source": [
    "my_fav_vec"
   ]
  },
  {
   "cell_type": "code",
   "execution_count": 28,
   "id": "8341f5d3",
   "metadata": {},
   "outputs": [
    {
     "data": {
      "text/plain": [
       "array([ 4.81151678e-02, -1.46545200e-02,  1.92889888e-02,  1.87233854e-02,\n",
       "       -2.10697250e-03,  6.77311048e-02, -1.23708444e-02, -1.89646985e-02,\n",
       "       -3.53137478e-02,  1.06103336e-02, -3.44851725e-02,  3.79708670e-02,\n",
       "        2.16052569e-02,  2.16263551e-02,  4.64170575e-02,  5.93066914e-03,\n",
       "        8.35522171e-03,  2.04920885e-03,  3.63172740e-02, -1.56905875e-02,\n",
       "        8.06742627e-03,  9.04165488e-03,  5.18760569e-02,  2.79168077e-02,\n",
       "       -6.05295179e-03, -6.23246096e-03,  2.20543183e-02,  8.74513388e-03,\n",
       "        4.55802791e-02, -1.80256944e-02,  1.14664137e-02, -7.08200876e-03,\n",
       "       -4.18572128e-03, -3.13414559e-02,  9.87235643e-03,  2.98776235e-02,\n",
       "        5.28183095e-02,  1.82690099e-02, -7.80579308e-03, -1.92115568e-02,\n",
       "        1.12631638e-02, -7.09716929e-03,  2.33121812e-02, -1.27100619e-02,\n",
       "        1.89371256e-03,  1.73411444e-02,  3.99328843e-02,  7.46787712e-03,\n",
       "       -4.90067117e-02,  9.65681579e-03,  2.33460381e-03, -2.14012638e-02,\n",
       "       -5.54641597e-02, -6.04036264e-03, -3.45140463e-03, -2.38415785e-02,\n",
       "        3.52710411e-02,  3.54822800e-02, -4.71276864e-02, -1.05106775e-02,\n",
       "       -2.01732777e-02, -2.34521716e-03, -4.98529663e-03,  2.60191392e-02,\n",
       "       -2.19594520e-02,  9.25120525e-03,  7.63327861e-03,  8.39010440e-03,\n",
       "        1.93797797e-02,  6.04314394e-02,  8.81097559e-03,  1.28660239e-02,\n",
       "        1.08772761e-03,  2.75820158e-02,  2.09050141e-02,  5.08763874e-03,\n",
       "       -1.97624532e-03, -1.73738748e-02,  6.77675242e-03,  2.21063346e-02,\n",
       "        3.42099322e-03,  3.44459936e-02,  2.96619092e-03, -1.44633194e-02,\n",
       "       -2.92083193e-02,  4.69724415e-03,  3.57318707e-02,  3.63687575e-02,\n",
       "        4.41280305e-02,  3.03274393e-02,  4.78943391e-03,  2.36548614e-02,\n",
       "        3.78210172e-02,  2.10154057e-02,  4.06504842e-03, -1.49235604e-02,\n",
       "       -2.10684687e-02,  6.94510015e-03,  1.69292390e-02,  9.28347651e-03,\n",
       "       -1.28835551e-02,  8.71840306e-03,  2.13181716e-03, -2.65943035e-02,\n",
       "        4.54268269e-02, -1.02157872e-02,  1.27491597e-02,  1.03939464e-02,\n",
       "       -2.20184866e-03,  1.95679404e-02, -1.20105604e-02,  5.76856360e-03,\n",
       "       -1.46408277e-02,  5.20393625e-03,  2.63396930e-02,  1.65020749e-02,\n",
       "        3.10442913e-02, -2.91870534e-02,  3.83279920e-02,  4.56008576e-02,\n",
       "        3.36397998e-02,  2.14637667e-02,  4.43097167e-02, -6.45062327e-02,\n",
       "        9.85593814e-03,  4.46176418e-04, -2.04022247e-02,  1.08563416e-02,\n",
       "        3.43726645e-03, -9.21836356e-04, -1.38007328e-02, -1.53062418e-02,\n",
       "        1.29741728e-02, -2.05192287e-02,  5.16292453e-03, -6.88153505e-03,\n",
       "        1.18948743e-02, -2.91669983e-02,  4.43062074e-02,  3.40431393e-03,\n",
       "        1.31824855e-02, -5.07176854e-02,  2.63023023e-02, -1.58445467e-03,\n",
       "       -5.08419122e-04,  9.48823616e-03,  5.49888100e-05,  5.29620796e-02,\n",
       "       -3.81327089e-04,  1.30996881e-02, -2.34678835e-02, -1.29381064e-02,\n",
       "        1.96726453e-02,  1.20755406e-02,  2.14227084e-02, -1.18403500e-02,\n",
       "        1.42066311e-02, -3.14017944e-02,  1.86719727e-02, -2.96249404e-03,\n",
       "        4.31409664e-03, -4.31787828e-03,  1.70930084e-02, -3.76834609e-02,\n",
       "        2.63611367e-03,  2.65180208e-02, -2.08268687e-02,  1.49334893e-02,\n",
       "       -2.48354524e-02,  9.45927575e-03,  4.40872507e-03, -1.84468534e-02,\n",
       "       -4.24676165e-02, -2.70980243e-02,  1.25244306e-02,  1.31729422e-02,\n",
       "        4.43585105e-02, -2.21757293e-02], dtype=float32)"
      ]
     },
     "execution_count": 28,
     "metadata": {},
     "output_type": "execute_result"
    }
   ],
   "source": [
    "forrest_vec"
   ]
  },
  {
   "cell_type": "markdown",
   "id": "8678f47b",
   "metadata": {},
   "source": [
    "임의로 추가한 사용자 \"7000\"에 대한 영화 \"Forrest Gump (1994)\"의 내적을 확인합니다."
   ]
  },
  {
   "cell_type": "code",
   "execution_count": 29,
   "id": "7490e347",
   "metadata": {},
   "outputs": [
    {
     "data": {
      "text/plain": [
       "0.7835302"
      ]
     },
     "execution_count": 29,
     "metadata": {},
     "output_type": "execute_result"
    }
   ],
   "source": [
    "np.dot(my_fav_vec, forrest_vec)"
   ]
  },
  {
   "cell_type": "markdown",
   "id": "755f8667",
   "metadata": {},
   "source": [
    "### 선호하는 영화와 그 이외의 영화에 대한 선호도 평가"
   ]
  },
  {
   "cell_type": "markdown",
   "id": "4f1026ab",
   "metadata": {},
   "source": [
    "임의로 추가한 사용자 \"7000\"에 대해 5가지 영화의 선호도를 확인합니다."
   ]
  },
  {
   "cell_type": "code",
   "execution_count": 30,
   "id": "8644f770",
   "metadata": {},
   "outputs": [],
   "source": [
    "def get_preference(title: str, user=7000):\n",
    "    my_fav, my_movie = user_to_idx[user], movie_to_idx[title]\n",
    "    my_fav_vec, my_movie_vec = (\n",
    "        als_model.user_factors[my_fav],\n",
    "        als_model.item_factors[my_movie],\n",
    "    )\n",
    "    return np.dot(my_fav_vec, my_movie_vec)"
   ]
  },
  {
   "cell_type": "code",
   "execution_count": 31,
   "id": "84088198",
   "metadata": {},
   "outputs": [
    {
     "name": "stdout",
     "output_type": "stream",
     "text": [
      "Forrest Gump (1994) 0.7835302\n",
      "Shawshank Redemption, The (1994) 0.5308162\n",
      "Seven (Se7en) (1995) 0.45649365\n",
      "Dead Poets Society (1989) 0.3698184\n",
      "Indiana Jones and the Last Crusade (1989) 0.49090663\n"
     ]
    }
   ],
   "source": [
    "my_titles = [\n",
    "    \"Forrest Gump (1994)\",\n",
    "    \"Shawshank Redemption, The (1994)\",\n",
    "    \"Seven (Se7en) (1995)\",\n",
    "    \"Dead Poets Society (1989)\",\n",
    "    \"Indiana Jones and the Last Crusade (1989)\",\n",
    "]\n",
    "for t in my_titles:\n",
    "    print(t, get_preference(t))"
   ]
  },
  {
   "cell_type": "markdown",
   "id": "48cc5854",
   "metadata": {},
   "source": [
    "앞서 확인한 5가지의 영화는 사용자 \"7000\"에 대해 데이터셋에 정보가 존재하였습니다. 이번에는 사용자 \"7000\"이 시청 횟수를 기록하지 않은 다른 영화에 대한 선호도를 확인합니다. 한국에서는 \"뻐꾸기 둥지 위로 날아간 새\"라는 제목으로 알려져 있는 \"One Flew Over the Cuckoo's Nest\"에 대한 선호도를 확인합니다."
   ]
  },
  {
   "cell_type": "code",
   "execution_count": 32,
   "id": "f11531e2",
   "metadata": {},
   "outputs": [
    {
     "data": {
      "text/plain": [
       "0.031651583"
      ]
     },
     "execution_count": 32,
     "metadata": {},
     "output_type": "execute_result"
    }
   ],
   "source": [
    "get_preference(\"One Flew Over the Cuckoo's Nest (1975)\")"
   ]
  },
  {
   "cell_type": "markdown",
   "id": "9dc9c061",
   "metadata": {},
   "source": [
    "시청 기록에 따르면 해당 영화를 선호할 확률은 매우 낮습니다."
   ]
  },
  {
   "cell_type": "markdown",
   "id": "57cb3c64",
   "metadata": {},
   "source": [
    "### 비슷한 영화 추천\n",
    "\n",
    "이번에는 사용자 기반이 아니라 영화를 기반으로 비슷한 영화를 추천하는 성능을 확인합니다. 주어진 영화에 대해 15편의 유사한 영화를 출력합니다."
   ]
  },
  {
   "cell_type": "code",
   "execution_count": 33,
   "id": "dfe5bb33",
   "metadata": {},
   "outputs": [
    {
     "data": {
      "text/plain": [
       "[('Forrest Gump (1994)', 0.99999994),\n",
       " ('Pretty Woman (1990)', 0.33306262),\n",
       " ('Groundhog Day (1993)', 0.32543892),\n",
       " ('Ghost (1990)', 0.30011),\n",
       " ('Soft Fruit (1999)', 0.28836837),\n",
       " ('As Good As It Gets (1997)', 0.2882182),\n",
       " ('Notting Hill (1999)', 0.2820463),\n",
       " ('Sleepless in Seattle (1993)', 0.27755955),\n",
       " ('Doctor Zhivago (1965)', 0.27345443),\n",
       " ('Small Wonders (1996)', 0.27217126),\n",
       " (\"Devil's Brigade, The (1968)\", 0.2713098),\n",
       " ('Shanghai Triad (Yao a yao yao dao waipo qiao) (1995)', 0.27102003),\n",
       " ('Closer You Get, The (2000)', 0.25924814),\n",
       " ('Wedding Singer, The (1998)', 0.2591012),\n",
       " ('Gate II: Trespassers, The (1990)', 0.25794888)]"
      ]
     },
     "execution_count": 33,
     "metadata": {},
     "output_type": "execute_result"
    }
   ],
   "source": [
    "favorite_movie = \"Forrest Gump (1994)\"\n",
    "movie_id = movie_to_idx[favorite_movie]\n",
    "similar_movie = als_model.similar_items(movie_id, N=15)\n",
    "\n",
    "idx_to_movie = {v: k for k, v in movie_to_idx.items()}\n",
    "[(idx_to_movie[i[0]], i[1]) for i in similar_movie]"
   ]
  },
  {
   "cell_type": "markdown",
   "id": "84d434c1",
   "metadata": {},
   "source": [
    "영화 \"포레스트 검프\"에 대해 15편의 영화를 찾았습니다. 로맨스 영화 \"귀여운 여인\", \"노팅힐\" 등이 결과에 포함되어 있습니다."
   ]
  },
  {
   "cell_type": "code",
   "execution_count": 34,
   "id": "ef29b3de",
   "metadata": {},
   "outputs": [],
   "source": [
    "def get_similar_movie(movie_name: str):\n",
    "    movie_id = movie_to_idx[movie_name]\n",
    "    similar_movie = als_model.similar_items(movie_id)\n",
    "    similar_movie = [idx_to_movie[i[0]] for i in similar_movie]\n",
    "    return similar_movie"
   ]
  },
  {
   "cell_type": "code",
   "execution_count": 35,
   "id": "0d5acf62",
   "metadata": {},
   "outputs": [
    {
     "data": {
      "text/plain": [
       "['Toy Story (1995)',\n",
       " 'Toy Story 2 (1999)',\n",
       " 'Aladdin (1992)',\n",
       " \"Bug's Life, A (1998)\",\n",
       " 'Babe (1995)',\n",
       " 'Soft Toilet Seats (1999)',\n",
       " 'Nobody Loves Me (Keiner liebt mich) (1994)',\n",
       " 'Lion King, The (1994)',\n",
       " 'Groundhog Day (1993)',\n",
       " 'Ballad of Narayama, The (Narayama Bushiko) (1958)']"
      ]
     },
     "execution_count": 35,
     "metadata": {},
     "output_type": "execute_result"
    }
   ],
   "source": [
    "get_similar_movie(\"Toy Story (1995)\")"
   ]
  },
  {
   "cell_type": "markdown",
   "id": "ff239e1b",
   "metadata": {},
   "source": [
    "\"토이 스토리\"에 대해서는 후속작 \"토이 스토리 2\"와 \"알라딘\", \"벅스 라이프\"와 같은 애니메이션들이 포함되어 있습니다."
   ]
  },
  {
   "cell_type": "markdown",
   "id": "b4b4db09",
   "metadata": {},
   "source": [
    "### 좋아할 만한 영화 추천\n",
    "\n",
    "이번에는 사용자를 기반으로 좋아할 만한 영화를 예측해보겠습니다."
   ]
  },
  {
   "cell_type": "code",
   "execution_count": 36,
   "id": "ee888b04",
   "metadata": {},
   "outputs": [
    {
     "data": {
      "text/plain": [
       "[('Raiders of the Lost Ark (1981)', 0.4754969),\n",
       " ('Pulp Fiction (1994)', 0.32331765),\n",
       " ('Silence of the Lambs, The (1991)', 0.30120814),\n",
       " ('Die Hard (1988)', 0.29427224),\n",
       " ('Field of Dreams (1989)', 0.28319046),\n",
       " ('Indiana Jones and the Temple of Doom (1984)', 0.26308197),\n",
       " ('Batman (1989)', 0.26167807),\n",
       " ('Good Will Hunting (1997)', 0.25784227),\n",
       " ('Usual Suspects, The (1995)', 0.25419387),\n",
       " ('Rain Man (1988)', 0.25106233),\n",
       " (\"Schindler's List (1993)\", 0.2485169),\n",
       " ('Jerry Maguire (1996)', 0.24257226),\n",
       " ('Groundhog Day (1993)', 0.24198993),\n",
       " ('Reservoir Dogs (1992)', 0.24036963),\n",
       " ('Few Good Men, A (1992)', 0.22032937),\n",
       " ('Sixth Sense, The (1999)', 0.19659573),\n",
       " ('Breakfast Club, The (1985)', 0.18284252),\n",
       " ('Untouchables, The (1987)', 0.179327),\n",
       " ('Fargo (1996)', 0.16780315),\n",
       " ('Dances with Wolves (1990)', 0.16710861)]"
      ]
     },
     "execution_count": 36,
     "metadata": {},
     "output_type": "execute_result"
    }
   ],
   "source": [
    "user = user_to_idx[7000]\n",
    "movie_recommended = als_model.recommend(\n",
    "    user, csr_data, N=20, filter_already_liked_items=True\n",
    ")\n",
    "result = [(idx_to_movie[i[0]], i[1]) for i in movie_recommended]\n",
    "result"
   ]
  },
  {
   "cell_type": "markdown",
   "id": "8cea9b37",
   "metadata": {},
   "source": [
    "상위 5개의 항목을 살펴보면 한국에는 \"레이더스\"라고 알려져있는 인디아나 존스의 첫번째 영화가 포함되어 있고, \"양들의 침묵\", \"다이 하드\"가 포함되어 있습니다. 액션, 스릴러 영화를 우선적으로 고려한 것으로 보입니다."
   ]
  },
  {
   "cell_type": "markdown",
   "id": "ae4c6352",
   "metadata": {},
   "source": [
    "위와 같은 예측 결과에는 기존의 어떤 영화들이 영향을 미쳤는지 확인합니다."
   ]
  },
  {
   "cell_type": "code",
   "execution_count": 37,
   "id": "d32d0e36",
   "metadata": {},
   "outputs": [],
   "source": [
    "recomm_top = movie_to_idx[result[0][0]]\n",
    "explain = als_model.explain(user, csr_data, itemid=recomm_top)"
   ]
  },
  {
   "cell_type": "code",
   "execution_count": 38,
   "id": "abab95c8",
   "metadata": {
    "scrolled": false
   },
   "outputs": [
    {
     "data": {
      "text/plain": [
       "[('Indiana Jones and the Last Crusade (1989)', 0.39170656465277565),\n",
       " ('Shawshank Redemption, The (1994)', 0.0646803601234153),\n",
       " ('Dead Poets Society (1989)', 0.03666294103986788),\n",
       " ('Seven (Se7en) (1995)', -0.010386620265246442),\n",
       " ('Forrest Gump (1994)', -0.012051698270388964)]"
      ]
     },
     "execution_count": 38,
     "metadata": {},
     "output_type": "execute_result"
    }
   ],
   "source": [
    "[(idx_to_movie[i[0]], i[1]) for i in explain[1]]"
   ]
  },
  {
   "cell_type": "markdown",
   "id": "61599ee8",
   "metadata": {},
   "source": [
    "추천 결과에 가장 많은 영향을 미친 영화는 \"인디아나 존스: 최후의 성전\"입니다. 영화 추천 상위에 액션 영화가 포함되어 있는 것이 납득됩니다."
   ]
  },
  {
   "cell_type": "markdown",
   "id": "633781a8",
   "metadata": {},
   "source": [
    "## 추가 실험\n",
    "\n",
    "앞서 임의로 설정한 `factors`에 대한 추가 실험을 진행합니다. 이번에는 75%에 1.5 * IQR을 더한 384를 사용하여 훈련을 진행하고 추천 결과를 확인합니다."
   ]
  },
  {
   "cell_type": "code",
   "execution_count": 39,
   "id": "2aa78ae6",
   "metadata": {},
   "outputs": [
    {
     "data": {
      "application/vnd.jupyter.widget-view+json": {
       "model_id": "8200eb1edca545a9a22537d350ca594b",
       "version_major": 2,
       "version_minor": 0
      },
      "text/plain": [
       "  0%|          | 0/30 [00:00<?, ?it/s]"
      ]
     },
     "metadata": {},
     "output_type": "display_data"
    }
   ],
   "source": [
    "als_model = AlternatingLeastSquares(\n",
    "    factors=384, regularization=0.01, use_gpu=False, iterations=30, dtype=np.float32\n",
    ")\n",
    "als_model.fit(csr_data_transpose)"
   ]
  },
  {
   "cell_type": "markdown",
   "id": "091de3ae",
   "metadata": {},
   "source": [
    "### 영화 선호도 확인"
   ]
  },
  {
   "cell_type": "code",
   "execution_count": 40,
   "id": "5a131628",
   "metadata": {},
   "outputs": [
    {
     "name": "stdout",
     "output_type": "stream",
     "text": [
      "Forrest Gump (1994) 0.9065602\n",
      "Shawshank Redemption, The (1994) 0.8480511\n",
      "Seven (Se7en) (1995) 0.70374405\n",
      "Dead Poets Society (1989) 0.58585453\n",
      "Indiana Jones and the Last Crusade (1989) 0.70563745\n"
     ]
    }
   ],
   "source": [
    "def get_preference(title: str, user=7000):\n",
    "    my_fav, my_movie = user_to_idx[user], movie_to_idx[title]\n",
    "    my_fav_vec, my_movie_vec = (\n",
    "        als_model.user_factors[my_fav],\n",
    "        als_model.item_factors[my_movie],\n",
    "    )\n",
    "    return np.dot(my_fav_vec, my_movie_vec)\n",
    "\n",
    "\n",
    "my_titles = [\n",
    "    \"Forrest Gump (1994)\",\n",
    "    \"Shawshank Redemption, The (1994)\",\n",
    "    \"Seven (Se7en) (1995)\",\n",
    "    \"Dead Poets Society (1989)\",\n",
    "    \"Indiana Jones and the Last Crusade (1989)\",\n",
    "]\n",
    "\n",
    "\n",
    "for t in my_titles:\n",
    "    print(t, get_preference(t))"
   ]
  },
  {
   "cell_type": "markdown",
   "id": "08a1603f",
   "metadata": {},
   "source": [
    "`factors`를 178로 설정한 모델과 비교하여 각 영화에 대한 선호도(내적값)이 커졌습니다. 적어도 해당 유저에 대해서는 선호도에 대한 정확도가 상승한 것으로 보입니다."
   ]
  },
  {
   "cell_type": "markdown",
   "id": "0936d10d",
   "metadata": {},
   "source": [
    "### 비슷한 영화 추천"
   ]
  },
  {
   "cell_type": "code",
   "execution_count": 41,
   "id": "e970deeb",
   "metadata": {},
   "outputs": [
    {
     "data": {
      "text/plain": [
       "[('Forrest Gump (1994)', 1.0),\n",
       " ('Soft Fruit (1999)', 0.27223584),\n",
       " (\"Child's Play 3 (1992)\", 0.26744452),\n",
       " (\"Devil's Brigade, The (1968)\", 0.26531988),\n",
       " ('Digimon: The Movie (2000)', 0.2581774),\n",
       " ('Small Wonders (1996)', 0.25140128),\n",
       " ('Death in the Garden (Mort en ce jardin, La) (1956)', 0.2513942),\n",
       " ('Nil By Mouth (1997)', 0.25062174),\n",
       " ('Outside Ozona (1998)', 0.25039825),\n",
       " ('Great Locomotive Chase, The (1956)', 0.25013283),\n",
       " ('Ulysses (Ulisse) (1954)', 0.24875452),\n",
       " ('King in New York, A (1957)', 0.24771856),\n",
       " ('Three Ages, The (1923)', 0.24757968),\n",
       " ('Held Up (2000)', 0.24711852),\n",
       " ('Anna (1996)', 0.24696955)]"
      ]
     },
     "execution_count": 41,
     "metadata": {},
     "output_type": "execute_result"
    }
   ],
   "source": [
    "favorite_movie = \"Forrest Gump (1994)\"\n",
    "movie_id = movie_to_idx[favorite_movie]\n",
    "similar_movie = als_model.similar_items(movie_id, N=15)\n",
    "\n",
    "idx_to_movie = {v: k for k, v in movie_to_idx.items()}\n",
    "[(idx_to_movie[i[0]], i[1]) for i in similar_movie]"
   ]
  },
  {
   "cell_type": "markdown",
   "id": "d5317800",
   "metadata": {},
   "source": [
    "비슷한 영화 추천에서는 \"Child's Play 3 (1992)(사탄의 인형 3)\", \"디지몬\"와 같이 다소 납득하기 어려운 결과를 얻었습니다."
   ]
  },
  {
   "cell_type": "markdown",
   "id": "874799eb",
   "metadata": {},
   "source": [
    "### 좋아할 만한 영화 추천"
   ]
  },
  {
   "cell_type": "code",
   "execution_count": 42,
   "id": "347a41c9",
   "metadata": {},
   "outputs": [
    {
     "data": {
      "text/plain": [
       "[('Indiana Jones and the Temple of Doom (1984)', 0.24853942),\n",
       " ('Raiders of the Lost Ark (1981)', 0.24483553),\n",
       " ('Rain Man (1988)', 0.19910486),\n",
       " ('Field of Dreams (1989)', 0.1929937),\n",
       " ('Die Hard (1988)', 0.19208476),\n",
       " ('Batman (1989)', 0.18481672),\n",
       " ('Usual Suspects, The (1995)', 0.18255043),\n",
       " ('Game, The (1997)', 0.168211),\n",
       " ('Amadeus (1984)', 0.155754),\n",
       " ('Good Will Hunting (1997)', 0.14517374),\n",
       " ('E.T. the Extra-Terrestrial (1982)', 0.14316434),\n",
       " ('Outsiders, The (1983)', 0.13902116),\n",
       " ('Clerks (1994)', 0.13572203),\n",
       " ('Jerry Maguire (1996)', 0.13517123),\n",
       " ('Reservoir Dogs (1992)', 0.13154201),\n",
       " ('Groundhog Day (1993)', 0.12964217),\n",
       " ('Last of the Mohicans, The (1992)', 0.12484228),\n",
       " ('Driving Miss Daisy (1989)', 0.1237856),\n",
       " ('Dead Calm (1989)', 0.120958805),\n",
       " ('On Golden Pond (1981)', 0.117590465)]"
      ]
     },
     "execution_count": 42,
     "metadata": {},
     "output_type": "execute_result"
    }
   ],
   "source": [
    "user = user_to_idx[7000]\n",
    "movie_recommended = als_model.recommend(\n",
    "    user, csr_data, N=20, filter_already_liked_items=True\n",
    ")\n",
    "result = [(idx_to_movie[i[0]], i[1]) for i in movie_recommended]\n",
    "result"
   ]
  },
  {
   "cell_type": "markdown",
   "id": "6b0e5886",
   "metadata": {},
   "source": [
    "좋아할 만한 영화 추천에서는 이전 모델과 비슷하게 \"레이더스\"와 \"다이 하드\"를 결과로 얻었습니다."
   ]
  },
  {
   "cell_type": "markdown",
   "id": "82c509ff",
   "metadata": {},
   "source": [
    "## 결론\n",
    "\n",
    "- 임의로 생성한 사용자 데이터에는 5개의 기록만이 존재하지만, 영화 추천 결과를 납득할 수 있었습니다.\n",
    "- 약 84만건의 기록에 대한 AlternatingLeastSquares 모델의 훈련 시간은 충분히 합리적이었으며, 단시간의 학습을 통해서도 좋은 예측을 할 수 있었습니다.\n",
    "- AlternatingLeastSquares 모델의 하이퍼파라미터인 `factors`를 변경하는 실험을 진행한 결과 다음과 같은 고찰을 얻을 수 있었습니다.\n",
    "    - `factors`의 수를 늘리면 특정 유저에 대한 선호도를 정확하게 예측할 확률이 높아집니다. 이는 데이터에 대한 과적합이 발생할 가능성이 높아진다는 이야기와 연결됩니다. 따라서 적절한 하이퍼파라미터를 설정하는 것이 중요합니다.\n",
    "    - 이번 실험에서는 `factors`를 384로 설정한 것보다 178로 설정한 모델의 예측이 더 합리적이라고 생각됩니다.\n",
    "- 여러 사용자가 남긴 기록만을 사용하여도 활용 가치가 높은 정보를 얻을 수 있는 것을 보아, 각각의 영화가 갖고 있는 다른 특징들(장르, 개봉일자)을 포함하면 더 정교한 추천이 가능할 것으로 생각됩니다."
   ]
  },
  {
   "cell_type": "markdown",
   "id": "d3a2f780",
   "metadata": {},
   "source": [
    "## 루브릭\n",
    "\n",
    "| 평가문항|상세기준|\n",
    "|---|---|\n",
    "| 1. CSR matrix가 정상적으로 만들어졌다. | 사용자와 아이템 개수를 바탕으로 정확한 사이즈로 만들었다.|\n",
    "| 2. MF 모델이 정상적으로 훈련되어 그럴듯한 추천이 이루어졌다. | 사용자와 아이템 벡터 내적수치가 의미있게 형성되었다.|\n",
    "| 3. 비슷한 영화 찾기와 유저에게 추천하기의 과정이 정상적으로 진행되었다. | MF모델이 예측한 유저 선호도 및 아이템간 유사도, 기여도가 의미있게 측정되었다.|"
   ]
  },
  {
   "cell_type": "markdown",
   "id": "3b31f03a",
   "metadata": {},
   "source": [
    "### 자체 루브릭\n",
    "\n",
    "1. CSR matrix를 사용자와 아이템 개수를 설정하여 생성하였다.\n",
    "2. 사용자와 영화에 대한 내적 수치가 의미있는 결과를 보여주었다.\n",
    "3. 유사 영화 추천에 대해 의미있는 결과를 보여주었다."
   ]
  }
 ],
 "metadata": {
  "kernelspec": {
   "display_name": "Python 3 (ipykernel)",
   "language": "python",
   "name": "python3"
  },
  "language_info": {
   "codemirror_mode": {
    "name": "ipython",
    "version": 3
   },
   "file_extension": ".py",
   "mimetype": "text/x-python",
   "name": "python",
   "nbconvert_exporter": "python",
   "pygments_lexer": "ipython3",
   "version": "3.9.7"
  }
 },
 "nbformat": 4,
 "nbformat_minor": 5
}
